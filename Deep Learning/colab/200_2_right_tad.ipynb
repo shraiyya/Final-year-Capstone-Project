{
  "nbformat": 4,
  "nbformat_minor": 0,
  "metadata": {
    "colab": {
      "name": "Silencer neural network- 200,2 right tad.ipynb",
      "provenance": [],
      "collapsed_sections": [],
      "include_colab_link": true
    },
    "kernelspec": {
      "name": "python3",
      "display_name": "Python 3"
    },
    "language_info": {
      "name": "python"
    }
  },
  "cells": [
    {
      "cell_type": "markdown",
      "metadata": {
        "id": "view-in-github",
        "colab_type": "text"
      },
      "source": [
        "<a href=\"https://colab.research.google.com/github/radhikasethi2011/SilencerEnhancerPredict/blob/main/colab/200_2_right_tad.ipynb\" target=\"_parent\"><img src=\"https://colab.research.google.com/assets/colab-badge.svg\" alt=\"Open In Colab\"/></a>"
      ]
    },
    {
      "cell_type": "code",
      "source": [
        "!git clone https://github.com/radhikasethi2011/SilencerEnhancerPredict"
      ],
      "metadata": {
        "colab": {
          "base_uri": "https://localhost:8080/"
        },
        "id": "gsGdEyz9ej92",
        "outputId": "d1dfcf47-c87d-4472-97f0-f473d825bbc5"
      },
      "execution_count": null,
      "outputs": [
        {
          "output_type": "stream",
          "name": "stdout",
          "text": [
            "Cloning into 'SilencerEnhancerPredict'...\n",
            "remote: Enumerating objects: 175, done.\u001b[K\n",
            "remote: Counting objects: 100% (175/175), done.\u001b[K\n",
            "remote: Compressing objects: 100% (144/144), done.\u001b[K\n",
            "remote: Total 175 (delta 72), reused 68 (delta 23), pack-reused 0\u001b[K\n",
            "Receiving objects: 100% (175/175), 95.51 MiB | 20.76 MiB/s, done.\n",
            "Resolving deltas: 100% (72/72), done.\n"
          ]
        }
      ]
    },
    {
      "cell_type": "code",
      "source": [
        "import h5py\n",
        "p='/content/SilencerEnhancerPredict/examples/data_prediction.hdf5'"
      ],
      "metadata": {
        "id": "6yYGeqjL8JAm"
      },
      "execution_count": null,
      "outputs": []
    },
    {
      "cell_type": "code",
      "source": [
        "\n",
        "with open(p,'rb') as f:\n",
        "    contents = f.read()"
      ],
      "metadata": {
        "id": "lpQVzTyV7gMQ"
      },
      "execution_count": 42,
      "outputs": []
    },
    {
      "cell_type": "code",
      "source": [
        "contents"
      ],
      "metadata": {
        "id": "Eq9maJC57zkz"
      },
      "execution_count": 43,
      "outputs": []
    },
    {
      "cell_type": "code",
      "source": [
        "import h5py\n",
        "filename = \"/content/SilencerEnhancerPredict/examples/model.hdf5\"\n",
        "\n",
        "with h5py.File(filename, \"r\") as f:\n",
        "    # List all groups\n",
        "    print(\"Keys: %s\" % f.keys())\n",
        "    a_group_key = list(f.keys())[0]\n",
        "\n",
        "    # Get the data\n",
        "    data = list(f[a_group_key])\n",
        "    print(data)"
      ],
      "metadata": {
        "id": "zfETL8hb9ZK9",
        "colab": {
          "base_uri": "https://localhost:8080/"
        },
        "outputId": "6e3d8466-28c8-4131-bcc8-8449ddcadd28"
      },
      "execution_count": 44,
      "outputs": [
        {
          "output_type": "stream",
          "name": "stdout",
          "text": [
            "Keys: <KeysViewHDF5 ['model_weights']>\n",
            "['batch_normalization_1', 'batch_normalization_2', 'batch_normalization_3', 'batch_normalization_4', 'conv1d_1', 'conv1d_2', 'conv1d_3', 'conv1d_4', 'conv1d_5', 'dense_1', 'dense_2', 'dropout_1', 'dropout_2', 'dropout_3', 'flatten_1', 'leaky_re_lu_1', 'leaky_re_lu_2', 'leaky_re_lu_3', 'leaky_re_lu_4', 'max_pooling1d_1', 'max_pooling1d_2', 'max_pooling1d_3', 'max_pooling1d_4', 'max_pooling1d_5']\n"
          ]
        }
      ]
    },
    {
      "cell_type": "code",
      "source": [
        "f = h5py.File(filename, 'r')\n",
        "list(f.keys())"
      ],
      "metadata": {
        "id": "ficd9eWieUVk",
        "colab": {
          "base_uri": "https://localhost:8080/"
        },
        "outputId": "5d221be5-fcf3-4899-c1e7-da8306aa8b37"
      },
      "execution_count": 45,
      "outputs": [
        {
          "output_type": "execute_result",
          "data": {
            "text/plain": [
              "['model_weights']"
            ]
          },
          "metadata": {},
          "execution_count": 45
        }
      ]
    },
    {
      "cell_type": "code",
      "source": [
        "from keras.models import load_model\n",
        "model = load_model('/content/SilencerEnhancerPredict/examples/model.hdf5')"
      ],
      "metadata": {
        "id": "OPmhrD_ShIg7",
        "colab": {
          "base_uri": "https://localhost:8080/"
        },
        "outputId": "15b784fc-56b2-45cd-dbcb-6048f36d891c"
      },
      "execution_count": 46,
      "outputs": [
        {
          "output_type": "stream",
          "name": "stdout",
          "text": [
            "WARNING:tensorflow:No training configuration found in the save file, so the model was *not* compiled. Compile it manually.\n"
          ]
        }
      ]
    },
    {
      "cell_type": "markdown",
      "source": [
        "Neural :\n"
      ],
      "metadata": {
        "id": "zQLf3JCarCj5"
      }
    },
    {
      "cell_type": "code",
      "source": [
        "cd /content/SilencerEnhancerPredict/examples/"
      ],
      "metadata": {
        "id": "iulfH4gnhoxq",
        "colab": {
          "base_uri": "https://localhost:8080/"
        },
        "outputId": "2e2e1ae4-1dbf-48c1-f349-1d5ae566a955"
      },
      "execution_count": null,
      "outputs": [
        {
          "output_type": "stream",
          "name": "stdout",
          "text": [
            "/content/SilencerEnhancerPredict/examples\n"
          ]
        }
      ]
    },
    {
      "cell_type": "code",
      "source": [
        "from tensorflow.keras.optimizers import Adadelta\n",
        "from keras.models import load_model\n",
        "from keras.callbacks import ModelCheckpoint, EarlyStopping\n",
        "from tensorflow.keras.optimizers import Adadelta\n",
        "from sklearn import metrics\n",
        "import h5py\n",
        "import os"
      ],
      "metadata": {
        "id": "SCMSlHzvoM7o"
      },
      "execution_count": null,
      "outputs": []
    },
    {
      "cell_type": "code",
      "source": [
        "INPUT_LENGTH = 200\n",
        "EPOCH = 200\n",
        "BATCH_SIZE = 64\n",
        "WORK_DIR = \"./\""
      ],
      "metadata": {
        "id": "909G7HHhqf0B"
      },
      "execution_count": null,
      "outputs": []
    },
    {
      "cell_type": "code",
      "source": [
        "model = load_model('model.hdf5')"
      ],
      "metadata": {
        "id": "-zQSwuaJh4il",
        "colab": {
          "base_uri": "https://localhost:8080/"
        },
        "outputId": "424f4e21-fc7c-4113-f219-a154d60018b3"
      },
      "execution_count": null,
      "outputs": [
        {
          "output_type": "stream",
          "name": "stdout",
          "text": [
            "WARNING:tensorflow:No training configuration found in the save file, so the model was *not* compiled. Compile it manually.\n"
          ]
        }
      ]
    },
    {
      "cell_type": "code",
      "source": [
        "model.summary()"
      ],
      "metadata": {
        "id": "sYNvJsv7leZ_",
        "colab": {
          "base_uri": "https://localhost:8080/"
        },
        "outputId": "569dcef3-59a9-499c-88c5-a196df3d201d"
      },
      "execution_count": null,
      "outputs": [
        {
          "output_type": "stream",
          "name": "stdout",
          "text": [
            "Model: \"sequential_1\"\n",
            "_________________________________________________________________\n",
            " Layer (type)                Output Shape              Param #   \n",
            "=================================================================\n",
            " conv1d_1 (Conv1D)           (None, 992, 480)          17760     \n",
            "                                                                 \n",
            " batch_normalization_1 (Batc  (None, 992, 480)         1920      \n",
            " hNormalization)                                                 \n",
            "                                                                 \n",
            " leaky_re_lu_1 (LeakyReLU)   (None, 992, 480)          0         \n",
            "                                                                 \n",
            " max_pooling1d_1 (MaxPooling  (None, 328, 480)         0         \n",
            " 1D)                                                             \n",
            "                                                                 \n",
            " dropout_1 (Dropout)         (None, 328, 480)          0         \n",
            "                                                                 \n",
            " conv1d_2 (Conv1D)           (None, 325, 480)          922080    \n",
            "                                                                 \n",
            " batch_normalization_2 (Batc  (None, 325, 480)         1920      \n",
            " hNormalization)                                                 \n",
            "                                                                 \n",
            " leaky_re_lu_2 (LeakyReLU)   (None, 325, 480)          0         \n",
            "                                                                 \n",
            " max_pooling1d_2 (MaxPooling  (None, 161, 480)         0         \n",
            " 1D)                                                             \n",
            "                                                                 \n",
            " dropout_2 (Dropout)         (None, 161, 480)          0         \n",
            "                                                                 \n",
            " conv1d_3 (Conv1D)           (None, 158, 240)          461040    \n",
            "                                                                 \n",
            " max_pooling1d_3 (MaxPooling  (None, 52, 240)          0         \n",
            " 1D)                                                             \n",
            "                                                                 \n",
            " dropout_3 (Dropout)         (None, 52, 240)           0         \n",
            "                                                                 \n",
            " conv1d_4 (Conv1D)           (None, 49, 320)           307520    \n",
            "                                                                 \n",
            " batch_normalization_3 (Batc  (None, 49, 320)          1280      \n",
            " hNormalization)                                                 \n",
            "                                                                 \n",
            " leaky_re_lu_3 (LeakyReLU)   (None, 49, 320)           0         \n",
            "                                                                 \n",
            " max_pooling1d_4 (MaxPooling  (None, 16, 320)          0         \n",
            " 1D)                                                             \n",
            "                                                                 \n",
            " conv1d_5 (Conv1D)           (None, 13, 320)           409920    \n",
            "                                                                 \n",
            " batch_normalization_4 (Batc  (None, 13, 320)          1280      \n",
            " hNormalization)                                                 \n",
            "                                                                 \n",
            " leaky_re_lu_4 (LeakyReLU)   (None, 13, 320)           0         \n",
            "                                                                 \n",
            " max_pooling1d_5 (MaxPooling  (None, 4, 320)           0         \n",
            " 1D)                                                             \n",
            "                                                                 \n",
            " flatten_1 (Flatten)         (None, 1280)              0         \n",
            "                                                                 \n",
            " dense_1 (Dense)             (None, 180)               230580    \n",
            "                                                                 \n",
            " dense_2 (Dense)             (None, 3)                 543       \n",
            "                                                                 \n",
            "=================================================================\n",
            "Total params: 2,355,843\n",
            "Trainable params: 2,352,643\n",
            "Non-trainable params: 3,200\n",
            "_________________________________________________________________\n"
          ]
        }
      ]
    },
    {
      "cell_type": "code",
      "source": [
        "model.get_config()"
      ],
      "metadata": {
        "id": "aqk45uRWaH0k",
        "colab": {
          "base_uri": "https://localhost:8080/"
        },
        "outputId": "8bfd33f3-dc2b-491b-8bc8-069064422f72"
      },
      "execution_count": null,
      "outputs": [
        {
          "output_type": "execute_result",
          "data": {
            "text/plain": [
              "{'layers': [{'class_name': 'InputLayer',\n",
              "   'config': {'batch_input_shape': (None, 1000, 4),\n",
              "    'dtype': 'float32',\n",
              "    'name': 'conv1d_1_input',\n",
              "    'ragged': False,\n",
              "    'sparse': False}},\n",
              "  {'class_name': 'Conv1D',\n",
              "   'config': {'activation': 'relu',\n",
              "    'activity_regularizer': None,\n",
              "    'batch_input_shape': (None, 1000, 4),\n",
              "    'bias_constraint': None,\n",
              "    'bias_initializer': {'class_name': 'Zeros', 'config': {}},\n",
              "    'bias_regularizer': None,\n",
              "    'data_format': 'channels_last',\n",
              "    'dilation_rate': (1,),\n",
              "    'dtype': 'float32',\n",
              "    'filters': 480,\n",
              "    'groups': 1,\n",
              "    'kernel_constraint': {'class_name': 'MaxNorm',\n",
              "     'config': {'axis': 0, 'max_value': 1}},\n",
              "    'kernel_initializer': {'class_name': 'VarianceScaling',\n",
              "     'config': {'distribution': 'uniform',\n",
              "      'mode': 'fan_avg',\n",
              "      'scale': 1.0,\n",
              "      'seed': None}},\n",
              "    'kernel_regularizer': {'class_name': 'L1L2',\n",
              "     'config': {'l1': 9.99999993922529e-09, 'l2': 4.999999987376214e-07}},\n",
              "    'kernel_size': (9,),\n",
              "    'name': 'conv1d_1',\n",
              "    'padding': 'valid',\n",
              "    'strides': (1,),\n",
              "    'trainable': True,\n",
              "    'use_bias': True}},\n",
              "  {'class_name': 'BatchNormalization',\n",
              "   'config': {'axis': ListWrapper([2]),\n",
              "    'beta_constraint': None,\n",
              "    'beta_initializer': {'class_name': 'Zeros', 'config': {}},\n",
              "    'beta_regularizer': None,\n",
              "    'center': True,\n",
              "    'dtype': 'float32',\n",
              "    'epsilon': 0.001,\n",
              "    'gamma_constraint': None,\n",
              "    'gamma_initializer': {'class_name': 'Ones', 'config': {}},\n",
              "    'gamma_regularizer': None,\n",
              "    'momentum': 0.99,\n",
              "    'moving_mean_initializer': {'class_name': 'Zeros', 'config': {}},\n",
              "    'moving_variance_initializer': {'class_name': 'Ones', 'config': {}},\n",
              "    'name': 'batch_normalization_1',\n",
              "    'scale': True,\n",
              "    'trainable': True}},\n",
              "  {'class_name': 'LeakyReLU',\n",
              "   'config': {'alpha': 0.0,\n",
              "    'dtype': 'float32',\n",
              "    'name': 'leaky_re_lu_1',\n",
              "    'trainable': True}},\n",
              "  {'class_name': 'MaxPooling1D',\n",
              "   'config': {'data_format': 'channels_last',\n",
              "    'dtype': 'float32',\n",
              "    'name': 'max_pooling1d_1',\n",
              "    'padding': 'valid',\n",
              "    'pool_size': (9,),\n",
              "    'strides': (3,),\n",
              "    'trainable': True}},\n",
              "  {'class_name': 'Dropout',\n",
              "   'config': {'dtype': 'float32',\n",
              "    'name': 'dropout_1',\n",
              "    'noise_shape': None,\n",
              "    'rate': 0.2,\n",
              "    'seed': None,\n",
              "    'trainable': True}},\n",
              "  {'class_name': 'Conv1D',\n",
              "   'config': {'activation': 'relu',\n",
              "    'activity_regularizer': None,\n",
              "    'bias_constraint': None,\n",
              "    'bias_initializer': {'class_name': 'Zeros', 'config': {}},\n",
              "    'bias_regularizer': None,\n",
              "    'data_format': 'channels_last',\n",
              "    'dilation_rate': (1,),\n",
              "    'dtype': 'float32',\n",
              "    'filters': 480,\n",
              "    'groups': 1,\n",
              "    'kernel_constraint': {'class_name': 'MaxNorm',\n",
              "     'config': {'axis': 0, 'max_value': 0.9}},\n",
              "    'kernel_initializer': {'class_name': 'VarianceScaling',\n",
              "     'config': {'distribution': 'uniform',\n",
              "      'mode': 'fan_avg',\n",
              "      'scale': 1.0,\n",
              "      'seed': None}},\n",
              "    'kernel_regularizer': {'class_name': 'L1L2',\n",
              "     'config': {'l1': 9.99999993922529e-09, 'l2': 4.999999987376214e-07}},\n",
              "    'kernel_size': (4,),\n",
              "    'name': 'conv1d_2',\n",
              "    'padding': 'valid',\n",
              "    'strides': (1,),\n",
              "    'trainable': True,\n",
              "    'use_bias': True}},\n",
              "  {'class_name': 'BatchNormalization',\n",
              "   'config': {'axis': ListWrapper([2]),\n",
              "    'beta_constraint': None,\n",
              "    'beta_initializer': {'class_name': 'Zeros', 'config': {}},\n",
              "    'beta_regularizer': None,\n",
              "    'center': True,\n",
              "    'dtype': 'float32',\n",
              "    'epsilon': 0.001,\n",
              "    'gamma_constraint': None,\n",
              "    'gamma_initializer': {'class_name': 'Ones', 'config': {}},\n",
              "    'gamma_regularizer': None,\n",
              "    'momentum': 0.99,\n",
              "    'moving_mean_initializer': {'class_name': 'Zeros', 'config': {}},\n",
              "    'moving_variance_initializer': {'class_name': 'Ones', 'config': {}},\n",
              "    'name': 'batch_normalization_2',\n",
              "    'scale': True,\n",
              "    'trainable': True}},\n",
              "  {'class_name': 'LeakyReLU',\n",
              "   'config': {'alpha': 0.0,\n",
              "    'dtype': 'float32',\n",
              "    'name': 'leaky_re_lu_2',\n",
              "    'trainable': True}},\n",
              "  {'class_name': 'MaxPooling1D',\n",
              "   'config': {'data_format': 'channels_last',\n",
              "    'dtype': 'float32',\n",
              "    'name': 'max_pooling1d_2',\n",
              "    'padding': 'valid',\n",
              "    'pool_size': (4,),\n",
              "    'strides': (2,),\n",
              "    'trainable': True}},\n",
              "  {'class_name': 'Dropout',\n",
              "   'config': {'dtype': 'float32',\n",
              "    'name': 'dropout_2',\n",
              "    'noise_shape': None,\n",
              "    'rate': 0.2,\n",
              "    'seed': None,\n",
              "    'trainable': True}},\n",
              "  {'class_name': 'Conv1D',\n",
              "   'config': {'activation': 'relu',\n",
              "    'activity_regularizer': None,\n",
              "    'bias_constraint': None,\n",
              "    'bias_initializer': {'class_name': 'Zeros', 'config': {}},\n",
              "    'bias_regularizer': None,\n",
              "    'data_format': 'channels_last',\n",
              "    'dilation_rate': (1,),\n",
              "    'dtype': 'float32',\n",
              "    'filters': 240,\n",
              "    'groups': 1,\n",
              "    'kernel_constraint': {'class_name': 'MaxNorm',\n",
              "     'config': {'axis': 0, 'max_value': 1}},\n",
              "    'kernel_initializer': {'class_name': 'VarianceScaling',\n",
              "     'config': {'distribution': 'uniform',\n",
              "      'mode': 'fan_avg',\n",
              "      'scale': 1.0,\n",
              "      'seed': None}},\n",
              "    'kernel_regularizer': {'class_name': 'L1L2',\n",
              "     'config': {'l1': 9.99999993922529e-09, 'l2': 4.999999987376214e-07}},\n",
              "    'kernel_size': (4,),\n",
              "    'name': 'conv1d_3',\n",
              "    'padding': 'valid',\n",
              "    'strides': (1,),\n",
              "    'trainable': True,\n",
              "    'use_bias': True}},\n",
              "  {'class_name': 'MaxPooling1D',\n",
              "   'config': {'data_format': 'channels_last',\n",
              "    'dtype': 'float32',\n",
              "    'name': 'max_pooling1d_3',\n",
              "    'padding': 'valid',\n",
              "    'pool_size': (4,),\n",
              "    'strides': (3,),\n",
              "    'trainable': True}},\n",
              "  {'class_name': 'Dropout',\n",
              "   'config': {'dtype': 'float32',\n",
              "    'name': 'dropout_3',\n",
              "    'noise_shape': None,\n",
              "    'rate': 0.2,\n",
              "    'seed': None,\n",
              "    'trainable': True}},\n",
              "  {'class_name': 'Conv1D',\n",
              "   'config': {'activation': 'relu',\n",
              "    'activity_regularizer': None,\n",
              "    'bias_constraint': None,\n",
              "    'bias_initializer': {'class_name': 'Zeros', 'config': {}},\n",
              "    'bias_regularizer': None,\n",
              "    'data_format': 'channels_last',\n",
              "    'dilation_rate': (1,),\n",
              "    'dtype': 'float32',\n",
              "    'filters': 320,\n",
              "    'groups': 1,\n",
              "    'kernel_constraint': {'class_name': 'MaxNorm',\n",
              "     'config': {'axis': 0, 'max_value': 1}},\n",
              "    'kernel_initializer': {'class_name': 'VarianceScaling',\n",
              "     'config': {'distribution': 'uniform',\n",
              "      'mode': 'fan_avg',\n",
              "      'scale': 1.0,\n",
              "      'seed': None}},\n",
              "    'kernel_regularizer': {'class_name': 'L1L2',\n",
              "     'config': {'l1': 9.99999993922529e-09, 'l2': 4.999999987376214e-07}},\n",
              "    'kernel_size': (4,),\n",
              "    'name': 'conv1d_4',\n",
              "    'padding': 'valid',\n",
              "    'strides': (1,),\n",
              "    'trainable': True,\n",
              "    'use_bias': True}},\n",
              "  {'class_name': 'BatchNormalization',\n",
              "   'config': {'axis': ListWrapper([2]),\n",
              "    'beta_constraint': None,\n",
              "    'beta_initializer': {'class_name': 'Zeros', 'config': {}},\n",
              "    'beta_regularizer': None,\n",
              "    'center': True,\n",
              "    'dtype': 'float32',\n",
              "    'epsilon': 0.001,\n",
              "    'gamma_constraint': None,\n",
              "    'gamma_initializer': {'class_name': 'Ones', 'config': {}},\n",
              "    'gamma_regularizer': None,\n",
              "    'momentum': 0.99,\n",
              "    'moving_mean_initializer': {'class_name': 'Zeros', 'config': {}},\n",
              "    'moving_variance_initializer': {'class_name': 'Ones', 'config': {}},\n",
              "    'name': 'batch_normalization_3',\n",
              "    'scale': True,\n",
              "    'trainable': True}},\n",
              "  {'class_name': 'LeakyReLU',\n",
              "   'config': {'alpha': 0.0,\n",
              "    'dtype': 'float32',\n",
              "    'name': 'leaky_re_lu_3',\n",
              "    'trainable': True}},\n",
              "  {'class_name': 'MaxPooling1D',\n",
              "   'config': {'data_format': 'channels_last',\n",
              "    'dtype': 'float32',\n",
              "    'name': 'max_pooling1d_4',\n",
              "    'padding': 'valid',\n",
              "    'pool_size': (4,),\n",
              "    'strides': (3,),\n",
              "    'trainable': True}},\n",
              "  {'class_name': 'Conv1D',\n",
              "   'config': {'activation': 'relu',\n",
              "    'activity_regularizer': None,\n",
              "    'bias_constraint': None,\n",
              "    'bias_initializer': {'class_name': 'Zeros', 'config': {}},\n",
              "    'bias_regularizer': None,\n",
              "    'data_format': 'channels_last',\n",
              "    'dilation_rate': (1,),\n",
              "    'dtype': 'float32',\n",
              "    'filters': 320,\n",
              "    'groups': 1,\n",
              "    'kernel_constraint': {'class_name': 'MaxNorm',\n",
              "     'config': {'axis': 0, 'max_value': 1}},\n",
              "    'kernel_initializer': {'class_name': 'VarianceScaling',\n",
              "     'config': {'distribution': 'uniform',\n",
              "      'mode': 'fan_avg',\n",
              "      'scale': 1.0,\n",
              "      'seed': None}},\n",
              "    'kernel_regularizer': {'class_name': 'L1L2',\n",
              "     'config': {'l1': 9.99999993922529e-09, 'l2': 4.999999987376214e-07}},\n",
              "    'kernel_size': (4,),\n",
              "    'name': 'conv1d_5',\n",
              "    'padding': 'valid',\n",
              "    'strides': (1,),\n",
              "    'trainable': True,\n",
              "    'use_bias': True}},\n",
              "  {'class_name': 'BatchNormalization',\n",
              "   'config': {'axis': ListWrapper([2]),\n",
              "    'beta_constraint': None,\n",
              "    'beta_initializer': {'class_name': 'Zeros', 'config': {}},\n",
              "    'beta_regularizer': None,\n",
              "    'center': True,\n",
              "    'dtype': 'float32',\n",
              "    'epsilon': 0.001,\n",
              "    'gamma_constraint': None,\n",
              "    'gamma_initializer': {'class_name': 'Ones', 'config': {}},\n",
              "    'gamma_regularizer': None,\n",
              "    'momentum': 0.99,\n",
              "    'moving_mean_initializer': {'class_name': 'Zeros', 'config': {}},\n",
              "    'moving_variance_initializer': {'class_name': 'Ones', 'config': {}},\n",
              "    'name': 'batch_normalization_4',\n",
              "    'scale': True,\n",
              "    'trainable': True}},\n",
              "  {'class_name': 'LeakyReLU',\n",
              "   'config': {'alpha': 0.0,\n",
              "    'dtype': 'float32',\n",
              "    'name': 'leaky_re_lu_4',\n",
              "    'trainable': True}},\n",
              "  {'class_name': 'MaxPooling1D',\n",
              "   'config': {'data_format': 'channels_last',\n",
              "    'dtype': 'float32',\n",
              "    'name': 'max_pooling1d_5',\n",
              "    'padding': 'valid',\n",
              "    'pool_size': (4,),\n",
              "    'strides': (3,),\n",
              "    'trainable': True}},\n",
              "  {'class_name': 'Flatten',\n",
              "   'config': {'data_format': 'channels_last',\n",
              "    'dtype': 'float32',\n",
              "    'name': 'flatten_1',\n",
              "    'trainable': True}},\n",
              "  {'class_name': 'Dense',\n",
              "   'config': {'activation': 'sigmoid',\n",
              "    'activity_regularizer': None,\n",
              "    'bias_constraint': None,\n",
              "    'bias_initializer': {'class_name': 'Zeros', 'config': {}},\n",
              "    'bias_regularizer': None,\n",
              "    'dtype': 'float32',\n",
              "    'kernel_constraint': {'class_name': 'MaxNorm',\n",
              "     'config': {'axis': 0, 'max_value': 1}},\n",
              "    'kernel_initializer': {'class_name': 'VarianceScaling',\n",
              "     'config': {'distribution': 'uniform',\n",
              "      'mode': 'fan_avg',\n",
              "      'scale': 1.0,\n",
              "      'seed': None}},\n",
              "    'kernel_regularizer': {'class_name': 'L1L2',\n",
              "     'config': {'l1': 9.99999993922529e-09, 'l2': 4.999999987376214e-07}},\n",
              "    'name': 'dense_1',\n",
              "    'trainable': True,\n",
              "    'units': 180,\n",
              "    'use_bias': True}},\n",
              "  {'class_name': 'Dense',\n",
              "   'config': {'activation': 'softmax',\n",
              "    'activity_regularizer': None,\n",
              "    'bias_constraint': None,\n",
              "    'bias_initializer': {'class_name': 'Zeros', 'config': {}},\n",
              "    'bias_regularizer': None,\n",
              "    'dtype': 'float32',\n",
              "    'kernel_constraint': {'class_name': 'MaxNorm',\n",
              "     'config': {'axis': 0, 'max_value': 1}},\n",
              "    'kernel_initializer': {'class_name': 'VarianceScaling',\n",
              "     'config': {'distribution': 'uniform',\n",
              "      'mode': 'fan_avg',\n",
              "      'scale': 1.0,\n",
              "      'seed': None}},\n",
              "    'kernel_regularizer': {'class_name': 'L1L2',\n",
              "     'config': {'l1': 9.99999993922529e-09, 'l2': 4.999999987376214e-07}},\n",
              "    'name': 'dense_2',\n",
              "    'trainable': True,\n",
              "    'units': 3,\n",
              "    'use_bias': True}}],\n",
              " 'name': 'sequential_1'}"
            ]
          },
          "metadata": {},
          "execution_count": 18
        }
      ]
    },
    {
      "cell_type": "code",
      "source": [
        "weights_file = os.path.join('./examples', \"model_weights.hdf5\")\n",
        "model_file = os.path.join('./examples', \"single_model.hdf5\")\n",
        "model.save(model_file)"
      ],
      "metadata": {
        "id": "VQEkjHcMqAVr",
        "colab": {
          "base_uri": "https://localhost:8080/"
        },
        "outputId": "f666bce5-7048-4e76-cd6f-7d1f05b871b7"
      },
      "execution_count": null,
      "outputs": [
        {
          "output_type": "stream",
          "name": "stdout",
          "text": [
            "WARNING:tensorflow:Compiled the loaded model, but the compiled metrics have yet to be built. `model.compile_metrics` will be empty until you train or evaluate the model.\n"
          ]
        }
      ]
    },
    {
      "cell_type": "code",
      "source": [
        "model.get_config"
      ],
      "metadata": {
        "id": "tg3r-08QGljQ",
        "colab": {
          "base_uri": "https://localhost:8080/"
        },
        "outputId": "a50e59f8-b411-4390-a3ee-6cb73cf18057"
      },
      "execution_count": null,
      "outputs": [
        {
          "output_type": "execute_result",
          "data": {
            "text/plain": [
              "<bound method Sequential.get_config of <keras.engine.sequential.Sequential object at 0x7fd40ee04ed0>>"
            ]
          },
          "metadata": {},
          "execution_count": 20
        }
      ]
    },
    {
      "cell_type": "code",
      "source": [
        "opt = Adadelta()"
      ],
      "metadata": {
        "id": "gsHsFed5op0o"
      },
      "execution_count": null,
      "outputs": []
    },
    {
      "cell_type": "markdown",
      "source": [
        "CODE BASED ON PAPER:"
      ],
      "metadata": {
        "id": "3fA5aQAN38dh"
      }
    },
    {
      "cell_type": "code",
      "source": [
        "from keras.models import Sequential\n",
        "from keras.layers import Dense\n",
        "from keras.layers import Flatten, Dropout\n",
        "from keras.layers.convolutional import Conv1D\n",
        "from keras.layers.convolutional import MaxPooling1D\n",
        "from keras.layers.embeddings import Embedding\n",
        "from keras.preprocessing import sequence\n",
        "from keras.layers import BatchNormalization\n",
        "from keras.layers import InputLayer, LeakyReLU\n",
        "\n",
        "model1 = Sequential(InputLayer(batch_input_shape= (None, 200, 4),\n",
        "    dtype= 'float32',\n",
        "    ragged= False,\n",
        "    sparse= False))\n",
        "\n",
        "model1.add(Conv1D(activation= 'relu',\n",
        "    activity_regularizer= None,\n",
        "    batch_input_shape= (None, 200, 4),\n",
        "    bias_constraint= None,\n",
        "    bias_initializer= {'class_name': 'Zeros', 'config': {}},\n",
        "    bias_regularizer= None,\n",
        "    data_format= 'channels_last',\n",
        "    dilation_rate= (1,),\n",
        "    dtype= 'float32',\n",
        "    filters= 480,\n",
        "    groups= 1,\n",
        "    kernel_constraint= {'class_name': 'MaxNorm',\n",
        "     'config': {'axis': 0, 'max_value': 1}},\n",
        "    kernel_initializer= {'class_name': 'VarianceScaling',\n",
        "     'config': {'distribution': 'uniform',\n",
        "      'mode': 'fan_avg',\n",
        "      'scale': 1.0,\n",
        "      'seed': None}},\n",
        "    kernel_regularizer= {'class_name': 'L1L2',\n",
        "     'config': {'l1': 9.99999993922529e-09, 'l2': 4.999999987376214e-07}},\n",
        "    kernel_size= (9,),\n",
        "    padding= 'valid',\n",
        "    strides= (1,),\n",
        "    trainable= True,\n",
        "    use_bias= True))\n",
        "\n",
        "model1.add(BatchNormalization(\n",
        "    beta_constraint= None,\n",
        "    beta_initializer= {'class_name': 'Zeros', 'config': {}},\n",
        "    beta_regularizer= None,\n",
        "    center= True,\n",
        "    dtype= 'float32',\n",
        "    epsilon= 0.001,\n",
        "    gamma_constraint= None,\n",
        "    gamma_initializer= {'class_name': 'Ones', 'config': {}},\n",
        "    gamma_regularizer= None,\n",
        "    momentum= 0.99,\n",
        "    moving_mean_initializer= {'class_name': 'Zeros', 'config': {}},\n",
        "    moving_variance_initializer= {'class_name': 'Ones', 'config': {}},\n",
        "    scale= True,\n",
        "    trainable=True))\n",
        "\n",
        "model1.add(LeakyReLU(alpha= 0.0,\n",
        "    dtype='float32',\n",
        "    trainable= True))\n",
        "\n",
        "model1.add(MaxPooling1D(data_format= 'channels_last',\n",
        "    dtype= 'float32',\n",
        "    padding='valid',\n",
        "    pool_size=(9,),\n",
        "    strides= (3,),\n",
        "    trainable= True))\n",
        "\n",
        "model1.add(Dropout(dtype= 'float32',\n",
        "    noise_shape= None,\n",
        "    rate= 0.2,\n",
        "    seed= None,\n",
        "    trainable= True))\n",
        "\n",
        "model1.add(Conv1D(activation= 'relu',\n",
        "    activity_regularizer= None,\n",
        "    bias_constraint= None,\n",
        "    bias_initializer= {'class_name': 'Zeros', 'config': {}},\n",
        "    bias_regularizer= None,\n",
        "    data_format= 'channels_last',\n",
        "    dilation_rate= (1,),\n",
        "    dtype= 'float32',\n",
        "    filters= 480,\n",
        "    groups= 1,\n",
        "    kernel_constraint= {'class_name': 'MaxNorm',\n",
        "     'config': {'axis': 0, 'max_value': 0.9}},\n",
        "    kernel_initializer= {'class_name': 'VarianceScaling',\n",
        "     'config': {'distribution': 'uniform',\n",
        "      'mode': 'fan_avg',\n",
        "      'scale': 1.0,\n",
        "      'seed': None}},\n",
        "    kernel_regularizer= {'class_name': 'L1L2',\n",
        "     'config': {'l1': 9.99999993922529e-09, 'l2': 4.999999987376214e-07}},\n",
        "    kernel_size= (4,),\n",
        "    padding= 'valid',\n",
        "    strides= (1,),\n",
        "    trainable= True,\n",
        "    use_bias= True))\n",
        "\n",
        "model1.add(BatchNormalization(beta_constraint= None,\n",
        "    beta_initializer= {'class_name': 'Zeros', 'config': {}},\n",
        "    beta_regularizer= None,\n",
        "    center= True,\n",
        "    dtype= 'float32',\n",
        "    epsilon= 0.001,\n",
        "    gamma_constraint= None,\n",
        "    gamma_initializer= {'class_name': 'Ones', 'config': {}},\n",
        "    gamma_regularizer= None,\n",
        "    momentum= 0.99,\n",
        "    moving_mean_initializer= {'class_name': 'Zeros', 'config': {}},\n",
        "    moving_variance_initializer= {'class_name': 'Ones', 'config': {}},\n",
        "    scale= True,\n",
        "    trainable=True))\n",
        "\n",
        "model1.add(LeakyReLU(alpha= 0.0,\n",
        "    dtype='float32',\n",
        "    trainable= True))\n",
        "\n",
        "model1.add(MaxPooling1D(data_format='channels_last',\n",
        "    dtype='float32',\n",
        "    padding='valid',\n",
        "    pool_size= (4,),\n",
        "    strides=(2,),\n",
        "    trainable=True))\n",
        "\n",
        "model1.add(Dropout(dtype= 'float32',\n",
        "    noise_shape= None,\n",
        "    rate= 0.2,\n",
        "    seed= None,\n",
        "    trainable= True))\n",
        "\n",
        "##\n",
        "model1.add(Conv1D(activation= 'relu',\n",
        "    activity_regularizer= None,\n",
        "    bias_constraint= None,\n",
        "    bias_initializer= {'class_name': 'Zeros', 'config': {}},\n",
        "    bias_regularizer= None,\n",
        "    data_format= 'channels_last',\n",
        "    dilation_rate= (1,),\n",
        "    dtype= 'float32',\n",
        "    filters= 240,\n",
        "    groups= 1,\n",
        "    kernel_constraint= {'class_name': 'MaxNorm',\n",
        "     'config': {'axis': 0, 'max_value': 1}},\n",
        "    kernel_initializer= {'class_name': 'VarianceScaling',\n",
        "     'config': {'distribution': 'uniform',\n",
        "      'mode': 'fan_avg',\n",
        "      'scale': 1.0,\n",
        "      'seed': None}},\n",
        "    kernel_regularizer= {'class_name': 'L1L2',\n",
        "     'config': {'l1': 9.99999993922529e-09, 'l2': 4.999999987376214e-07}},\n",
        "    kernel_size= (4,),\n",
        "    padding= 'valid',\n",
        "    strides= (1,),\n",
        "    trainable= True,\n",
        "    use_bias= True))\n",
        "\n",
        "\n",
        "model1.add(MaxPooling1D(data_format='channels_last',\n",
        "    dtype='float32',\n",
        "    padding='valid',\n",
        "    pool_size= (4,),\n",
        "    strides=(3,),\n",
        "    trainable=True))\n",
        "\n",
        "model1.add(Dropout(dtype= 'float32',\n",
        "    noise_shape= None,\n",
        "    rate= 0.2,\n",
        "    seed= None,\n",
        "    trainable= True))\n",
        "\n",
        "##\n",
        "\n",
        "\n",
        "model1.add(Conv1D(activation= 'relu',\n",
        "    activity_regularizer= None,\n",
        "    bias_constraint= None,\n",
        "    bias_initializer= {'class_name': 'Zeros', 'config': {}},\n",
        "    bias_regularizer= None,\n",
        "    data_format= 'channels_last',\n",
        "    dilation_rate= (1,),\n",
        "    dtype= 'float32',\n",
        "    filters= 320,\n",
        "    groups= 1,\n",
        "    kernel_constraint= {'class_name': 'MaxNorm',\n",
        "     'config': {'axis': 0, 'max_value': 1}},\n",
        "    kernel_initializer= {'class_name': 'VarianceScaling',\n",
        "     'config': {'distribution': 'uniform',\n",
        "      'mode': 'fan_avg',\n",
        "      'scale': 1.0,\n",
        "      'seed': None}},\n",
        "    kernel_regularizer= {'class_name': 'L1L2',\n",
        "     'config': {'l1': 9.99999993922529e-09, 'l2': 4.999999987376214e-07}},\n",
        "    kernel_size= (4,),\n",
        "    padding= 'valid',\n",
        "    strides= (1,),\n",
        "    trainable= True,\n",
        "    use_bias= True))\n",
        "\n",
        "model1.add(BatchNormalization(beta_constraint= None,\n",
        "    beta_initializer= {'class_name': 'Zeros', 'config': {}},\n",
        "    beta_regularizer= None,\n",
        "    center= True,\n",
        "    dtype= 'float32',\n",
        "    epsilon= 0.001,\n",
        "    gamma_constraint= None,\n",
        "    gamma_initializer= {'class_name': 'Ones', 'config': {}},\n",
        "    gamma_regularizer= None,\n",
        "    momentum= 0.99,\n",
        "    moving_mean_initializer= {'class_name': 'Zeros', 'config': {}},\n",
        "    moving_variance_initializer= {'class_name': 'Ones', 'config': {}},\n",
        "    scale= True,\n",
        "    trainable=True))\n",
        "\n",
        "model1.add(LeakyReLU(alpha= 0.0,dtype='float32',trainable=True))\n",
        "\n",
        "model1.add(MaxPooling1D(data_format='channels_last',\n",
        "    dtype='float32',\n",
        "    padding='valid',\n",
        "    pool_size= (4,),\n",
        "    strides=(3,),\n",
        "    trainable=True))\n",
        "\n",
        "model1.add(Conv1D(activation= 'relu',\n",
        "    activity_regularizer= None,\n",
        "    bias_constraint= None,\n",
        "    bias_initializer= {'class_name': 'Zeros', 'config': {}},\n",
        "    bias_regularizer= None,\n",
        "    data_format= 'channels_last',\n",
        "    dilation_rate= (1,),\n",
        "    dtype= 'float32',\n",
        "    filters= 320,\n",
        "    groups= 1,\n",
        "    kernel_constraint= {'class_name': 'MaxNorm',\n",
        "     'config': {'axis': 0, 'max_value': 1}},\n",
        "    kernel_initializer= {'class_name': 'VarianceScaling',\n",
        "     'config': {'distribution': 'uniform',\n",
        "      'mode': 'fan_avg',\n",
        "      'scale': 1.0,\n",
        "      'seed': None}},\n",
        "    kernel_regularizer= {'class_name': 'L1L2',\n",
        "     'config': {'l1': 9.99999993922529e-09, 'l2': 4.999999987376214e-07}},\n",
        "    kernel_size= (1,),\n",
        "    padding= 'valid',\n",
        "    strides= (1,),\n",
        "    trainable= True,\n",
        "    use_bias= True))\n",
        "\n",
        "model1.add(BatchNormalization(beta_constraint= None,\n",
        "    beta_initializer= {'class_name': 'Zeros', 'config': {}},\n",
        "    beta_regularizer= None,\n",
        "    center= True,\n",
        "    dtype= 'float32',\n",
        "    epsilon= 0.001,\n",
        "    gamma_constraint= None,\n",
        "    gamma_initializer= {'class_name': 'Ones', 'config': {}},\n",
        "    gamma_regularizer= None,\n",
        "    momentum= 0.99,\n",
        "    moving_mean_initializer= {'class_name': 'Zeros', 'config': {}},\n",
        "    moving_variance_initializer= {'class_name': 'Ones', 'config': {}},\n",
        "    scale= True,\n",
        "    trainable=True))\n",
        "\n",
        "model1.add(LeakyReLU(alpha= 0.0,dtype='float32',trainable=True))\n",
        "\n",
        "model1.add(MaxPooling1D(data_format='channels_last',\n",
        "    dtype='float32',\n",
        "    padding='valid',\n",
        "    pool_size= (1,),\n",
        "    strides=(3,),\n",
        "    trainable=True))\n",
        "\n",
        "model1.add(Flatten(data_format= 'channels_last',\n",
        "    dtype= 'float32',\n",
        "  trainable= True))\n",
        "\n",
        "model1.add(Dense(180,activation='sigmoid', activity_regularizer=None,\n",
        "    bias_constraint= None,\n",
        "    bias_initializer= {'class_name': 'Zeros', 'config': {}},\n",
        "    bias_regularizer=None,\n",
        "    dtype='float32',\n",
        "    kernel_constraint= {'class_name': 'MaxNorm',\n",
        "     'config': {'axis': 0, 'max_value': 1}},\n",
        "    kernel_initializer= {'class_name': 'VarianceScaling',\n",
        "     'config': {'distribution': 'uniform',\n",
        "      'mode': 'fan_avg',\n",
        "      'scale': 1.0,\n",
        "      'seed': None}},\n",
        "    kernel_regularizer={'class_name': 'L1L2',\n",
        "     'config': {'l1': 9.99999993922529e-09, 'l2': 4.999999987376214e-07}}, \n",
        "     trainable=True,\t\n",
        "    use_bias= True\n",
        "     ))\n",
        "\n",
        "model1.add(Dense(2,activation='softmax',activity_regularizer= None,bias_constraint= None,\n",
        "                 kernel_constraint= {'class_name': 'MaxNorm',\n",
        "     'config': {'axis': 0, 'max_value': 1}},\n",
        "    kernel_initializer= {'class_name': 'VarianceScaling',\n",
        "     'config': {'distribution': 'uniform',\n",
        "      'mode': 'fan_avg',\n",
        "      'scale': 1.0,\n",
        "      'seed': None}},\n",
        "    kernel_regularizer= {'class_name': 'L1L2',\n",
        "     'config': {'l1': 9.99999993922529e-09, 'l2': 4.999999987376214e-07}}\n",
        "     ))\n",
        "\n",
        "model1.build()"
      ],
      "metadata": {
        "id": "umZ3q-2R38di"
      },
      "execution_count": null,
      "outputs": []
    },
    {
      "cell_type": "code",
      "source": [
        "model1.compile(loss='categorical_crossentropy', optimizer='adam', metrics=[\"accuracy\"])"
      ],
      "metadata": {
        "id": "31rs43u238dk"
      },
      "execution_count": null,
      "outputs": []
    },
    {
      "cell_type": "code",
      "source": [
        "model1.get_config()"
      ],
      "metadata": {
        "id": "HXlD_DvEdklE",
        "colab": {
          "base_uri": "https://localhost:8080/"
        },
        "outputId": "cfe0cb04-b1c8-46ea-def6-3d227e25a9b1"
      },
      "execution_count": null,
      "outputs": [
        {
          "output_type": "execute_result",
          "data": {
            "text/plain": [
              "{'layers': [{'class_name': 'InputLayer',\n",
              "   'config': {'batch_input_shape': (None, 200, 4),\n",
              "    'dtype': 'float32',\n",
              "    'name': 'input_1',\n",
              "    'ragged': False,\n",
              "    'sparse': False}},\n",
              "  {'class_name': 'Conv1D',\n",
              "   'config': {'activation': 'relu',\n",
              "    'activity_regularizer': None,\n",
              "    'batch_input_shape': (None, 200, 4),\n",
              "    'bias_constraint': None,\n",
              "    'bias_initializer': {'class_name': 'Zeros', 'config': {}},\n",
              "    'bias_regularizer': None,\n",
              "    'data_format': 'channels_last',\n",
              "    'dilation_rate': (1,),\n",
              "    'dtype': 'float32',\n",
              "    'filters': 480,\n",
              "    'groups': 1,\n",
              "    'kernel_constraint': {'class_name': 'MaxNorm',\n",
              "     'config': {'axis': 0, 'max_value': 1}},\n",
              "    'kernel_initializer': {'class_name': 'VarianceScaling',\n",
              "     'config': {'distribution': 'uniform',\n",
              "      'mode': 'fan_avg',\n",
              "      'scale': 1.0,\n",
              "      'seed': None}},\n",
              "    'kernel_regularizer': {'class_name': 'L1L2',\n",
              "     'config': {'l1': 9.99999993922529e-09, 'l2': 4.999999987376214e-07}},\n",
              "    'kernel_size': (9,),\n",
              "    'name': 'conv1d',\n",
              "    'padding': 'valid',\n",
              "    'strides': (1,),\n",
              "    'trainable': True,\n",
              "    'use_bias': True}},\n",
              "  {'class_name': 'BatchNormalization',\n",
              "   'config': {'axis': ListWrapper([2]),\n",
              "    'beta_constraint': None,\n",
              "    'beta_initializer': {'class_name': 'Zeros', 'config': {}},\n",
              "    'beta_regularizer': None,\n",
              "    'center': True,\n",
              "    'dtype': 'float32',\n",
              "    'epsilon': 0.001,\n",
              "    'gamma_constraint': None,\n",
              "    'gamma_initializer': {'class_name': 'Ones', 'config': {}},\n",
              "    'gamma_regularizer': None,\n",
              "    'momentum': 0.99,\n",
              "    'moving_mean_initializer': {'class_name': 'Zeros', 'config': {}},\n",
              "    'moving_variance_initializer': {'class_name': 'Ones', 'config': {}},\n",
              "    'name': 'batch_normalization',\n",
              "    'scale': True,\n",
              "    'trainable': True}},\n",
              "  {'class_name': 'LeakyReLU',\n",
              "   'config': {'alpha': 0.0,\n",
              "    'dtype': 'float32',\n",
              "    'name': 'leaky_re_lu',\n",
              "    'trainable': True}},\n",
              "  {'class_name': 'MaxPooling1D',\n",
              "   'config': {'data_format': 'channels_last',\n",
              "    'dtype': 'float32',\n",
              "    'name': 'max_pooling1d',\n",
              "    'padding': 'valid',\n",
              "    'pool_size': (9,),\n",
              "    'strides': (3,),\n",
              "    'trainable': True}},\n",
              "  {'class_name': 'Dropout',\n",
              "   'config': {'dtype': 'float32',\n",
              "    'name': 'dropout',\n",
              "    'noise_shape': None,\n",
              "    'rate': 0.2,\n",
              "    'seed': None,\n",
              "    'trainable': True}},\n",
              "  {'class_name': 'Conv1D',\n",
              "   'config': {'activation': 'relu',\n",
              "    'activity_regularizer': None,\n",
              "    'bias_constraint': None,\n",
              "    'bias_initializer': {'class_name': 'Zeros', 'config': {}},\n",
              "    'bias_regularizer': None,\n",
              "    'data_format': 'channels_last',\n",
              "    'dilation_rate': (1,),\n",
              "    'dtype': 'float32',\n",
              "    'filters': 480,\n",
              "    'groups': 1,\n",
              "    'kernel_constraint': {'class_name': 'MaxNorm',\n",
              "     'config': {'axis': 0, 'max_value': 0.9}},\n",
              "    'kernel_initializer': {'class_name': 'VarianceScaling',\n",
              "     'config': {'distribution': 'uniform',\n",
              "      'mode': 'fan_avg',\n",
              "      'scale': 1.0,\n",
              "      'seed': None}},\n",
              "    'kernel_regularizer': {'class_name': 'L1L2',\n",
              "     'config': {'l1': 9.99999993922529e-09, 'l2': 4.999999987376214e-07}},\n",
              "    'kernel_size': (4,),\n",
              "    'name': 'conv1d_1',\n",
              "    'padding': 'valid',\n",
              "    'strides': (1,),\n",
              "    'trainable': True,\n",
              "    'use_bias': True}},\n",
              "  {'class_name': 'BatchNormalization',\n",
              "   'config': {'axis': ListWrapper([2]),\n",
              "    'beta_constraint': None,\n",
              "    'beta_initializer': {'class_name': 'Zeros', 'config': {}},\n",
              "    'beta_regularizer': None,\n",
              "    'center': True,\n",
              "    'dtype': 'float32',\n",
              "    'epsilon': 0.001,\n",
              "    'gamma_constraint': None,\n",
              "    'gamma_initializer': {'class_name': 'Ones', 'config': {}},\n",
              "    'gamma_regularizer': None,\n",
              "    'momentum': 0.99,\n",
              "    'moving_mean_initializer': {'class_name': 'Zeros', 'config': {}},\n",
              "    'moving_variance_initializer': {'class_name': 'Ones', 'config': {}},\n",
              "    'name': 'batch_normalization_1',\n",
              "    'scale': True,\n",
              "    'trainable': True}},\n",
              "  {'class_name': 'LeakyReLU',\n",
              "   'config': {'alpha': 0.0,\n",
              "    'dtype': 'float32',\n",
              "    'name': 'leaky_re_lu_1',\n",
              "    'trainable': True}},\n",
              "  {'class_name': 'MaxPooling1D',\n",
              "   'config': {'data_format': 'channels_last',\n",
              "    'dtype': 'float32',\n",
              "    'name': 'max_pooling1d_1',\n",
              "    'padding': 'valid',\n",
              "    'pool_size': (4,),\n",
              "    'strides': (2,),\n",
              "    'trainable': True}},\n",
              "  {'class_name': 'Dropout',\n",
              "   'config': {'dtype': 'float32',\n",
              "    'name': 'dropout_1',\n",
              "    'noise_shape': None,\n",
              "    'rate': 0.2,\n",
              "    'seed': None,\n",
              "    'trainable': True}},\n",
              "  {'class_name': 'Conv1D',\n",
              "   'config': {'activation': 'relu',\n",
              "    'activity_regularizer': None,\n",
              "    'bias_constraint': None,\n",
              "    'bias_initializer': {'class_name': 'Zeros', 'config': {}},\n",
              "    'bias_regularizer': None,\n",
              "    'data_format': 'channels_last',\n",
              "    'dilation_rate': (1,),\n",
              "    'dtype': 'float32',\n",
              "    'filters': 240,\n",
              "    'groups': 1,\n",
              "    'kernel_constraint': {'class_name': 'MaxNorm',\n",
              "     'config': {'axis': 0, 'max_value': 1}},\n",
              "    'kernel_initializer': {'class_name': 'VarianceScaling',\n",
              "     'config': {'distribution': 'uniform',\n",
              "      'mode': 'fan_avg',\n",
              "      'scale': 1.0,\n",
              "      'seed': None}},\n",
              "    'kernel_regularizer': {'class_name': 'L1L2',\n",
              "     'config': {'l1': 9.99999993922529e-09, 'l2': 4.999999987376214e-07}},\n",
              "    'kernel_size': (4,),\n",
              "    'name': 'conv1d_2',\n",
              "    'padding': 'valid',\n",
              "    'strides': (1,),\n",
              "    'trainable': True,\n",
              "    'use_bias': True}},\n",
              "  {'class_name': 'MaxPooling1D',\n",
              "   'config': {'data_format': 'channels_last',\n",
              "    'dtype': 'float32',\n",
              "    'name': 'max_pooling1d_2',\n",
              "    'padding': 'valid',\n",
              "    'pool_size': (4,),\n",
              "    'strides': (3,),\n",
              "    'trainable': True}},\n",
              "  {'class_name': 'Dropout',\n",
              "   'config': {'dtype': 'float32',\n",
              "    'name': 'dropout_2',\n",
              "    'noise_shape': None,\n",
              "    'rate': 0.2,\n",
              "    'seed': None,\n",
              "    'trainable': True}},\n",
              "  {'class_name': 'Conv1D',\n",
              "   'config': {'activation': 'relu',\n",
              "    'activity_regularizer': None,\n",
              "    'bias_constraint': None,\n",
              "    'bias_initializer': {'class_name': 'Zeros', 'config': {}},\n",
              "    'bias_regularizer': None,\n",
              "    'data_format': 'channels_last',\n",
              "    'dilation_rate': (1,),\n",
              "    'dtype': 'float32',\n",
              "    'filters': 320,\n",
              "    'groups': 1,\n",
              "    'kernel_constraint': {'class_name': 'MaxNorm',\n",
              "     'config': {'axis': 0, 'max_value': 1}},\n",
              "    'kernel_initializer': {'class_name': 'VarianceScaling',\n",
              "     'config': {'distribution': 'uniform',\n",
              "      'mode': 'fan_avg',\n",
              "      'scale': 1.0,\n",
              "      'seed': None}},\n",
              "    'kernel_regularizer': {'class_name': 'L1L2',\n",
              "     'config': {'l1': 9.99999993922529e-09, 'l2': 4.999999987376214e-07}},\n",
              "    'kernel_size': (4,),\n",
              "    'name': 'conv1d_3',\n",
              "    'padding': 'valid',\n",
              "    'strides': (1,),\n",
              "    'trainable': True,\n",
              "    'use_bias': True}},\n",
              "  {'class_name': 'BatchNormalization',\n",
              "   'config': {'axis': ListWrapper([2]),\n",
              "    'beta_constraint': None,\n",
              "    'beta_initializer': {'class_name': 'Zeros', 'config': {}},\n",
              "    'beta_regularizer': None,\n",
              "    'center': True,\n",
              "    'dtype': 'float32',\n",
              "    'epsilon': 0.001,\n",
              "    'gamma_constraint': None,\n",
              "    'gamma_initializer': {'class_name': 'Ones', 'config': {}},\n",
              "    'gamma_regularizer': None,\n",
              "    'momentum': 0.99,\n",
              "    'moving_mean_initializer': {'class_name': 'Zeros', 'config': {}},\n",
              "    'moving_variance_initializer': {'class_name': 'Ones', 'config': {}},\n",
              "    'name': 'batch_normalization_2',\n",
              "    'scale': True,\n",
              "    'trainable': True}},\n",
              "  {'class_name': 'LeakyReLU',\n",
              "   'config': {'alpha': 0.0,\n",
              "    'dtype': 'float32',\n",
              "    'name': 'leaky_re_lu_2',\n",
              "    'trainable': True}},\n",
              "  {'class_name': 'MaxPooling1D',\n",
              "   'config': {'data_format': 'channels_last',\n",
              "    'dtype': 'float32',\n",
              "    'name': 'max_pooling1d_3',\n",
              "    'padding': 'valid',\n",
              "    'pool_size': (4,),\n",
              "    'strides': (3,),\n",
              "    'trainable': True}},\n",
              "  {'class_name': 'Conv1D',\n",
              "   'config': {'activation': 'relu',\n",
              "    'activity_regularizer': None,\n",
              "    'bias_constraint': None,\n",
              "    'bias_initializer': {'class_name': 'Zeros', 'config': {}},\n",
              "    'bias_regularizer': None,\n",
              "    'data_format': 'channels_last',\n",
              "    'dilation_rate': (1,),\n",
              "    'dtype': 'float32',\n",
              "    'filters': 320,\n",
              "    'groups': 1,\n",
              "    'kernel_constraint': {'class_name': 'MaxNorm',\n",
              "     'config': {'axis': 0, 'max_value': 1}},\n",
              "    'kernel_initializer': {'class_name': 'VarianceScaling',\n",
              "     'config': {'distribution': 'uniform',\n",
              "      'mode': 'fan_avg',\n",
              "      'scale': 1.0,\n",
              "      'seed': None}},\n",
              "    'kernel_regularizer': {'class_name': 'L1L2',\n",
              "     'config': {'l1': 9.99999993922529e-09, 'l2': 4.999999987376214e-07}},\n",
              "    'kernel_size': (1,),\n",
              "    'name': 'conv1d_4',\n",
              "    'padding': 'valid',\n",
              "    'strides': (1,),\n",
              "    'trainable': True,\n",
              "    'use_bias': True}},\n",
              "  {'class_name': 'BatchNormalization',\n",
              "   'config': {'axis': ListWrapper([2]),\n",
              "    'beta_constraint': None,\n",
              "    'beta_initializer': {'class_name': 'Zeros', 'config': {}},\n",
              "    'beta_regularizer': None,\n",
              "    'center': True,\n",
              "    'dtype': 'float32',\n",
              "    'epsilon': 0.001,\n",
              "    'gamma_constraint': None,\n",
              "    'gamma_initializer': {'class_name': 'Ones', 'config': {}},\n",
              "    'gamma_regularizer': None,\n",
              "    'momentum': 0.99,\n",
              "    'moving_mean_initializer': {'class_name': 'Zeros', 'config': {}},\n",
              "    'moving_variance_initializer': {'class_name': 'Ones', 'config': {}},\n",
              "    'name': 'batch_normalization_3',\n",
              "    'scale': True,\n",
              "    'trainable': True}},\n",
              "  {'class_name': 'LeakyReLU',\n",
              "   'config': {'alpha': 0.0,\n",
              "    'dtype': 'float32',\n",
              "    'name': 'leaky_re_lu_3',\n",
              "    'trainable': True}},\n",
              "  {'class_name': 'MaxPooling1D',\n",
              "   'config': {'data_format': 'channels_last',\n",
              "    'dtype': 'float32',\n",
              "    'name': 'max_pooling1d_4',\n",
              "    'padding': 'valid',\n",
              "    'pool_size': (1,),\n",
              "    'strides': (3,),\n",
              "    'trainable': True}},\n",
              "  {'class_name': 'Flatten',\n",
              "   'config': {'data_format': 'channels_last',\n",
              "    'dtype': 'float32',\n",
              "    'name': 'flatten',\n",
              "    'trainable': True}},\n",
              "  {'class_name': 'Dense',\n",
              "   'config': {'activation': 'sigmoid',\n",
              "    'activity_regularizer': None,\n",
              "    'bias_constraint': None,\n",
              "    'bias_initializer': {'class_name': 'Zeros', 'config': {}},\n",
              "    'bias_regularizer': None,\n",
              "    'dtype': 'float32',\n",
              "    'kernel_constraint': {'class_name': 'MaxNorm',\n",
              "     'config': {'axis': 0, 'max_value': 1}},\n",
              "    'kernel_initializer': {'class_name': 'VarianceScaling',\n",
              "     'config': {'distribution': 'uniform',\n",
              "      'mode': 'fan_avg',\n",
              "      'scale': 1.0,\n",
              "      'seed': None}},\n",
              "    'kernel_regularizer': {'class_name': 'L1L2',\n",
              "     'config': {'l1': 9.99999993922529e-09, 'l2': 4.999999987376214e-07}},\n",
              "    'name': 'dense',\n",
              "    'trainable': True,\n",
              "    'units': 180,\n",
              "    'use_bias': True}},\n",
              "  {'class_name': 'Dense',\n",
              "   'config': {'activation': 'softmax',\n",
              "    'activity_regularizer': None,\n",
              "    'bias_constraint': None,\n",
              "    'bias_initializer': {'class_name': 'Zeros', 'config': {}},\n",
              "    'bias_regularizer': None,\n",
              "    'dtype': 'float32',\n",
              "    'kernel_constraint': {'class_name': 'MaxNorm',\n",
              "     'config': {'axis': 0, 'max_value': 1}},\n",
              "    'kernel_initializer': {'class_name': 'VarianceScaling',\n",
              "     'config': {'distribution': 'uniform',\n",
              "      'mode': 'fan_avg',\n",
              "      'scale': 1.0,\n",
              "      'seed': None}},\n",
              "    'kernel_regularizer': {'class_name': 'L1L2',\n",
              "     'config': {'l1': 9.99999993922529e-09, 'l2': 4.999999987376214e-07}},\n",
              "    'name': 'dense_1',\n",
              "    'trainable': True,\n",
              "    'units': 2,\n",
              "    'use_bias': True}}],\n",
              " 'name': 'sequential_2'}"
            ]
          },
          "metadata": {},
          "execution_count": 24
        }
      ]
    },
    {
      "cell_type": "code",
      "source": [
        "model1.summary(expand_nested=True)"
      ],
      "metadata": {
        "id": "xWHceg6zc6aQ",
        "colab": {
          "base_uri": "https://localhost:8080/"
        },
        "outputId": "b75ec775-a63c-45c5-9cf0-8697632b3df8"
      },
      "execution_count": null,
      "outputs": [
        {
          "output_type": "stream",
          "name": "stdout",
          "text": [
            "Model: \"sequential_2\"\n",
            "_________________________________________________________________\n",
            " Layer (type)                Output Shape              Param #   \n",
            "=================================================================\n",
            " conv1d (Conv1D)             (None, 192, 480)          17760     \n",
            "                                                                 \n",
            " batch_normalization (BatchN  (None, 192, 480)         1920      \n",
            " ormalization)                                                   \n",
            "                                                                 \n",
            " leaky_re_lu (LeakyReLU)     (None, 192, 480)          0         \n",
            "                                                                 \n",
            " max_pooling1d (MaxPooling1D  (None, 62, 480)          0         \n",
            " )                                                               \n",
            "                                                                 \n",
            " dropout (Dropout)           (None, 62, 480)           0         \n",
            "                                                                 \n",
            " conv1d_1 (Conv1D)           (None, 59, 480)           922080    \n",
            "                                                                 \n",
            " batch_normalization_1 (Batc  (None, 59, 480)          1920      \n",
            " hNormalization)                                                 \n",
            "                                                                 \n",
            " leaky_re_lu_1 (LeakyReLU)   (None, 59, 480)           0         \n",
            "                                                                 \n",
            " max_pooling1d_1 (MaxPooling  (None, 28, 480)          0         \n",
            " 1D)                                                             \n",
            "                                                                 \n",
            " dropout_1 (Dropout)         (None, 28, 480)           0         \n",
            "                                                                 \n",
            " conv1d_2 (Conv1D)           (None, 25, 240)           461040    \n",
            "                                                                 \n",
            " max_pooling1d_2 (MaxPooling  (None, 8, 240)           0         \n",
            " 1D)                                                             \n",
            "                                                                 \n",
            " dropout_2 (Dropout)         (None, 8, 240)            0         \n",
            "                                                                 \n",
            " conv1d_3 (Conv1D)           (None, 5, 320)            307520    \n",
            "                                                                 \n",
            " batch_normalization_2 (Batc  (None, 5, 320)           1280      \n",
            " hNormalization)                                                 \n",
            "                                                                 \n",
            " leaky_re_lu_2 (LeakyReLU)   (None, 5, 320)            0         \n",
            "                                                                 \n",
            " max_pooling1d_3 (MaxPooling  (None, 1, 320)           0         \n",
            " 1D)                                                             \n",
            "                                                                 \n",
            " conv1d_4 (Conv1D)           (None, 1, 320)            102720    \n",
            "                                                                 \n",
            " batch_normalization_3 (Batc  (None, 1, 320)           1280      \n",
            " hNormalization)                                                 \n",
            "                                                                 \n",
            " leaky_re_lu_3 (LeakyReLU)   (None, 1, 320)            0         \n",
            "                                                                 \n",
            " max_pooling1d_4 (MaxPooling  (None, 1, 320)           0         \n",
            " 1D)                                                             \n",
            "                                                                 \n",
            " flatten (Flatten)           (None, 320)               0         \n",
            "                                                                 \n",
            " dense (Dense)               (None, 180)               57780     \n",
            "                                                                 \n",
            " dense_1 (Dense)             (None, 2)                 362       \n",
            "                                                                 \n",
            "=================================================================\n",
            "Total params: 1,875,662\n",
            "Trainable params: 1,872,462\n",
            "Non-trainable params: 3,200\n",
            "_________________________________________________________________\n"
          ]
        }
      ]
    },
    {
      "cell_type": "code",
      "source": [
        "def load_dataset(Dfile):\n",
        "\n",
        "    print(\"reading enhancers...\")\n",
        "    data = {}\n",
        "    with h5py.File(Dfile, \"r\") as inf:\n",
        "        for _key in inf:\n",
        "            data[_key] = inf[_key][()]\n",
        "    return data"
      ],
      "metadata": {
        "id": "B_7PwyyCouX0"
      },
      "execution_count": null,
      "outputs": []
    },
    {
      "cell_type": "code",
      "source": [
        "!gunzip -d /content/SilencerEnhancerPredict/examples/training_200seq_2class_right_tad.hdf5.gz"
      ],
      "metadata": {
        "id": "KVAanGsOpgvu"
      },
      "execution_count": null,
      "outputs": []
    },
    {
      "cell_type": "code",
      "source": [
        "data = load_dataset('/content/SilencerEnhancerPredict/examples/training_200seq_2class_right_tad.hdf5')"
      ],
      "metadata": {
        "id": "qwqHKgXRo8qE",
        "colab": {
          "base_uri": "https://localhost:8080/"
        },
        "outputId": "d45bb18a-c0e0-462b-9b34-7e79a1fefb62"
      },
      "execution_count": null,
      "outputs": [
        {
          "output_type": "stream",
          "name": "stdout",
          "text": [
            "reading enhancers...\n"
          ]
        }
      ]
    },
    {
      "cell_type": "code",
      "source": [
        "X_train = data[\"train_data\"]\n",
        "Y_train = data[\"train_labels\"]\n",
        "X_validation = data[\"val_data\"]\n",
        "Y_validation = data[\"val_labels\"]\n",
        "X_test = data[\"test_data\"]\n",
        "Y_test = data[\"test_labels\"]"
      ],
      "metadata": {
        "id": "xZM2J-wBpFNG"
      },
      "execution_count": null,
      "outputs": []
    },
    {
      "cell_type": "code",
      "source": [
        "import numpy as np\n",
        "model1.fit(X_train,Y_train)"
      ],
      "metadata": {
        "id": "OQGOMCKp38dk",
        "colab": {
          "base_uri": "https://localhost:8080/"
        },
        "outputId": "fe5d8026-880c-4aaf-faaa-7045826bd549"
      },
      "execution_count": null,
      "outputs": [
        {
          "output_type": "stream",
          "name": "stdout",
          "text": [
            "155/155 [==============================] - 79s 486ms/step - loss: 0.6955 - accuracy: 0.5537\n"
          ]
        },
        {
          "output_type": "execute_result",
          "data": {
            "text/plain": [
              "<keras.callbacks.History at 0x7fd40eb79b10>"
            ]
          },
          "metadata": {},
          "execution_count": 30
        }
      ]
    },
    {
      "cell_type": "code",
      "source": [
        "parallel_model = model1"
      ],
      "metadata": {
        "id": "rO_OrLseotbT"
      },
      "execution_count": null,
      "outputs": []
    },
    {
      "cell_type": "code",
      "source": [
        "from keras.utils.np_utils import to_categorical\n",
        "'''\n",
        "Y_train = to_categorical(Y_train, num_classes=None)\n",
        "Y_test = to_categorical(Y_test, num_classes=None)\n",
        "Y_validation = to_categorical(Y_validation, num_classes=None)\n",
        "'''\n",
        "\n",
        "\n",
        "_callbacks = []\n",
        "checkpointer = ModelCheckpoint(filepath=weights_file, verbose=1, save_best_only=True)\n",
        "_callbacks.append(checkpointer)\n",
        "earlystopper = EarlyStopping(monitor=\"val_loss\", patience=10, verbose=1)\n",
        "_callbacks.append(earlystopper)"
      ],
      "metadata": {
        "id": "LPKGM60CouUZ"
      },
      "execution_count": null,
      "outputs": []
    },
    {
      "cell_type": "markdown",
      "source": [
        "OUR MODEL"
      ],
      "metadata": {
        "id": "jv_q9IA795pe"
      }
    },
    {
      "cell_type": "code",
      "source": [
        "parallel_model.fit(X_train,\n",
        "                    Y_train,\n",
        "                    batch_size=BATCH_SIZE * 1,\n",
        "                    epochs=EPOCH,\n",
        "                    validation_data=(X_validation, Y_validation),\n",
        "                    shuffle=True,\n",
        "                    callbacks=_callbacks, verbose=1)\n",
        "\n",
        "Y_pred = parallel_model.predict(X_test)"
      ],
      "metadata": {
        "id": "FsoVn3nLuwDf",
        "colab": {
          "base_uri": "https://localhost:8080/"
        },
        "outputId": "73ef679f-affe-4c98-a284-ceaa5060380e"
      },
      "execution_count": null,
      "outputs": [
        {
          "output_type": "stream",
          "name": "stdout",
          "text": [
            "Epoch 1/200\n",
            "78/78 [==============================] - ETA: 0s - loss: 0.6722 - accuracy: 0.5935\n",
            "Epoch 1: val_loss improved from inf to 0.70020, saving model to ./examples/model_weights.hdf5\n",
            "78/78 [==============================] - 87s 1s/step - loss: 0.6722 - accuracy: 0.5935 - val_loss: 0.7002 - val_accuracy: 0.4955\n",
            "Epoch 2/200\n",
            "78/78 [==============================] - ETA: 0s - loss: 0.6617 - accuracy: 0.6153\n",
            "Epoch 2: val_loss improved from 0.70020 to 0.69795, saving model to ./examples/model_weights.hdf5\n",
            "78/78 [==============================] - 80s 1s/step - loss: 0.6617 - accuracy: 0.6153 - val_loss: 0.6979 - val_accuracy: 0.4955\n",
            "Epoch 3/200\n",
            "78/78 [==============================] - ETA: 0s - loss: 0.6441 - accuracy: 0.6335\n",
            "Epoch 3: val_loss did not improve from 0.69795\n",
            "78/78 [==============================] - 79s 1s/step - loss: 0.6441 - accuracy: 0.6335 - val_loss: 0.7221 - val_accuracy: 0.4955\n",
            "Epoch 4/200\n",
            "78/78 [==============================] - ETA: 0s - loss: 0.6294 - accuracy: 0.6483\n",
            "Epoch 4: val_loss did not improve from 0.69795\n",
            "78/78 [==============================] - 79s 1s/step - loss: 0.6294 - accuracy: 0.6483 - val_loss: 0.7197 - val_accuracy: 0.4955\n",
            "Epoch 5/200\n",
            "78/78 [==============================] - ETA: 0s - loss: 0.6142 - accuracy: 0.6657\n",
            "Epoch 5: val_loss did not improve from 0.69795\n",
            "78/78 [==============================] - 78s 1s/step - loss: 0.6142 - accuracy: 0.6657 - val_loss: 0.7331 - val_accuracy: 0.4955\n",
            "Epoch 6/200\n",
            "78/78 [==============================] - ETA: 0s - loss: 0.5980 - accuracy: 0.6818\n",
            "Epoch 6: val_loss did not improve from 0.69795\n",
            "78/78 [==============================] - 79s 1s/step - loss: 0.5980 - accuracy: 0.6818 - val_loss: 0.7425 - val_accuracy: 0.4955\n",
            "Epoch 7/200\n",
            "78/78 [==============================] - ETA: 0s - loss: 0.5696 - accuracy: 0.7111\n",
            "Epoch 7: val_loss did not improve from 0.69795\n",
            "78/78 [==============================] - 79s 1s/step - loss: 0.5696 - accuracy: 0.7111 - val_loss: 0.7421 - val_accuracy: 0.5403\n",
            "Epoch 8/200\n",
            "78/78 [==============================] - ETA: 0s - loss: 0.5496 - accuracy: 0.7206\n",
            "Epoch 8: val_loss did not improve from 0.69795\n",
            "78/78 [==============================] - 78s 1000ms/step - loss: 0.5496 - accuracy: 0.7206 - val_loss: 0.7668 - val_accuracy: 0.5221\n",
            "Epoch 9/200\n",
            "78/78 [==============================] - ETA: 0s - loss: 0.5223 - accuracy: 0.7404\n",
            "Epoch 9: val_loss did not improve from 0.69795\n",
            "78/78 [==============================] - 79s 1s/step - loss: 0.5223 - accuracy: 0.7404 - val_loss: 0.8172 - val_accuracy: 0.5634\n",
            "Epoch 10/200\n",
            "78/78 [==============================] - ETA: 0s - loss: 0.4819 - accuracy: 0.7677\n",
            "Epoch 10: val_loss did not improve from 0.69795\n",
            "78/78 [==============================] - 79s 1s/step - loss: 0.4819 - accuracy: 0.7677 - val_loss: 0.7927 - val_accuracy: 0.5719\n",
            "Epoch 11/200\n",
            "78/78 [==============================] - ETA: 0s - loss: 0.4624 - accuracy: 0.7839\n",
            "Epoch 11: val_loss did not improve from 0.69795\n",
            "78/78 [==============================] - 78s 1s/step - loss: 0.4624 - accuracy: 0.7839 - val_loss: 1.3399 - val_accuracy: 0.5167\n",
            "Epoch 12/200\n",
            "78/78 [==============================] - ETA: 0s - loss: 0.4215 - accuracy: 0.8045\n",
            "Epoch 12: val_loss did not improve from 0.69795\n",
            "78/78 [==============================] - 78s 1s/step - loss: 0.4215 - accuracy: 0.8045 - val_loss: 1.7087 - val_accuracy: 0.5403\n",
            "Epoch 12: early stopping\n"
          ]
        }
      ]
    },
    {
      "cell_type": "code",
      "source": [
        "model1.save('/content/SilencerEnhancerPredict/examples/model_200_2_tad_all_boundary.hdf5')"
      ],
      "metadata": {
        "id": "Nc21tubB38dl"
      },
      "execution_count": 39,
      "outputs": []
    },
    {
      "cell_type": "code",
      "source": [
        "!gzip /content/SilencerEnhancerPredict/examples/model_200_2_tad_all_boundary.hdf5"
      ],
      "metadata": {
        "id": "SaNw7_rbmE2A"
      },
      "execution_count": 40,
      "outputs": []
    },
    {
      "cell_type": "code",
      "source": [
        "from keras import backend as K\n",
        "# To get learning rate\n",
        "print(K.get_value(model1.optimizer.lr))"
      ],
      "metadata": {
        "id": "O3RjK8Zkm5MK",
        "colab": {
          "base_uri": "https://localhost:8080/"
        },
        "outputId": "1a1ce78e-267c-480f-fcc8-7d53566d9605"
      },
      "execution_count": 41,
      "outputs": [
        {
          "output_type": "stream",
          "name": "stdout",
          "text": [
            "0.001\n"
          ]
        }
      ]
    }
  ]
}
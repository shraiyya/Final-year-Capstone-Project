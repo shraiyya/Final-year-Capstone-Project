{
  "nbformat": 4,
  "nbformat_minor": 0,
  "metadata": {
    "colab": {
      "name": "200_2_tad_l&rboundary_data.ipynb",
      "provenance": [],
      "collapsed_sections": [],
      "include_colab_link": true
    },
    "kernelspec": {
      "name": "python3",
      "display_name": "Python 3"
    },
    "language_info": {
      "name": "python"
    },
    "accelerator": "GPU"
  },
  "cells": [
    {
      "cell_type": "markdown",
      "metadata": {
        "id": "view-in-github",
        "colab_type": "text"
      },
      "source": [
        "<a href=\"https://colab.research.google.com/github/radhikasethi2011/SilencerEnhancerPredict/blob/main/colab/200_2_tad_l%26rboundary_data.ipynb\" target=\"_parent\"><img src=\"https://colab.research.google.com/assets/colab-badge.svg\" alt=\"Open In Colab\"/></a>"
      ]
    },
    {
      "cell_type": "code",
      "source": [
        "!git clone https://github.com/radhikasethi2011/btechproj.git"
      ],
      "metadata": {
        "id": "ZqzN-2IJ9tSD",
        "colab": {
          "base_uri": "https://localhost:8080/"
        },
        "outputId": "80bcb566-c868-4e47-ee69-a78416a8323b"
      },
      "execution_count": 1,
      "outputs": [
        {
          "output_type": "stream",
          "name": "stdout",
          "text": [
            "Cloning into 'btechproj'...\n",
            "remote: Enumerating objects: 331, done.\u001b[K\n",
            "remote: Counting objects: 100% (331/331), done.\u001b[K\n",
            "remote: Compressing objects: 100% (277/277), done.\u001b[K\n",
            "remote: Total 331 (delta 135), reused 134 (delta 40), pack-reused 0\u001b[K\n",
            "Receiving objects: 100% (331/331), 30.18 MiB | 8.66 MiB/s, done.\n",
            "Resolving deltas: 100% (135/135), done.\n"
          ]
        }
      ]
    },
    {
      "cell_type": "code",
      "source": [
        "!git clone https://github.com/radhikasethi2011/SilencerEnhancerPredict.git"
      ],
      "metadata": {
        "colab": {
          "base_uri": "https://localhost:8080/"
        },
        "id": "2FCZJ-pkUhXn",
        "outputId": "e66e44c7-c471-481b-d9dd-d02d64d57748"
      },
      "execution_count": 2,
      "outputs": [
        {
          "output_type": "stream",
          "name": "stdout",
          "text": [
            "Cloning into 'SilencerEnhancerPredict'...\n",
            "remote: Enumerating objects: 148, done.\u001b[K\n",
            "remote: Counting objects: 100% (148/148), done.\u001b[K\n",
            "remote: Compressing objects: 100% (117/117), done.\u001b[K\n",
            "remote: Total 148 (delta 57), reused 68 (delta 23), pack-reused 0\u001b[K\n",
            "Receiving objects: 100% (148/148), 73.28 MiB | 15.48 MiB/s, done.\n",
            "Resolving deltas: 100% (57/57), done.\n"
          ]
        }
      ]
    },
    {
      "cell_type": "code",
      "source": [
        "%cd SilencerEnhancerPredict"
      ],
      "metadata": {
        "colab": {
          "base_uri": "https://localhost:8080/"
        },
        "id": "avAxb3NupMjS",
        "outputId": "c5622d39-8dd2-4ed1-cb36-d3e3d79e6ac4"
      },
      "execution_count": 3,
      "outputs": [
        {
          "output_type": "stream",
          "name": "stdout",
          "text": [
            "/content/SilencerEnhancerPredict\n"
          ]
        }
      ]
    },
    {
      "cell_type": "code",
      "source": [
        "%ls"
      ],
      "metadata": {
        "colab": {
          "base_uri": "https://localhost:8080/"
        },
        "id": "Q7dZmlGxpZQR",
        "outputId": "e71ee98c-f5f4-4e38-e5e2-c9634c0f50f1"
      },
      "execution_count": 4,
      "outputs": [
        {
          "output_type": "stream",
          "name": "stdout",
          "text": [
            "\u001b[0m\u001b[01;34mcolab\u001b[0m/  \u001b[01;34mexamples\u001b[0m/  \u001b[01;34mmodels\u001b[0m/  predict.py  README.md  train.py\n"
          ]
        }
      ]
    },
    {
      "cell_type": "code",
      "source": [
        "%pip install Bio\n",
        "%pip install pybedtools\n",
        "%pip install --upgrade tensorflow"
      ],
      "metadata": {
        "colab": {
          "base_uri": "https://localhost:8080/"
        },
        "id": "UsN0yRAfpmlH",
        "outputId": "08892859-ad22-49fe-c875-885393a7d868"
      },
      "execution_count": 5,
      "outputs": [
        {
          "output_type": "stream",
          "name": "stdout",
          "text": [
            "Collecting Bio\n",
            "  Downloading bio-1.3.3-py3-none-any.whl (271 kB)\n",
            "\u001b[?25l\r\u001b[K     |█▏                              | 10 kB 23.7 MB/s eta 0:00:01\r\u001b[K     |██▍                             | 20 kB 20.1 MB/s eta 0:00:01\r\u001b[K     |███▋                            | 30 kB 10.5 MB/s eta 0:00:01\r\u001b[K     |████▉                           | 40 kB 8.4 MB/s eta 0:00:01\r\u001b[K     |██████                          | 51 kB 4.5 MB/s eta 0:00:01\r\u001b[K     |███████▎                        | 61 kB 5.4 MB/s eta 0:00:01\r\u001b[K     |████████▍                       | 71 kB 5.5 MB/s eta 0:00:01\r\u001b[K     |█████████▋                      | 81 kB 5.9 MB/s eta 0:00:01\r\u001b[K     |██████████▉                     | 92 kB 6.5 MB/s eta 0:00:01\r\u001b[K     |████████████                    | 102 kB 5.3 MB/s eta 0:00:01\r\u001b[K     |█████████████▎                  | 112 kB 5.3 MB/s eta 0:00:01\r\u001b[K     |██████████████▌                 | 122 kB 5.3 MB/s eta 0:00:01\r\u001b[K     |███████████████▊                | 133 kB 5.3 MB/s eta 0:00:01\r\u001b[K     |████████████████▉               | 143 kB 5.3 MB/s eta 0:00:01\r\u001b[K     |██████████████████              | 153 kB 5.3 MB/s eta 0:00:01\r\u001b[K     |███████████████████▎            | 163 kB 5.3 MB/s eta 0:00:01\r\u001b[K     |████████████████████▌           | 174 kB 5.3 MB/s eta 0:00:01\r\u001b[K     |█████████████████████▊          | 184 kB 5.3 MB/s eta 0:00:01\r\u001b[K     |███████████████████████         | 194 kB 5.3 MB/s eta 0:00:01\r\u001b[K     |████████████████████████▏       | 204 kB 5.3 MB/s eta 0:00:01\r\u001b[K     |█████████████████████████▎      | 215 kB 5.3 MB/s eta 0:00:01\r\u001b[K     |██████████████████████████▌     | 225 kB 5.3 MB/s eta 0:00:01\r\u001b[K     |███████████████████████████▊    | 235 kB 5.3 MB/s eta 0:00:01\r\u001b[K     |█████████████████████████████   | 245 kB 5.3 MB/s eta 0:00:01\r\u001b[K     |██████████████████████████████▏ | 256 kB 5.3 MB/s eta 0:00:01\r\u001b[K     |███████████████████████████████▍| 266 kB 5.3 MB/s eta 0:00:01\r\u001b[K     |████████████████████████████████| 271 kB 5.3 MB/s \n",
            "\u001b[?25hRequirement already satisfied: tqdm in /usr/local/lib/python3.7/dist-packages (from Bio) (4.63.0)\n",
            "Collecting mygene\n",
            "  Downloading mygene-3.2.2-py2.py3-none-any.whl (5.4 kB)\n",
            "Collecting biopython>=1.79\n",
            "  Downloading biopython-1.79-cp37-cp37m-manylinux_2_5_x86_64.manylinux1_x86_64.whl (2.3 MB)\n",
            "\u001b[K     |████████████████████████████████| 2.3 MB 34.5 MB/s \n",
            "\u001b[?25hRequirement already satisfied: requests in /usr/local/lib/python3.7/dist-packages (from Bio) (2.23.0)\n",
            "Requirement already satisfied: numpy in /usr/local/lib/python3.7/dist-packages (from biopython>=1.79->Bio) (1.21.5)\n",
            "Collecting biothings-client>=0.2.6\n",
            "  Downloading biothings_client-0.2.6-py2.py3-none-any.whl (37 kB)\n",
            "Requirement already satisfied: certifi>=2017.4.17 in /usr/local/lib/python3.7/dist-packages (from requests->Bio) (2021.10.8)\n",
            "Requirement already satisfied: idna<3,>=2.5 in /usr/local/lib/python3.7/dist-packages (from requests->Bio) (2.10)\n",
            "Requirement already satisfied: urllib3!=1.25.0,!=1.25.1,<1.26,>=1.21.1 in /usr/local/lib/python3.7/dist-packages (from requests->Bio) (1.24.3)\n",
            "Requirement already satisfied: chardet<4,>=3.0.2 in /usr/local/lib/python3.7/dist-packages (from requests->Bio) (3.0.4)\n",
            "Installing collected packages: biothings-client, mygene, biopython, Bio\n",
            "Successfully installed Bio-1.3.3 biopython-1.79 biothings-client-0.2.6 mygene-3.2.2\n",
            "Collecting pybedtools\n",
            "  Downloading pybedtools-0.9.0.tar.gz (12.5 MB)\n",
            "\u001b[K     |████████████████████████████████| 12.5 MB 5.4 MB/s \n",
            "\u001b[?25hRequirement already satisfied: six in /usr/local/lib/python3.7/dist-packages (from pybedtools) (1.15.0)\n",
            "Collecting pysam\n",
            "  Downloading pysam-0.18.0-cp37-cp37m-manylinux_2_12_x86_64.manylinux2010_x86_64.whl (14.9 MB)\n",
            "\u001b[K     |████████████████████████████████| 14.9 MB 20.5 MB/s \n",
            "\u001b[?25hBuilding wheels for collected packages: pybedtools\n",
            "  Building wheel for pybedtools (setup.py) ... \u001b[?25l\u001b[?25hdone\n",
            "  Created wheel for pybedtools: filename=pybedtools-0.9.0-cp37-cp37m-linux_x86_64.whl size=13616841 sha256=3d536646767bfa2696261cbebd97e02dcd1a8acacfe82b3e502dc0a190c5a959\n",
            "  Stored in directory: /root/.cache/pip/wheels/7a/44/0d/3a7449885adaf8ebb157da8c3c834a712f48b3b3b84ba51dda\n",
            "Successfully built pybedtools\n",
            "Installing collected packages: pysam, pybedtools\n",
            "Successfully installed pybedtools-0.9.0 pysam-0.18.0\n",
            "Requirement already satisfied: tensorflow in /usr/local/lib/python3.7/dist-packages (2.8.0)\n",
            "Requirement already satisfied: flatbuffers>=1.12 in /usr/local/lib/python3.7/dist-packages (from tensorflow) (2.0)\n",
            "Collecting tf-estimator-nightly==2.8.0.dev2021122109\n",
            "  Downloading tf_estimator_nightly-2.8.0.dev2021122109-py2.py3-none-any.whl (462 kB)\n",
            "\u001b[K     |████████████████████████████████| 462 kB 5.3 MB/s \n",
            "\u001b[?25hRequirement already satisfied: h5py>=2.9.0 in /usr/local/lib/python3.7/dist-packages (from tensorflow) (3.1.0)\n",
            "Requirement already satisfied: numpy>=1.20 in /usr/local/lib/python3.7/dist-packages (from tensorflow) (1.21.5)\n",
            "Requirement already satisfied: grpcio<2.0,>=1.24.3 in /usr/local/lib/python3.7/dist-packages (from tensorflow) (1.44.0)\n",
            "Requirement already satisfied: astunparse>=1.6.0 in /usr/local/lib/python3.7/dist-packages (from tensorflow) (1.6.3)\n",
            "Requirement already satisfied: gast>=0.2.1 in /usr/local/lib/python3.7/dist-packages (from tensorflow) (0.5.3)\n",
            "Requirement already satisfied: tensorboard<2.9,>=2.8 in /usr/local/lib/python3.7/dist-packages (from tensorflow) (2.8.0)\n",
            "Requirement already satisfied: google-pasta>=0.1.1 in /usr/local/lib/python3.7/dist-packages (from tensorflow) (0.2.0)\n",
            "Requirement already satisfied: keras<2.9,>=2.8.0rc0 in /usr/local/lib/python3.7/dist-packages (from tensorflow) (2.8.0)\n",
            "Requirement already satisfied: absl-py>=0.4.0 in /usr/local/lib/python3.7/dist-packages (from tensorflow) (1.0.0)\n",
            "Requirement already satisfied: protobuf>=3.9.2 in /usr/local/lib/python3.7/dist-packages (from tensorflow) (3.17.3)\n",
            "Requirement already satisfied: keras-preprocessing>=1.1.1 in /usr/local/lib/python3.7/dist-packages (from tensorflow) (1.1.2)\n",
            "Requirement already satisfied: six>=1.12.0 in /usr/local/lib/python3.7/dist-packages (from tensorflow) (1.15.0)\n",
            "Requirement already satisfied: termcolor>=1.1.0 in /usr/local/lib/python3.7/dist-packages (from tensorflow) (1.1.0)\n",
            "Requirement already satisfied: wrapt>=1.11.0 in /usr/local/lib/python3.7/dist-packages (from tensorflow) (1.13.3)\n",
            "Requirement already satisfied: setuptools in /usr/local/lib/python3.7/dist-packages (from tensorflow) (57.4.0)\n",
            "Requirement already satisfied: tensorflow-io-gcs-filesystem>=0.23.1 in /usr/local/lib/python3.7/dist-packages (from tensorflow) (0.24.0)\n",
            "Requirement already satisfied: opt-einsum>=2.3.2 in /usr/local/lib/python3.7/dist-packages (from tensorflow) (3.3.0)\n",
            "Requirement already satisfied: typing-extensions>=3.6.6 in /usr/local/lib/python3.7/dist-packages (from tensorflow) (3.10.0.2)\n",
            "Requirement already satisfied: libclang>=9.0.1 in /usr/local/lib/python3.7/dist-packages (from tensorflow) (13.0.0)\n",
            "Requirement already satisfied: wheel<1.0,>=0.23.0 in /usr/local/lib/python3.7/dist-packages (from astunparse>=1.6.0->tensorflow) (0.37.1)\n",
            "Requirement already satisfied: cached-property in /usr/local/lib/python3.7/dist-packages (from h5py>=2.9.0->tensorflow) (1.5.2)\n",
            "Requirement already satisfied: tensorboard-plugin-wit>=1.6.0 in /usr/local/lib/python3.7/dist-packages (from tensorboard<2.9,>=2.8->tensorflow) (1.8.1)\n",
            "Requirement already satisfied: markdown>=2.6.8 in /usr/local/lib/python3.7/dist-packages (from tensorboard<2.9,>=2.8->tensorflow) (3.3.6)\n",
            "Requirement already satisfied: werkzeug>=0.11.15 in /usr/local/lib/python3.7/dist-packages (from tensorboard<2.9,>=2.8->tensorflow) (1.0.1)\n",
            "Requirement already satisfied: requests<3,>=2.21.0 in /usr/local/lib/python3.7/dist-packages (from tensorboard<2.9,>=2.8->tensorflow) (2.23.0)\n",
            "Requirement already satisfied: google-auth-oauthlib<0.5,>=0.4.1 in /usr/local/lib/python3.7/dist-packages (from tensorboard<2.9,>=2.8->tensorflow) (0.4.6)\n",
            "Requirement already satisfied: tensorboard-data-server<0.7.0,>=0.6.0 in /usr/local/lib/python3.7/dist-packages (from tensorboard<2.9,>=2.8->tensorflow) (0.6.1)\n",
            "Requirement already satisfied: google-auth<3,>=1.6.3 in /usr/local/lib/python3.7/dist-packages (from tensorboard<2.9,>=2.8->tensorflow) (1.35.0)\n",
            "Requirement already satisfied: cachetools<5.0,>=2.0.0 in /usr/local/lib/python3.7/dist-packages (from google-auth<3,>=1.6.3->tensorboard<2.9,>=2.8->tensorflow) (4.2.4)\n",
            "Requirement already satisfied: rsa<5,>=3.1.4 in /usr/local/lib/python3.7/dist-packages (from google-auth<3,>=1.6.3->tensorboard<2.9,>=2.8->tensorflow) (4.8)\n",
            "Requirement already satisfied: pyasn1-modules>=0.2.1 in /usr/local/lib/python3.7/dist-packages (from google-auth<3,>=1.6.3->tensorboard<2.9,>=2.8->tensorflow) (0.2.8)\n",
            "Requirement already satisfied: requests-oauthlib>=0.7.0 in /usr/local/lib/python3.7/dist-packages (from google-auth-oauthlib<0.5,>=0.4.1->tensorboard<2.9,>=2.8->tensorflow) (1.3.1)\n",
            "Requirement already satisfied: importlib-metadata>=4.4 in /usr/local/lib/python3.7/dist-packages (from markdown>=2.6.8->tensorboard<2.9,>=2.8->tensorflow) (4.11.2)\n",
            "Requirement already satisfied: zipp>=0.5 in /usr/local/lib/python3.7/dist-packages (from importlib-metadata>=4.4->markdown>=2.6.8->tensorboard<2.9,>=2.8->tensorflow) (3.7.0)\n",
            "Requirement already satisfied: pyasn1<0.5.0,>=0.4.6 in /usr/local/lib/python3.7/dist-packages (from pyasn1-modules>=0.2.1->google-auth<3,>=1.6.3->tensorboard<2.9,>=2.8->tensorflow) (0.4.8)\n",
            "Requirement already satisfied: certifi>=2017.4.17 in /usr/local/lib/python3.7/dist-packages (from requests<3,>=2.21.0->tensorboard<2.9,>=2.8->tensorflow) (2021.10.8)\n",
            "Requirement already satisfied: urllib3!=1.25.0,!=1.25.1,<1.26,>=1.21.1 in /usr/local/lib/python3.7/dist-packages (from requests<3,>=2.21.0->tensorboard<2.9,>=2.8->tensorflow) (1.24.3)\n",
            "Requirement already satisfied: chardet<4,>=3.0.2 in /usr/local/lib/python3.7/dist-packages (from requests<3,>=2.21.0->tensorboard<2.9,>=2.8->tensorflow) (3.0.4)\n",
            "Requirement already satisfied: idna<3,>=2.5 in /usr/local/lib/python3.7/dist-packages (from requests<3,>=2.21.0->tensorboard<2.9,>=2.8->tensorflow) (2.10)\n",
            "Requirement already satisfied: oauthlib>=3.0.0 in /usr/local/lib/python3.7/dist-packages (from requests-oauthlib>=0.7.0->google-auth-oauthlib<0.5,>=0.4.1->tensorboard<2.9,>=2.8->tensorflow) (3.2.0)\n",
            "Installing collected packages: tf-estimator-nightly\n",
            "Successfully installed tf-estimator-nightly-2.8.0.dev2021122109\n"
          ]
        }
      ]
    },
    {
      "cell_type": "code",
      "source": [
        "%pip install --upgrade tensorflow"
      ],
      "metadata": {
        "colab": {
          "base_uri": "https://localhost:8080/"
        },
        "id": "jJMiuxMWpwQU",
        "outputId": "448b2c06-afa5-47bb-ac0a-0704fe805538"
      },
      "execution_count": 6,
      "outputs": [
        {
          "output_type": "stream",
          "name": "stdout",
          "text": [
            "Requirement already satisfied: tensorflow in /usr/local/lib/python3.7/dist-packages (2.8.0)\n",
            "Requirement already satisfied: absl-py>=0.4.0 in /usr/local/lib/python3.7/dist-packages (from tensorflow) (1.0.0)\n",
            "Requirement already satisfied: keras<2.9,>=2.8.0rc0 in /usr/local/lib/python3.7/dist-packages (from tensorflow) (2.8.0)\n",
            "Requirement already satisfied: tensorboard<2.9,>=2.8 in /usr/local/lib/python3.7/dist-packages (from tensorflow) (2.8.0)\n",
            "Requirement already satisfied: opt-einsum>=2.3.2 in /usr/local/lib/python3.7/dist-packages (from tensorflow) (3.3.0)\n",
            "Requirement already satisfied: typing-extensions>=3.6.6 in /usr/local/lib/python3.7/dist-packages (from tensorflow) (3.10.0.2)\n",
            "Requirement already satisfied: tf-estimator-nightly==2.8.0.dev2021122109 in /usr/local/lib/python3.7/dist-packages (from tensorflow) (2.8.0.dev2021122109)\n",
            "Requirement already satisfied: grpcio<2.0,>=1.24.3 in /usr/local/lib/python3.7/dist-packages (from tensorflow) (1.44.0)\n",
            "Requirement already satisfied: google-pasta>=0.1.1 in /usr/local/lib/python3.7/dist-packages (from tensorflow) (0.2.0)\n",
            "Requirement already satisfied: setuptools in /usr/local/lib/python3.7/dist-packages (from tensorflow) (57.4.0)\n",
            "Requirement already satisfied: termcolor>=1.1.0 in /usr/local/lib/python3.7/dist-packages (from tensorflow) (1.1.0)\n",
            "Requirement already satisfied: keras-preprocessing>=1.1.1 in /usr/local/lib/python3.7/dist-packages (from tensorflow) (1.1.2)\n",
            "Requirement already satisfied: protobuf>=3.9.2 in /usr/local/lib/python3.7/dist-packages (from tensorflow) (3.17.3)\n",
            "Requirement already satisfied: gast>=0.2.1 in /usr/local/lib/python3.7/dist-packages (from tensorflow) (0.5.3)\n",
            "Requirement already satisfied: libclang>=9.0.1 in /usr/local/lib/python3.7/dist-packages (from tensorflow) (13.0.0)\n",
            "Requirement already satisfied: tensorflow-io-gcs-filesystem>=0.23.1 in /usr/local/lib/python3.7/dist-packages (from tensorflow) (0.24.0)\n",
            "Requirement already satisfied: flatbuffers>=1.12 in /usr/local/lib/python3.7/dist-packages (from tensorflow) (2.0)\n",
            "Requirement already satisfied: astunparse>=1.6.0 in /usr/local/lib/python3.7/dist-packages (from tensorflow) (1.6.3)\n",
            "Requirement already satisfied: h5py>=2.9.0 in /usr/local/lib/python3.7/dist-packages (from tensorflow) (3.1.0)\n",
            "Requirement already satisfied: numpy>=1.20 in /usr/local/lib/python3.7/dist-packages (from tensorflow) (1.21.5)\n",
            "Requirement already satisfied: six>=1.12.0 in /usr/local/lib/python3.7/dist-packages (from tensorflow) (1.15.0)\n",
            "Requirement already satisfied: wrapt>=1.11.0 in /usr/local/lib/python3.7/dist-packages (from tensorflow) (1.13.3)\n",
            "Requirement already satisfied: wheel<1.0,>=0.23.0 in /usr/local/lib/python3.7/dist-packages (from astunparse>=1.6.0->tensorflow) (0.37.1)\n",
            "Requirement already satisfied: cached-property in /usr/local/lib/python3.7/dist-packages (from h5py>=2.9.0->tensorflow) (1.5.2)\n",
            "Requirement already satisfied: google-auth-oauthlib<0.5,>=0.4.1 in /usr/local/lib/python3.7/dist-packages (from tensorboard<2.9,>=2.8->tensorflow) (0.4.6)\n",
            "Requirement already satisfied: werkzeug>=0.11.15 in /usr/local/lib/python3.7/dist-packages (from tensorboard<2.9,>=2.8->tensorflow) (1.0.1)\n",
            "Requirement already satisfied: markdown>=2.6.8 in /usr/local/lib/python3.7/dist-packages (from tensorboard<2.9,>=2.8->tensorflow) (3.3.6)\n",
            "Requirement already satisfied: google-auth<3,>=1.6.3 in /usr/local/lib/python3.7/dist-packages (from tensorboard<2.9,>=2.8->tensorflow) (1.35.0)\n",
            "Requirement already satisfied: requests<3,>=2.21.0 in /usr/local/lib/python3.7/dist-packages (from tensorboard<2.9,>=2.8->tensorflow) (2.23.0)\n",
            "Requirement already satisfied: tensorboard-data-server<0.7.0,>=0.6.0 in /usr/local/lib/python3.7/dist-packages (from tensorboard<2.9,>=2.8->tensorflow) (0.6.1)\n",
            "Requirement already satisfied: tensorboard-plugin-wit>=1.6.0 in /usr/local/lib/python3.7/dist-packages (from tensorboard<2.9,>=2.8->tensorflow) (1.8.1)\n",
            "Requirement already satisfied: pyasn1-modules>=0.2.1 in /usr/local/lib/python3.7/dist-packages (from google-auth<3,>=1.6.3->tensorboard<2.9,>=2.8->tensorflow) (0.2.8)\n",
            "Requirement already satisfied: cachetools<5.0,>=2.0.0 in /usr/local/lib/python3.7/dist-packages (from google-auth<3,>=1.6.3->tensorboard<2.9,>=2.8->tensorflow) (4.2.4)\n",
            "Requirement already satisfied: rsa<5,>=3.1.4 in /usr/local/lib/python3.7/dist-packages (from google-auth<3,>=1.6.3->tensorboard<2.9,>=2.8->tensorflow) (4.8)\n",
            "Requirement already satisfied: requests-oauthlib>=0.7.0 in /usr/local/lib/python3.7/dist-packages (from google-auth-oauthlib<0.5,>=0.4.1->tensorboard<2.9,>=2.8->tensorflow) (1.3.1)\n",
            "Requirement already satisfied: importlib-metadata>=4.4 in /usr/local/lib/python3.7/dist-packages (from markdown>=2.6.8->tensorboard<2.9,>=2.8->tensorflow) (4.11.2)\n",
            "Requirement already satisfied: zipp>=0.5 in /usr/local/lib/python3.7/dist-packages (from importlib-metadata>=4.4->markdown>=2.6.8->tensorboard<2.9,>=2.8->tensorflow) (3.7.0)\n",
            "Requirement already satisfied: pyasn1<0.5.0,>=0.4.6 in /usr/local/lib/python3.7/dist-packages (from pyasn1-modules>=0.2.1->google-auth<3,>=1.6.3->tensorboard<2.9,>=2.8->tensorflow) (0.4.8)\n",
            "Requirement already satisfied: idna<3,>=2.5 in /usr/local/lib/python3.7/dist-packages (from requests<3,>=2.21.0->tensorboard<2.9,>=2.8->tensorflow) (2.10)\n",
            "Requirement already satisfied: certifi>=2017.4.17 in /usr/local/lib/python3.7/dist-packages (from requests<3,>=2.21.0->tensorboard<2.9,>=2.8->tensorflow) (2021.10.8)\n",
            "Requirement already satisfied: urllib3!=1.25.0,!=1.25.1,<1.26,>=1.21.1 in /usr/local/lib/python3.7/dist-packages (from requests<3,>=2.21.0->tensorboard<2.9,>=2.8->tensorflow) (1.24.3)\n",
            "Requirement already satisfied: chardet<4,>=3.0.2 in /usr/local/lib/python3.7/dist-packages (from requests<3,>=2.21.0->tensorboard<2.9,>=2.8->tensorflow) (3.0.4)\n",
            "Requirement already satisfied: oauthlib>=3.0.0 in /usr/local/lib/python3.7/dist-packages (from requests-oauthlib>=0.7.0->google-auth-oauthlib<0.5,>=0.4.1->tensorboard<2.9,>=2.8->tensorflow) (3.2.0)\n"
          ]
        }
      ]
    },
    {
      "cell_type": "code",
      "source": [
        "import tensorflow as tf"
      ],
      "metadata": {
        "id": "Z8OD-FxaxvSW"
      },
      "execution_count": 7,
      "outputs": []
    },
    {
      "cell_type": "code",
      "source": [
        ""
      ],
      "metadata": {
        "id": "UNeBsSywus3S"
      },
      "execution_count": 7,
      "outputs": []
    },
    {
      "cell_type": "code",
      "source": [
        "!gunzip -d /content/SilencerEnhancerPredict/examples/training.hdf5.gz"
      ],
      "metadata": {
        "id": "rXaSfsHxutHr"
      },
      "execution_count": null,
      "outputs": []
    },
    {
      "cell_type": "code",
      "source": [
        "from keras.models import load_model\n",
        "model = load_model('/content/SilencerEnhancerPredict/examples/model.hdf5')"
      ],
      "metadata": {
        "colab": {
          "base_uri": "https://localhost:8080/"
        },
        "id": "Xrv0X5jhuz6g",
        "outputId": "bf645cbb-3c50-46f2-ddb2-3f9d740022db"
      },
      "execution_count": null,
      "outputs": [
        {
          "output_type": "stream",
          "name": "stdout",
          "text": [
            "WARNING:tensorflow:No training configuration found in the save file, so the model was *not* compiled. Compile it manually.\n"
          ]
        }
      ]
    },
    {
      "cell_type": "code",
      "source": [
        "model.get_config()"
      ],
      "metadata": {
        "colab": {
          "base_uri": "https://localhost:8080/"
        },
        "id": "T_pugDbBvDl1",
        "outputId": "ac9c7a48-f634-4e75-ca48-ac26d55e924c"
      },
      "execution_count": null,
      "outputs": [
        {
          "output_type": "execute_result",
          "data": {
            "text/plain": [
              "{'layers': [{'class_name': 'InputLayer',\n",
              "   'config': {'batch_input_shape': (None, 1000, 4),\n",
              "    'dtype': 'float32',\n",
              "    'name': 'conv1d_1_input',\n",
              "    'ragged': False,\n",
              "    'sparse': False}},\n",
              "  {'class_name': 'Conv1D',\n",
              "   'config': {'activation': 'relu',\n",
              "    'activity_regularizer': None,\n",
              "    'batch_input_shape': (None, 1000, 4),\n",
              "    'bias_constraint': None,\n",
              "    'bias_initializer': {'class_name': 'Zeros', 'config': {}},\n",
              "    'bias_regularizer': None,\n",
              "    'data_format': 'channels_last',\n",
              "    'dilation_rate': (1,),\n",
              "    'dtype': 'float32',\n",
              "    'filters': 480,\n",
              "    'groups': 1,\n",
              "    'kernel_constraint': {'class_name': 'MaxNorm',\n",
              "     'config': {'axis': 0, 'max_value': 1}},\n",
              "    'kernel_initializer': {'class_name': 'VarianceScaling',\n",
              "     'config': {'distribution': 'uniform',\n",
              "      'mode': 'fan_avg',\n",
              "      'scale': 1.0,\n",
              "      'seed': None}},\n",
              "    'kernel_regularizer': {'class_name': 'L1L2',\n",
              "     'config': {'l1': 9.99999993922529e-09, 'l2': 4.999999987376214e-07}},\n",
              "    'kernel_size': (9,),\n",
              "    'name': 'conv1d_1',\n",
              "    'padding': 'valid',\n",
              "    'strides': (1,),\n",
              "    'trainable': True,\n",
              "    'use_bias': True}},\n",
              "  {'class_name': 'BatchNormalization',\n",
              "   'config': {'axis': ListWrapper([2]),\n",
              "    'beta_constraint': None,\n",
              "    'beta_initializer': {'class_name': 'Zeros', 'config': {}},\n",
              "    'beta_regularizer': None,\n",
              "    'center': True,\n",
              "    'dtype': 'float32',\n",
              "    'epsilon': 0.001,\n",
              "    'gamma_constraint': None,\n",
              "    'gamma_initializer': {'class_name': 'Ones', 'config': {}},\n",
              "    'gamma_regularizer': None,\n",
              "    'momentum': 0.99,\n",
              "    'moving_mean_initializer': {'class_name': 'Zeros', 'config': {}},\n",
              "    'moving_variance_initializer': {'class_name': 'Ones', 'config': {}},\n",
              "    'name': 'batch_normalization_1',\n",
              "    'scale': True,\n",
              "    'trainable': True}},\n",
              "  {'class_name': 'LeakyReLU',\n",
              "   'config': {'alpha': 0.0,\n",
              "    'dtype': 'float32',\n",
              "    'name': 'leaky_re_lu_1',\n",
              "    'trainable': True}},\n",
              "  {'class_name': 'MaxPooling1D',\n",
              "   'config': {'data_format': 'channels_last',\n",
              "    'dtype': 'float32',\n",
              "    'name': 'max_pooling1d_1',\n",
              "    'padding': 'valid',\n",
              "    'pool_size': (9,),\n",
              "    'strides': (3,),\n",
              "    'trainable': True}},\n",
              "  {'class_name': 'Dropout',\n",
              "   'config': {'dtype': 'float32',\n",
              "    'name': 'dropout_1',\n",
              "    'noise_shape': None,\n",
              "    'rate': 0.2,\n",
              "    'seed': None,\n",
              "    'trainable': True}},\n",
              "  {'class_name': 'Conv1D',\n",
              "   'config': {'activation': 'relu',\n",
              "    'activity_regularizer': None,\n",
              "    'bias_constraint': None,\n",
              "    'bias_initializer': {'class_name': 'Zeros', 'config': {}},\n",
              "    'bias_regularizer': None,\n",
              "    'data_format': 'channels_last',\n",
              "    'dilation_rate': (1,),\n",
              "    'dtype': 'float32',\n",
              "    'filters': 480,\n",
              "    'groups': 1,\n",
              "    'kernel_constraint': {'class_name': 'MaxNorm',\n",
              "     'config': {'axis': 0, 'max_value': 0.9}},\n",
              "    'kernel_initializer': {'class_name': 'VarianceScaling',\n",
              "     'config': {'distribution': 'uniform',\n",
              "      'mode': 'fan_avg',\n",
              "      'scale': 1.0,\n",
              "      'seed': None}},\n",
              "    'kernel_regularizer': {'class_name': 'L1L2',\n",
              "     'config': {'l1': 9.99999993922529e-09, 'l2': 4.999999987376214e-07}},\n",
              "    'kernel_size': (4,),\n",
              "    'name': 'conv1d_2',\n",
              "    'padding': 'valid',\n",
              "    'strides': (1,),\n",
              "    'trainable': True,\n",
              "    'use_bias': True}},\n",
              "  {'class_name': 'BatchNormalization',\n",
              "   'config': {'axis': ListWrapper([2]),\n",
              "    'beta_constraint': None,\n",
              "    'beta_initializer': {'class_name': 'Zeros', 'config': {}},\n",
              "    'beta_regularizer': None,\n",
              "    'center': True,\n",
              "    'dtype': 'float32',\n",
              "    'epsilon': 0.001,\n",
              "    'gamma_constraint': None,\n",
              "    'gamma_initializer': {'class_name': 'Ones', 'config': {}},\n",
              "    'gamma_regularizer': None,\n",
              "    'momentum': 0.99,\n",
              "    'moving_mean_initializer': {'class_name': 'Zeros', 'config': {}},\n",
              "    'moving_variance_initializer': {'class_name': 'Ones', 'config': {}},\n",
              "    'name': 'batch_normalization_2',\n",
              "    'scale': True,\n",
              "    'trainable': True}},\n",
              "  {'class_name': 'LeakyReLU',\n",
              "   'config': {'alpha': 0.0,\n",
              "    'dtype': 'float32',\n",
              "    'name': 'leaky_re_lu_2',\n",
              "    'trainable': True}},\n",
              "  {'class_name': 'MaxPooling1D',\n",
              "   'config': {'data_format': 'channels_last',\n",
              "    'dtype': 'float32',\n",
              "    'name': 'max_pooling1d_2',\n",
              "    'padding': 'valid',\n",
              "    'pool_size': (4,),\n",
              "    'strides': (2,),\n",
              "    'trainable': True}},\n",
              "  {'class_name': 'Dropout',\n",
              "   'config': {'dtype': 'float32',\n",
              "    'name': 'dropout_2',\n",
              "    'noise_shape': None,\n",
              "    'rate': 0.2,\n",
              "    'seed': None,\n",
              "    'trainable': True}},\n",
              "  {'class_name': 'Conv1D',\n",
              "   'config': {'activation': 'relu',\n",
              "    'activity_regularizer': None,\n",
              "    'bias_constraint': None,\n",
              "    'bias_initializer': {'class_name': 'Zeros', 'config': {}},\n",
              "    'bias_regularizer': None,\n",
              "    'data_format': 'channels_last',\n",
              "    'dilation_rate': (1,),\n",
              "    'dtype': 'float32',\n",
              "    'filters': 240,\n",
              "    'groups': 1,\n",
              "    'kernel_constraint': {'class_name': 'MaxNorm',\n",
              "     'config': {'axis': 0, 'max_value': 1}},\n",
              "    'kernel_initializer': {'class_name': 'VarianceScaling',\n",
              "     'config': {'distribution': 'uniform',\n",
              "      'mode': 'fan_avg',\n",
              "      'scale': 1.0,\n",
              "      'seed': None}},\n",
              "    'kernel_regularizer': {'class_name': 'L1L2',\n",
              "     'config': {'l1': 9.99999993922529e-09, 'l2': 4.999999987376214e-07}},\n",
              "    'kernel_size': (4,),\n",
              "    'name': 'conv1d_3',\n",
              "    'padding': 'valid',\n",
              "    'strides': (1,),\n",
              "    'trainable': True,\n",
              "    'use_bias': True}},\n",
              "  {'class_name': 'MaxPooling1D',\n",
              "   'config': {'data_format': 'channels_last',\n",
              "    'dtype': 'float32',\n",
              "    'name': 'max_pooling1d_3',\n",
              "    'padding': 'valid',\n",
              "    'pool_size': (4,),\n",
              "    'strides': (3,),\n",
              "    'trainable': True}},\n",
              "  {'class_name': 'Dropout',\n",
              "   'config': {'dtype': 'float32',\n",
              "    'name': 'dropout_3',\n",
              "    'noise_shape': None,\n",
              "    'rate': 0.2,\n",
              "    'seed': None,\n",
              "    'trainable': True}},\n",
              "  {'class_name': 'Conv1D',\n",
              "   'config': {'activation': 'relu',\n",
              "    'activity_regularizer': None,\n",
              "    'bias_constraint': None,\n",
              "    'bias_initializer': {'class_name': 'Zeros', 'config': {}},\n",
              "    'bias_regularizer': None,\n",
              "    'data_format': 'channels_last',\n",
              "    'dilation_rate': (1,),\n",
              "    'dtype': 'float32',\n",
              "    'filters': 320,\n",
              "    'groups': 1,\n",
              "    'kernel_constraint': {'class_name': 'MaxNorm',\n",
              "     'config': {'axis': 0, 'max_value': 1}},\n",
              "    'kernel_initializer': {'class_name': 'VarianceScaling',\n",
              "     'config': {'distribution': 'uniform',\n",
              "      'mode': 'fan_avg',\n",
              "      'scale': 1.0,\n",
              "      'seed': None}},\n",
              "    'kernel_regularizer': {'class_name': 'L1L2',\n",
              "     'config': {'l1': 9.99999993922529e-09, 'l2': 4.999999987376214e-07}},\n",
              "    'kernel_size': (4,),\n",
              "    'name': 'conv1d_4',\n",
              "    'padding': 'valid',\n",
              "    'strides': (1,),\n",
              "    'trainable': True,\n",
              "    'use_bias': True}},\n",
              "  {'class_name': 'BatchNormalization',\n",
              "   'config': {'axis': ListWrapper([2]),\n",
              "    'beta_constraint': None,\n",
              "    'beta_initializer': {'class_name': 'Zeros', 'config': {}},\n",
              "    'beta_regularizer': None,\n",
              "    'center': True,\n",
              "    'dtype': 'float32',\n",
              "    'epsilon': 0.001,\n",
              "    'gamma_constraint': None,\n",
              "    'gamma_initializer': {'class_name': 'Ones', 'config': {}},\n",
              "    'gamma_regularizer': None,\n",
              "    'momentum': 0.99,\n",
              "    'moving_mean_initializer': {'class_name': 'Zeros', 'config': {}},\n",
              "    'moving_variance_initializer': {'class_name': 'Ones', 'config': {}},\n",
              "    'name': 'batch_normalization_3',\n",
              "    'scale': True,\n",
              "    'trainable': True}},\n",
              "  {'class_name': 'LeakyReLU',\n",
              "   'config': {'alpha': 0.0,\n",
              "    'dtype': 'float32',\n",
              "    'name': 'leaky_re_lu_3',\n",
              "    'trainable': True}},\n",
              "  {'class_name': 'MaxPooling1D',\n",
              "   'config': {'data_format': 'channels_last',\n",
              "    'dtype': 'float32',\n",
              "    'name': 'max_pooling1d_4',\n",
              "    'padding': 'valid',\n",
              "    'pool_size': (4,),\n",
              "    'strides': (3,),\n",
              "    'trainable': True}},\n",
              "  {'class_name': 'Conv1D',\n",
              "   'config': {'activation': 'relu',\n",
              "    'activity_regularizer': None,\n",
              "    'bias_constraint': None,\n",
              "    'bias_initializer': {'class_name': 'Zeros', 'config': {}},\n",
              "    'bias_regularizer': None,\n",
              "    'data_format': 'channels_last',\n",
              "    'dilation_rate': (1,),\n",
              "    'dtype': 'float32',\n",
              "    'filters': 320,\n",
              "    'groups': 1,\n",
              "    'kernel_constraint': {'class_name': 'MaxNorm',\n",
              "     'config': {'axis': 0, 'max_value': 1}},\n",
              "    'kernel_initializer': {'class_name': 'VarianceScaling',\n",
              "     'config': {'distribution': 'uniform',\n",
              "      'mode': 'fan_avg',\n",
              "      'scale': 1.0,\n",
              "      'seed': None}},\n",
              "    'kernel_regularizer': {'class_name': 'L1L2',\n",
              "     'config': {'l1': 9.99999993922529e-09, 'l2': 4.999999987376214e-07}},\n",
              "    'kernel_size': (4,),\n",
              "    'name': 'conv1d_5',\n",
              "    'padding': 'valid',\n",
              "    'strides': (1,),\n",
              "    'trainable': True,\n",
              "    'use_bias': True}},\n",
              "  {'class_name': 'BatchNormalization',\n",
              "   'config': {'axis': ListWrapper([2]),\n",
              "    'beta_constraint': None,\n",
              "    'beta_initializer': {'class_name': 'Zeros', 'config': {}},\n",
              "    'beta_regularizer': None,\n",
              "    'center': True,\n",
              "    'dtype': 'float32',\n",
              "    'epsilon': 0.001,\n",
              "    'gamma_constraint': None,\n",
              "    'gamma_initializer': {'class_name': 'Ones', 'config': {}},\n",
              "    'gamma_regularizer': None,\n",
              "    'momentum': 0.99,\n",
              "    'moving_mean_initializer': {'class_name': 'Zeros', 'config': {}},\n",
              "    'moving_variance_initializer': {'class_name': 'Ones', 'config': {}},\n",
              "    'name': 'batch_normalization_4',\n",
              "    'scale': True,\n",
              "    'trainable': True}},\n",
              "  {'class_name': 'LeakyReLU',\n",
              "   'config': {'alpha': 0.0,\n",
              "    'dtype': 'float32',\n",
              "    'name': 'leaky_re_lu_4',\n",
              "    'trainable': True}},\n",
              "  {'class_name': 'MaxPooling1D',\n",
              "   'config': {'data_format': 'channels_last',\n",
              "    'dtype': 'float32',\n",
              "    'name': 'max_pooling1d_5',\n",
              "    'padding': 'valid',\n",
              "    'pool_size': (4,),\n",
              "    'strides': (3,),\n",
              "    'trainable': True}},\n",
              "  {'class_name': 'Flatten',\n",
              "   'config': {'data_format': 'channels_last',\n",
              "    'dtype': 'float32',\n",
              "    'name': 'flatten_1',\n",
              "    'trainable': True}},\n",
              "  {'class_name': 'Dense',\n",
              "   'config': {'activation': 'sigmoid',\n",
              "    'activity_regularizer': None,\n",
              "    'bias_constraint': None,\n",
              "    'bias_initializer': {'class_name': 'Zeros', 'config': {}},\n",
              "    'bias_regularizer': None,\n",
              "    'dtype': 'float32',\n",
              "    'kernel_constraint': {'class_name': 'MaxNorm',\n",
              "     'config': {'axis': 0, 'max_value': 1}},\n",
              "    'kernel_initializer': {'class_name': 'VarianceScaling',\n",
              "     'config': {'distribution': 'uniform',\n",
              "      'mode': 'fan_avg',\n",
              "      'scale': 1.0,\n",
              "      'seed': None}},\n",
              "    'kernel_regularizer': {'class_name': 'L1L2',\n",
              "     'config': {'l1': 9.99999993922529e-09, 'l2': 4.999999987376214e-07}},\n",
              "    'name': 'dense_1',\n",
              "    'trainable': True,\n",
              "    'units': 180,\n",
              "    'use_bias': True}},\n",
              "  {'class_name': 'Dense',\n",
              "   'config': {'activation': 'softmax',\n",
              "    'activity_regularizer': None,\n",
              "    'bias_constraint': None,\n",
              "    'bias_initializer': {'class_name': 'Zeros', 'config': {}},\n",
              "    'bias_regularizer': None,\n",
              "    'dtype': 'float32',\n",
              "    'kernel_constraint': {'class_name': 'MaxNorm',\n",
              "     'config': {'axis': 0, 'max_value': 1}},\n",
              "    'kernel_initializer': {'class_name': 'VarianceScaling',\n",
              "     'config': {'distribution': 'uniform',\n",
              "      'mode': 'fan_avg',\n",
              "      'scale': 1.0,\n",
              "      'seed': None}},\n",
              "    'kernel_regularizer': {'class_name': 'L1L2',\n",
              "     'config': {'l1': 9.99999993922529e-09, 'l2': 4.999999987376214e-07}},\n",
              "    'name': 'dense_2',\n",
              "    'trainable': True,\n",
              "    'units': 2,\n",
              "    'use_bias': True}}],\n",
              " 'name': 'sequential'}"
            ]
          },
          "metadata": {},
          "execution_count": 84
        }
      ]
    },
    {
      "cell_type": "code",
      "source": [
        "for layer in model.layers:\n",
        "  print(layer.get_config())"
      ],
      "metadata": {
        "colab": {
          "base_uri": "https://localhost:8080/"
        },
        "id": "SZbHKo4dvbuK",
        "outputId": "3710566e-8bc9-4b1d-fa9b-cbdbb90904c7"
      },
      "execution_count": null,
      "outputs": [
        {
          "output_type": "stream",
          "name": "stdout",
          "text": [
            "{'name': 'conv1d_1', 'trainable': True, 'batch_input_shape': (None, 1000, 4), 'dtype': 'float32', 'filters': 480, 'kernel_size': (9,), 'strides': (1,), 'padding': 'valid', 'data_format': 'channels_last', 'dilation_rate': (1,), 'groups': 1, 'activation': 'relu', 'use_bias': True, 'kernel_initializer': {'class_name': 'VarianceScaling', 'config': {'scale': 1.0, 'mode': 'fan_avg', 'distribution': 'uniform', 'seed': None}}, 'bias_initializer': {'class_name': 'Zeros', 'config': {}}, 'kernel_regularizer': {'class_name': 'L1L2', 'config': {'l1': 9.99999993922529e-09, 'l2': 4.999999987376214e-07}}, 'bias_regularizer': None, 'activity_regularizer': None, 'kernel_constraint': {'class_name': 'MaxNorm', 'config': {'max_value': 1, 'axis': 0}}, 'bias_constraint': None}\n",
            "{'name': 'batch_normalization_1', 'trainable': True, 'dtype': 'float32', 'axis': ListWrapper([2]), 'momentum': 0.99, 'epsilon': 0.001, 'center': True, 'scale': True, 'beta_initializer': {'class_name': 'Zeros', 'config': {}}, 'gamma_initializer': {'class_name': 'Ones', 'config': {}}, 'moving_mean_initializer': {'class_name': 'Zeros', 'config': {}}, 'moving_variance_initializer': {'class_name': 'Ones', 'config': {}}, 'beta_regularizer': None, 'gamma_regularizer': None, 'beta_constraint': None, 'gamma_constraint': None}\n",
            "{'name': 'leaky_re_lu_1', 'trainable': True, 'dtype': 'float32', 'alpha': 0.0}\n",
            "{'name': 'max_pooling1d_1', 'trainable': True, 'dtype': 'float32', 'strides': (3,), 'pool_size': (9,), 'padding': 'valid', 'data_format': 'channels_last'}\n",
            "{'name': 'dropout_1', 'trainable': True, 'dtype': 'float32', 'rate': 0.2, 'noise_shape': None, 'seed': None}\n",
            "{'name': 'conv1d_2', 'trainable': True, 'dtype': 'float32', 'filters': 480, 'kernel_size': (4,), 'strides': (1,), 'padding': 'valid', 'data_format': 'channels_last', 'dilation_rate': (1,), 'groups': 1, 'activation': 'relu', 'use_bias': True, 'kernel_initializer': {'class_name': 'VarianceScaling', 'config': {'scale': 1.0, 'mode': 'fan_avg', 'distribution': 'uniform', 'seed': None}}, 'bias_initializer': {'class_name': 'Zeros', 'config': {}}, 'kernel_regularizer': {'class_name': 'L1L2', 'config': {'l1': 9.99999993922529e-09, 'l2': 4.999999987376214e-07}}, 'bias_regularizer': None, 'activity_regularizer': None, 'kernel_constraint': {'class_name': 'MaxNorm', 'config': {'max_value': 0.9, 'axis': 0}}, 'bias_constraint': None}\n",
            "{'name': 'batch_normalization_2', 'trainable': True, 'dtype': 'float32', 'axis': ListWrapper([2]), 'momentum': 0.99, 'epsilon': 0.001, 'center': True, 'scale': True, 'beta_initializer': {'class_name': 'Zeros', 'config': {}}, 'gamma_initializer': {'class_name': 'Ones', 'config': {}}, 'moving_mean_initializer': {'class_name': 'Zeros', 'config': {}}, 'moving_variance_initializer': {'class_name': 'Ones', 'config': {}}, 'beta_regularizer': None, 'gamma_regularizer': None, 'beta_constraint': None, 'gamma_constraint': None}\n",
            "{'name': 'leaky_re_lu_2', 'trainable': True, 'dtype': 'float32', 'alpha': 0.0}\n",
            "{'name': 'max_pooling1d_2', 'trainable': True, 'dtype': 'float32', 'strides': (2,), 'pool_size': (4,), 'padding': 'valid', 'data_format': 'channels_last'}\n",
            "{'name': 'dropout_2', 'trainable': True, 'dtype': 'float32', 'rate': 0.2, 'noise_shape': None, 'seed': None}\n",
            "{'name': 'conv1d_3', 'trainable': True, 'dtype': 'float32', 'filters': 240, 'kernel_size': (4,), 'strides': (1,), 'padding': 'valid', 'data_format': 'channels_last', 'dilation_rate': (1,), 'groups': 1, 'activation': 'relu', 'use_bias': True, 'kernel_initializer': {'class_name': 'VarianceScaling', 'config': {'scale': 1.0, 'mode': 'fan_avg', 'distribution': 'uniform', 'seed': None}}, 'bias_initializer': {'class_name': 'Zeros', 'config': {}}, 'kernel_regularizer': {'class_name': 'L1L2', 'config': {'l1': 9.99999993922529e-09, 'l2': 4.999999987376214e-07}}, 'bias_regularizer': None, 'activity_regularizer': None, 'kernel_constraint': {'class_name': 'MaxNorm', 'config': {'max_value': 1, 'axis': 0}}, 'bias_constraint': None}\n",
            "{'name': 'max_pooling1d_3', 'trainable': True, 'dtype': 'float32', 'strides': (3,), 'pool_size': (4,), 'padding': 'valid', 'data_format': 'channels_last'}\n",
            "{'name': 'dropout_3', 'trainable': True, 'dtype': 'float32', 'rate': 0.2, 'noise_shape': None, 'seed': None}\n",
            "{'name': 'conv1d_4', 'trainable': True, 'dtype': 'float32', 'filters': 320, 'kernel_size': (4,), 'strides': (1,), 'padding': 'valid', 'data_format': 'channels_last', 'dilation_rate': (1,), 'groups': 1, 'activation': 'relu', 'use_bias': True, 'kernel_initializer': {'class_name': 'VarianceScaling', 'config': {'scale': 1.0, 'mode': 'fan_avg', 'distribution': 'uniform', 'seed': None}}, 'bias_initializer': {'class_name': 'Zeros', 'config': {}}, 'kernel_regularizer': {'class_name': 'L1L2', 'config': {'l1': 9.99999993922529e-09, 'l2': 4.999999987376214e-07}}, 'bias_regularizer': None, 'activity_regularizer': None, 'kernel_constraint': {'class_name': 'MaxNorm', 'config': {'max_value': 1, 'axis': 0}}, 'bias_constraint': None}\n",
            "{'name': 'batch_normalization_3', 'trainable': True, 'dtype': 'float32', 'axis': ListWrapper([2]), 'momentum': 0.99, 'epsilon': 0.001, 'center': True, 'scale': True, 'beta_initializer': {'class_name': 'Zeros', 'config': {}}, 'gamma_initializer': {'class_name': 'Ones', 'config': {}}, 'moving_mean_initializer': {'class_name': 'Zeros', 'config': {}}, 'moving_variance_initializer': {'class_name': 'Ones', 'config': {}}, 'beta_regularizer': None, 'gamma_regularizer': None, 'beta_constraint': None, 'gamma_constraint': None}\n",
            "{'name': 'leaky_re_lu_3', 'trainable': True, 'dtype': 'float32', 'alpha': 0.0}\n",
            "{'name': 'max_pooling1d_4', 'trainable': True, 'dtype': 'float32', 'strides': (3,), 'pool_size': (4,), 'padding': 'valid', 'data_format': 'channels_last'}\n",
            "{'name': 'conv1d_5', 'trainable': True, 'dtype': 'float32', 'filters': 320, 'kernel_size': (4,), 'strides': (1,), 'padding': 'valid', 'data_format': 'channels_last', 'dilation_rate': (1,), 'groups': 1, 'activation': 'relu', 'use_bias': True, 'kernel_initializer': {'class_name': 'VarianceScaling', 'config': {'scale': 1.0, 'mode': 'fan_avg', 'distribution': 'uniform', 'seed': None}}, 'bias_initializer': {'class_name': 'Zeros', 'config': {}}, 'kernel_regularizer': {'class_name': 'L1L2', 'config': {'l1': 9.99999993922529e-09, 'l2': 4.999999987376214e-07}}, 'bias_regularizer': None, 'activity_regularizer': None, 'kernel_constraint': {'class_name': 'MaxNorm', 'config': {'max_value': 1, 'axis': 0}}, 'bias_constraint': None}\n",
            "{'name': 'batch_normalization_4', 'trainable': True, 'dtype': 'float32', 'axis': ListWrapper([2]), 'momentum': 0.99, 'epsilon': 0.001, 'center': True, 'scale': True, 'beta_initializer': {'class_name': 'Zeros', 'config': {}}, 'gamma_initializer': {'class_name': 'Ones', 'config': {}}, 'moving_mean_initializer': {'class_name': 'Zeros', 'config': {}}, 'moving_variance_initializer': {'class_name': 'Ones', 'config': {}}, 'beta_regularizer': None, 'gamma_regularizer': None, 'beta_constraint': None, 'gamma_constraint': None}\n",
            "{'name': 'leaky_re_lu_4', 'trainable': True, 'dtype': 'float32', 'alpha': 0.0}\n",
            "{'name': 'max_pooling1d_5', 'trainable': True, 'dtype': 'float32', 'strides': (3,), 'pool_size': (4,), 'padding': 'valid', 'data_format': 'channels_last'}\n",
            "{'name': 'flatten_1', 'trainable': True, 'dtype': 'float32', 'data_format': 'channels_last'}\n",
            "{'name': 'dense_1', 'trainable': True, 'dtype': 'float32', 'units': 180, 'activation': 'sigmoid', 'use_bias': True, 'kernel_initializer': {'class_name': 'VarianceScaling', 'config': {'scale': 1.0, 'mode': 'fan_avg', 'distribution': 'uniform', 'seed': None}}, 'bias_initializer': {'class_name': 'Zeros', 'config': {}}, 'kernel_regularizer': {'class_name': 'L1L2', 'config': {'l1': 9.99999993922529e-09, 'l2': 4.999999987376214e-07}}, 'bias_regularizer': None, 'activity_regularizer': None, 'kernel_constraint': {'class_name': 'MaxNorm', 'config': {'max_value': 1, 'axis': 0}}, 'bias_constraint': None}\n",
            "{'name': 'dense_2', 'trainable': True, 'dtype': 'float32', 'units': 3, 'activation': 'softmax', 'use_bias': True, 'kernel_initializer': {'class_name': 'VarianceScaling', 'config': {'scale': 1.0, 'mode': 'fan_avg', 'distribution': 'uniform', 'seed': None}}, 'bias_initializer': {'class_name': 'Zeros', 'config': {}}, 'kernel_regularizer': {'class_name': 'L1L2', 'config': {'l1': 9.99999993922529e-09, 'l2': 4.999999987376214e-07}}, 'bias_regularizer': None, 'activity_regularizer': None, 'kernel_constraint': {'class_name': 'MaxNorm', 'config': {'max_value': 1, 'axis': 0}}, 'bias_constraint': None}\n"
          ]
        }
      ]
    },
    {
      "cell_type": "code",
      "source": [
        "model.layers"
      ],
      "metadata": {
        "colab": {
          "base_uri": "https://localhost:8080/"
        },
        "id": "_q6KS1U00OUO",
        "outputId": "1e0e3ddb-f420-4e5d-ceb3-bf5fba0246b8"
      },
      "execution_count": null,
      "outputs": [
        {
          "output_type": "execute_result",
          "data": {
            "text/plain": [
              "[<keras.layers.convolutional.Conv1D at 0x7f8e5024b9d0>,\n",
              " <keras.layers.normalization.batch_normalization.BatchNormalization at 0x7f8e402486d0>,\n",
              " <keras.layers.advanced_activations.LeakyReLU at 0x7f8e40143b10>,\n",
              " <keras.layers.pooling.MaxPooling1D at 0x7f8e400cdf50>,\n",
              " <keras.layers.core.dropout.Dropout at 0x7f8e400cd490>,\n",
              " <keras.layers.convolutional.Conv1D at 0x7f8e400cdd90>,\n",
              " <keras.layers.normalization.batch_normalization.BatchNormalization at 0x7f8e400df510>,\n",
              " <keras.layers.advanced_activations.LeakyReLU at 0x7f8e400eca50>,\n",
              " <keras.layers.pooling.MaxPooling1D at 0x7f8e400e5250>,\n",
              " <keras.layers.core.dropout.Dropout at 0x7f8e401368d0>,\n",
              " <keras.layers.convolutional.Conv1D at 0x7f8e401d4e90>,\n",
              " <keras.layers.pooling.MaxPooling1D at 0x7f8e400f1e10>,\n",
              " <keras.layers.core.dropout.Dropout at 0x7f8e40143150>,\n",
              " <keras.layers.convolutional.Conv1D at 0x7f8e400f1350>,\n",
              " <keras.layers.normalization.batch_normalization.BatchNormalization at 0x7f8e401779d0>,\n",
              " <keras.layers.advanced_activations.LeakyReLU at 0x7f8e4008cd50>,\n",
              " <keras.layers.pooling.MaxPooling1D at 0x7f8e4008cf90>,\n",
              " <keras.layers.convolutional.Conv1D at 0x7f8e400958d0>,\n",
              " <keras.layers.normalization.batch_normalization.BatchNormalization at 0x7f8e400898d0>,\n",
              " <keras.layers.advanced_activations.LeakyReLU at 0x7f8e4009bed0>,\n",
              " <keras.layers.pooling.MaxPooling1D at 0x7f8e401e4810>,\n",
              " <keras.layers.core.flatten.Flatten at 0x7f8e400abe50>,\n",
              " <keras.layers.core.dense.Dense at 0x7f8e40136f90>,\n",
              " <keras.layers.core.dense.Dense at 0x7f8e400a2250>]"
            ]
          },
          "metadata": {},
          "execution_count": 15
        }
      ]
    },
    {
      "cell_type": "code",
      "source": [
        "type(model)"
      ],
      "metadata": {
        "colab": {
          "base_uri": "https://localhost:8080/"
        },
        "id": "QvkXkH8J0yPa",
        "outputId": "50974f43-0bc2-4b81-f26d-8cb5090332e3"
      },
      "execution_count": null,
      "outputs": [
        {
          "output_type": "execute_result",
          "data": {
            "text/plain": [
              "keras.engine.sequential.Sequential"
            ]
          },
          "metadata": {},
          "execution_count": 23
        }
      ]
    },
    {
      "cell_type": "code",
      "source": [
        "print(model.layers[0])"
      ],
      "metadata": {
        "colab": {
          "base_uri": "https://localhost:8080/"
        },
        "id": "u4gliNUe0FKL",
        "outputId": "21495b38-f5e5-4230-8ea7-952b107454f8"
      },
      "execution_count": null,
      "outputs": [
        {
          "output_type": "stream",
          "name": "stdout",
          "text": [
            "<keras.layers.convolutional.Conv1D object at 0x7f8e5024b9d0>\n"
          ]
        }
      ]
    },
    {
      "cell_type": "code",
      "source": [
        "model.layers[-1].get_config()"
      ],
      "metadata": {
        "colab": {
          "base_uri": "https://localhost:8080/"
        },
        "id": "2zdTFdFy3Gri",
        "outputId": "e785e4d5-463c-4931-b326-b1e7621b8301"
      },
      "execution_count": null,
      "outputs": [
        {
          "output_type": "execute_result",
          "data": {
            "text/plain": [
              "{'activation': 'softmax',\n",
              " 'activity_regularizer': None,\n",
              " 'bias_constraint': None,\n",
              " 'bias_initializer': {'class_name': 'Zeros', 'config': {}},\n",
              " 'bias_regularizer': None,\n",
              " 'dtype': 'float32',\n",
              " 'kernel_constraint': {'class_name': 'MaxNorm',\n",
              "  'config': {'axis': 0, 'max_value': 1}},\n",
              " 'kernel_initializer': {'class_name': 'VarianceScaling',\n",
              "  'config': {'distribution': 'uniform',\n",
              "   'mode': 'fan_avg',\n",
              "   'scale': 1.0,\n",
              "   'seed': None}},\n",
              " 'kernel_regularizer': {'class_name': 'L1L2',\n",
              "  'config': {'l1': 9.99999993922529e-09, 'l2': 4.999999987376214e-07}},\n",
              " 'name': 'dense_2',\n",
              " 'trainable': True,\n",
              " 'units': 2,\n",
              " 'use_bias': True}"
            ]
          },
          "metadata": {},
          "execution_count": 79
        }
      ]
    },
    {
      "cell_type": "code",
      "source": [
        "model.layers[-1].units=2"
      ],
      "metadata": {
        "id": "WLL9s0eV1YmW"
      },
      "execution_count": null,
      "outputs": []
    },
    {
      "cell_type": "code",
      "source": [
        "model.layers[-1].units = model.layers[-1].units=2"
      ],
      "metadata": {
        "id": "pDo35rZd1O-4"
      },
      "execution_count": null,
      "outputs": []
    },
    {
      "cell_type": "code",
      "source": [
        "model.layers[0].batch_input_shape=(None,200,4)"
      ],
      "metadata": {
        "id": "s_pt8Edl5Re5"
      },
      "execution_count": null,
      "outputs": []
    },
    {
      "cell_type": "code",
      "source": [
        "model.layers[0].get_config()"
      ],
      "metadata": {
        "colab": {
          "base_uri": "https://localhost:8080/"
        },
        "id": "LCMzGw311own",
        "outputId": "95a87908-15b6-4a68-fe22-7c240a4b7125"
      },
      "execution_count": null,
      "outputs": [
        {
          "output_type": "execute_result",
          "data": {
            "text/plain": [
              "{'activation': 'relu',\n",
              " 'activity_regularizer': None,\n",
              " 'batch_input_shape': (None, 1000, 4),\n",
              " 'bias_constraint': None,\n",
              " 'bias_initializer': {'class_name': 'Zeros', 'config': {}},\n",
              " 'bias_regularizer': None,\n",
              " 'data_format': 'channels_last',\n",
              " 'dilation_rate': (1,),\n",
              " 'dtype': 'float32',\n",
              " 'filters': 480,\n",
              " 'groups': 1,\n",
              " 'kernel_constraint': {'class_name': 'MaxNorm',\n",
              "  'config': {'axis': 0, 'max_value': 1}},\n",
              " 'kernel_initializer': {'class_name': 'VarianceScaling',\n",
              "  'config': {'distribution': 'uniform',\n",
              "   'mode': 'fan_avg',\n",
              "   'scale': 1.0,\n",
              "   'seed': None}},\n",
              " 'kernel_regularizer': {'class_name': 'L1L2',\n",
              "  'config': {'l1': 9.99999993922529e-09, 'l2': 4.999999987376214e-07}},\n",
              " 'kernel_size': (9,),\n",
              " 'name': 'conv1d_1',\n",
              " 'padding': 'valid',\n",
              " 'strides': (1,),\n",
              " 'trainable': True,\n",
              " 'use_bias': True}"
            ]
          },
          "metadata": {},
          "execution_count": 82
        }
      ]
    },
    {
      "cell_type": "code",
      "source": [
        "print(model.layers[0].batch_input_shape)"
      ],
      "metadata": {
        "colab": {
          "base_uri": "https://localhost:8080/"
        },
        "id": "UEuwgtzT5WO4",
        "outputId": "48ee94f4-c70e-41ea-fef6-1891dc611fa0"
      },
      "execution_count": null,
      "outputs": [
        {
          "output_type": "stream",
          "name": "stdout",
          "text": [
            "(None, 200, 4)\n"
          ]
        }
      ]
    },
    {
      "cell_type": "code",
      "source": [
        "print(model.layers[0].dilation_rate)"
      ],
      "metadata": {
        "colab": {
          "base_uri": "https://localhost:8080/"
        },
        "id": "t1z3l4k24EZy",
        "outputId": "a06f0ec4-97ab-489a-eb18-be22ce8dc7b4"
      },
      "execution_count": null,
      "outputs": [
        {
          "output_type": "stream",
          "name": "stdout",
          "text": [
            "(1,)\n"
          ]
        }
      ]
    },
    {
      "cell_type": "code",
      "source": [
        "inputs = tf.keras.Input((None, 200, 3))\n",
        "#output = tf.keras.layers.Dense('name': 'dense_2', 'trainable': True, 'dtype': 'float32', 'units': 2, 'activation': 'softmax', 'use_bias': True, 'kernel_initializer': {'class_name': 'VarianceScaling', 'config': {'scale': 1.0, 'mode': 'fan_avg', 'distribution': 'uniform', 'seed': None}}, 'bias_initializer': {'class_name': 'Zeros', 'config': {}}, 'kernel_regularizer': {'class_name': 'L1L2', 'config': {'l1': 9.99999993922529e-09, 'l2': 4.999999987376214e-07}}, 'bias_regularizer': None, 'activity_regularizer': None, 'kernel_constraint': {'class_name': 'MaxNorm', 'config': {'max_value': 1, 'axis': 0}}, 'bias_constraint': None)\n",
        "output = tf.keras.layers.Dense(units=2)\n",
        "model1 = model(inputs=[inputs], outputs=[output])"
      ],
      "metadata": {
        "colab": {
          "base_uri": "https://localhost:8080/",
          "height": 432
        },
        "id": "byxTNVXP7QJ5",
        "outputId": "b61753f2-c46f-4edb-a427-d92676077641"
      },
      "execution_count": null,
      "outputs": [
        {
          "output_type": "error",
          "ename": "TypeError",
          "evalue": "ignored",
          "traceback": [
            "\u001b[0;31m---------------------------------------------------------------------------\u001b[0m",
            "\u001b[0;31mTypeError\u001b[0m                                 Traceback (most recent call last)",
            "\u001b[0;32m<ipython-input-91-12a4c8518b0a>\u001b[0m in \u001b[0;36m<module>\u001b[0;34m()\u001b[0m\n\u001b[1;32m      2\u001b[0m \u001b[0;31m#output = tf.keras.layers.Dense('name': 'dense_2', 'trainable': True, 'dtype': 'float32', 'units': 2, 'activation': 'softmax', 'use_bias': True, 'kernel_initializer': {'class_name': 'VarianceScaling', 'config': {'scale': 1.0, 'mode': 'fan_avg', 'distribution': 'uniform', 'seed': None}}, 'bias_initializer': {'class_name': 'Zeros', 'config': {}}, 'kernel_regularizer': {'class_name': 'L1L2', 'config': {'l1': 9.99999993922529e-09, 'l2': 4.999999987376214e-07}}, 'bias_regularizer': None, 'activity_regularizer': None, 'kernel_constraint': {'class_name': 'MaxNorm', 'config': {'max_value': 1, 'axis': 0}}, 'bias_constraint': None)\u001b[0m\u001b[0;34m\u001b[0m\u001b[0;34m\u001b[0m\u001b[0;34m\u001b[0m\u001b[0m\n\u001b[1;32m      3\u001b[0m \u001b[0moutput\u001b[0m \u001b[0;34m=\u001b[0m \u001b[0mtf\u001b[0m\u001b[0;34m.\u001b[0m\u001b[0mkeras\u001b[0m\u001b[0;34m.\u001b[0m\u001b[0mlayers\u001b[0m\u001b[0;34m.\u001b[0m\u001b[0mDense\u001b[0m\u001b[0;34m(\u001b[0m\u001b[0munits\u001b[0m\u001b[0;34m=\u001b[0m\u001b[0;36m2\u001b[0m\u001b[0;34m)\u001b[0m\u001b[0;34m\u001b[0m\u001b[0;34m\u001b[0m\u001b[0m\n\u001b[0;32m----> 4\u001b[0;31m \u001b[0mmodel1\u001b[0m \u001b[0;34m=\u001b[0m \u001b[0mmodel\u001b[0m\u001b[0;34m(\u001b[0m\u001b[0minputs\u001b[0m\u001b[0;34m=\u001b[0m\u001b[0;34m[\u001b[0m\u001b[0minputs\u001b[0m\u001b[0;34m]\u001b[0m\u001b[0;34m,\u001b[0m \u001b[0moutputs\u001b[0m\u001b[0;34m=\u001b[0m\u001b[0;34m[\u001b[0m\u001b[0moutput\u001b[0m\u001b[0;34m]\u001b[0m\u001b[0;34m)\u001b[0m\u001b[0;34m\u001b[0m\u001b[0;34m\u001b[0m\u001b[0m\n\u001b[0m",
            "\u001b[0;32m/usr/local/lib/python3.7/dist-packages/keras/utils/traceback_utils.py\u001b[0m in \u001b[0;36merror_handler\u001b[0;34m(*args, **kwargs)\u001b[0m\n\u001b[1;32m     65\u001b[0m     \u001b[0;32mexcept\u001b[0m \u001b[0mException\u001b[0m \u001b[0;32mas\u001b[0m \u001b[0me\u001b[0m\u001b[0;34m:\u001b[0m  \u001b[0;31m# pylint: disable=broad-except\u001b[0m\u001b[0;34m\u001b[0m\u001b[0;34m\u001b[0m\u001b[0m\n\u001b[1;32m     66\u001b[0m       \u001b[0mfiltered_tb\u001b[0m \u001b[0;34m=\u001b[0m \u001b[0m_process_traceback_frames\u001b[0m\u001b[0;34m(\u001b[0m\u001b[0me\u001b[0m\u001b[0;34m.\u001b[0m\u001b[0m__traceback__\u001b[0m\u001b[0;34m)\u001b[0m\u001b[0;34m\u001b[0m\u001b[0;34m\u001b[0m\u001b[0m\n\u001b[0;32m---> 67\u001b[0;31m       \u001b[0;32mraise\u001b[0m \u001b[0me\u001b[0m\u001b[0;34m.\u001b[0m\u001b[0mwith_traceback\u001b[0m\u001b[0;34m(\u001b[0m\u001b[0mfiltered_tb\u001b[0m\u001b[0;34m)\u001b[0m \u001b[0;32mfrom\u001b[0m \u001b[0;32mNone\u001b[0m\u001b[0;34m\u001b[0m\u001b[0;34m\u001b[0m\u001b[0m\n\u001b[0m\u001b[1;32m     68\u001b[0m     \u001b[0;32mfinally\u001b[0m\u001b[0;34m:\u001b[0m\u001b[0;34m\u001b[0m\u001b[0;34m\u001b[0m\u001b[0m\n\u001b[1;32m     69\u001b[0m       \u001b[0;32mdel\u001b[0m \u001b[0mfiltered_tb\u001b[0m\u001b[0;34m\u001b[0m\u001b[0;34m\u001b[0m\u001b[0m\n",
            "\u001b[0;32m/usr/local/lib/python3.7/dist-packages/keras/utils/traceback_utils.py\u001b[0m in \u001b[0;36merror_handler\u001b[0;34m(*args, **kwargs)\u001b[0m\n\u001b[1;32m     90\u001b[0m     \u001b[0mbound_signature\u001b[0m \u001b[0;34m=\u001b[0m \u001b[0;32mNone\u001b[0m\u001b[0;34m\u001b[0m\u001b[0;34m\u001b[0m\u001b[0m\n\u001b[1;32m     91\u001b[0m     \u001b[0;32mtry\u001b[0m\u001b[0;34m:\u001b[0m\u001b[0;34m\u001b[0m\u001b[0;34m\u001b[0m\u001b[0m\n\u001b[0;32m---> 92\u001b[0;31m       \u001b[0;32mreturn\u001b[0m \u001b[0mfn\u001b[0m\u001b[0;34m(\u001b[0m\u001b[0;34m*\u001b[0m\u001b[0margs\u001b[0m\u001b[0;34m,\u001b[0m \u001b[0;34m**\u001b[0m\u001b[0mkwargs\u001b[0m\u001b[0;34m)\u001b[0m\u001b[0;34m\u001b[0m\u001b[0;34m\u001b[0m\u001b[0m\n\u001b[0m\u001b[1;32m     93\u001b[0m     \u001b[0;32mexcept\u001b[0m \u001b[0mException\u001b[0m \u001b[0;32mas\u001b[0m \u001b[0me\u001b[0m\u001b[0;34m:\u001b[0m  \u001b[0;31m# pylint: disable=broad-except\u001b[0m\u001b[0;34m\u001b[0m\u001b[0;34m\u001b[0m\u001b[0m\n\u001b[1;32m     94\u001b[0m       \u001b[0;32mif\u001b[0m \u001b[0mhasattr\u001b[0m\u001b[0;34m(\u001b[0m\u001b[0me\u001b[0m\u001b[0;34m,\u001b[0m \u001b[0;34m'_keras_call_info_injected'\u001b[0m\u001b[0;34m)\u001b[0m\u001b[0;34m:\u001b[0m\u001b[0;34m\u001b[0m\u001b[0;34m\u001b[0m\u001b[0m\n",
            "\u001b[0;31mTypeError\u001b[0m: call() got an unexpected keyword argument 'outputs'"
          ]
        }
      ]
    },
    {
      "cell_type": "code",
      "source": [
        "input_layer = tf.keras.layers.Input(shape=(None, 200, 4), name=\"conv1d_1\")\n",
        "model.layers[0] = input_layer"
      ],
      "metadata": {
        "id": "krf60uR79Fon"
      },
      "execution_count": null,
      "outputs": []
    },
    {
      "cell_type": "code",
      "source": [
        "model.layers[0].batch_input_shape"
      ],
      "metadata": {
        "colab": {
          "base_uri": "https://localhost:8080/"
        },
        "id": "7EHQcYpu9k2l",
        "outputId": "a9731e42-9a85-4055-e10f-bc1fa0233f5c"
      },
      "execution_count": null,
      "outputs": [
        {
          "output_type": "execute_result",
          "data": {
            "text/plain": [
              "(None, 200, 4)"
            ]
          },
          "metadata": {},
          "execution_count": 103
        }
      ]
    },
    {
      "cell_type": "code",
      "source": [
        "model.get_config()"
      ],
      "metadata": {
        "colab": {
          "base_uri": "https://localhost:8080/"
        },
        "id": "6sWmKNyV9dgJ",
        "outputId": "a768a740-17e4-4633-8cca-8b037eeaf51c"
      },
      "execution_count": null,
      "outputs": [
        {
          "output_type": "execute_result",
          "data": {
            "text/plain": [
              "{'layers': [{'class_name': 'InputLayer',\n",
              "   'config': {'batch_input_shape': (None, 1000, 4),\n",
              "    'dtype': 'float32',\n",
              "    'name': 'conv1d_1_input',\n",
              "    'ragged': False,\n",
              "    'sparse': False}},\n",
              "  {'class_name': 'Conv1D',\n",
              "   'config': {'activation': 'relu',\n",
              "    'activity_regularizer': None,\n",
              "    'batch_input_shape': (None, 1000, 4),\n",
              "    'bias_constraint': None,\n",
              "    'bias_initializer': {'class_name': 'Zeros', 'config': {}},\n",
              "    'bias_regularizer': None,\n",
              "    'data_format': 'channels_last',\n",
              "    'dilation_rate': (1,),\n",
              "    'dtype': 'float32',\n",
              "    'filters': 480,\n",
              "    'groups': 1,\n",
              "    'kernel_constraint': {'class_name': 'MaxNorm',\n",
              "     'config': {'axis': 0, 'max_value': 1}},\n",
              "    'kernel_initializer': {'class_name': 'VarianceScaling',\n",
              "     'config': {'distribution': 'uniform',\n",
              "      'mode': 'fan_avg',\n",
              "      'scale': 1.0,\n",
              "      'seed': None}},\n",
              "    'kernel_regularizer': {'class_name': 'L1L2',\n",
              "     'config': {'l1': 9.99999993922529e-09, 'l2': 4.999999987376214e-07}},\n",
              "    'kernel_size': (9,),\n",
              "    'name': 'conv1d_1',\n",
              "    'padding': 'valid',\n",
              "    'strides': (1,),\n",
              "    'trainable': True,\n",
              "    'use_bias': True}},\n",
              "  {'class_name': 'BatchNormalization',\n",
              "   'config': {'axis': ListWrapper([2]),\n",
              "    'beta_constraint': None,\n",
              "    'beta_initializer': {'class_name': 'Zeros', 'config': {}},\n",
              "    'beta_regularizer': None,\n",
              "    'center': True,\n",
              "    'dtype': 'float32',\n",
              "    'epsilon': 0.001,\n",
              "    'gamma_constraint': None,\n",
              "    'gamma_initializer': {'class_name': 'Ones', 'config': {}},\n",
              "    'gamma_regularizer': None,\n",
              "    'momentum': 0.99,\n",
              "    'moving_mean_initializer': {'class_name': 'Zeros', 'config': {}},\n",
              "    'moving_variance_initializer': {'class_name': 'Ones', 'config': {}},\n",
              "    'name': 'batch_normalization_1',\n",
              "    'scale': True,\n",
              "    'trainable': True}},\n",
              "  {'class_name': 'LeakyReLU',\n",
              "   'config': {'alpha': 0.0,\n",
              "    'dtype': 'float32',\n",
              "    'name': 'leaky_re_lu_1',\n",
              "    'trainable': True}},\n",
              "  {'class_name': 'MaxPooling1D',\n",
              "   'config': {'data_format': 'channels_last',\n",
              "    'dtype': 'float32',\n",
              "    'name': 'max_pooling1d_1',\n",
              "    'padding': 'valid',\n",
              "    'pool_size': (9,),\n",
              "    'strides': (3,),\n",
              "    'trainable': True}},\n",
              "  {'class_name': 'Dropout',\n",
              "   'config': {'dtype': 'float32',\n",
              "    'name': 'dropout_1',\n",
              "    'noise_shape': None,\n",
              "    'rate': 0.2,\n",
              "    'seed': None,\n",
              "    'trainable': True}},\n",
              "  {'class_name': 'Conv1D',\n",
              "   'config': {'activation': 'relu',\n",
              "    'activity_regularizer': None,\n",
              "    'bias_constraint': None,\n",
              "    'bias_initializer': {'class_name': 'Zeros', 'config': {}},\n",
              "    'bias_regularizer': None,\n",
              "    'data_format': 'channels_last',\n",
              "    'dilation_rate': (1,),\n",
              "    'dtype': 'float32',\n",
              "    'filters': 480,\n",
              "    'groups': 1,\n",
              "    'kernel_constraint': {'class_name': 'MaxNorm',\n",
              "     'config': {'axis': 0, 'max_value': 0.9}},\n",
              "    'kernel_initializer': {'class_name': 'VarianceScaling',\n",
              "     'config': {'distribution': 'uniform',\n",
              "      'mode': 'fan_avg',\n",
              "      'scale': 1.0,\n",
              "      'seed': None}},\n",
              "    'kernel_regularizer': {'class_name': 'L1L2',\n",
              "     'config': {'l1': 9.99999993922529e-09, 'l2': 4.999999987376214e-07}},\n",
              "    'kernel_size': (4,),\n",
              "    'name': 'conv1d_2',\n",
              "    'padding': 'valid',\n",
              "    'strides': (1,),\n",
              "    'trainable': True,\n",
              "    'use_bias': True}},\n",
              "  {'class_name': 'BatchNormalization',\n",
              "   'config': {'axis': ListWrapper([2]),\n",
              "    'beta_constraint': None,\n",
              "    'beta_initializer': {'class_name': 'Zeros', 'config': {}},\n",
              "    'beta_regularizer': None,\n",
              "    'center': True,\n",
              "    'dtype': 'float32',\n",
              "    'epsilon': 0.001,\n",
              "    'gamma_constraint': None,\n",
              "    'gamma_initializer': {'class_name': 'Ones', 'config': {}},\n",
              "    'gamma_regularizer': None,\n",
              "    'momentum': 0.99,\n",
              "    'moving_mean_initializer': {'class_name': 'Zeros', 'config': {}},\n",
              "    'moving_variance_initializer': {'class_name': 'Ones', 'config': {}},\n",
              "    'name': 'batch_normalization_2',\n",
              "    'scale': True,\n",
              "    'trainable': True}},\n",
              "  {'class_name': 'LeakyReLU',\n",
              "   'config': {'alpha': 0.0,\n",
              "    'dtype': 'float32',\n",
              "    'name': 'leaky_re_lu_2',\n",
              "    'trainable': True}},\n",
              "  {'class_name': 'MaxPooling1D',\n",
              "   'config': {'data_format': 'channels_last',\n",
              "    'dtype': 'float32',\n",
              "    'name': 'max_pooling1d_2',\n",
              "    'padding': 'valid',\n",
              "    'pool_size': (4,),\n",
              "    'strides': (2,),\n",
              "    'trainable': True}},\n",
              "  {'class_name': 'Dropout',\n",
              "   'config': {'dtype': 'float32',\n",
              "    'name': 'dropout_2',\n",
              "    'noise_shape': None,\n",
              "    'rate': 0.2,\n",
              "    'seed': None,\n",
              "    'trainable': True}},\n",
              "  {'class_name': 'Conv1D',\n",
              "   'config': {'activation': 'relu',\n",
              "    'activity_regularizer': None,\n",
              "    'bias_constraint': None,\n",
              "    'bias_initializer': {'class_name': 'Zeros', 'config': {}},\n",
              "    'bias_regularizer': None,\n",
              "    'data_format': 'channels_last',\n",
              "    'dilation_rate': (1,),\n",
              "    'dtype': 'float32',\n",
              "    'filters': 240,\n",
              "    'groups': 1,\n",
              "    'kernel_constraint': {'class_name': 'MaxNorm',\n",
              "     'config': {'axis': 0, 'max_value': 1}},\n",
              "    'kernel_initializer': {'class_name': 'VarianceScaling',\n",
              "     'config': {'distribution': 'uniform',\n",
              "      'mode': 'fan_avg',\n",
              "      'scale': 1.0,\n",
              "      'seed': None}},\n",
              "    'kernel_regularizer': {'class_name': 'L1L2',\n",
              "     'config': {'l1': 9.99999993922529e-09, 'l2': 4.999999987376214e-07}},\n",
              "    'kernel_size': (4,),\n",
              "    'name': 'conv1d_3',\n",
              "    'padding': 'valid',\n",
              "    'strides': (1,),\n",
              "    'trainable': True,\n",
              "    'use_bias': True}},\n",
              "  {'class_name': 'MaxPooling1D',\n",
              "   'config': {'data_format': 'channels_last',\n",
              "    'dtype': 'float32',\n",
              "    'name': 'max_pooling1d_3',\n",
              "    'padding': 'valid',\n",
              "    'pool_size': (4,),\n",
              "    'strides': (3,),\n",
              "    'trainable': True}},\n",
              "  {'class_name': 'Dropout',\n",
              "   'config': {'dtype': 'float32',\n",
              "    'name': 'dropout_3',\n",
              "    'noise_shape': None,\n",
              "    'rate': 0.2,\n",
              "    'seed': None,\n",
              "    'trainable': True}},\n",
              "  {'class_name': 'Conv1D',\n",
              "   'config': {'activation': 'relu',\n",
              "    'activity_regularizer': None,\n",
              "    'bias_constraint': None,\n",
              "    'bias_initializer': {'class_name': 'Zeros', 'config': {}},\n",
              "    'bias_regularizer': None,\n",
              "    'data_format': 'channels_last',\n",
              "    'dilation_rate': (1,),\n",
              "    'dtype': 'float32',\n",
              "    'filters': 320,\n",
              "    'groups': 1,\n",
              "    'kernel_constraint': {'class_name': 'MaxNorm',\n",
              "     'config': {'axis': 0, 'max_value': 1}},\n",
              "    'kernel_initializer': {'class_name': 'VarianceScaling',\n",
              "     'config': {'distribution': 'uniform',\n",
              "      'mode': 'fan_avg',\n",
              "      'scale': 1.0,\n",
              "      'seed': None}},\n",
              "    'kernel_regularizer': {'class_name': 'L1L2',\n",
              "     'config': {'l1': 9.99999993922529e-09, 'l2': 4.999999987376214e-07}},\n",
              "    'kernel_size': (4,),\n",
              "    'name': 'conv1d_4',\n",
              "    'padding': 'valid',\n",
              "    'strides': (1,),\n",
              "    'trainable': True,\n",
              "    'use_bias': True}},\n",
              "  {'class_name': 'BatchNormalization',\n",
              "   'config': {'axis': ListWrapper([2]),\n",
              "    'beta_constraint': None,\n",
              "    'beta_initializer': {'class_name': 'Zeros', 'config': {}},\n",
              "    'beta_regularizer': None,\n",
              "    'center': True,\n",
              "    'dtype': 'float32',\n",
              "    'epsilon': 0.001,\n",
              "    'gamma_constraint': None,\n",
              "    'gamma_initializer': {'class_name': 'Ones', 'config': {}},\n",
              "    'gamma_regularizer': None,\n",
              "    'momentum': 0.99,\n",
              "    'moving_mean_initializer': {'class_name': 'Zeros', 'config': {}},\n",
              "    'moving_variance_initializer': {'class_name': 'Ones', 'config': {}},\n",
              "    'name': 'batch_normalization_3',\n",
              "    'scale': True,\n",
              "    'trainable': True}},\n",
              "  {'class_name': 'LeakyReLU',\n",
              "   'config': {'alpha': 0.0,\n",
              "    'dtype': 'float32',\n",
              "    'name': 'leaky_re_lu_3',\n",
              "    'trainable': True}},\n",
              "  {'class_name': 'MaxPooling1D',\n",
              "   'config': {'data_format': 'channels_last',\n",
              "    'dtype': 'float32',\n",
              "    'name': 'max_pooling1d_4',\n",
              "    'padding': 'valid',\n",
              "    'pool_size': (4,),\n",
              "    'strides': (3,),\n",
              "    'trainable': True}},\n",
              "  {'class_name': 'Conv1D',\n",
              "   'config': {'activation': 'relu',\n",
              "    'activity_regularizer': None,\n",
              "    'bias_constraint': None,\n",
              "    'bias_initializer': {'class_name': 'Zeros', 'config': {}},\n",
              "    'bias_regularizer': None,\n",
              "    'data_format': 'channels_last',\n",
              "    'dilation_rate': (1,),\n",
              "    'dtype': 'float32',\n",
              "    'filters': 320,\n",
              "    'groups': 1,\n",
              "    'kernel_constraint': {'class_name': 'MaxNorm',\n",
              "     'config': {'axis': 0, 'max_value': 1}},\n",
              "    'kernel_initializer': {'class_name': 'VarianceScaling',\n",
              "     'config': {'distribution': 'uniform',\n",
              "      'mode': 'fan_avg',\n",
              "      'scale': 1.0,\n",
              "      'seed': None}},\n",
              "    'kernel_regularizer': {'class_name': 'L1L2',\n",
              "     'config': {'l1': 9.99999993922529e-09, 'l2': 4.999999987376214e-07}},\n",
              "    'kernel_size': (4,),\n",
              "    'name': 'conv1d_5',\n",
              "    'padding': 'valid',\n",
              "    'strides': (1,),\n",
              "    'trainable': True,\n",
              "    'use_bias': True}},\n",
              "  {'class_name': 'BatchNormalization',\n",
              "   'config': {'axis': ListWrapper([2]),\n",
              "    'beta_constraint': None,\n",
              "    'beta_initializer': {'class_name': 'Zeros', 'config': {}},\n",
              "    'beta_regularizer': None,\n",
              "    'center': True,\n",
              "    'dtype': 'float32',\n",
              "    'epsilon': 0.001,\n",
              "    'gamma_constraint': None,\n",
              "    'gamma_initializer': {'class_name': 'Ones', 'config': {}},\n",
              "    'gamma_regularizer': None,\n",
              "    'momentum': 0.99,\n",
              "    'moving_mean_initializer': {'class_name': 'Zeros', 'config': {}},\n",
              "    'moving_variance_initializer': {'class_name': 'Ones', 'config': {}},\n",
              "    'name': 'batch_normalization_4',\n",
              "    'scale': True,\n",
              "    'trainable': True}},\n",
              "  {'class_name': 'LeakyReLU',\n",
              "   'config': {'alpha': 0.0,\n",
              "    'dtype': 'float32',\n",
              "    'name': 'leaky_re_lu_4',\n",
              "    'trainable': True}},\n",
              "  {'class_name': 'MaxPooling1D',\n",
              "   'config': {'data_format': 'channels_last',\n",
              "    'dtype': 'float32',\n",
              "    'name': 'max_pooling1d_5',\n",
              "    'padding': 'valid',\n",
              "    'pool_size': (4,),\n",
              "    'strides': (3,),\n",
              "    'trainable': True}},\n",
              "  {'class_name': 'Flatten',\n",
              "   'config': {'data_format': 'channels_last',\n",
              "    'dtype': 'float32',\n",
              "    'name': 'flatten_1',\n",
              "    'trainable': True}},\n",
              "  {'class_name': 'Dense',\n",
              "   'config': {'activation': 'sigmoid',\n",
              "    'activity_regularizer': None,\n",
              "    'bias_constraint': None,\n",
              "    'bias_initializer': {'class_name': 'Zeros', 'config': {}},\n",
              "    'bias_regularizer': None,\n",
              "    'dtype': 'float32',\n",
              "    'kernel_constraint': {'class_name': 'MaxNorm',\n",
              "     'config': {'axis': 0, 'max_value': 1}},\n",
              "    'kernel_initializer': {'class_name': 'VarianceScaling',\n",
              "     'config': {'distribution': 'uniform',\n",
              "      'mode': 'fan_avg',\n",
              "      'scale': 1.0,\n",
              "      'seed': None}},\n",
              "    'kernel_regularizer': {'class_name': 'L1L2',\n",
              "     'config': {'l1': 9.99999993922529e-09, 'l2': 4.999999987376214e-07}},\n",
              "    'name': 'dense_1',\n",
              "    'trainable': True,\n",
              "    'units': 180,\n",
              "    'use_bias': True}},\n",
              "  {'class_name': 'Dense',\n",
              "   'config': {'activation': 'softmax',\n",
              "    'activity_regularizer': None,\n",
              "    'bias_constraint': None,\n",
              "    'bias_initializer': {'class_name': 'Zeros', 'config': {}},\n",
              "    'bias_regularizer': None,\n",
              "    'dtype': 'float32',\n",
              "    'kernel_constraint': {'class_name': 'MaxNorm',\n",
              "     'config': {'axis': 0, 'max_value': 1}},\n",
              "    'kernel_initializer': {'class_name': 'VarianceScaling',\n",
              "     'config': {'distribution': 'uniform',\n",
              "      'mode': 'fan_avg',\n",
              "      'scale': 1.0,\n",
              "      'seed': None}},\n",
              "    'kernel_regularizer': {'class_name': 'L1L2',\n",
              "     'config': {'l1': 9.99999993922529e-09, 'l2': 4.999999987376214e-07}},\n",
              "    'name': 'dense_2',\n",
              "    'trainable': True,\n",
              "    'units': 2,\n",
              "    'use_bias': True}}],\n",
              " 'name': 'sequential'}"
            ]
          },
          "metadata": {},
          "execution_count": 106
        }
      ]
    },
    {
      "cell_type": "markdown",
      "source": [
        "ugh "
      ],
      "metadata": {
        "id": "MJSyumYz_m8J"
      }
    },
    {
      "cell_type": "code",
      "source": [
        "from keras.models import model_from_json\n",
        "new_model = model_from_json(model.to_json())\n",
        "new_model.summary()"
      ],
      "metadata": {
        "colab": {
          "base_uri": "https://localhost:8080/"
        },
        "id": "XqNB0OlQ_n_t",
        "outputId": "1053a145-9a41-4ef0-aad4-213977287242"
      },
      "execution_count": null,
      "outputs": [
        {
          "output_type": "stream",
          "name": "stdout",
          "text": [
            "Model: \"sequential\"\n",
            "_________________________________________________________________\n",
            " Layer (type)                Output Shape              Param #   \n",
            "=================================================================\n",
            " conv1d_1 (Conv1D)           (None, 992, 480)          17760     \n",
            "                                                                 \n",
            " batch_normalization_1 (Batc  (None, 992, 480)         1920      \n",
            " hNormalization)                                                 \n",
            "                                                                 \n",
            " leaky_re_lu_1 (LeakyReLU)   (None, 992, 480)          0         \n",
            "                                                                 \n",
            " max_pooling1d_1 (MaxPooling  (None, 328, 480)         0         \n",
            " 1D)                                                             \n",
            "                                                                 \n",
            " dropout_1 (Dropout)         (None, 328, 480)          0         \n",
            "                                                                 \n",
            " conv1d_2 (Conv1D)           (None, 325, 480)          922080    \n",
            "                                                                 \n",
            " batch_normalization_2 (Batc  (None, 325, 480)         1920      \n",
            " hNormalization)                                                 \n",
            "                                                                 \n",
            " leaky_re_lu_2 (LeakyReLU)   (None, 325, 480)          0         \n",
            "                                                                 \n",
            " max_pooling1d_2 (MaxPooling  (None, 161, 480)         0         \n",
            " 1D)                                                             \n",
            "                                                                 \n",
            " dropout_2 (Dropout)         (None, 161, 480)          0         \n",
            "                                                                 \n",
            " conv1d_3 (Conv1D)           (None, 158, 240)          461040    \n",
            "                                                                 \n",
            " max_pooling1d_3 (MaxPooling  (None, 52, 240)          0         \n",
            " 1D)                                                             \n",
            "                                                                 \n",
            " dropout_3 (Dropout)         (None, 52, 240)           0         \n",
            "                                                                 \n",
            " conv1d_4 (Conv1D)           (None, 49, 320)           307520    \n",
            "                                                                 \n",
            " batch_normalization_3 (Batc  (None, 49, 320)          1280      \n",
            " hNormalization)                                                 \n",
            "                                                                 \n",
            " leaky_re_lu_3 (LeakyReLU)   (None, 49, 320)           0         \n",
            "                                                                 \n",
            " max_pooling1d_4 (MaxPooling  (None, 16, 320)          0         \n",
            " 1D)                                                             \n",
            "                                                                 \n",
            " conv1d_5 (Conv1D)           (None, 13, 320)           409920    \n",
            "                                                                 \n",
            " batch_normalization_4 (Batc  (None, 13, 320)          1280      \n",
            " hNormalization)                                                 \n",
            "                                                                 \n",
            " leaky_re_lu_4 (LeakyReLU)   (None, 13, 320)           0         \n",
            "                                                                 \n",
            " max_pooling1d_5 (MaxPooling  (None, 4, 320)           0         \n",
            " 1D)                                                             \n",
            "                                                                 \n",
            " flatten_1 (Flatten)         (None, 1280)              0         \n",
            "                                                                 \n",
            " dense_1 (Dense)             (None, 180)               230580    \n",
            "                                                                 \n",
            " dense_2 (Dense)             (None, 2)                 362       \n",
            "                                                                 \n",
            "=================================================================\n",
            "Total params: 2,355,662\n",
            "Trainable params: 2,352,462\n",
            "Non-trainable params: 3,200\n",
            "_________________________________________________________________\n"
          ]
        }
      ]
    },
    {
      "cell_type": "code",
      "source": [
        "print(new_model.layers[-1].units)"
      ],
      "metadata": {
        "colab": {
          "base_uri": "https://localhost:8080/"
        },
        "id": "lyxdSDvOGW57",
        "outputId": "11971d4a-187e-4088-d3fe-ed9994e0ef58"
      },
      "execution_count": null,
      "outputs": [
        {
          "output_type": "stream",
          "name": "stdout",
          "text": [
            "2\n"
          ]
        }
      ]
    },
    {
      "cell_type": "code",
      "source": [
        "new_model.layers[0]._batch_input_shape=(None,200,4)"
      ],
      "metadata": {
        "id": "wVu5sQujJOfi"
      },
      "execution_count": null,
      "outputs": []
    },
    {
      "cell_type": "code",
      "source": [
        "new_model.layers[0]._batch_input_shape"
      ],
      "metadata": {
        "colab": {
          "base_uri": "https://localhost:8080/"
        },
        "id": "eInW_Mh8JXC1",
        "outputId": "e3dc089b-707b-4978-9dd3-524e8d325d15"
      },
      "execution_count": null,
      "outputs": [
        {
          "output_type": "execute_result",
          "data": {
            "text/plain": [
              "(None, 200, 4)"
            ]
          },
          "metadata": {},
          "execution_count": 147
        }
      ]
    },
    {
      "cell_type": "code",
      "source": [
        "new_model.save(\"./examples/model.hdf5\") "
      ],
      "metadata": {
        "colab": {
          "base_uri": "https://localhost:8080/"
        },
        "id": "qSzsH1pyJY6a",
        "outputId": "7b2c2a53-0691-4e15-8fe7-bb5a5f8b8e61"
      },
      "execution_count": null,
      "outputs": [
        {
          "output_type": "stream",
          "name": "stdout",
          "text": [
            "WARNING:tensorflow:Compiled the loaded model, but the compiled metrics have yet to be built. `model.compile_metrics` will be empty until you train or evaluate the model.\n"
          ]
        }
      ]
    },
    {
      "cell_type": "code",
      "source": [
        "new_new_model = load_model('/content/SilencerEnhancerPredict/examples/model.hdf5')"
      ],
      "metadata": {
        "colab": {
          "base_uri": "https://localhost:8080/"
        },
        "id": "ocp7RsIXLAPz",
        "outputId": "8e5e894a-968a-4d79-e158-ce45b5391fa6"
      },
      "execution_count": null,
      "outputs": [
        {
          "output_type": "stream",
          "name": "stdout",
          "text": [
            "WARNING:tensorflow:No training configuration found in the save file, so the model was *not* compiled. Compile it manually.\n"
          ]
        }
      ]
    },
    {
      "cell_type": "code",
      "source": [
        "model_config = new_new_model.get_config()"
      ],
      "metadata": {
        "id": "4Jmd7upiLFX2"
      },
      "execution_count": null,
      "outputs": []
    },
    {
      "cell_type": "code",
      "source": [
        "model_config['layers'][0]"
      ],
      "metadata": {
        "colab": {
          "base_uri": "https://localhost:8080/"
        },
        "id": "GWFtG4V4L5pf",
        "outputId": "40789685-e82c-4e40-baf8-f97714fc5a4e"
      },
      "execution_count": null,
      "outputs": [
        {
          "output_type": "execute_result",
          "data": {
            "text/plain": [
              "{'class_name': 'InputLayer',\n",
              " 'config': {'batch_input_shape': (None, 200, 4),\n",
              "  'dtype': 'float32',\n",
              "  'name': 'conv1d_1_input',\n",
              "  'ragged': False,\n",
              "  'sparse': False}}"
            ]
          },
          "metadata": {},
          "execution_count": 168
        }
      ]
    },
    {
      "cell_type": "code",
      "source": [
        "model_config['layers'][0]['config']['batch_input_shape'] = (None,200,4)"
      ],
      "metadata": {
        "id": "d3v7kFToMDUs"
      },
      "execution_count": null,
      "outputs": []
    },
    {
      "cell_type": "code",
      "source": [
        "model_config"
      ],
      "metadata": {
        "colab": {
          "base_uri": "https://localhost:8080/"
        },
        "id": "88o6woIfMfe5",
        "outputId": "02be744d-75db-4420-9584-77ebaeecc76c"
      },
      "execution_count": null,
      "outputs": [
        {
          "output_type": "execute_result",
          "data": {
            "text/plain": [
              "{'layers': [{'class_name': 'InputLayer',\n",
              "   'config': {'batch_input_shape': (None, 200, 4),\n",
              "    'dtype': 'float32',\n",
              "    'name': 'conv1d_1_input',\n",
              "    'ragged': False,\n",
              "    'sparse': False}},\n",
              "  {'class_name': 'Conv1D',\n",
              "   'config': {'activation': 'relu',\n",
              "    'activity_regularizer': None,\n",
              "    'batch_input_shape': (None, 200, 4),\n",
              "    'bias_constraint': None,\n",
              "    'bias_initializer': {'class_name': 'Zeros', 'config': {}},\n",
              "    'bias_regularizer': None,\n",
              "    'data_format': 'channels_last',\n",
              "    'dilation_rate': (1,),\n",
              "    'dtype': 'float32',\n",
              "    'filters': 480,\n",
              "    'groups': 1,\n",
              "    'kernel_constraint': {'class_name': 'MaxNorm',\n",
              "     'config': {'axis': 0, 'max_value': 1}},\n",
              "    'kernel_initializer': {'class_name': 'VarianceScaling',\n",
              "     'config': {'distribution': 'uniform',\n",
              "      'mode': 'fan_avg',\n",
              "      'scale': 1.0,\n",
              "      'seed': None}},\n",
              "    'kernel_regularizer': {'class_name': 'L1L2',\n",
              "     'config': {'l1': 9.99999993922529e-09, 'l2': 4.999999987376214e-07}},\n",
              "    'kernel_size': (9,),\n",
              "    'name': 'conv1d_1',\n",
              "    'padding': 'valid',\n",
              "    'strides': (1,),\n",
              "    'trainable': True,\n",
              "    'use_bias': True}},\n",
              "  {'class_name': 'BatchNormalization',\n",
              "   'config': {'axis': ListWrapper([2]),\n",
              "    'beta_constraint': None,\n",
              "    'beta_initializer': {'class_name': 'Zeros', 'config': {}},\n",
              "    'beta_regularizer': None,\n",
              "    'center': True,\n",
              "    'dtype': 'float32',\n",
              "    'epsilon': 0.001,\n",
              "    'gamma_constraint': None,\n",
              "    'gamma_initializer': {'class_name': 'Ones', 'config': {}},\n",
              "    'gamma_regularizer': None,\n",
              "    'momentum': 0.99,\n",
              "    'moving_mean_initializer': {'class_name': 'Zeros', 'config': {}},\n",
              "    'moving_variance_initializer': {'class_name': 'Ones', 'config': {}},\n",
              "    'name': 'batch_normalization_1',\n",
              "    'scale': True,\n",
              "    'trainable': True}},\n",
              "  {'class_name': 'LeakyReLU',\n",
              "   'config': {'alpha': 0.0,\n",
              "    'dtype': 'float32',\n",
              "    'name': 'leaky_re_lu_1',\n",
              "    'trainable': True}},\n",
              "  {'class_name': 'MaxPooling1D',\n",
              "   'config': {'data_format': 'channels_last',\n",
              "    'dtype': 'float32',\n",
              "    'name': 'max_pooling1d_1',\n",
              "    'padding': 'valid',\n",
              "    'pool_size': (9,),\n",
              "    'strides': (3,),\n",
              "    'trainable': True}},\n",
              "  {'class_name': 'Dropout',\n",
              "   'config': {'dtype': 'float32',\n",
              "    'name': 'dropout_1',\n",
              "    'noise_shape': None,\n",
              "    'rate': 0.2,\n",
              "    'seed': None,\n",
              "    'trainable': True}},\n",
              "  {'class_name': 'Conv1D',\n",
              "   'config': {'activation': 'relu',\n",
              "    'activity_regularizer': None,\n",
              "    'bias_constraint': None,\n",
              "    'bias_initializer': {'class_name': 'Zeros', 'config': {}},\n",
              "    'bias_regularizer': None,\n",
              "    'data_format': 'channels_last',\n",
              "    'dilation_rate': (1,),\n",
              "    'dtype': 'float32',\n",
              "    'filters': 480,\n",
              "    'groups': 1,\n",
              "    'kernel_constraint': {'class_name': 'MaxNorm',\n",
              "     'config': {'axis': 0, 'max_value': 0.9}},\n",
              "    'kernel_initializer': {'class_name': 'VarianceScaling',\n",
              "     'config': {'distribution': 'uniform',\n",
              "      'mode': 'fan_avg',\n",
              "      'scale': 1.0,\n",
              "      'seed': None}},\n",
              "    'kernel_regularizer': {'class_name': 'L1L2',\n",
              "     'config': {'l1': 9.99999993922529e-09, 'l2': 4.999999987376214e-07}},\n",
              "    'kernel_size': (4,),\n",
              "    'name': 'conv1d_2',\n",
              "    'padding': 'valid',\n",
              "    'strides': (1,),\n",
              "    'trainable': True,\n",
              "    'use_bias': True}},\n",
              "  {'class_name': 'BatchNormalization',\n",
              "   'config': {'axis': ListWrapper([2]),\n",
              "    'beta_constraint': None,\n",
              "    'beta_initializer': {'class_name': 'Zeros', 'config': {}},\n",
              "    'beta_regularizer': None,\n",
              "    'center': True,\n",
              "    'dtype': 'float32',\n",
              "    'epsilon': 0.001,\n",
              "    'gamma_constraint': None,\n",
              "    'gamma_initializer': {'class_name': 'Ones', 'config': {}},\n",
              "    'gamma_regularizer': None,\n",
              "    'momentum': 0.99,\n",
              "    'moving_mean_initializer': {'class_name': 'Zeros', 'config': {}},\n",
              "    'moving_variance_initializer': {'class_name': 'Ones', 'config': {}},\n",
              "    'name': 'batch_normalization_2',\n",
              "    'scale': True,\n",
              "    'trainable': True}},\n",
              "  {'class_name': 'LeakyReLU',\n",
              "   'config': {'alpha': 0.0,\n",
              "    'dtype': 'float32',\n",
              "    'name': 'leaky_re_lu_2',\n",
              "    'trainable': True}},\n",
              "  {'class_name': 'MaxPooling1D',\n",
              "   'config': {'data_format': 'channels_last',\n",
              "    'dtype': 'float32',\n",
              "    'name': 'max_pooling1d_2',\n",
              "    'padding': 'valid',\n",
              "    'pool_size': (4,),\n",
              "    'strides': (2,),\n",
              "    'trainable': True}},\n",
              "  {'class_name': 'Dropout',\n",
              "   'config': {'dtype': 'float32',\n",
              "    'name': 'dropout_2',\n",
              "    'noise_shape': None,\n",
              "    'rate': 0.2,\n",
              "    'seed': None,\n",
              "    'trainable': True}},\n",
              "  {'class_name': 'Conv1D',\n",
              "   'config': {'activation': 'relu',\n",
              "    'activity_regularizer': None,\n",
              "    'bias_constraint': None,\n",
              "    'bias_initializer': {'class_name': 'Zeros', 'config': {}},\n",
              "    'bias_regularizer': None,\n",
              "    'data_format': 'channels_last',\n",
              "    'dilation_rate': (1,),\n",
              "    'dtype': 'float32',\n",
              "    'filters': 240,\n",
              "    'groups': 1,\n",
              "    'kernel_constraint': {'class_name': 'MaxNorm',\n",
              "     'config': {'axis': 0, 'max_value': 1}},\n",
              "    'kernel_initializer': {'class_name': 'VarianceScaling',\n",
              "     'config': {'distribution': 'uniform',\n",
              "      'mode': 'fan_avg',\n",
              "      'scale': 1.0,\n",
              "      'seed': None}},\n",
              "    'kernel_regularizer': {'class_name': 'L1L2',\n",
              "     'config': {'l1': 9.99999993922529e-09, 'l2': 4.999999987376214e-07}},\n",
              "    'kernel_size': (4,),\n",
              "    'name': 'conv1d_3',\n",
              "    'padding': 'valid',\n",
              "    'strides': (1,),\n",
              "    'trainable': True,\n",
              "    'use_bias': True}},\n",
              "  {'class_name': 'MaxPooling1D',\n",
              "   'config': {'data_format': 'channels_last',\n",
              "    'dtype': 'float32',\n",
              "    'name': 'max_pooling1d_3',\n",
              "    'padding': 'valid',\n",
              "    'pool_size': (4,),\n",
              "    'strides': (3,),\n",
              "    'trainable': True}},\n",
              "  {'class_name': 'Dropout',\n",
              "   'config': {'dtype': 'float32',\n",
              "    'name': 'dropout_3',\n",
              "    'noise_shape': None,\n",
              "    'rate': 0.2,\n",
              "    'seed': None,\n",
              "    'trainable': True}},\n",
              "  {'class_name': 'Conv1D',\n",
              "   'config': {'activation': 'relu',\n",
              "    'activity_regularizer': None,\n",
              "    'bias_constraint': None,\n",
              "    'bias_initializer': {'class_name': 'Zeros', 'config': {}},\n",
              "    'bias_regularizer': None,\n",
              "    'data_format': 'channels_last',\n",
              "    'dilation_rate': (1,),\n",
              "    'dtype': 'float32',\n",
              "    'filters': 320,\n",
              "    'groups': 1,\n",
              "    'kernel_constraint': {'class_name': 'MaxNorm',\n",
              "     'config': {'axis': 0, 'max_value': 1}},\n",
              "    'kernel_initializer': {'class_name': 'VarianceScaling',\n",
              "     'config': {'distribution': 'uniform',\n",
              "      'mode': 'fan_avg',\n",
              "      'scale': 1.0,\n",
              "      'seed': None}},\n",
              "    'kernel_regularizer': {'class_name': 'L1L2',\n",
              "     'config': {'l1': 9.99999993922529e-09, 'l2': 4.999999987376214e-07}},\n",
              "    'kernel_size': (4,),\n",
              "    'name': 'conv1d_4',\n",
              "    'padding': 'valid',\n",
              "    'strides': (1,),\n",
              "    'trainable': True,\n",
              "    'use_bias': True}},\n",
              "  {'class_name': 'BatchNormalization',\n",
              "   'config': {'axis': ListWrapper([2]),\n",
              "    'beta_constraint': None,\n",
              "    'beta_initializer': {'class_name': 'Zeros', 'config': {}},\n",
              "    'beta_regularizer': None,\n",
              "    'center': True,\n",
              "    'dtype': 'float32',\n",
              "    'epsilon': 0.001,\n",
              "    'gamma_constraint': None,\n",
              "    'gamma_initializer': {'class_name': 'Ones', 'config': {}},\n",
              "    'gamma_regularizer': None,\n",
              "    'momentum': 0.99,\n",
              "    'moving_mean_initializer': {'class_name': 'Zeros', 'config': {}},\n",
              "    'moving_variance_initializer': {'class_name': 'Ones', 'config': {}},\n",
              "    'name': 'batch_normalization_3',\n",
              "    'scale': True,\n",
              "    'trainable': True}},\n",
              "  {'class_name': 'LeakyReLU',\n",
              "   'config': {'alpha': 0.0,\n",
              "    'dtype': 'float32',\n",
              "    'name': 'leaky_re_lu_3',\n",
              "    'trainable': True}},\n",
              "  {'class_name': 'MaxPooling1D',\n",
              "   'config': {'data_format': 'channels_last',\n",
              "    'dtype': 'float32',\n",
              "    'name': 'max_pooling1d_4',\n",
              "    'padding': 'valid',\n",
              "    'pool_size': (4,),\n",
              "    'strides': (3,),\n",
              "    'trainable': True}},\n",
              "  {'class_name': 'Conv1D',\n",
              "   'config': {'activation': 'relu',\n",
              "    'activity_regularizer': None,\n",
              "    'bias_constraint': None,\n",
              "    'bias_initializer': {'class_name': 'Zeros', 'config': {}},\n",
              "    'bias_regularizer': None,\n",
              "    'data_format': 'channels_last',\n",
              "    'dilation_rate': (1,),\n",
              "    'dtype': 'float32',\n",
              "    'filters': 320,\n",
              "    'groups': 1,\n",
              "    'kernel_constraint': {'class_name': 'MaxNorm',\n",
              "     'config': {'axis': 0, 'max_value': 1}},\n",
              "    'kernel_initializer': {'class_name': 'VarianceScaling',\n",
              "     'config': {'distribution': 'uniform',\n",
              "      'mode': 'fan_avg',\n",
              "      'scale': 1.0,\n",
              "      'seed': None}},\n",
              "    'kernel_regularizer': {'class_name': 'L1L2',\n",
              "     'config': {'l1': 9.99999993922529e-09, 'l2': 4.999999987376214e-07}},\n",
              "    'kernel_size': (4,),\n",
              "    'name': 'conv1d_5',\n",
              "    'padding': 'valid',\n",
              "    'strides': (1,),\n",
              "    'trainable': True,\n",
              "    'use_bias': True}},\n",
              "  {'class_name': 'BatchNormalization',\n",
              "   'config': {'axis': ListWrapper([2]),\n",
              "    'beta_constraint': None,\n",
              "    'beta_initializer': {'class_name': 'Zeros', 'config': {}},\n",
              "    'beta_regularizer': None,\n",
              "    'center': True,\n",
              "    'dtype': 'float32',\n",
              "    'epsilon': 0.001,\n",
              "    'gamma_constraint': None,\n",
              "    'gamma_initializer': {'class_name': 'Ones', 'config': {}},\n",
              "    'gamma_regularizer': None,\n",
              "    'momentum': 0.99,\n",
              "    'moving_mean_initializer': {'class_name': 'Zeros', 'config': {}},\n",
              "    'moving_variance_initializer': {'class_name': 'Ones', 'config': {}},\n",
              "    'name': 'batch_normalization_4',\n",
              "    'scale': True,\n",
              "    'trainable': True}},\n",
              "  {'class_name': 'LeakyReLU',\n",
              "   'config': {'alpha': 0.0,\n",
              "    'dtype': 'float32',\n",
              "    'name': 'leaky_re_lu_4',\n",
              "    'trainable': True}},\n",
              "  {'class_name': 'MaxPooling1D',\n",
              "   'config': {'data_format': 'channels_last',\n",
              "    'dtype': 'float32',\n",
              "    'name': 'max_pooling1d_5',\n",
              "    'padding': 'valid',\n",
              "    'pool_size': (4,),\n",
              "    'strides': (3,),\n",
              "    'trainable': True}},\n",
              "  {'class_name': 'Flatten',\n",
              "   'config': {'data_format': 'channels_last',\n",
              "    'dtype': 'float32',\n",
              "    'name': 'flatten_1',\n",
              "    'trainable': True}},\n",
              "  {'class_name': 'Dense',\n",
              "   'config': {'activation': 'sigmoid',\n",
              "    'activity_regularizer': None,\n",
              "    'bias_constraint': None,\n",
              "    'bias_initializer': {'class_name': 'Zeros', 'config': {}},\n",
              "    'bias_regularizer': None,\n",
              "    'dtype': 'float32',\n",
              "    'kernel_constraint': {'class_name': 'MaxNorm',\n",
              "     'config': {'axis': 0, 'max_value': 1}},\n",
              "    'kernel_initializer': {'class_name': 'VarianceScaling',\n",
              "     'config': {'distribution': 'uniform',\n",
              "      'mode': 'fan_avg',\n",
              "      'scale': 1.0,\n",
              "      'seed': None}},\n",
              "    'kernel_regularizer': {'class_name': 'L1L2',\n",
              "     'config': {'l1': 9.99999993922529e-09, 'l2': 4.999999987376214e-07}},\n",
              "    'name': 'dense_1',\n",
              "    'trainable': True,\n",
              "    'units': 180,\n",
              "    'use_bias': True}},\n",
              "  {'class_name': 'Dense',\n",
              "   'config': {'activation': 'softmax',\n",
              "    'activity_regularizer': None,\n",
              "    'bias_constraint': None,\n",
              "    'bias_initializer': {'class_name': 'Zeros', 'config': {}},\n",
              "    'bias_regularizer': None,\n",
              "    'dtype': 'float32',\n",
              "    'kernel_constraint': {'class_name': 'MaxNorm',\n",
              "     'config': {'axis': 0, 'max_value': 1}},\n",
              "    'kernel_initializer': {'class_name': 'VarianceScaling',\n",
              "     'config': {'distribution': 'uniform',\n",
              "      'mode': 'fan_avg',\n",
              "      'scale': 1.0,\n",
              "      'seed': None}},\n",
              "    'kernel_regularizer': {'class_name': 'L1L2',\n",
              "     'config': {'l1': 9.99999993922529e-09, 'l2': 4.999999987376214e-07}},\n",
              "    'name': 'dense_2',\n",
              "    'trainable': True,\n",
              "    'units': 2,\n",
              "    'use_bias': True}}],\n",
              " 'name': 'sequential'}"
            ]
          },
          "metadata": {},
          "execution_count": 169
        }
      ]
    },
    {
      "cell_type": "code",
      "source": [
        "new_new_model.layers[0]._batch_input_shape"
      ],
      "metadata": {
        "colab": {
          "base_uri": "https://localhost:8080/"
        },
        "id": "a2MqXC1UUjTO",
        "outputId": "3c3e6e39-e888-4959-8c42-5c335d973f24"
      },
      "execution_count": null,
      "outputs": [
        {
          "output_type": "execute_result",
          "data": {
            "text/plain": [
              "(None, 200, 4)"
            ]
          },
          "metadata": {},
          "execution_count": 178
        }
      ]
    },
    {
      "cell_type": "code",
      "source": [
        "layers = [l for l in new_new_model.layers]\n",
        "for i in range(len(layers)):\n",
        "    print(\"Input\",i,layers[i].input)\n",
        "    print(\"Output\",i,layers[i].output)"
      ],
      "metadata": {
        "colab": {
          "base_uri": "https://localhost:8080/"
        },
        "id": "nUyaLG8TROS1",
        "outputId": "9097edb6-7e35-46df-a7b1-83337d86e309"
      },
      "execution_count": null,
      "outputs": [
        {
          "output_type": "stream",
          "name": "stdout",
          "text": [
            "Input 0 KerasTensor(type_spec=TensorSpec(shape=(None, 1000, 4), dtype=tf.float32, name='conv1d_1_input'), name='conv1d_1_input', description=\"created by layer 'conv1d_1_input'\")\n",
            "Output 0 KerasTensor(type_spec=TensorSpec(shape=(None, 992, 480), dtype=tf.float32, name=None), name='conv1d_1/Relu:0', description=\"created by layer 'conv1d_1'\")\n",
            "Input 1 KerasTensor(type_spec=TensorSpec(shape=(None, 992, 480), dtype=tf.float32, name=None), name='conv1d_1/Relu:0', description=\"created by layer 'conv1d_1'\")\n",
            "Output 1 KerasTensor(type_spec=TensorSpec(shape=(None, 992, 480), dtype=tf.float32, name=None), name='batch_normalization_1/batchnorm/add_1:0', description=\"created by layer 'batch_normalization_1'\")\n",
            "Input 2 KerasTensor(type_spec=TensorSpec(shape=(None, 992, 480), dtype=tf.float32, name=None), name='batch_normalization_1/batchnorm/add_1:0', description=\"created by layer 'batch_normalization_1'\")\n",
            "Output 2 KerasTensor(type_spec=TensorSpec(shape=(None, 992, 480), dtype=tf.float32, name=None), name='leaky_re_lu_1/Relu:0', description=\"created by layer 'leaky_re_lu_1'\")\n",
            "Input 3 KerasTensor(type_spec=TensorSpec(shape=(None, 992, 480), dtype=tf.float32, name=None), name='leaky_re_lu_1/Relu:0', description=\"created by layer 'leaky_re_lu_1'\")\n",
            "Output 3 KerasTensor(type_spec=TensorSpec(shape=(None, 328, 480), dtype=tf.float32, name=None), name='max_pooling1d_1/Squeeze:0', description=\"created by layer 'max_pooling1d_1'\")\n",
            "Input 4 KerasTensor(type_spec=TensorSpec(shape=(None, 328, 480), dtype=tf.float32, name=None), name='max_pooling1d_1/Squeeze:0', description=\"created by layer 'max_pooling1d_1'\")\n",
            "Output 4 KerasTensor(type_spec=TensorSpec(shape=(None, 328, 480), dtype=tf.float32, name=None), name='dropout_1/Identity:0', description=\"created by layer 'dropout_1'\")\n",
            "Input 5 KerasTensor(type_spec=TensorSpec(shape=(None, 328, 480), dtype=tf.float32, name=None), name='dropout_1/Identity:0', description=\"created by layer 'dropout_1'\")\n",
            "Output 5 KerasTensor(type_spec=TensorSpec(shape=(None, 325, 480), dtype=tf.float32, name=None), name='conv1d_2/Relu:0', description=\"created by layer 'conv1d_2'\")\n",
            "Input 6 KerasTensor(type_spec=TensorSpec(shape=(None, 325, 480), dtype=tf.float32, name=None), name='conv1d_2/Relu:0', description=\"created by layer 'conv1d_2'\")\n",
            "Output 6 KerasTensor(type_spec=TensorSpec(shape=(None, 325, 480), dtype=tf.float32, name=None), name='batch_normalization_2/batchnorm/add_1:0', description=\"created by layer 'batch_normalization_2'\")\n",
            "Input 7 KerasTensor(type_spec=TensorSpec(shape=(None, 325, 480), dtype=tf.float32, name=None), name='batch_normalization_2/batchnorm/add_1:0', description=\"created by layer 'batch_normalization_2'\")\n",
            "Output 7 KerasTensor(type_spec=TensorSpec(shape=(None, 325, 480), dtype=tf.float32, name=None), name='leaky_re_lu_2/Relu:0', description=\"created by layer 'leaky_re_lu_2'\")\n",
            "Input 8 KerasTensor(type_spec=TensorSpec(shape=(None, 325, 480), dtype=tf.float32, name=None), name='leaky_re_lu_2/Relu:0', description=\"created by layer 'leaky_re_lu_2'\")\n",
            "Output 8 KerasTensor(type_spec=TensorSpec(shape=(None, 161, 480), dtype=tf.float32, name=None), name='max_pooling1d_2/Squeeze:0', description=\"created by layer 'max_pooling1d_2'\")\n",
            "Input 9 KerasTensor(type_spec=TensorSpec(shape=(None, 161, 480), dtype=tf.float32, name=None), name='max_pooling1d_2/Squeeze:0', description=\"created by layer 'max_pooling1d_2'\")\n",
            "Output 9 KerasTensor(type_spec=TensorSpec(shape=(None, 161, 480), dtype=tf.float32, name=None), name='dropout_2/Identity:0', description=\"created by layer 'dropout_2'\")\n",
            "Input 10 KerasTensor(type_spec=TensorSpec(shape=(None, 161, 480), dtype=tf.float32, name=None), name='dropout_2/Identity:0', description=\"created by layer 'dropout_2'\")\n",
            "Output 10 KerasTensor(type_spec=TensorSpec(shape=(None, 158, 240), dtype=tf.float32, name=None), name='conv1d_3/Relu:0', description=\"created by layer 'conv1d_3'\")\n",
            "Input 11 KerasTensor(type_spec=TensorSpec(shape=(None, 158, 240), dtype=tf.float32, name=None), name='conv1d_3/Relu:0', description=\"created by layer 'conv1d_3'\")\n",
            "Output 11 KerasTensor(type_spec=TensorSpec(shape=(None, 52, 240), dtype=tf.float32, name=None), name='max_pooling1d_3/Squeeze:0', description=\"created by layer 'max_pooling1d_3'\")\n",
            "Input 12 KerasTensor(type_spec=TensorSpec(shape=(None, 52, 240), dtype=tf.float32, name=None), name='max_pooling1d_3/Squeeze:0', description=\"created by layer 'max_pooling1d_3'\")\n",
            "Output 12 KerasTensor(type_spec=TensorSpec(shape=(None, 52, 240), dtype=tf.float32, name=None), name='dropout_3/Identity:0', description=\"created by layer 'dropout_3'\")\n",
            "Input 13 KerasTensor(type_spec=TensorSpec(shape=(None, 52, 240), dtype=tf.float32, name=None), name='dropout_3/Identity:0', description=\"created by layer 'dropout_3'\")\n",
            "Output 13 KerasTensor(type_spec=TensorSpec(shape=(None, 49, 320), dtype=tf.float32, name=None), name='conv1d_4/Relu:0', description=\"created by layer 'conv1d_4'\")\n",
            "Input 14 KerasTensor(type_spec=TensorSpec(shape=(None, 49, 320), dtype=tf.float32, name=None), name='conv1d_4/Relu:0', description=\"created by layer 'conv1d_4'\")\n",
            "Output 14 KerasTensor(type_spec=TensorSpec(shape=(None, 49, 320), dtype=tf.float32, name=None), name='batch_normalization_3/batchnorm/add_1:0', description=\"created by layer 'batch_normalization_3'\")\n",
            "Input 15 KerasTensor(type_spec=TensorSpec(shape=(None, 49, 320), dtype=tf.float32, name=None), name='batch_normalization_3/batchnorm/add_1:0', description=\"created by layer 'batch_normalization_3'\")\n",
            "Output 15 KerasTensor(type_spec=TensorSpec(shape=(None, 49, 320), dtype=tf.float32, name=None), name='leaky_re_lu_3/Relu:0', description=\"created by layer 'leaky_re_lu_3'\")\n",
            "Input 16 KerasTensor(type_spec=TensorSpec(shape=(None, 49, 320), dtype=tf.float32, name=None), name='leaky_re_lu_3/Relu:0', description=\"created by layer 'leaky_re_lu_3'\")\n",
            "Output 16 KerasTensor(type_spec=TensorSpec(shape=(None, 16, 320), dtype=tf.float32, name=None), name='max_pooling1d_4/Squeeze:0', description=\"created by layer 'max_pooling1d_4'\")\n",
            "Input 17 KerasTensor(type_spec=TensorSpec(shape=(None, 16, 320), dtype=tf.float32, name=None), name='max_pooling1d_4/Squeeze:0', description=\"created by layer 'max_pooling1d_4'\")\n",
            "Output 17 KerasTensor(type_spec=TensorSpec(shape=(None, 13, 320), dtype=tf.float32, name=None), name='conv1d_5/Relu:0', description=\"created by layer 'conv1d_5'\")\n",
            "Input 18 KerasTensor(type_spec=TensorSpec(shape=(None, 13, 320), dtype=tf.float32, name=None), name='conv1d_5/Relu:0', description=\"created by layer 'conv1d_5'\")\n",
            "Output 18 KerasTensor(type_spec=TensorSpec(shape=(None, 13, 320), dtype=tf.float32, name=None), name='batch_normalization_4/batchnorm/add_1:0', description=\"created by layer 'batch_normalization_4'\")\n",
            "Input 19 KerasTensor(type_spec=TensorSpec(shape=(None, 13, 320), dtype=tf.float32, name=None), name='batch_normalization_4/batchnorm/add_1:0', description=\"created by layer 'batch_normalization_4'\")\n",
            "Output 19 KerasTensor(type_spec=TensorSpec(shape=(None, 13, 320), dtype=tf.float32, name=None), name='leaky_re_lu_4/Relu:0', description=\"created by layer 'leaky_re_lu_4'\")\n",
            "Input 20 KerasTensor(type_spec=TensorSpec(shape=(None, 13, 320), dtype=tf.float32, name=None), name='leaky_re_lu_4/Relu:0', description=\"created by layer 'leaky_re_lu_4'\")\n",
            "Output 20 KerasTensor(type_spec=TensorSpec(shape=(None, 4, 320), dtype=tf.float32, name=None), name='max_pooling1d_5/Squeeze:0', description=\"created by layer 'max_pooling1d_5'\")\n",
            "Input 21 KerasTensor(type_spec=TensorSpec(shape=(None, 4, 320), dtype=tf.float32, name=None), name='max_pooling1d_5/Squeeze:0', description=\"created by layer 'max_pooling1d_5'\")\n",
            "Output 21 KerasTensor(type_spec=TensorSpec(shape=(None, 1280), dtype=tf.float32, name=None), name='flatten_1/Reshape:0', description=\"created by layer 'flatten_1'\")\n",
            "Input 22 KerasTensor(type_spec=TensorSpec(shape=(None, 1280), dtype=tf.float32, name=None), name='flatten_1/Reshape:0', description=\"created by layer 'flatten_1'\")\n",
            "Output 22 KerasTensor(type_spec=TensorSpec(shape=(None, 180), dtype=tf.float32, name=None), name='dense_1/Sigmoid:0', description=\"created by layer 'dense_1'\")\n",
            "Input 23 KerasTensor(type_spec=TensorSpec(shape=(None, 180), dtype=tf.float32, name=None), name='dense_1/Sigmoid:0', description=\"created by layer 'dense_1'\")\n",
            "Output 23 KerasTensor(type_spec=TensorSpec(shape=(None, 2), dtype=tf.float32, name=None), name='dense_2/Softmax:0', description=\"created by layer 'dense_2'\")\n"
          ]
        }
      ]
    },
    {
      "cell_type": "code",
      "source": [
        "from keras.models import Sequential\n",
        "from keras.layers import Dense"
      ],
      "metadata": {
        "id": "18wkXs46T92I"
      },
      "execution_count": null,
      "outputs": []
    },
    {
      "cell_type": "code",
      "source": [
        "m1 = Sequential()\n",
        "m1.add()\n"
      ],
      "metadata": {
        "id": "14B95fXVSnPK"
      },
      "execution_count": null,
      "outputs": []
    },
    {
      "cell_type": "code",
      "source": [
        "new_model3 = model.__class__.from_config(model_config, custom_objects={})"
      ],
      "metadata": {
        "colab": {
          "base_uri": "https://localhost:8080/",
          "height": 341
        },
        "id": "ATfk56vKNSIn",
        "outputId": "70af4779-ad47-471d-d059-54f2cc0d1337"
      },
      "execution_count": null,
      "outputs": [
        {
          "output_type": "error",
          "ename": "ValueError",
          "evalue": "ignored",
          "traceback": [
            "\u001b[0;31m---------------------------------------------------------------------------\u001b[0m",
            "\u001b[0;31mValueError\u001b[0m                                Traceback (most recent call last)",
            "\u001b[0;32m<ipython-input-177-f115c2d72d65>\u001b[0m in \u001b[0;36m<module>\u001b[0;34m()\u001b[0m\n\u001b[0;32m----> 1\u001b[0;31m \u001b[0mnew_model3\u001b[0m \u001b[0;34m=\u001b[0m \u001b[0mmodel\u001b[0m\u001b[0;34m.\u001b[0m\u001b[0m__class__\u001b[0m\u001b[0;34m.\u001b[0m\u001b[0mfrom_config\u001b[0m\u001b[0;34m(\u001b[0m\u001b[0mmodel_config\u001b[0m\u001b[0;34m,\u001b[0m \u001b[0mcustom_objects\u001b[0m\u001b[0;34m=\u001b[0m\u001b[0;34m{\u001b[0m\u001b[0;34m}\u001b[0m\u001b[0;34m)\u001b[0m\u001b[0;34m\u001b[0m\u001b[0;34m\u001b[0m\u001b[0m\n\u001b[0m",
            "\u001b[0;32m/usr/local/lib/python3.7/dist-packages/keras/engine/sequential.py\u001b[0m in \u001b[0;36mfrom_config\u001b[0;34m(cls, config, custom_objects)\u001b[0m\n\u001b[1;32m    437\u001b[0m       layer = layer_module.deserialize(layer_config,\n\u001b[1;32m    438\u001b[0m                                        custom_objects=custom_objects)\n\u001b[0;32m--> 439\u001b[0;31m       \u001b[0mmodel\u001b[0m\u001b[0;34m.\u001b[0m\u001b[0madd\u001b[0m\u001b[0;34m(\u001b[0m\u001b[0mlayer\u001b[0m\u001b[0;34m)\u001b[0m\u001b[0;34m\u001b[0m\u001b[0;34m\u001b[0m\u001b[0m\n\u001b[0m\u001b[1;32m    440\u001b[0m     if (not model.inputs and build_input_shape and\n\u001b[1;32m    441\u001b[0m         isinstance(build_input_shape, (tuple, list))):\n",
            "\u001b[0;32m/usr/local/lib/python3.7/dist-packages/tensorflow/python/training/tracking/base.py\u001b[0m in \u001b[0;36m_method_wrapper\u001b[0;34m(self, *args, **kwargs)\u001b[0m\n\u001b[1;32m    627\u001b[0m     \u001b[0mself\u001b[0m\u001b[0;34m.\u001b[0m\u001b[0m_self_setattr_tracking\u001b[0m \u001b[0;34m=\u001b[0m \u001b[0;32mFalse\u001b[0m  \u001b[0;31m# pylint: disable=protected-access\u001b[0m\u001b[0;34m\u001b[0m\u001b[0;34m\u001b[0m\u001b[0m\n\u001b[1;32m    628\u001b[0m     \u001b[0;32mtry\u001b[0m\u001b[0;34m:\u001b[0m\u001b[0;34m\u001b[0m\u001b[0;34m\u001b[0m\u001b[0m\n\u001b[0;32m--> 629\u001b[0;31m       \u001b[0mresult\u001b[0m \u001b[0;34m=\u001b[0m \u001b[0mmethod\u001b[0m\u001b[0;34m(\u001b[0m\u001b[0mself\u001b[0m\u001b[0;34m,\u001b[0m \u001b[0;34m*\u001b[0m\u001b[0margs\u001b[0m\u001b[0;34m,\u001b[0m \u001b[0;34m**\u001b[0m\u001b[0mkwargs\u001b[0m\u001b[0;34m)\u001b[0m\u001b[0;34m\u001b[0m\u001b[0;34m\u001b[0m\u001b[0m\n\u001b[0m\u001b[1;32m    630\u001b[0m     \u001b[0;32mfinally\u001b[0m\u001b[0;34m:\u001b[0m\u001b[0;34m\u001b[0m\u001b[0;34m\u001b[0m\u001b[0m\n\u001b[1;32m    631\u001b[0m       \u001b[0mself\u001b[0m\u001b[0;34m.\u001b[0m\u001b[0m_self_setattr_tracking\u001b[0m \u001b[0;34m=\u001b[0m \u001b[0mprevious_value\u001b[0m  \u001b[0;31m# pylint: disable=protected-access\u001b[0m\u001b[0;34m\u001b[0m\u001b[0;34m\u001b[0m\u001b[0m\n",
            "\u001b[0;32m/usr/local/lib/python3.7/dist-packages/keras/utils/traceback_utils.py\u001b[0m in \u001b[0;36merror_handler\u001b[0;34m(*args, **kwargs)\u001b[0m\n\u001b[1;32m     65\u001b[0m     \u001b[0;32mexcept\u001b[0m \u001b[0mException\u001b[0m \u001b[0;32mas\u001b[0m \u001b[0me\u001b[0m\u001b[0;34m:\u001b[0m  \u001b[0;31m# pylint: disable=broad-except\u001b[0m\u001b[0;34m\u001b[0m\u001b[0;34m\u001b[0m\u001b[0m\n\u001b[1;32m     66\u001b[0m       \u001b[0mfiltered_tb\u001b[0m \u001b[0;34m=\u001b[0m \u001b[0m_process_traceback_frames\u001b[0m\u001b[0;34m(\u001b[0m\u001b[0me\u001b[0m\u001b[0;34m.\u001b[0m\u001b[0m__traceback__\u001b[0m\u001b[0;34m)\u001b[0m\u001b[0;34m\u001b[0m\u001b[0;34m\u001b[0m\u001b[0m\n\u001b[0;32m---> 67\u001b[0;31m       \u001b[0;32mraise\u001b[0m \u001b[0me\u001b[0m\u001b[0;34m.\u001b[0m\u001b[0mwith_traceback\u001b[0m\u001b[0;34m(\u001b[0m\u001b[0mfiltered_tb\u001b[0m\u001b[0;34m)\u001b[0m \u001b[0;32mfrom\u001b[0m \u001b[0;32mNone\u001b[0m\u001b[0;34m\u001b[0m\u001b[0;34m\u001b[0m\u001b[0m\n\u001b[0m\u001b[1;32m     68\u001b[0m     \u001b[0;32mfinally\u001b[0m\u001b[0;34m:\u001b[0m\u001b[0;34m\u001b[0m\u001b[0;34m\u001b[0m\u001b[0m\n\u001b[1;32m     69\u001b[0m       \u001b[0;32mdel\u001b[0m \u001b[0mfiltered_tb\u001b[0m\u001b[0;34m\u001b[0m\u001b[0;34m\u001b[0m\u001b[0m\n",
            "\u001b[0;32m/usr/local/lib/python3.7/dist-packages/keras/layers/convolutional.py\u001b[0m in \u001b[0;36mcompute_output_shape\u001b[0;34m(self, input_shape)\u001b[0m\n\u001b[1;32m    303\u001b[0m     \u001b[0;32mexcept\u001b[0m \u001b[0mValueError\u001b[0m\u001b[0;34m:\u001b[0m\u001b[0;34m\u001b[0m\u001b[0;34m\u001b[0m\u001b[0m\n\u001b[1;32m    304\u001b[0m       raise ValueError(\n\u001b[0;32m--> 305\u001b[0;31m           \u001b[0;34mf'One of the dimensions in the output is <= 0 '\u001b[0m\u001b[0;34m\u001b[0m\u001b[0;34m\u001b[0m\u001b[0m\n\u001b[0m\u001b[1;32m    306\u001b[0m           \u001b[0;34mf'due to downsampling in {self.name}. Consider '\u001b[0m\u001b[0;34m\u001b[0m\u001b[0;34m\u001b[0m\u001b[0m\n\u001b[1;32m    307\u001b[0m           \u001b[0;34mf'increasing the input size. '\u001b[0m\u001b[0;34m\u001b[0m\u001b[0;34m\u001b[0m\u001b[0m\n",
            "\u001b[0;31mValueError\u001b[0m: One of the dimensions in the output is <= 0 due to downsampling in conv1d_5. Consider increasing the input size. Received input shape [None, 1, 320] which would produce output shape with a zero or negative value in a dimension."
          ]
        }
      ]
    },
    {
      "cell_type": "code",
      "source": [
        "!python3 train.py ./examples/training.hdf5 ./examples/"
      ],
      "metadata": {
        "colab": {
          "base_uri": "https://localhost:8080/"
        },
        "id": "IbpMIt5EJuUh",
        "outputId": "41b9077a-1a77-4e59-9718-329872af26ca"
      },
      "execution_count": null,
      "outputs": [
        {
          "output_type": "stream",
          "name": "stdout",
          "text": [
            "2022-03-03 09:45:40.491874: W tensorflow/core/common_runtime/gpu/gpu_bfc_allocator.cc:39] Overriding allow_growth setting because the TF_FORCE_GPU_ALLOW_GROWTH environment variable is set. Original config value was 0.\n",
            "WARNING:tensorflow:No training configuration found in the save file, so the model was *not* compiled. Compile it manually.\n",
            "reading enhancers...\n",
            "WARNING:tensorflow:Compiled the loaded model, but the compiled metrics have yet to be built. `model.compile_metrics` will be empty until you train or evaluate the model.\n",
            "Epoch 1/200\n",
            "Traceback (most recent call last):\n",
            "  File \"train.py\", line 126, in <module>\n",
            "    train_model(data,results_dir)\n",
            "  File \"train.py\", line 116, in train_model\n",
            "    run_model(data, model, results_dir)\n",
            "  File \"train.py\", line 56, in run_model\n",
            "    callbacks=_callbacks, verbose=1)\n",
            "  File \"/usr/local/lib/python3.7/dist-packages/keras/utils/traceback_utils.py\", line 67, in error_handler\n",
            "    raise e.with_traceback(filtered_tb) from None\n",
            "  File \"/usr/local/lib/python3.7/dist-packages/tensorflow/python/framework/func_graph.py\", line 1147, in autograph_handler\n",
            "    raise e.ag_error_metadata.to_exception(e)\n",
            "ValueError: in user code:\n",
            "\n",
            "    File \"/usr/local/lib/python3.7/dist-packages/keras/engine/training.py\", line 1021, in train_function  *\n",
            "        return step_function(self, iterator)\n",
            "    File \"/usr/local/lib/python3.7/dist-packages/keras/engine/training.py\", line 1010, in step_function  **\n",
            "        outputs = model.distribute_strategy.run(run_step, args=(data,))\n",
            "    File \"/usr/local/lib/python3.7/dist-packages/keras/engine/training.py\", line 1000, in run_step  **\n",
            "        outputs = model.train_step(data)\n",
            "    File \"/usr/local/lib/python3.7/dist-packages/keras/engine/training.py\", line 859, in train_step\n",
            "        y_pred = self(x, training=True)\n",
            "    File \"/usr/local/lib/python3.7/dist-packages/keras/utils/traceback_utils.py\", line 67, in error_handler\n",
            "        raise e.with_traceback(filtered_tb) from None\n",
            "    File \"/usr/local/lib/python3.7/dist-packages/keras/engine/input_spec.py\", line 264, in assert_input_compatibility\n",
            "        raise ValueError(f'Input {input_index} of layer \"{layer_name}\" is '\n",
            "\n",
            "    ValueError: Input 0 of layer \"sequential\" is incompatible with the layer: expected shape=(None, 1000, 4), found shape=(None, 200, 4)\n",
            "\n"
          ]
        }
      ]
    },
    {
      "cell_type": "code",
      "source": [
        "new_model.get_config()"
      ],
      "metadata": {
        "colab": {
          "base_uri": "https://localhost:8080/"
        },
        "id": "_Qh5TVLKJfTS",
        "outputId": "c700690e-cbc3-4df7-d9ce-0530e4ed7514"
      },
      "execution_count": null,
      "outputs": [
        {
          "output_type": "execute_result",
          "data": {
            "text/plain": [
              "{'layers': [{'class_name': 'InputLayer',\n",
              "   'config': {'batch_input_shape': (None, 1000, 4),\n",
              "    'dtype': 'float32',\n",
              "    'name': 'conv1d_1_input',\n",
              "    'ragged': False,\n",
              "    'sparse': False}},\n",
              "  {'class_name': 'Conv1D',\n",
              "   'config': {'activation': 'relu',\n",
              "    'activity_regularizer': None,\n",
              "    'batch_input_shape': (None, 200, 4),\n",
              "    'bias_constraint': None,\n",
              "    'bias_initializer': {'class_name': 'Zeros', 'config': {}},\n",
              "    'bias_regularizer': None,\n",
              "    'data_format': 'channels_last',\n",
              "    'dilation_rate': (1,),\n",
              "    'dtype': 'float32',\n",
              "    'filters': 480,\n",
              "    'groups': 1,\n",
              "    'kernel_constraint': {'class_name': 'MaxNorm',\n",
              "     'config': {'axis': 0, 'max_value': 1}},\n",
              "    'kernel_initializer': {'class_name': 'VarianceScaling',\n",
              "     'config': {'distribution': 'uniform',\n",
              "      'mode': 'fan_avg',\n",
              "      'scale': 1.0,\n",
              "      'seed': None}},\n",
              "    'kernel_regularizer': {'class_name': 'L1L2',\n",
              "     'config': {'l1': 9.99999993922529e-09, 'l2': 4.999999987376214e-07}},\n",
              "    'kernel_size': (9,),\n",
              "    'name': 'conv1d_1',\n",
              "    'padding': 'valid',\n",
              "    'strides': (1,),\n",
              "    'trainable': True,\n",
              "    'use_bias': True}},\n",
              "  {'class_name': 'BatchNormalization',\n",
              "   'config': {'axis': ListWrapper([2]),\n",
              "    'beta_constraint': None,\n",
              "    'beta_initializer': {'class_name': 'Zeros', 'config': {}},\n",
              "    'beta_regularizer': None,\n",
              "    'center': True,\n",
              "    'dtype': 'float32',\n",
              "    'epsilon': 0.001,\n",
              "    'gamma_constraint': None,\n",
              "    'gamma_initializer': {'class_name': 'Ones', 'config': {}},\n",
              "    'gamma_regularizer': None,\n",
              "    'momentum': 0.99,\n",
              "    'moving_mean_initializer': {'class_name': 'Zeros', 'config': {}},\n",
              "    'moving_variance_initializer': {'class_name': 'Ones', 'config': {}},\n",
              "    'name': 'batch_normalization_1',\n",
              "    'scale': True,\n",
              "    'trainable': True}},\n",
              "  {'class_name': 'LeakyReLU',\n",
              "   'config': {'alpha': 0.0,\n",
              "    'dtype': 'float32',\n",
              "    'name': 'leaky_re_lu_1',\n",
              "    'trainable': True}},\n",
              "  {'class_name': 'MaxPooling1D',\n",
              "   'config': {'data_format': 'channels_last',\n",
              "    'dtype': 'float32',\n",
              "    'name': 'max_pooling1d_1',\n",
              "    'padding': 'valid',\n",
              "    'pool_size': (9,),\n",
              "    'strides': (3,),\n",
              "    'trainable': True}},\n",
              "  {'class_name': 'Dropout',\n",
              "   'config': {'dtype': 'float32',\n",
              "    'name': 'dropout_1',\n",
              "    'noise_shape': None,\n",
              "    'rate': 0.2,\n",
              "    'seed': None,\n",
              "    'trainable': True}},\n",
              "  {'class_name': 'Conv1D',\n",
              "   'config': {'activation': 'relu',\n",
              "    'activity_regularizer': None,\n",
              "    'bias_constraint': None,\n",
              "    'bias_initializer': {'class_name': 'Zeros', 'config': {}},\n",
              "    'bias_regularizer': None,\n",
              "    'data_format': 'channels_last',\n",
              "    'dilation_rate': (1,),\n",
              "    'dtype': 'float32',\n",
              "    'filters': 480,\n",
              "    'groups': 1,\n",
              "    'kernel_constraint': {'class_name': 'MaxNorm',\n",
              "     'config': {'axis': 0, 'max_value': 0.9}},\n",
              "    'kernel_initializer': {'class_name': 'VarianceScaling',\n",
              "     'config': {'distribution': 'uniform',\n",
              "      'mode': 'fan_avg',\n",
              "      'scale': 1.0,\n",
              "      'seed': None}},\n",
              "    'kernel_regularizer': {'class_name': 'L1L2',\n",
              "     'config': {'l1': 9.99999993922529e-09, 'l2': 4.999999987376214e-07}},\n",
              "    'kernel_size': (4,),\n",
              "    'name': 'conv1d_2',\n",
              "    'padding': 'valid',\n",
              "    'strides': (1,),\n",
              "    'trainable': True,\n",
              "    'use_bias': True}},\n",
              "  {'class_name': 'BatchNormalization',\n",
              "   'config': {'axis': ListWrapper([2]),\n",
              "    'beta_constraint': None,\n",
              "    'beta_initializer': {'class_name': 'Zeros', 'config': {}},\n",
              "    'beta_regularizer': None,\n",
              "    'center': True,\n",
              "    'dtype': 'float32',\n",
              "    'epsilon': 0.001,\n",
              "    'gamma_constraint': None,\n",
              "    'gamma_initializer': {'class_name': 'Ones', 'config': {}},\n",
              "    'gamma_regularizer': None,\n",
              "    'momentum': 0.99,\n",
              "    'moving_mean_initializer': {'class_name': 'Zeros', 'config': {}},\n",
              "    'moving_variance_initializer': {'class_name': 'Ones', 'config': {}},\n",
              "    'name': 'batch_normalization_2',\n",
              "    'scale': True,\n",
              "    'trainable': True}},\n",
              "  {'class_name': 'LeakyReLU',\n",
              "   'config': {'alpha': 0.0,\n",
              "    'dtype': 'float32',\n",
              "    'name': 'leaky_re_lu_2',\n",
              "    'trainable': True}},\n",
              "  {'class_name': 'MaxPooling1D',\n",
              "   'config': {'data_format': 'channels_last',\n",
              "    'dtype': 'float32',\n",
              "    'name': 'max_pooling1d_2',\n",
              "    'padding': 'valid',\n",
              "    'pool_size': (4,),\n",
              "    'strides': (2,),\n",
              "    'trainable': True}},\n",
              "  {'class_name': 'Dropout',\n",
              "   'config': {'dtype': 'float32',\n",
              "    'name': 'dropout_2',\n",
              "    'noise_shape': None,\n",
              "    'rate': 0.2,\n",
              "    'seed': None,\n",
              "    'trainable': True}},\n",
              "  {'class_name': 'Conv1D',\n",
              "   'config': {'activation': 'relu',\n",
              "    'activity_regularizer': None,\n",
              "    'bias_constraint': None,\n",
              "    'bias_initializer': {'class_name': 'Zeros', 'config': {}},\n",
              "    'bias_regularizer': None,\n",
              "    'data_format': 'channels_last',\n",
              "    'dilation_rate': (1,),\n",
              "    'dtype': 'float32',\n",
              "    'filters': 240,\n",
              "    'groups': 1,\n",
              "    'kernel_constraint': {'class_name': 'MaxNorm',\n",
              "     'config': {'axis': 0, 'max_value': 1}},\n",
              "    'kernel_initializer': {'class_name': 'VarianceScaling',\n",
              "     'config': {'distribution': 'uniform',\n",
              "      'mode': 'fan_avg',\n",
              "      'scale': 1.0,\n",
              "      'seed': None}},\n",
              "    'kernel_regularizer': {'class_name': 'L1L2',\n",
              "     'config': {'l1': 9.99999993922529e-09, 'l2': 4.999999987376214e-07}},\n",
              "    'kernel_size': (4,),\n",
              "    'name': 'conv1d_3',\n",
              "    'padding': 'valid',\n",
              "    'strides': (1,),\n",
              "    'trainable': True,\n",
              "    'use_bias': True}},\n",
              "  {'class_name': 'MaxPooling1D',\n",
              "   'config': {'data_format': 'channels_last',\n",
              "    'dtype': 'float32',\n",
              "    'name': 'max_pooling1d_3',\n",
              "    'padding': 'valid',\n",
              "    'pool_size': (4,),\n",
              "    'strides': (3,),\n",
              "    'trainable': True}},\n",
              "  {'class_name': 'Dropout',\n",
              "   'config': {'dtype': 'float32',\n",
              "    'name': 'dropout_3',\n",
              "    'noise_shape': None,\n",
              "    'rate': 0.2,\n",
              "    'seed': None,\n",
              "    'trainable': True}},\n",
              "  {'class_name': 'Conv1D',\n",
              "   'config': {'activation': 'relu',\n",
              "    'activity_regularizer': None,\n",
              "    'bias_constraint': None,\n",
              "    'bias_initializer': {'class_name': 'Zeros', 'config': {}},\n",
              "    'bias_regularizer': None,\n",
              "    'data_format': 'channels_last',\n",
              "    'dilation_rate': (1,),\n",
              "    'dtype': 'float32',\n",
              "    'filters': 320,\n",
              "    'groups': 1,\n",
              "    'kernel_constraint': {'class_name': 'MaxNorm',\n",
              "     'config': {'axis': 0, 'max_value': 1}},\n",
              "    'kernel_initializer': {'class_name': 'VarianceScaling',\n",
              "     'config': {'distribution': 'uniform',\n",
              "      'mode': 'fan_avg',\n",
              "      'scale': 1.0,\n",
              "      'seed': None}},\n",
              "    'kernel_regularizer': {'class_name': 'L1L2',\n",
              "     'config': {'l1': 9.99999993922529e-09, 'l2': 4.999999987376214e-07}},\n",
              "    'kernel_size': (4,),\n",
              "    'name': 'conv1d_4',\n",
              "    'padding': 'valid',\n",
              "    'strides': (1,),\n",
              "    'trainable': True,\n",
              "    'use_bias': True}},\n",
              "  {'class_name': 'BatchNormalization',\n",
              "   'config': {'axis': ListWrapper([2]),\n",
              "    'beta_constraint': None,\n",
              "    'beta_initializer': {'class_name': 'Zeros', 'config': {}},\n",
              "    'beta_regularizer': None,\n",
              "    'center': True,\n",
              "    'dtype': 'float32',\n",
              "    'epsilon': 0.001,\n",
              "    'gamma_constraint': None,\n",
              "    'gamma_initializer': {'class_name': 'Ones', 'config': {}},\n",
              "    'gamma_regularizer': None,\n",
              "    'momentum': 0.99,\n",
              "    'moving_mean_initializer': {'class_name': 'Zeros', 'config': {}},\n",
              "    'moving_variance_initializer': {'class_name': 'Ones', 'config': {}},\n",
              "    'name': 'batch_normalization_3',\n",
              "    'scale': True,\n",
              "    'trainable': True}},\n",
              "  {'class_name': 'LeakyReLU',\n",
              "   'config': {'alpha': 0.0,\n",
              "    'dtype': 'float32',\n",
              "    'name': 'leaky_re_lu_3',\n",
              "    'trainable': True}},\n",
              "  {'class_name': 'MaxPooling1D',\n",
              "   'config': {'data_format': 'channels_last',\n",
              "    'dtype': 'float32',\n",
              "    'name': 'max_pooling1d_4',\n",
              "    'padding': 'valid',\n",
              "    'pool_size': (4,),\n",
              "    'strides': (3,),\n",
              "    'trainable': True}},\n",
              "  {'class_name': 'Conv1D',\n",
              "   'config': {'activation': 'relu',\n",
              "    'activity_regularizer': None,\n",
              "    'bias_constraint': None,\n",
              "    'bias_initializer': {'class_name': 'Zeros', 'config': {}},\n",
              "    'bias_regularizer': None,\n",
              "    'data_format': 'channels_last',\n",
              "    'dilation_rate': (1,),\n",
              "    'dtype': 'float32',\n",
              "    'filters': 320,\n",
              "    'groups': 1,\n",
              "    'kernel_constraint': {'class_name': 'MaxNorm',\n",
              "     'config': {'axis': 0, 'max_value': 1}},\n",
              "    'kernel_initializer': {'class_name': 'VarianceScaling',\n",
              "     'config': {'distribution': 'uniform',\n",
              "      'mode': 'fan_avg',\n",
              "      'scale': 1.0,\n",
              "      'seed': None}},\n",
              "    'kernel_regularizer': {'class_name': 'L1L2',\n",
              "     'config': {'l1': 9.99999993922529e-09, 'l2': 4.999999987376214e-07}},\n",
              "    'kernel_size': (4,),\n",
              "    'name': 'conv1d_5',\n",
              "    'padding': 'valid',\n",
              "    'strides': (1,),\n",
              "    'trainable': True,\n",
              "    'use_bias': True}},\n",
              "  {'class_name': 'BatchNormalization',\n",
              "   'config': {'axis': ListWrapper([2]),\n",
              "    'beta_constraint': None,\n",
              "    'beta_initializer': {'class_name': 'Zeros', 'config': {}},\n",
              "    'beta_regularizer': None,\n",
              "    'center': True,\n",
              "    'dtype': 'float32',\n",
              "    'epsilon': 0.001,\n",
              "    'gamma_constraint': None,\n",
              "    'gamma_initializer': {'class_name': 'Ones', 'config': {}},\n",
              "    'gamma_regularizer': None,\n",
              "    'momentum': 0.99,\n",
              "    'moving_mean_initializer': {'class_name': 'Zeros', 'config': {}},\n",
              "    'moving_variance_initializer': {'class_name': 'Ones', 'config': {}},\n",
              "    'name': 'batch_normalization_4',\n",
              "    'scale': True,\n",
              "    'trainable': True}},\n",
              "  {'class_name': 'LeakyReLU',\n",
              "   'config': {'alpha': 0.0,\n",
              "    'dtype': 'float32',\n",
              "    'name': 'leaky_re_lu_4',\n",
              "    'trainable': True}},\n",
              "  {'class_name': 'MaxPooling1D',\n",
              "   'config': {'data_format': 'channels_last',\n",
              "    'dtype': 'float32',\n",
              "    'name': 'max_pooling1d_5',\n",
              "    'padding': 'valid',\n",
              "    'pool_size': (4,),\n",
              "    'strides': (3,),\n",
              "    'trainable': True}},\n",
              "  {'class_name': 'Flatten',\n",
              "   'config': {'data_format': 'channels_last',\n",
              "    'dtype': 'float32',\n",
              "    'name': 'flatten_1',\n",
              "    'trainable': True}},\n",
              "  {'class_name': 'Dense',\n",
              "   'config': {'activation': 'sigmoid',\n",
              "    'activity_regularizer': None,\n",
              "    'bias_constraint': None,\n",
              "    'bias_initializer': {'class_name': 'Zeros', 'config': {}},\n",
              "    'bias_regularizer': None,\n",
              "    'dtype': 'float32',\n",
              "    'kernel_constraint': {'class_name': 'MaxNorm',\n",
              "     'config': {'axis': 0, 'max_value': 1}},\n",
              "    'kernel_initializer': {'class_name': 'VarianceScaling',\n",
              "     'config': {'distribution': 'uniform',\n",
              "      'mode': 'fan_avg',\n",
              "      'scale': 1.0,\n",
              "      'seed': None}},\n",
              "    'kernel_regularizer': {'class_name': 'L1L2',\n",
              "     'config': {'l1': 9.99999993922529e-09, 'l2': 4.999999987376214e-07}},\n",
              "    'name': 'dense_1',\n",
              "    'trainable': True,\n",
              "    'units': 180,\n",
              "    'use_bias': True}},\n",
              "  {'class_name': 'Dense',\n",
              "   'config': {'activation': 'softmax',\n",
              "    'activity_regularizer': None,\n",
              "    'bias_constraint': None,\n",
              "    'bias_initializer': {'class_name': 'Zeros', 'config': {}},\n",
              "    'bias_regularizer': None,\n",
              "    'dtype': 'float32',\n",
              "    'kernel_constraint': {'class_name': 'MaxNorm',\n",
              "     'config': {'axis': 0, 'max_value': 1}},\n",
              "    'kernel_initializer': {'class_name': 'VarianceScaling',\n",
              "     'config': {'distribution': 'uniform',\n",
              "      'mode': 'fan_avg',\n",
              "      'scale': 1.0,\n",
              "      'seed': None}},\n",
              "    'kernel_regularizer': {'class_name': 'L1L2',\n",
              "     'config': {'l1': 9.99999993922529e-09, 'l2': 4.999999987376214e-07}},\n",
              "    'name': 'dense_2',\n",
              "    'trainable': True,\n",
              "    'units': 2,\n",
              "    'use_bias': True}}],\n",
              " 'name': 'sequential'}"
            ]
          },
          "metadata": {},
          "execution_count": 150
        }
      ]
    },
    {
      "cell_type": "code",
      "source": [
        "input_layer = tf.keras.InputLayer(input_shape=(None,200, 4), name=\"input_1\")\n",
        "new_model.layers[0] = input_layer"
      ],
      "metadata": {
        "colab": {
          "base_uri": "https://localhost:8080/",
          "height": 190
        },
        "id": "iZEgtBPfIsWQ",
        "outputId": "d9b66ba1-2935-4533-e70b-9810ce6dde30"
      },
      "execution_count": null,
      "outputs": [
        {
          "output_type": "error",
          "ename": "AttributeError",
          "evalue": "ignored",
          "traceback": [
            "\u001b[0;31m---------------------------------------------------------------------------\u001b[0m",
            "\u001b[0;31mAttributeError\u001b[0m                            Traceback (most recent call last)",
            "\u001b[0;32m<ipython-input-143-f07c23ca7ebd>\u001b[0m in \u001b[0;36m<module>\u001b[0;34m()\u001b[0m\n\u001b[0;32m----> 1\u001b[0;31m \u001b[0minput_layer\u001b[0m \u001b[0;34m=\u001b[0m \u001b[0mtf\u001b[0m\u001b[0;34m.\u001b[0m\u001b[0mkeras\u001b[0m\u001b[0;34m.\u001b[0m\u001b[0mInputLayer\u001b[0m\u001b[0;34m(\u001b[0m\u001b[0minput_shape\u001b[0m\u001b[0;34m=\u001b[0m\u001b[0;34m(\u001b[0m\u001b[0;32mNone\u001b[0m\u001b[0;34m,\u001b[0m\u001b[0;36m200\u001b[0m\u001b[0;34m,\u001b[0m \u001b[0;36m4\u001b[0m\u001b[0;34m)\u001b[0m\u001b[0;34m,\u001b[0m \u001b[0mname\u001b[0m\u001b[0;34m=\u001b[0m\u001b[0;34m\"input_1\"\u001b[0m\u001b[0;34m)\u001b[0m\u001b[0;34m\u001b[0m\u001b[0;34m\u001b[0m\u001b[0m\n\u001b[0m\u001b[1;32m      2\u001b[0m \u001b[0mnew_model\u001b[0m\u001b[0;34m.\u001b[0m\u001b[0mlayers\u001b[0m\u001b[0;34m[\u001b[0m\u001b[0;36m0\u001b[0m\u001b[0;34m]\u001b[0m \u001b[0;34m=\u001b[0m \u001b[0minput_layer\u001b[0m\u001b[0;34m\u001b[0m\u001b[0;34m\u001b[0m\u001b[0m\n",
            "\u001b[0;31mAttributeError\u001b[0m: module 'keras.api._v2.keras' has no attribute 'InputLayer'"
          ]
        }
      ]
    },
    {
      "cell_type": "code",
      "source": [
        "\n",
        "\n",
        "new_model.layers[0].__dict__"
      ],
      "metadata": {
        "colab": {
          "base_uri": "https://localhost:8080/"
        },
        "id": "6JCLTx5MDCJX",
        "outputId": "a1e31008-585b-4dd6-8e0a-a4979bddbdfa"
      },
      "execution_count": null,
      "outputs": [
        {
          "output_type": "execute_result",
          "data": {
            "text/plain": [
              "{'_activity_regularizer': None,\n",
              " '_auto_track_sub_layers': True,\n",
              " '_autocast': True,\n",
              " '_batch_input_shape': (None, 1000, 4),\n",
              " '_build_input_shape': TensorShape([None, 1000, 4]),\n",
              " '_callable_losses': [functools.partial(<function Layer.add_loss.<locals>._tag_callable at 0x7f8dbc758b90>, functools.partial(<function Layer._handle_weight_regularization.<locals>._loss_for_variable at 0x7f8dbc7585f0>, <tf.Variable 'conv1d_1/kernel:0' shape=(9, 4, 480) dtype=float32, numpy=\n",
              "  array([[[ 4.9680956e-03,  1.5062690e-03,  2.0550050e-02, ...,\n",
              "            3.6332414e-02, -6.2360205e-03, -1.3749583e-02],\n",
              "          [-2.7827039e-02,  2.7867965e-02,  1.5194714e-04, ...,\n",
              "            3.5856888e-02,  3.3150546e-02, -3.2284874e-02],\n",
              "          [ 3.0774772e-02,  1.6956542e-02,  3.6101915e-02, ...,\n",
              "           -3.0616976e-02,  3.3788368e-02, -1.7586568e-02],\n",
              "          [ 2.6669331e-02, -7.1959272e-03, -2.5928259e-02, ...,\n",
              "           -3.2273468e-02, -7.6983217e-03,  3.4486957e-02]],\n",
              "  \n",
              "         [[ 5.1784143e-03,  2.9611923e-02, -3.3911716e-02, ...,\n",
              "           -8.1032030e-03,  1.2837999e-02, -1.2451112e-02],\n",
              "          [ 1.5838113e-02,  3.2629885e-02,  1.9120675e-02, ...,\n",
              "           -1.4941385e-02,  5.4783560e-03,  2.4103690e-02],\n",
              "          [ 1.1931181e-02, -1.5791658e-02,  1.3211265e-02, ...,\n",
              "           -3.5128329e-02, -2.1406839e-02, -3.5199646e-02],\n",
              "          [-3.1395718e-02, -1.9878173e-02,  1.7850112e-02, ...,\n",
              "            3.5262778e-02,  1.5108623e-02, -1.0099445e-02]],\n",
              "  \n",
              "         [[-2.7341813e-02, -2.8637629e-02,  2.3653191e-02, ...,\n",
              "           -3.3347655e-02,  1.9997671e-02,  3.6751285e-02],\n",
              "          [ 2.0501845e-02, -2.8985456e-02, -1.2198873e-03, ...,\n",
              "           -8.9919772e-03, -2.4297498e-02,  1.5690077e-02],\n",
              "          [ 3.5536401e-02,  2.9633217e-02, -1.8091865e-02, ...,\n",
              "           -1.2639508e-02, -3.2691713e-02, -2.8610401e-02],\n",
              "          [ 3.0119225e-02, -3.2227624e-02,  2.2741783e-02, ...,\n",
              "           -1.7044559e-02,  1.6382113e-03,  2.2841807e-02]],\n",
              "  \n",
              "         ...,\n",
              "  \n",
              "         [[-3.0063871e-02,  2.6905797e-02,  1.0563336e-02, ...,\n",
              "            6.8001673e-03, -3.3971626e-02, -2.6829541e-05],\n",
              "          [ 7.6411255e-03, -3.1598989e-02,  2.9445268e-02, ...,\n",
              "            1.4741234e-03, -2.9594705e-02,  2.6776753e-02],\n",
              "          [-2.9461136e-02, -5.2610263e-03,  2.0051613e-02, ...,\n",
              "           -2.0271640e-02,  2.9961139e-02, -2.3263723e-02],\n",
              "          [-4.9126484e-03,  2.9392526e-02, -1.5139636e-02, ...,\n",
              "            9.3386658e-03,  3.5614774e-02, -3.2400340e-03]],\n",
              "  \n",
              "         [[-1.0549586e-02,  3.3682443e-02, -1.1480870e-02, ...,\n",
              "           -1.7348569e-02,  3.2678910e-02, -1.4553031e-02],\n",
              "          [-2.6091779e-02, -2.1937875e-02,  3.6878251e-02, ...,\n",
              "           -8.2156416e-03, -5.5959150e-03,  2.7647011e-02],\n",
              "          [-2.2487748e-02, -3.2461766e-02, -1.2794914e-02, ...,\n",
              "            2.3085538e-02,  3.3267945e-02, -2.8727487e-02],\n",
              "          [ 3.1314373e-02, -8.6637139e-03, -2.9859798e-02, ...,\n",
              "            3.3023991e-03,  3.1088814e-03,  2.8223306e-02]],\n",
              "  \n",
              "         [[ 2.5452852e-02,  3.1108938e-02, -2.5104459e-02, ...,\n",
              "           -1.6210442e-02, -3.1614415e-03, -3.2265168e-02],\n",
              "          [-7.2946865e-03,  1.5369389e-02,  1.1931445e-02, ...,\n",
              "            3.2348320e-02, -2.6467737e-02, -3.0138969e-02],\n",
              "          [ 1.6614646e-02,  3.5959952e-02,  5.5131465e-03, ...,\n",
              "            3.3966824e-02, -1.9772500e-03, -9.6914824e-03],\n",
              "          [-1.4249304e-02, -2.1855071e-02,  2.1266889e-02, ...,\n",
              "           -2.2699162e-03, -2.4339210e-02,  1.6679831e-02]]], dtype=float32)>))],\n",
              " '_channels_first': False,\n",
              " '_compute_dtype_object': tf.float32,\n",
              " '_default_training_arg': None,\n",
              " '_dtype_policy': <Policy \"float32\">,\n",
              " '_dynamic': False,\n",
              " '_expects_mask_arg': False,\n",
              " '_expects_training_arg': False,\n",
              " '_inbound_nodes_value': [<keras.engine.node.Node at 0x7f8db9dec9d0>],\n",
              " '_initial_weights': None,\n",
              " '_input_spec': InputSpec(min_ndim=3, axes={-1: 4}),\n",
              " '_instrumented_keras_api': True,\n",
              " '_instrumented_keras_layer_class': True,\n",
              " '_instrumented_keras_model_class': False,\n",
              " '_is_causal': False,\n",
              " '_losses': [],\n",
              " '_metrics': [],\n",
              " '_metrics_lock': <unlocked _thread.lock object at 0x7f8dbc7aa690>,\n",
              " '_name': 'conv1d_1',\n",
              " '_non_trainable_weights': [],\n",
              " '_obj_reference_counts_dict': ObjectIdentityDictionary({<_ObjectIdentityWrapper wrapping 1>: 2, <_ObjectIdentityWrapper wrapping 480>: 1, <_ObjectIdentityWrapper wrapping (9,)>: 1, <_ObjectIdentityWrapper wrapping (1,)>: 1, <_ObjectIdentityWrapper wrapping 'valid'>: 1, <_ObjectIdentityWrapper wrapping 'channels_last'>: 1, <_ObjectIdentityWrapper wrapping (1,)>: 1, <_ObjectIdentityWrapper wrapping <function relu at 0x7f8e4f5e90e0>>: 1, <_ObjectIdentityWrapper wrapping True>: 2, <_ObjectIdentityWrapper wrapping <keras.initializers.initializers_v2.VarianceScaling object at 0x7f8db9dec890>>: 1, <_ObjectIdentityWrapper wrapping <keras.initializers.initializers_v2.Zeros object at 0x7f8db9decd90>>: 1, <_ObjectIdentityWrapper wrapping <keras.regularizers.L1L2 object at 0x7f8db9deca50>>: 1, <_ObjectIdentityWrapper wrapping <keras.constraints.MaxNorm object at 0x7f8db9dec990>>: 1, <_ObjectIdentityWrapper wrapping False>: 1, <_ObjectIdentityWrapper wrapping 'NWC'>: 1, <_ObjectIdentityWrapper wrapping <tf.Variable 'conv1d_1/kernel:0' shape=(9, 4, 480) dtype=float32, numpy=\n",
              " array([[[ 4.9680956e-03,  1.5062690e-03,  2.0550050e-02, ...,\n",
              "           3.6332414e-02, -6.2360205e-03, -1.3749583e-02],\n",
              "         [-2.7827039e-02,  2.7867965e-02,  1.5194714e-04, ...,\n",
              "           3.5856888e-02,  3.3150546e-02, -3.2284874e-02],\n",
              "         [ 3.0774772e-02,  1.6956542e-02,  3.6101915e-02, ...,\n",
              "          -3.0616976e-02,  3.3788368e-02, -1.7586568e-02],\n",
              "         [ 2.6669331e-02, -7.1959272e-03, -2.5928259e-02, ...,\n",
              "          -3.2273468e-02, -7.6983217e-03,  3.4486957e-02]],\n",
              " \n",
              "        [[ 5.1784143e-03,  2.9611923e-02, -3.3911716e-02, ...,\n",
              "          -8.1032030e-03,  1.2837999e-02, -1.2451112e-02],\n",
              "         [ 1.5838113e-02,  3.2629885e-02,  1.9120675e-02, ...,\n",
              "          -1.4941385e-02,  5.4783560e-03,  2.4103690e-02],\n",
              "         [ 1.1931181e-02, -1.5791658e-02,  1.3211265e-02, ...,\n",
              "          -3.5128329e-02, -2.1406839e-02, -3.5199646e-02],\n",
              "         [-3.1395718e-02, -1.9878173e-02,  1.7850112e-02, ...,\n",
              "           3.5262778e-02,  1.5108623e-02, -1.0099445e-02]],\n",
              " \n",
              "        [[-2.7341813e-02, -2.8637629e-02,  2.3653191e-02, ...,\n",
              "          -3.3347655e-02,  1.9997671e-02,  3.6751285e-02],\n",
              "         [ 2.0501845e-02, -2.8985456e-02, -1.2198873e-03, ...,\n",
              "          -8.9919772e-03, -2.4297498e-02,  1.5690077e-02],\n",
              "         [ 3.5536401e-02,  2.9633217e-02, -1.8091865e-02, ...,\n",
              "          -1.2639508e-02, -3.2691713e-02, -2.8610401e-02],\n",
              "         [ 3.0119225e-02, -3.2227624e-02,  2.2741783e-02, ...,\n",
              "          -1.7044559e-02,  1.6382113e-03,  2.2841807e-02]],\n",
              " \n",
              "        ...,\n",
              " \n",
              "        [[-3.0063871e-02,  2.6905797e-02,  1.0563336e-02, ...,\n",
              "           6.8001673e-03, -3.3971626e-02, -2.6829541e-05],\n",
              "         [ 7.6411255e-03, -3.1598989e-02,  2.9445268e-02, ...,\n",
              "           1.4741234e-03, -2.9594705e-02,  2.6776753e-02],\n",
              "         [-2.9461136e-02, -5.2610263e-03,  2.0051613e-02, ...,\n",
              "          -2.0271640e-02,  2.9961139e-02, -2.3263723e-02],\n",
              "         [-4.9126484e-03,  2.9392526e-02, -1.5139636e-02, ...,\n",
              "           9.3386658e-03,  3.5614774e-02, -3.2400340e-03]],\n",
              " \n",
              "        [[-1.0549586e-02,  3.3682443e-02, -1.1480870e-02, ...,\n",
              "          -1.7348569e-02,  3.2678910e-02, -1.4553031e-02],\n",
              "         [-2.6091779e-02, -2.1937875e-02,  3.6878251e-02, ...,\n",
              "          -8.2156416e-03, -5.5959150e-03,  2.7647011e-02],\n",
              "         [-2.2487748e-02, -3.2461766e-02, -1.2794914e-02, ...,\n",
              "           2.3085538e-02,  3.3267945e-02, -2.8727487e-02],\n",
              "         [ 3.1314373e-02, -8.6637139e-03, -2.9859798e-02, ...,\n",
              "           3.3023991e-03,  3.1088814e-03,  2.8223306e-02]],\n",
              " \n",
              "        [[ 2.5452852e-02,  3.1108938e-02, -2.5104459e-02, ...,\n",
              "          -1.6210442e-02, -3.1614415e-03, -3.2265168e-02],\n",
              "         [-7.2946865e-03,  1.5369389e-02,  1.1931445e-02, ...,\n",
              "           3.2348320e-02, -2.6467737e-02, -3.0138969e-02],\n",
              "         [ 1.6614646e-02,  3.5959952e-02,  5.5131465e-03, ...,\n",
              "           3.3966824e-02, -1.9772500e-03, -9.6914824e-03],\n",
              "         [-1.4249304e-02, -2.1855071e-02,  2.1266889e-02, ...,\n",
              "          -2.2699162e-03, -2.4339210e-02,  1.6679831e-02]]], dtype=float32)>>: 1, <_ObjectIdentityWrapper wrapping <tf.Variable 'conv1d_1/bias:0' shape=(480,) dtype=float32, numpy=\n",
              " array([0., 0., 0., 0., 0., 0., 0., 0., 0., 0., 0., 0., 0., 0., 0., 0., 0.,\n",
              "        0., 0., 0., 0., 0., 0., 0., 0., 0., 0., 0., 0., 0., 0., 0., 0., 0.,\n",
              "        0., 0., 0., 0., 0., 0., 0., 0., 0., 0., 0., 0., 0., 0., 0., 0., 0.,\n",
              "        0., 0., 0., 0., 0., 0., 0., 0., 0., 0., 0., 0., 0., 0., 0., 0., 0.,\n",
              "        0., 0., 0., 0., 0., 0., 0., 0., 0., 0., 0., 0., 0., 0., 0., 0., 0.,\n",
              "        0., 0., 0., 0., 0., 0., 0., 0., 0., 0., 0., 0., 0., 0., 0., 0., 0.,\n",
              "        0., 0., 0., 0., 0., 0., 0., 0., 0., 0., 0., 0., 0., 0., 0., 0., 0.,\n",
              "        0., 0., 0., 0., 0., 0., 0., 0., 0., 0., 0., 0., 0., 0., 0., 0., 0.,\n",
              "        0., 0., 0., 0., 0., 0., 0., 0., 0., 0., 0., 0., 0., 0., 0., 0., 0.,\n",
              "        0., 0., 0., 0., 0., 0., 0., 0., 0., 0., 0., 0., 0., 0., 0., 0., 0.,\n",
              "        0., 0., 0., 0., 0., 0., 0., 0., 0., 0., 0., 0., 0., 0., 0., 0., 0.,\n",
              "        0., 0., 0., 0., 0., 0., 0., 0., 0., 0., 0., 0., 0., 0., 0., 0., 0.,\n",
              "        0., 0., 0., 0., 0., 0., 0., 0., 0., 0., 0., 0., 0., 0., 0., 0., 0.,\n",
              "        0., 0., 0., 0., 0., 0., 0., 0., 0., 0., 0., 0., 0., 0., 0., 0., 0.,\n",
              "        0., 0., 0., 0., 0., 0., 0., 0., 0., 0., 0., 0., 0., 0., 0., 0., 0.,\n",
              "        0., 0., 0., 0., 0., 0., 0., 0., 0., 0., 0., 0., 0., 0., 0., 0., 0.,\n",
              "        0., 0., 0., 0., 0., 0., 0., 0., 0., 0., 0., 0., 0., 0., 0., 0., 0.,\n",
              "        0., 0., 0., 0., 0., 0., 0., 0., 0., 0., 0., 0., 0., 0., 0., 0., 0.,\n",
              "        0., 0., 0., 0., 0., 0., 0., 0., 0., 0., 0., 0., 0., 0., 0., 0., 0.,\n",
              "        0., 0., 0., 0., 0., 0., 0., 0., 0., 0., 0., 0., 0., 0., 0., 0., 0.,\n",
              "        0., 0., 0., 0., 0., 0., 0., 0., 0., 0., 0., 0., 0., 0., 0., 0., 0.,\n",
              "        0., 0., 0., 0., 0., 0., 0., 0., 0., 0., 0., 0., 0., 0., 0., 0., 0.,\n",
              "        0., 0., 0., 0., 0., 0., 0., 0., 0., 0., 0., 0., 0., 0., 0., 0., 0.,\n",
              "        0., 0., 0., 0., 0., 0., 0., 0., 0., 0., 0., 0., 0., 0., 0., 0., 0.,\n",
              "        0., 0., 0., 0., 0., 0., 0., 0., 0., 0., 0., 0., 0., 0., 0., 0., 0.,\n",
              "        0., 0., 0., 0., 0., 0., 0., 0., 0., 0., 0., 0., 0., 0., 0., 0., 0.,\n",
              "        0., 0., 0., 0., 0., 0., 0., 0., 0., 0., 0., 0., 0., 0., 0., 0., 0.,\n",
              "        0., 0., 0., 0., 0., 0., 0., 0., 0., 0., 0., 0., 0., 0., 0., 0., 0.,\n",
              "        0., 0., 0., 0.], dtype=float32)>>: 1}),\n",
              " '_outbound_nodes_value': [<keras.engine.node.Node at 0x7f8dd20a0750>],\n",
              " '_outer_name_scope': '',\n",
              " '_preserve_input_structure_in_config': False,\n",
              " '_saved_model_arg_spec': ([TensorSpec(shape=(None, 1000, 4), dtype=tf.float32, name=None)],\n",
              "  {}),\n",
              " '_saved_model_inputs_spec': TensorSpec(shape=(None, 1000, 4), dtype=tf.float32, name=None),\n",
              " '_self_name_based_restores': set(),\n",
              " '_self_saveable_object_factories': {},\n",
              " '_self_setattr_tracking': True,\n",
              " '_self_tracked_trackables': [],\n",
              " '_self_unconditional_checkpoint_dependencies': [TrackableReference(name=kernel, ref=<tf.Variable 'conv1d_1/kernel:0' shape=(9, 4, 480) dtype=float32, numpy=\n",
              "  array([[[ 4.9680956e-03,  1.5062690e-03,  2.0550050e-02, ...,\n",
              "            3.6332414e-02, -6.2360205e-03, -1.3749583e-02],\n",
              "          [-2.7827039e-02,  2.7867965e-02,  1.5194714e-04, ...,\n",
              "            3.5856888e-02,  3.3150546e-02, -3.2284874e-02],\n",
              "          [ 3.0774772e-02,  1.6956542e-02,  3.6101915e-02, ...,\n",
              "           -3.0616976e-02,  3.3788368e-02, -1.7586568e-02],\n",
              "          [ 2.6669331e-02, -7.1959272e-03, -2.5928259e-02, ...,\n",
              "           -3.2273468e-02, -7.6983217e-03,  3.4486957e-02]],\n",
              "  \n",
              "         [[ 5.1784143e-03,  2.9611923e-02, -3.3911716e-02, ...,\n",
              "           -8.1032030e-03,  1.2837999e-02, -1.2451112e-02],\n",
              "          [ 1.5838113e-02,  3.2629885e-02,  1.9120675e-02, ...,\n",
              "           -1.4941385e-02,  5.4783560e-03,  2.4103690e-02],\n",
              "          [ 1.1931181e-02, -1.5791658e-02,  1.3211265e-02, ...,\n",
              "           -3.5128329e-02, -2.1406839e-02, -3.5199646e-02],\n",
              "          [-3.1395718e-02, -1.9878173e-02,  1.7850112e-02, ...,\n",
              "            3.5262778e-02,  1.5108623e-02, -1.0099445e-02]],\n",
              "  \n",
              "         [[-2.7341813e-02, -2.8637629e-02,  2.3653191e-02, ...,\n",
              "           -3.3347655e-02,  1.9997671e-02,  3.6751285e-02],\n",
              "          [ 2.0501845e-02, -2.8985456e-02, -1.2198873e-03, ...,\n",
              "           -8.9919772e-03, -2.4297498e-02,  1.5690077e-02],\n",
              "          [ 3.5536401e-02,  2.9633217e-02, -1.8091865e-02, ...,\n",
              "           -1.2639508e-02, -3.2691713e-02, -2.8610401e-02],\n",
              "          [ 3.0119225e-02, -3.2227624e-02,  2.2741783e-02, ...,\n",
              "           -1.7044559e-02,  1.6382113e-03,  2.2841807e-02]],\n",
              "  \n",
              "         ...,\n",
              "  \n",
              "         [[-3.0063871e-02,  2.6905797e-02,  1.0563336e-02, ...,\n",
              "            6.8001673e-03, -3.3971626e-02, -2.6829541e-05],\n",
              "          [ 7.6411255e-03, -3.1598989e-02,  2.9445268e-02, ...,\n",
              "            1.4741234e-03, -2.9594705e-02,  2.6776753e-02],\n",
              "          [-2.9461136e-02, -5.2610263e-03,  2.0051613e-02, ...,\n",
              "           -2.0271640e-02,  2.9961139e-02, -2.3263723e-02],\n",
              "          [-4.9126484e-03,  2.9392526e-02, -1.5139636e-02, ...,\n",
              "            9.3386658e-03,  3.5614774e-02, -3.2400340e-03]],\n",
              "  \n",
              "         [[-1.0549586e-02,  3.3682443e-02, -1.1480870e-02, ...,\n",
              "           -1.7348569e-02,  3.2678910e-02, -1.4553031e-02],\n",
              "          [-2.6091779e-02, -2.1937875e-02,  3.6878251e-02, ...,\n",
              "           -8.2156416e-03, -5.5959150e-03,  2.7647011e-02],\n",
              "          [-2.2487748e-02, -3.2461766e-02, -1.2794914e-02, ...,\n",
              "            2.3085538e-02,  3.3267945e-02, -2.8727487e-02],\n",
              "          [ 3.1314373e-02, -8.6637139e-03, -2.9859798e-02, ...,\n",
              "            3.3023991e-03,  3.1088814e-03,  2.8223306e-02]],\n",
              "  \n",
              "         [[ 2.5452852e-02,  3.1108938e-02, -2.5104459e-02, ...,\n",
              "           -1.6210442e-02, -3.1614415e-03, -3.2265168e-02],\n",
              "          [-7.2946865e-03,  1.5369389e-02,  1.1931445e-02, ...,\n",
              "            3.2348320e-02, -2.6467737e-02, -3.0138969e-02],\n",
              "          [ 1.6614646e-02,  3.5959952e-02,  5.5131465e-03, ...,\n",
              "            3.3966824e-02, -1.9772500e-03, -9.6914824e-03],\n",
              "          [-1.4249304e-02, -2.1855071e-02,  2.1266889e-02, ...,\n",
              "           -2.2699162e-03, -2.4339210e-02,  1.6679831e-02]]], dtype=float32)>),\n",
              "  TrackableReference(name=bias, ref=<tf.Variable 'conv1d_1/bias:0' shape=(480,) dtype=float32, numpy=\n",
              "  array([0., 0., 0., 0., 0., 0., 0., 0., 0., 0., 0., 0., 0., 0., 0., 0., 0.,\n",
              "         0., 0., 0., 0., 0., 0., 0., 0., 0., 0., 0., 0., 0., 0., 0., 0., 0.,\n",
              "         0., 0., 0., 0., 0., 0., 0., 0., 0., 0., 0., 0., 0., 0., 0., 0., 0.,\n",
              "         0., 0., 0., 0., 0., 0., 0., 0., 0., 0., 0., 0., 0., 0., 0., 0., 0.,\n",
              "         0., 0., 0., 0., 0., 0., 0., 0., 0., 0., 0., 0., 0., 0., 0., 0., 0.,\n",
              "         0., 0., 0., 0., 0., 0., 0., 0., 0., 0., 0., 0., 0., 0., 0., 0., 0.,\n",
              "         0., 0., 0., 0., 0., 0., 0., 0., 0., 0., 0., 0., 0., 0., 0., 0., 0.,\n",
              "         0., 0., 0., 0., 0., 0., 0., 0., 0., 0., 0., 0., 0., 0., 0., 0., 0.,\n",
              "         0., 0., 0., 0., 0., 0., 0., 0., 0., 0., 0., 0., 0., 0., 0., 0., 0.,\n",
              "         0., 0., 0., 0., 0., 0., 0., 0., 0., 0., 0., 0., 0., 0., 0., 0., 0.,\n",
              "         0., 0., 0., 0., 0., 0., 0., 0., 0., 0., 0., 0., 0., 0., 0., 0., 0.,\n",
              "         0., 0., 0., 0., 0., 0., 0., 0., 0., 0., 0., 0., 0., 0., 0., 0., 0.,\n",
              "         0., 0., 0., 0., 0., 0., 0., 0., 0., 0., 0., 0., 0., 0., 0., 0., 0.,\n",
              "         0., 0., 0., 0., 0., 0., 0., 0., 0., 0., 0., 0., 0., 0., 0., 0., 0.,\n",
              "         0., 0., 0., 0., 0., 0., 0., 0., 0., 0., 0., 0., 0., 0., 0., 0., 0.,\n",
              "         0., 0., 0., 0., 0., 0., 0., 0., 0., 0., 0., 0., 0., 0., 0., 0., 0.,\n",
              "         0., 0., 0., 0., 0., 0., 0., 0., 0., 0., 0., 0., 0., 0., 0., 0., 0.,\n",
              "         0., 0., 0., 0., 0., 0., 0., 0., 0., 0., 0., 0., 0., 0., 0., 0., 0.,\n",
              "         0., 0., 0., 0., 0., 0., 0., 0., 0., 0., 0., 0., 0., 0., 0., 0., 0.,\n",
              "         0., 0., 0., 0., 0., 0., 0., 0., 0., 0., 0., 0., 0., 0., 0., 0., 0.,\n",
              "         0., 0., 0., 0., 0., 0., 0., 0., 0., 0., 0., 0., 0., 0., 0., 0., 0.,\n",
              "         0., 0., 0., 0., 0., 0., 0., 0., 0., 0., 0., 0., 0., 0., 0., 0., 0.,\n",
              "         0., 0., 0., 0., 0., 0., 0., 0., 0., 0., 0., 0., 0., 0., 0., 0., 0.,\n",
              "         0., 0., 0., 0., 0., 0., 0., 0., 0., 0., 0., 0., 0., 0., 0., 0., 0.,\n",
              "         0., 0., 0., 0., 0., 0., 0., 0., 0., 0., 0., 0., 0., 0., 0., 0., 0.,\n",
              "         0., 0., 0., 0., 0., 0., 0., 0., 0., 0., 0., 0., 0., 0., 0., 0., 0.,\n",
              "         0., 0., 0., 0., 0., 0., 0., 0., 0., 0., 0., 0., 0., 0., 0., 0., 0.,\n",
              "         0., 0., 0., 0., 0., 0., 0., 0., 0., 0., 0., 0., 0., 0., 0., 0., 0.,\n",
              "         0., 0., 0., 0.], dtype=float32)>)],\n",
              " '_self_unconditional_deferred_dependencies': {},\n",
              " '_self_unconditional_dependency_names': {'bias': <tf.Variable 'conv1d_1/bias:0' shape=(480,) dtype=float32, numpy=\n",
              "  array([0., 0., 0., 0., 0., 0., 0., 0., 0., 0., 0., 0., 0., 0., 0., 0., 0.,\n",
              "         0., 0., 0., 0., 0., 0., 0., 0., 0., 0., 0., 0., 0., 0., 0., 0., 0.,\n",
              "         0., 0., 0., 0., 0., 0., 0., 0., 0., 0., 0., 0., 0., 0., 0., 0., 0.,\n",
              "         0., 0., 0., 0., 0., 0., 0., 0., 0., 0., 0., 0., 0., 0., 0., 0., 0.,\n",
              "         0., 0., 0., 0., 0., 0., 0., 0., 0., 0., 0., 0., 0., 0., 0., 0., 0.,\n",
              "         0., 0., 0., 0., 0., 0., 0., 0., 0., 0., 0., 0., 0., 0., 0., 0., 0.,\n",
              "         0., 0., 0., 0., 0., 0., 0., 0., 0., 0., 0., 0., 0., 0., 0., 0., 0.,\n",
              "         0., 0., 0., 0., 0., 0., 0., 0., 0., 0., 0., 0., 0., 0., 0., 0., 0.,\n",
              "         0., 0., 0., 0., 0., 0., 0., 0., 0., 0., 0., 0., 0., 0., 0., 0., 0.,\n",
              "         0., 0., 0., 0., 0., 0., 0., 0., 0., 0., 0., 0., 0., 0., 0., 0., 0.,\n",
              "         0., 0., 0., 0., 0., 0., 0., 0., 0., 0., 0., 0., 0., 0., 0., 0., 0.,\n",
              "         0., 0., 0., 0., 0., 0., 0., 0., 0., 0., 0., 0., 0., 0., 0., 0., 0.,\n",
              "         0., 0., 0., 0., 0., 0., 0., 0., 0., 0., 0., 0., 0., 0., 0., 0., 0.,\n",
              "         0., 0., 0., 0., 0., 0., 0., 0., 0., 0., 0., 0., 0., 0., 0., 0., 0.,\n",
              "         0., 0., 0., 0., 0., 0., 0., 0., 0., 0., 0., 0., 0., 0., 0., 0., 0.,\n",
              "         0., 0., 0., 0., 0., 0., 0., 0., 0., 0., 0., 0., 0., 0., 0., 0., 0.,\n",
              "         0., 0., 0., 0., 0., 0., 0., 0., 0., 0., 0., 0., 0., 0., 0., 0., 0.,\n",
              "         0., 0., 0., 0., 0., 0., 0., 0., 0., 0., 0., 0., 0., 0., 0., 0., 0.,\n",
              "         0., 0., 0., 0., 0., 0., 0., 0., 0., 0., 0., 0., 0., 0., 0., 0., 0.,\n",
              "         0., 0., 0., 0., 0., 0., 0., 0., 0., 0., 0., 0., 0., 0., 0., 0., 0.,\n",
              "         0., 0., 0., 0., 0., 0., 0., 0., 0., 0., 0., 0., 0., 0., 0., 0., 0.,\n",
              "         0., 0., 0., 0., 0., 0., 0., 0., 0., 0., 0., 0., 0., 0., 0., 0., 0.,\n",
              "         0., 0., 0., 0., 0., 0., 0., 0., 0., 0., 0., 0., 0., 0., 0., 0., 0.,\n",
              "         0., 0., 0., 0., 0., 0., 0., 0., 0., 0., 0., 0., 0., 0., 0., 0., 0.,\n",
              "         0., 0., 0., 0., 0., 0., 0., 0., 0., 0., 0., 0., 0., 0., 0., 0., 0.,\n",
              "         0., 0., 0., 0., 0., 0., 0., 0., 0., 0., 0., 0., 0., 0., 0., 0., 0.,\n",
              "         0., 0., 0., 0., 0., 0., 0., 0., 0., 0., 0., 0., 0., 0., 0., 0., 0.,\n",
              "         0., 0., 0., 0., 0., 0., 0., 0., 0., 0., 0., 0., 0., 0., 0., 0., 0.,\n",
              "         0., 0., 0., 0.], dtype=float32)>,\n",
              "  'kernel': <tf.Variable 'conv1d_1/kernel:0' shape=(9, 4, 480) dtype=float32, numpy=\n",
              "  array([[[ 4.9680956e-03,  1.5062690e-03,  2.0550050e-02, ...,\n",
              "            3.6332414e-02, -6.2360205e-03, -1.3749583e-02],\n",
              "          [-2.7827039e-02,  2.7867965e-02,  1.5194714e-04, ...,\n",
              "            3.5856888e-02,  3.3150546e-02, -3.2284874e-02],\n",
              "          [ 3.0774772e-02,  1.6956542e-02,  3.6101915e-02, ...,\n",
              "           -3.0616976e-02,  3.3788368e-02, -1.7586568e-02],\n",
              "          [ 2.6669331e-02, -7.1959272e-03, -2.5928259e-02, ...,\n",
              "           -3.2273468e-02, -7.6983217e-03,  3.4486957e-02]],\n",
              "  \n",
              "         [[ 5.1784143e-03,  2.9611923e-02, -3.3911716e-02, ...,\n",
              "           -8.1032030e-03,  1.2837999e-02, -1.2451112e-02],\n",
              "          [ 1.5838113e-02,  3.2629885e-02,  1.9120675e-02, ...,\n",
              "           -1.4941385e-02,  5.4783560e-03,  2.4103690e-02],\n",
              "          [ 1.1931181e-02, -1.5791658e-02,  1.3211265e-02, ...,\n",
              "           -3.5128329e-02, -2.1406839e-02, -3.5199646e-02],\n",
              "          [-3.1395718e-02, -1.9878173e-02,  1.7850112e-02, ...,\n",
              "            3.5262778e-02,  1.5108623e-02, -1.0099445e-02]],\n",
              "  \n",
              "         [[-2.7341813e-02, -2.8637629e-02,  2.3653191e-02, ...,\n",
              "           -3.3347655e-02,  1.9997671e-02,  3.6751285e-02],\n",
              "          [ 2.0501845e-02, -2.8985456e-02, -1.2198873e-03, ...,\n",
              "           -8.9919772e-03, -2.4297498e-02,  1.5690077e-02],\n",
              "          [ 3.5536401e-02,  2.9633217e-02, -1.8091865e-02, ...,\n",
              "           -1.2639508e-02, -3.2691713e-02, -2.8610401e-02],\n",
              "          [ 3.0119225e-02, -3.2227624e-02,  2.2741783e-02, ...,\n",
              "           -1.7044559e-02,  1.6382113e-03,  2.2841807e-02]],\n",
              "  \n",
              "         ...,\n",
              "  \n",
              "         [[-3.0063871e-02,  2.6905797e-02,  1.0563336e-02, ...,\n",
              "            6.8001673e-03, -3.3971626e-02, -2.6829541e-05],\n",
              "          [ 7.6411255e-03, -3.1598989e-02,  2.9445268e-02, ...,\n",
              "            1.4741234e-03, -2.9594705e-02,  2.6776753e-02],\n",
              "          [-2.9461136e-02, -5.2610263e-03,  2.0051613e-02, ...,\n",
              "           -2.0271640e-02,  2.9961139e-02, -2.3263723e-02],\n",
              "          [-4.9126484e-03,  2.9392526e-02, -1.5139636e-02, ...,\n",
              "            9.3386658e-03,  3.5614774e-02, -3.2400340e-03]],\n",
              "  \n",
              "         [[-1.0549586e-02,  3.3682443e-02, -1.1480870e-02, ...,\n",
              "           -1.7348569e-02,  3.2678910e-02, -1.4553031e-02],\n",
              "          [-2.6091779e-02, -2.1937875e-02,  3.6878251e-02, ...,\n",
              "           -8.2156416e-03, -5.5959150e-03,  2.7647011e-02],\n",
              "          [-2.2487748e-02, -3.2461766e-02, -1.2794914e-02, ...,\n",
              "            2.3085538e-02,  3.3267945e-02, -2.8727487e-02],\n",
              "          [ 3.1314373e-02, -8.6637139e-03, -2.9859798e-02, ...,\n",
              "            3.3023991e-03,  3.1088814e-03,  2.8223306e-02]],\n",
              "  \n",
              "         [[ 2.5452852e-02,  3.1108938e-02, -2.5104459e-02, ...,\n",
              "           -1.6210442e-02, -3.1614415e-03, -3.2265168e-02],\n",
              "          [-7.2946865e-03,  1.5369389e-02,  1.1931445e-02, ...,\n",
              "            3.2348320e-02, -2.6467737e-02, -3.0138969e-02],\n",
              "          [ 1.6614646e-02,  3.5959952e-02,  5.5131465e-03, ...,\n",
              "            3.3966824e-02, -1.9772500e-03, -9.6914824e-03],\n",
              "          [-1.4249304e-02, -2.1855071e-02,  2.1266889e-02, ...,\n",
              "           -2.2699162e-03, -2.4339210e-02,  1.6679831e-02]]], dtype=float32)>},\n",
              " '_self_update_uid': -1,\n",
              " '_stateful': False,\n",
              " '_supports_masking': False,\n",
              " '_tf_data_format': 'NWC',\n",
              " '_thread_local': <_thread._local at 0x7f8db9dda470>,\n",
              " '_trainable': True,\n",
              " '_trainable_weights': [<tf.Variable 'conv1d_1/kernel:0' shape=(9, 4, 480) dtype=float32, numpy=\n",
              "  array([[[ 4.9680956e-03,  1.5062690e-03,  2.0550050e-02, ...,\n",
              "            3.6332414e-02, -6.2360205e-03, -1.3749583e-02],\n",
              "          [-2.7827039e-02,  2.7867965e-02,  1.5194714e-04, ...,\n",
              "            3.5856888e-02,  3.3150546e-02, -3.2284874e-02],\n",
              "          [ 3.0774772e-02,  1.6956542e-02,  3.6101915e-02, ...,\n",
              "           -3.0616976e-02,  3.3788368e-02, -1.7586568e-02],\n",
              "          [ 2.6669331e-02, -7.1959272e-03, -2.5928259e-02, ...,\n",
              "           -3.2273468e-02, -7.6983217e-03,  3.4486957e-02]],\n",
              "  \n",
              "         [[ 5.1784143e-03,  2.9611923e-02, -3.3911716e-02, ...,\n",
              "           -8.1032030e-03,  1.2837999e-02, -1.2451112e-02],\n",
              "          [ 1.5838113e-02,  3.2629885e-02,  1.9120675e-02, ...,\n",
              "           -1.4941385e-02,  5.4783560e-03,  2.4103690e-02],\n",
              "          [ 1.1931181e-02, -1.5791658e-02,  1.3211265e-02, ...,\n",
              "           -3.5128329e-02, -2.1406839e-02, -3.5199646e-02],\n",
              "          [-3.1395718e-02, -1.9878173e-02,  1.7850112e-02, ...,\n",
              "            3.5262778e-02,  1.5108623e-02, -1.0099445e-02]],\n",
              "  \n",
              "         [[-2.7341813e-02, -2.8637629e-02,  2.3653191e-02, ...,\n",
              "           -3.3347655e-02,  1.9997671e-02,  3.6751285e-02],\n",
              "          [ 2.0501845e-02, -2.8985456e-02, -1.2198873e-03, ...,\n",
              "           -8.9919772e-03, -2.4297498e-02,  1.5690077e-02],\n",
              "          [ 3.5536401e-02,  2.9633217e-02, -1.8091865e-02, ...,\n",
              "           -1.2639508e-02, -3.2691713e-02, -2.8610401e-02],\n",
              "          [ 3.0119225e-02, -3.2227624e-02,  2.2741783e-02, ...,\n",
              "           -1.7044559e-02,  1.6382113e-03,  2.2841807e-02]],\n",
              "  \n",
              "         ...,\n",
              "  \n",
              "         [[-3.0063871e-02,  2.6905797e-02,  1.0563336e-02, ...,\n",
              "            6.8001673e-03, -3.3971626e-02, -2.6829541e-05],\n",
              "          [ 7.6411255e-03, -3.1598989e-02,  2.9445268e-02, ...,\n",
              "            1.4741234e-03, -2.9594705e-02,  2.6776753e-02],\n",
              "          [-2.9461136e-02, -5.2610263e-03,  2.0051613e-02, ...,\n",
              "           -2.0271640e-02,  2.9961139e-02, -2.3263723e-02],\n",
              "          [-4.9126484e-03,  2.9392526e-02, -1.5139636e-02, ...,\n",
              "            9.3386658e-03,  3.5614774e-02, -3.2400340e-03]],\n",
              "  \n",
              "         [[-1.0549586e-02,  3.3682443e-02, -1.1480870e-02, ...,\n",
              "           -1.7348569e-02,  3.2678910e-02, -1.4553031e-02],\n",
              "          [-2.6091779e-02, -2.1937875e-02,  3.6878251e-02, ...,\n",
              "           -8.2156416e-03, -5.5959150e-03,  2.7647011e-02],\n",
              "          [-2.2487748e-02, -3.2461766e-02, -1.2794914e-02, ...,\n",
              "            2.3085538e-02,  3.3267945e-02, -2.8727487e-02],\n",
              "          [ 3.1314373e-02, -8.6637139e-03, -2.9859798e-02, ...,\n",
              "            3.3023991e-03,  3.1088814e-03,  2.8223306e-02]],\n",
              "  \n",
              "         [[ 2.5452852e-02,  3.1108938e-02, -2.5104459e-02, ...,\n",
              "           -1.6210442e-02, -3.1614415e-03, -3.2265168e-02],\n",
              "          [-7.2946865e-03,  1.5369389e-02,  1.1931445e-02, ...,\n",
              "            3.2348320e-02, -2.6467737e-02, -3.0138969e-02],\n",
              "          [ 1.6614646e-02,  3.5959952e-02,  5.5131465e-03, ...,\n",
              "            3.3966824e-02, -1.9772500e-03, -9.6914824e-03],\n",
              "          [-1.4249304e-02, -2.1855071e-02,  2.1266889e-02, ...,\n",
              "           -2.2699162e-03, -2.4339210e-02,  1.6679831e-02]]], dtype=float32)>,\n",
              "  <tf.Variable 'conv1d_1/bias:0' shape=(480,) dtype=float32, numpy=\n",
              "  array([0., 0., 0., 0., 0., 0., 0., 0., 0., 0., 0., 0., 0., 0., 0., 0., 0.,\n",
              "         0., 0., 0., 0., 0., 0., 0., 0., 0., 0., 0., 0., 0., 0., 0., 0., 0.,\n",
              "         0., 0., 0., 0., 0., 0., 0., 0., 0., 0., 0., 0., 0., 0., 0., 0., 0.,\n",
              "         0., 0., 0., 0., 0., 0., 0., 0., 0., 0., 0., 0., 0., 0., 0., 0., 0.,\n",
              "         0., 0., 0., 0., 0., 0., 0., 0., 0., 0., 0., 0., 0., 0., 0., 0., 0.,\n",
              "         0., 0., 0., 0., 0., 0., 0., 0., 0., 0., 0., 0., 0., 0., 0., 0., 0.,\n",
              "         0., 0., 0., 0., 0., 0., 0., 0., 0., 0., 0., 0., 0., 0., 0., 0., 0.,\n",
              "         0., 0., 0., 0., 0., 0., 0., 0., 0., 0., 0., 0., 0., 0., 0., 0., 0.,\n",
              "         0., 0., 0., 0., 0., 0., 0., 0., 0., 0., 0., 0., 0., 0., 0., 0., 0.,\n",
              "         0., 0., 0., 0., 0., 0., 0., 0., 0., 0., 0., 0., 0., 0., 0., 0., 0.,\n",
              "         0., 0., 0., 0., 0., 0., 0., 0., 0., 0., 0., 0., 0., 0., 0., 0., 0.,\n",
              "         0., 0., 0., 0., 0., 0., 0., 0., 0., 0., 0., 0., 0., 0., 0., 0., 0.,\n",
              "         0., 0., 0., 0., 0., 0., 0., 0., 0., 0., 0., 0., 0., 0., 0., 0., 0.,\n",
              "         0., 0., 0., 0., 0., 0., 0., 0., 0., 0., 0., 0., 0., 0., 0., 0., 0.,\n",
              "         0., 0., 0., 0., 0., 0., 0., 0., 0., 0., 0., 0., 0., 0., 0., 0., 0.,\n",
              "         0., 0., 0., 0., 0., 0., 0., 0., 0., 0., 0., 0., 0., 0., 0., 0., 0.,\n",
              "         0., 0., 0., 0., 0., 0., 0., 0., 0., 0., 0., 0., 0., 0., 0., 0., 0.,\n",
              "         0., 0., 0., 0., 0., 0., 0., 0., 0., 0., 0., 0., 0., 0., 0., 0., 0.,\n",
              "         0., 0., 0., 0., 0., 0., 0., 0., 0., 0., 0., 0., 0., 0., 0., 0., 0.,\n",
              "         0., 0., 0., 0., 0., 0., 0., 0., 0., 0., 0., 0., 0., 0., 0., 0., 0.,\n",
              "         0., 0., 0., 0., 0., 0., 0., 0., 0., 0., 0., 0., 0., 0., 0., 0., 0.,\n",
              "         0., 0., 0., 0., 0., 0., 0., 0., 0., 0., 0., 0., 0., 0., 0., 0., 0.,\n",
              "         0., 0., 0., 0., 0., 0., 0., 0., 0., 0., 0., 0., 0., 0., 0., 0., 0.,\n",
              "         0., 0., 0., 0., 0., 0., 0., 0., 0., 0., 0., 0., 0., 0., 0., 0., 0.,\n",
              "         0., 0., 0., 0., 0., 0., 0., 0., 0., 0., 0., 0., 0., 0., 0., 0., 0.,\n",
              "         0., 0., 0., 0., 0., 0., 0., 0., 0., 0., 0., 0., 0., 0., 0., 0., 0.,\n",
              "         0., 0., 0., 0., 0., 0., 0., 0., 0., 0., 0., 0., 0., 0., 0., 0., 0.,\n",
              "         0., 0., 0., 0., 0., 0., 0., 0., 0., 0., 0., 0., 0., 0., 0., 0., 0.,\n",
              "         0., 0., 0., 0.], dtype=float32)>],\n",
              " '_updates': [],\n",
              " 'activation': <function keras.activations.relu>,\n",
              " 'bias': <tf.Variable 'conv1d_1/bias:0' shape=(480,) dtype=float32, numpy=\n",
              " array([0., 0., 0., 0., 0., 0., 0., 0., 0., 0., 0., 0., 0., 0., 0., 0., 0.,\n",
              "        0., 0., 0., 0., 0., 0., 0., 0., 0., 0., 0., 0., 0., 0., 0., 0., 0.,\n",
              "        0., 0., 0., 0., 0., 0., 0., 0., 0., 0., 0., 0., 0., 0., 0., 0., 0.,\n",
              "        0., 0., 0., 0., 0., 0., 0., 0., 0., 0., 0., 0., 0., 0., 0., 0., 0.,\n",
              "        0., 0., 0., 0., 0., 0., 0., 0., 0., 0., 0., 0., 0., 0., 0., 0., 0.,\n",
              "        0., 0., 0., 0., 0., 0., 0., 0., 0., 0., 0., 0., 0., 0., 0., 0., 0.,\n",
              "        0., 0., 0., 0., 0., 0., 0., 0., 0., 0., 0., 0., 0., 0., 0., 0., 0.,\n",
              "        0., 0., 0., 0., 0., 0., 0., 0., 0., 0., 0., 0., 0., 0., 0., 0., 0.,\n",
              "        0., 0., 0., 0., 0., 0., 0., 0., 0., 0., 0., 0., 0., 0., 0., 0., 0.,\n",
              "        0., 0., 0., 0., 0., 0., 0., 0., 0., 0., 0., 0., 0., 0., 0., 0., 0.,\n",
              "        0., 0., 0., 0., 0., 0., 0., 0., 0., 0., 0., 0., 0., 0., 0., 0., 0.,\n",
              "        0., 0., 0., 0., 0., 0., 0., 0., 0., 0., 0., 0., 0., 0., 0., 0., 0.,\n",
              "        0., 0., 0., 0., 0., 0., 0., 0., 0., 0., 0., 0., 0., 0., 0., 0., 0.,\n",
              "        0., 0., 0., 0., 0., 0., 0., 0., 0., 0., 0., 0., 0., 0., 0., 0., 0.,\n",
              "        0., 0., 0., 0., 0., 0., 0., 0., 0., 0., 0., 0., 0., 0., 0., 0., 0.,\n",
              "        0., 0., 0., 0., 0., 0., 0., 0., 0., 0., 0., 0., 0., 0., 0., 0., 0.,\n",
              "        0., 0., 0., 0., 0., 0., 0., 0., 0., 0., 0., 0., 0., 0., 0., 0., 0.,\n",
              "        0., 0., 0., 0., 0., 0., 0., 0., 0., 0., 0., 0., 0., 0., 0., 0., 0.,\n",
              "        0., 0., 0., 0., 0., 0., 0., 0., 0., 0., 0., 0., 0., 0., 0., 0., 0.,\n",
              "        0., 0., 0., 0., 0., 0., 0., 0., 0., 0., 0., 0., 0., 0., 0., 0., 0.,\n",
              "        0., 0., 0., 0., 0., 0., 0., 0., 0., 0., 0., 0., 0., 0., 0., 0., 0.,\n",
              "        0., 0., 0., 0., 0., 0., 0., 0., 0., 0., 0., 0., 0., 0., 0., 0., 0.,\n",
              "        0., 0., 0., 0., 0., 0., 0., 0., 0., 0., 0., 0., 0., 0., 0., 0., 0.,\n",
              "        0., 0., 0., 0., 0., 0., 0., 0., 0., 0., 0., 0., 0., 0., 0., 0., 0.,\n",
              "        0., 0., 0., 0., 0., 0., 0., 0., 0., 0., 0., 0., 0., 0., 0., 0., 0.,\n",
              "        0., 0., 0., 0., 0., 0., 0., 0., 0., 0., 0., 0., 0., 0., 0., 0., 0.,\n",
              "        0., 0., 0., 0., 0., 0., 0., 0., 0., 0., 0., 0., 0., 0., 0., 0., 0.,\n",
              "        0., 0., 0., 0., 0., 0., 0., 0., 0., 0., 0., 0., 0., 0., 0., 0., 0.,\n",
              "        0., 0., 0., 0.], dtype=float32)>,\n",
              " 'bias_constraint': None,\n",
              " 'bias_initializer': <keras.initializers.initializers_v2.Zeros at 0x7f8db9decd90>,\n",
              " 'bias_regularizer': None,\n",
              " 'built': True,\n",
              " 'data_format': 'channels_last',\n",
              " 'dilation_rate': (1,),\n",
              " 'filters': 480,\n",
              " 'groups': 1,\n",
              " 'kernel': <tf.Variable 'conv1d_1/kernel:0' shape=(9, 4, 480) dtype=float32, numpy=\n",
              " array([[[ 4.9680956e-03,  1.5062690e-03,  2.0550050e-02, ...,\n",
              "           3.6332414e-02, -6.2360205e-03, -1.3749583e-02],\n",
              "         [-2.7827039e-02,  2.7867965e-02,  1.5194714e-04, ...,\n",
              "           3.5856888e-02,  3.3150546e-02, -3.2284874e-02],\n",
              "         [ 3.0774772e-02,  1.6956542e-02,  3.6101915e-02, ...,\n",
              "          -3.0616976e-02,  3.3788368e-02, -1.7586568e-02],\n",
              "         [ 2.6669331e-02, -7.1959272e-03, -2.5928259e-02, ...,\n",
              "          -3.2273468e-02, -7.6983217e-03,  3.4486957e-02]],\n",
              " \n",
              "        [[ 5.1784143e-03,  2.9611923e-02, -3.3911716e-02, ...,\n",
              "          -8.1032030e-03,  1.2837999e-02, -1.2451112e-02],\n",
              "         [ 1.5838113e-02,  3.2629885e-02,  1.9120675e-02, ...,\n",
              "          -1.4941385e-02,  5.4783560e-03,  2.4103690e-02],\n",
              "         [ 1.1931181e-02, -1.5791658e-02,  1.3211265e-02, ...,\n",
              "          -3.5128329e-02, -2.1406839e-02, -3.5199646e-02],\n",
              "         [-3.1395718e-02, -1.9878173e-02,  1.7850112e-02, ...,\n",
              "           3.5262778e-02,  1.5108623e-02, -1.0099445e-02]],\n",
              " \n",
              "        [[-2.7341813e-02, -2.8637629e-02,  2.3653191e-02, ...,\n",
              "          -3.3347655e-02,  1.9997671e-02,  3.6751285e-02],\n",
              "         [ 2.0501845e-02, -2.8985456e-02, -1.2198873e-03, ...,\n",
              "          -8.9919772e-03, -2.4297498e-02,  1.5690077e-02],\n",
              "         [ 3.5536401e-02,  2.9633217e-02, -1.8091865e-02, ...,\n",
              "          -1.2639508e-02, -3.2691713e-02, -2.8610401e-02],\n",
              "         [ 3.0119225e-02, -3.2227624e-02,  2.2741783e-02, ...,\n",
              "          -1.7044559e-02,  1.6382113e-03,  2.2841807e-02]],\n",
              " \n",
              "        ...,\n",
              " \n",
              "        [[-3.0063871e-02,  2.6905797e-02,  1.0563336e-02, ...,\n",
              "           6.8001673e-03, -3.3971626e-02, -2.6829541e-05],\n",
              "         [ 7.6411255e-03, -3.1598989e-02,  2.9445268e-02, ...,\n",
              "           1.4741234e-03, -2.9594705e-02,  2.6776753e-02],\n",
              "         [-2.9461136e-02, -5.2610263e-03,  2.0051613e-02, ...,\n",
              "          -2.0271640e-02,  2.9961139e-02, -2.3263723e-02],\n",
              "         [-4.9126484e-03,  2.9392526e-02, -1.5139636e-02, ...,\n",
              "           9.3386658e-03,  3.5614774e-02, -3.2400340e-03]],\n",
              " \n",
              "        [[-1.0549586e-02,  3.3682443e-02, -1.1480870e-02, ...,\n",
              "          -1.7348569e-02,  3.2678910e-02, -1.4553031e-02],\n",
              "         [-2.6091779e-02, -2.1937875e-02,  3.6878251e-02, ...,\n",
              "          -8.2156416e-03, -5.5959150e-03,  2.7647011e-02],\n",
              "         [-2.2487748e-02, -3.2461766e-02, -1.2794914e-02, ...,\n",
              "           2.3085538e-02,  3.3267945e-02, -2.8727487e-02],\n",
              "         [ 3.1314373e-02, -8.6637139e-03, -2.9859798e-02, ...,\n",
              "           3.3023991e-03,  3.1088814e-03,  2.8223306e-02]],\n",
              " \n",
              "        [[ 2.5452852e-02,  3.1108938e-02, -2.5104459e-02, ...,\n",
              "          -1.6210442e-02, -3.1614415e-03, -3.2265168e-02],\n",
              "         [-7.2946865e-03,  1.5369389e-02,  1.1931445e-02, ...,\n",
              "           3.2348320e-02, -2.6467737e-02, -3.0138969e-02],\n",
              "         [ 1.6614646e-02,  3.5959952e-02,  5.5131465e-03, ...,\n",
              "           3.3966824e-02, -1.9772500e-03, -9.6914824e-03],\n",
              "         [-1.4249304e-02, -2.1855071e-02,  2.1266889e-02, ...,\n",
              "          -2.2699162e-03, -2.4339210e-02,  1.6679831e-02]]], dtype=float32)>,\n",
              " 'kernel_constraint': <keras.constraints.MaxNorm at 0x7f8db9dec990>,\n",
              " 'kernel_initializer': <keras.initializers.initializers_v2.VarianceScaling at 0x7f8db9dec890>,\n",
              " 'kernel_regularizer': <keras.regularizers.L1L2 at 0x7f8db9deca50>,\n",
              " 'kernel_size': (9,),\n",
              " 'padding': 'valid',\n",
              " 'rank': 1,\n",
              " 'strides': (1,),\n",
              " 'use_bias': True}"
            ]
          },
          "metadata": {},
          "execution_count": 116
        }
      ]
    },
    {
      "cell_type": "code",
      "source": [
        "print(new_model.layers[0].batch_input_shape)"
      ],
      "metadata": {
        "colab": {
          "base_uri": "https://localhost:8080/",
          "height": 172
        },
        "id": "ZzMiTiffAWZS",
        "outputId": "e4d2f7e1-5348-4525-89af-e9e997e5709c"
      },
      "execution_count": null,
      "outputs": [
        {
          "output_type": "error",
          "ename": "AttributeError",
          "evalue": "ignored",
          "traceback": [
            "\u001b[0;31m---------------------------------------------------------------------------\u001b[0m",
            "\u001b[0;31mAttributeError\u001b[0m                            Traceback (most recent call last)",
            "\u001b[0;32m<ipython-input-110-aac267e037e2>\u001b[0m in \u001b[0;36m<module>\u001b[0;34m()\u001b[0m\n\u001b[0;32m----> 1\u001b[0;31m \u001b[0mprint\u001b[0m\u001b[0;34m(\u001b[0m\u001b[0mnew_model\u001b[0m\u001b[0;34m.\u001b[0m\u001b[0mlayers\u001b[0m\u001b[0;34m[\u001b[0m\u001b[0;36m0\u001b[0m\u001b[0;34m]\u001b[0m\u001b[0;34m.\u001b[0m\u001b[0mbatch_input_shape\u001b[0m\u001b[0;34m)\u001b[0m\u001b[0;34m\u001b[0m\u001b[0;34m\u001b[0m\u001b[0m\n\u001b[0m",
            "\u001b[0;31mAttributeError\u001b[0m: 'Conv1D' object has no attribute 'batch_input_shape'"
          ]
        }
      ]
    },
    {
      "cell_type": "markdown",
      "source": [
        ""
      ],
      "metadata": {
        "id": "nzwpiU2pAUev"
      }
    },
    {
      "cell_type": "code",
      "source": [
        "print(model.layers[0].batch_input_shape)"
      ],
      "metadata": {
        "colab": {
          "base_uri": "https://localhost:8080/",
          "height": 172
        },
        "id": "1f0kERBj3A9Z",
        "outputId": "ed571454-a9d8-4a6d-b554-b4285907b391"
      },
      "execution_count": null,
      "outputs": [
        {
          "output_type": "error",
          "ename": "AttributeError",
          "evalue": "ignored",
          "traceback": [
            "\u001b[0;31m---------------------------------------------------------------------------\u001b[0m",
            "\u001b[0;31mAttributeError\u001b[0m                            Traceback (most recent call last)",
            "\u001b[0;32m<ipython-input-50-262e0482e86b>\u001b[0m in \u001b[0;36m<module>\u001b[0;34m()\u001b[0m\n\u001b[0;32m----> 1\u001b[0;31m \u001b[0mprint\u001b[0m\u001b[0;34m(\u001b[0m\u001b[0mmodel\u001b[0m\u001b[0;34m.\u001b[0m\u001b[0mlayers\u001b[0m\u001b[0;34m[\u001b[0m\u001b[0;36m0\u001b[0m\u001b[0;34m]\u001b[0m\u001b[0;34m.\u001b[0m\u001b[0mbatch_input_shape\u001b[0m\u001b[0;34m[\u001b[0m\u001b[0;36m0\u001b[0m\u001b[0;34m]\u001b[0m\u001b[0;34m)\u001b[0m\u001b[0;34m\u001b[0m\u001b[0;34m\u001b[0m\u001b[0m\n\u001b[0m",
            "\u001b[0;31mAttributeError\u001b[0m: 'Conv1D' object has no attribute 'batch_input_shape'"
          ]
        }
      ]
    },
    {
      "cell_type": "code",
      "source": [
        "data_input = tf.keras.InputLayer(shape=(None,200,4))\n",
        "x = tf.keras.layers.Dense((None,2), padding='same', use_bias=True, kernel_initializer={'class_name': 'VarianceScaling', 'config': {'scale': 1.0, 'mode': 'fan_avg', 'distribution': 'uniform', 'seed': None}},kernel_regularizer: {'class_name': 'L1L2', 'config': {'l1': 9.99999993922529e-09, 'l2': 4.999999987376214e-07}}, 'bias_regularizer': None, 'activity_regularizer': None, 'kernel_constraint': {'class_name': 'MaxNorm', 'config': {'max_value': 1, 'axis': 0}}, 'bias_constraint': None},name='dense_2')(data_input)\n"
      ],
      "metadata": {
        "id": "dEHm4uiAxm3p"
      },
      "execution_count": null,
      "outputs": []
    },
    {
      "cell_type": "code",
      "source": [
        "model.summary()"
      ],
      "metadata": {
        "colab": {
          "base_uri": "https://localhost:8080/"
        },
        "id": "hma7SvszyMyr",
        "outputId": "8f013152-e45a-4732-97f5-8d0ba4c5ed4a"
      },
      "execution_count": null,
      "outputs": [
        {
          "output_type": "stream",
          "name": "stdout",
          "text": [
            "Model: \"sequential\"\n",
            "_________________________________________________________________\n",
            " Layer (type)                Output Shape              Param #   \n",
            "=================================================================\n",
            " conv1d_1 (Conv1D)           (None, 992, 480)          17760     \n",
            "                                                                 \n",
            " batch_normalization_1 (Batc  (None, 992, 480)         1920      \n",
            " hNormalization)                                                 \n",
            "                                                                 \n",
            " leaky_re_lu_1 (LeakyReLU)   (None, 992, 480)          0         \n",
            "                                                                 \n",
            " max_pooling1d_1 (MaxPooling  (None, 328, 480)         0         \n",
            " 1D)                                                             \n",
            "                                                                 \n",
            " dropout_1 (Dropout)         (None, 328, 480)          0         \n",
            "                                                                 \n",
            " conv1d_2 (Conv1D)           (None, 325, 480)          922080    \n",
            "                                                                 \n",
            " batch_normalization_2 (Batc  (None, 325, 480)         1920      \n",
            " hNormalization)                                                 \n",
            "                                                                 \n",
            " leaky_re_lu_2 (LeakyReLU)   (None, 325, 480)          0         \n",
            "                                                                 \n",
            " max_pooling1d_2 (MaxPooling  (None, 161, 480)         0         \n",
            " 1D)                                                             \n",
            "                                                                 \n",
            " dropout_2 (Dropout)         (None, 161, 480)          0         \n",
            "                                                                 \n",
            " conv1d_3 (Conv1D)           (None, 158, 240)          461040    \n",
            "                                                                 \n",
            " max_pooling1d_3 (MaxPooling  (None, 52, 240)          0         \n",
            " 1D)                                                             \n",
            "                                                                 \n",
            " dropout_3 (Dropout)         (None, 52, 240)           0         \n",
            "                                                                 \n",
            " conv1d_4 (Conv1D)           (None, 49, 320)           307520    \n",
            "                                                                 \n",
            " batch_normalization_3 (Batc  (None, 49, 320)          1280      \n",
            " hNormalization)                                                 \n",
            "                                                                 \n",
            " leaky_re_lu_3 (LeakyReLU)   (None, 49, 320)           0         \n",
            "                                                                 \n",
            " max_pooling1d_4 (MaxPooling  (None, 16, 320)          0         \n",
            " 1D)                                                             \n",
            "                                                                 \n",
            " conv1d_5 (Conv1D)           (None, 13, 320)           409920    \n",
            "                                                                 \n",
            " batch_normalization_4 (Batc  (None, 13, 320)          1280      \n",
            " hNormalization)                                                 \n",
            "                                                                 \n",
            " leaky_re_lu_4 (LeakyReLU)   (None, 13, 320)           0         \n",
            "                                                                 \n",
            " max_pooling1d_5 (MaxPooling  (None, 4, 320)           0         \n",
            " 1D)                                                             \n",
            "                                                                 \n",
            " flatten_1 (Flatten)         (None, 1280)              0         \n",
            "                                                                 \n",
            " dense_1 (Dense)             (None, 180)               230580    \n",
            "                                                                 \n",
            " dense_2 (Dense)             (None, 3)                 543       \n",
            "                                                                 \n",
            "=================================================================\n",
            "Total params: 2,355,843\n",
            "Trainable params: 2,352,643\n",
            "Non-trainable params: 3,200\n",
            "_________________________________________________________________\n"
          ]
        }
      ]
    },
    {
      "cell_type": "code",
      "source": [
        ""
      ],
      "metadata": {
        "id": "-roSldMGxmsX"
      },
      "execution_count": null,
      "outputs": []
    },
    {
      "cell_type": "code",
      "source": [
        ""
      ],
      "metadata": {
        "id": "gPUOAmoXxmmm"
      },
      "execution_count": null,
      "outputs": []
    },
    {
      "cell_type": "code",
      "source": [
        "!python3 train.py ./examples/traininggg.hdf5 ./examples/"
      ],
      "metadata": {
        "colab": {
          "base_uri": "https://localhost:8080/"
        },
        "outputId": "bcdf5637-8a3e-40bb-de12-03f45f7bd72a",
        "id": "A-ny6xgOutHw"
      },
      "execution_count": null,
      "outputs": [
        {
          "output_type": "stream",
          "name": "stdout",
          "text": [
            "2022-03-02 16:22:53.016906: W tensorflow/core/common_runtime/gpu/gpu_bfc_allocator.cc:39] Overriding allow_growth setting because the TF_FORCE_GPU_ALLOW_GROWTH environment variable is set. Original config value was 0.\n",
            "WARNING:tensorflow:No training configuration found in the save file, so the model was *not* compiled. Compile it manually.\n",
            "reading enhancers...\n",
            "WARNING:tensorflow:Compiled the loaded model, but the compiled metrics have yet to be built. `model.compile_metrics` will be empty until you train or evaluate the model.\n",
            "Epoch 1/200\n",
            "Traceback (most recent call last):\n",
            "  File \"train.py\", line 126, in <module>\n",
            "    train_model(data,results_dir)\n",
            "  File \"train.py\", line 116, in train_model\n",
            "    run_model(data, model, results_dir)\n",
            "  File \"train.py\", line 56, in run_model\n",
            "    callbacks=_callbacks, verbose=1)\n",
            "  File \"/usr/local/lib/python3.7/dist-packages/keras/utils/traceback_utils.py\", line 67, in error_handler\n",
            "    raise e.with_traceback(filtered_tb) from None\n",
            "  File \"/usr/local/lib/python3.7/dist-packages/tensorflow/python/framework/func_graph.py\", line 1147, in autograph_handler\n",
            "    raise e.ag_error_metadata.to_exception(e)\n",
            "ValueError: in user code:\n",
            "\n",
            "    File \"/usr/local/lib/python3.7/dist-packages/keras/engine/training.py\", line 1021, in train_function  *\n",
            "        return step_function(self, iterator)\n",
            "    File \"/usr/local/lib/python3.7/dist-packages/keras/engine/training.py\", line 1010, in step_function  **\n",
            "        outputs = model.distribute_strategy.run(run_step, args=(data,))\n",
            "    File \"/usr/local/lib/python3.7/dist-packages/keras/engine/training.py\", line 1000, in run_step  **\n",
            "        outputs = model.train_step(data)\n",
            "    File \"/usr/local/lib/python3.7/dist-packages/keras/engine/training.py\", line 859, in train_step\n",
            "        y_pred = self(x, training=True)\n",
            "    File \"/usr/local/lib/python3.7/dist-packages/keras/utils/traceback_utils.py\", line 67, in error_handler\n",
            "        raise e.with_traceback(filtered_tb) from None\n",
            "    File \"/usr/local/lib/python3.7/dist-packages/keras/engine/input_spec.py\", line 264, in assert_input_compatibility\n",
            "        raise ValueError(f'Input {input_index} of layer \"{layer_name}\" is '\n",
            "\n",
            "    ValueError: Input 0 of layer \"sequential\" is incompatible with the layer: expected shape=(None, 1000, 4), found shape=(None, 200, 4)\n",
            "\n"
          ]
        }
      ]
    },
    {
      "cell_type": "code",
      "source": [
        "!gzip /content/SilencerEnhancerPredict/traininggg.hdf5"
      ],
      "metadata": {
        "id": "hlSjpm5OutH0"
      },
      "execution_count": null,
      "outputs": []
    },
    {
      "cell_type": "code",
      "source": [
        "data = {}\n",
        "with h5py.File('/content/SilencerEnhancerPredict/examples/model.hdf5', \"r\") as inf:\n",
        "  for _key in inf:\n",
        "    print(_key)\n",
        "    #data[_key] = inf[_key][()]"
      ],
      "metadata": {
        "colab": {
          "base_uri": "https://localhost:8080/"
        },
        "outputId": "da12fd67-763c-4f29-aed9-c9d872888b6d",
        "id": "2At9dbuAutH3"
      },
      "execution_count": null,
      "outputs": [
        {
          "output_type": "stream",
          "name": "stdout",
          "text": [
            "model_weights\n"
          ]
        }
      ]
    },
    {
      "cell_type": "code",
      "source": [
        ""
      ],
      "metadata": {
        "id": "9zk5USOvutH6"
      },
      "execution_count": null,
      "outputs": []
    },
    {
      "cell_type": "markdown",
      "source": [
        "code for building training.hdf5 files \n",
        "\n",
        "*   List item\n",
        "*   List item\n",
        "\n",
        "\n",
        "-------------------------------------\n",
        "\n"
      ],
      "metadata": {
        "id": "UOGvjsaeuf5E"
      }
    },
    {
      "cell_type": "markdown",
      "source": [
        "left & right \n",
        " - add to one df \n",
        " - shuffle \n",
        " - take the first 4123 rows "
      ],
      "metadata": {
        "id": "eKUIovMlSY2g"
      }
    },
    {
      "cell_type": "code",
      "source": [
        "import pandas as pd\n",
        "import numpy as np\n",
        "\n",
        "df = pd.read_csv('/content/btechproj/Data/fruitfly/Fruitfly Datasets/shift_200/left.txt', delimiter=\"\\t\")\n",
        "df1 = pd.read_csv('/content/btechproj/Data/fruitfly/Fruitfly Datasets/shift_200/rigt.txt', delimiter=\"\\t\")\n",
        "df2 = pd.concat([df,df1])\n",
        "df2"
      ],
      "metadata": {
        "colab": {
          "base_uri": "https://localhost:8080/",
          "height": 424
        },
        "id": "atd8j7JhW56U",
        "outputId": "a00fb0d4-8d25-4218-9540-15b9d3f9e71d"
      },
      "execution_count": 11,
      "outputs": [
        {
          "output_type": "execute_result",
          "data": {
            "text/plain": [
              "     FoldID                 EventId  start_index  \\\n",
              "0         A         chr2L:7316-7516           -5   \n",
              "1         A       chr2L:21243-21443           -5   \n",
              "2         A       chr2L:66022-66222           -5   \n",
              "3         A       chr2L:71092-71292           -5   \n",
              "4         A       chr2L:85916-86116           -5   \n",
              "...     ...                     ...          ...   \n",
              "4118      A  chrX:21890684-21890884           -5   \n",
              "4119      A  chrX:21931315-21931515           -5   \n",
              "4120      A  chrX:21942443-21942643           -5   \n",
              "4121      A  chrX:22226628-22226828           -5   \n",
              "4122      A  chrX:22247863-22248063           -5   \n",
              "\n",
              "                                                    seq  Bound  \n",
              "0     TAGAGAGGAGAGGACAATATTATAATTGTAGACCGTTTTAAACACT...      0  \n",
              "1     CACAGATAATAATACGACCGGTCAGAGCTTAACCGTGTATCTGTTT...      0  \n",
              "2     TTTAGAGTAAAAGTTACCCCAAGATATTGATTCTTATGTATAGATT...      0  \n",
              "3     TATTTAAAGAATAACACGATTTGGTTGAAAAAATTTCCTTACGTAT...      0  \n",
              "4     CACTGGGAAGCGTTCCCTGTGTGGGAAGCCTCGTCTTATCATAACA...      0  \n",
              "...                                                 ...    ...  \n",
              "4118  TACATTTTTCAAAATTCTAAAGGATGGGCAAACGGGTTATTGCAAT...      0  \n",
              "4119  AGCACAATGTTTTTTTTTTTATTGTTTTTAAAAGCGCTTGTACGAT...      0  \n",
              "4120  AAATCCTTAGATAAAAGAAATCAGTTTGTGCAATTTTAGCATGATT...      0  \n",
              "4121  ACATGTCGAAATTAATTGTTTCGCTAGACTAACACTCGCAGCCTTA...      0  \n",
              "4122  TGCCAAAAACAAGTTTAAATGTCAAAATGTAAATCCCACCAGACGA...      0  \n",
              "\n",
              "[8246 rows x 5 columns]"
            ],
            "text/html": [
              "\n",
              "  <div id=\"df-e27a73a1-af35-45d2-b363-332bf0421b6a\">\n",
              "    <div class=\"colab-df-container\">\n",
              "      <div>\n",
              "<style scoped>\n",
              "    .dataframe tbody tr th:only-of-type {\n",
              "        vertical-align: middle;\n",
              "    }\n",
              "\n",
              "    .dataframe tbody tr th {\n",
              "        vertical-align: top;\n",
              "    }\n",
              "\n",
              "    .dataframe thead th {\n",
              "        text-align: right;\n",
              "    }\n",
              "</style>\n",
              "<table border=\"1\" class=\"dataframe\">\n",
              "  <thead>\n",
              "    <tr style=\"text-align: right;\">\n",
              "      <th></th>\n",
              "      <th>FoldID</th>\n",
              "      <th>EventId</th>\n",
              "      <th>start_index</th>\n",
              "      <th>seq</th>\n",
              "      <th>Bound</th>\n",
              "    </tr>\n",
              "  </thead>\n",
              "  <tbody>\n",
              "    <tr>\n",
              "      <th>0</th>\n",
              "      <td>A</td>\n",
              "      <td>chr2L:7316-7516</td>\n",
              "      <td>-5</td>\n",
              "      <td>TAGAGAGGAGAGGACAATATTATAATTGTAGACCGTTTTAAACACT...</td>\n",
              "      <td>0</td>\n",
              "    </tr>\n",
              "    <tr>\n",
              "      <th>1</th>\n",
              "      <td>A</td>\n",
              "      <td>chr2L:21243-21443</td>\n",
              "      <td>-5</td>\n",
              "      <td>CACAGATAATAATACGACCGGTCAGAGCTTAACCGTGTATCTGTTT...</td>\n",
              "      <td>0</td>\n",
              "    </tr>\n",
              "    <tr>\n",
              "      <th>2</th>\n",
              "      <td>A</td>\n",
              "      <td>chr2L:66022-66222</td>\n",
              "      <td>-5</td>\n",
              "      <td>TTTAGAGTAAAAGTTACCCCAAGATATTGATTCTTATGTATAGATT...</td>\n",
              "      <td>0</td>\n",
              "    </tr>\n",
              "    <tr>\n",
              "      <th>3</th>\n",
              "      <td>A</td>\n",
              "      <td>chr2L:71092-71292</td>\n",
              "      <td>-5</td>\n",
              "      <td>TATTTAAAGAATAACACGATTTGGTTGAAAAAATTTCCTTACGTAT...</td>\n",
              "      <td>0</td>\n",
              "    </tr>\n",
              "    <tr>\n",
              "      <th>4</th>\n",
              "      <td>A</td>\n",
              "      <td>chr2L:85916-86116</td>\n",
              "      <td>-5</td>\n",
              "      <td>CACTGGGAAGCGTTCCCTGTGTGGGAAGCCTCGTCTTATCATAACA...</td>\n",
              "      <td>0</td>\n",
              "    </tr>\n",
              "    <tr>\n",
              "      <th>...</th>\n",
              "      <td>...</td>\n",
              "      <td>...</td>\n",
              "      <td>...</td>\n",
              "      <td>...</td>\n",
              "      <td>...</td>\n",
              "    </tr>\n",
              "    <tr>\n",
              "      <th>4118</th>\n",
              "      <td>A</td>\n",
              "      <td>chrX:21890684-21890884</td>\n",
              "      <td>-5</td>\n",
              "      <td>TACATTTTTCAAAATTCTAAAGGATGGGCAAACGGGTTATTGCAAT...</td>\n",
              "      <td>0</td>\n",
              "    </tr>\n",
              "    <tr>\n",
              "      <th>4119</th>\n",
              "      <td>A</td>\n",
              "      <td>chrX:21931315-21931515</td>\n",
              "      <td>-5</td>\n",
              "      <td>AGCACAATGTTTTTTTTTTTATTGTTTTTAAAAGCGCTTGTACGAT...</td>\n",
              "      <td>0</td>\n",
              "    </tr>\n",
              "    <tr>\n",
              "      <th>4120</th>\n",
              "      <td>A</td>\n",
              "      <td>chrX:21942443-21942643</td>\n",
              "      <td>-5</td>\n",
              "      <td>AAATCCTTAGATAAAAGAAATCAGTTTGTGCAATTTTAGCATGATT...</td>\n",
              "      <td>0</td>\n",
              "    </tr>\n",
              "    <tr>\n",
              "      <th>4121</th>\n",
              "      <td>A</td>\n",
              "      <td>chrX:22226628-22226828</td>\n",
              "      <td>-5</td>\n",
              "      <td>ACATGTCGAAATTAATTGTTTCGCTAGACTAACACTCGCAGCCTTA...</td>\n",
              "      <td>0</td>\n",
              "    </tr>\n",
              "    <tr>\n",
              "      <th>4122</th>\n",
              "      <td>A</td>\n",
              "      <td>chrX:22247863-22248063</td>\n",
              "      <td>-5</td>\n",
              "      <td>TGCCAAAAACAAGTTTAAATGTCAAAATGTAAATCCCACCAGACGA...</td>\n",
              "      <td>0</td>\n",
              "    </tr>\n",
              "  </tbody>\n",
              "</table>\n",
              "<p>8246 rows × 5 columns</p>\n",
              "</div>\n",
              "      <button class=\"colab-df-convert\" onclick=\"convertToInteractive('df-e27a73a1-af35-45d2-b363-332bf0421b6a')\"\n",
              "              title=\"Convert this dataframe to an interactive table.\"\n",
              "              style=\"display:none;\">\n",
              "        \n",
              "  <svg xmlns=\"http://www.w3.org/2000/svg\" height=\"24px\"viewBox=\"0 0 24 24\"\n",
              "       width=\"24px\">\n",
              "    <path d=\"M0 0h24v24H0V0z\" fill=\"none\"/>\n",
              "    <path d=\"M18.56 5.44l.94 2.06.94-2.06 2.06-.94-2.06-.94-.94-2.06-.94 2.06-2.06.94zm-11 1L8.5 8.5l.94-2.06 2.06-.94-2.06-.94L8.5 2.5l-.94 2.06-2.06.94zm10 10l.94 2.06.94-2.06 2.06-.94-2.06-.94-.94-2.06-.94 2.06-2.06.94z\"/><path d=\"M17.41 7.96l-1.37-1.37c-.4-.4-.92-.59-1.43-.59-.52 0-1.04.2-1.43.59L10.3 9.45l-7.72 7.72c-.78.78-.78 2.05 0 2.83L4 21.41c.39.39.9.59 1.41.59.51 0 1.02-.2 1.41-.59l7.78-7.78 2.81-2.81c.8-.78.8-2.07 0-2.86zM5.41 20L4 18.59l7.72-7.72 1.47 1.35L5.41 20z\"/>\n",
              "  </svg>\n",
              "      </button>\n",
              "      \n",
              "  <style>\n",
              "    .colab-df-container {\n",
              "      display:flex;\n",
              "      flex-wrap:wrap;\n",
              "      gap: 12px;\n",
              "    }\n",
              "\n",
              "    .colab-df-convert {\n",
              "      background-color: #E8F0FE;\n",
              "      border: none;\n",
              "      border-radius: 50%;\n",
              "      cursor: pointer;\n",
              "      display: none;\n",
              "      fill: #1967D2;\n",
              "      height: 32px;\n",
              "      padding: 0 0 0 0;\n",
              "      width: 32px;\n",
              "    }\n",
              "\n",
              "    .colab-df-convert:hover {\n",
              "      background-color: #E2EBFA;\n",
              "      box-shadow: 0px 1px 2px rgba(60, 64, 67, 0.3), 0px 1px 3px 1px rgba(60, 64, 67, 0.15);\n",
              "      fill: #174EA6;\n",
              "    }\n",
              "\n",
              "    [theme=dark] .colab-df-convert {\n",
              "      background-color: #3B4455;\n",
              "      fill: #D2E3FC;\n",
              "    }\n",
              "\n",
              "    [theme=dark] .colab-df-convert:hover {\n",
              "      background-color: #434B5C;\n",
              "      box-shadow: 0px 1px 3px 1px rgba(0, 0, 0, 0.15);\n",
              "      filter: drop-shadow(0px 1px 2px rgba(0, 0, 0, 0.3));\n",
              "      fill: #FFFFFF;\n",
              "    }\n",
              "  </style>\n",
              "\n",
              "      <script>\n",
              "        const buttonEl =\n",
              "          document.querySelector('#df-e27a73a1-af35-45d2-b363-332bf0421b6a button.colab-df-convert');\n",
              "        buttonEl.style.display =\n",
              "          google.colab.kernel.accessAllowed ? 'block' : 'none';\n",
              "\n",
              "        async function convertToInteractive(key) {\n",
              "          const element = document.querySelector('#df-e27a73a1-af35-45d2-b363-332bf0421b6a');\n",
              "          const dataTable =\n",
              "            await google.colab.kernel.invokeFunction('convertToInteractive',\n",
              "                                                     [key], {});\n",
              "          if (!dataTable) return;\n",
              "\n",
              "          const docLinkHtml = 'Like what you see? Visit the ' +\n",
              "            '<a target=\"_blank\" href=https://colab.research.google.com/notebooks/data_table.ipynb>data table notebook</a>'\n",
              "            + ' to learn more about interactive tables.';\n",
              "          element.innerHTML = '';\n",
              "          dataTable['output_type'] = 'display_data';\n",
              "          await google.colab.output.renderOutput(dataTable, element);\n",
              "          const docLink = document.createElement('div');\n",
              "          docLink.innerHTML = docLinkHtml;\n",
              "          element.appendChild(docLink);\n",
              "        }\n",
              "      </script>\n",
              "    </div>\n",
              "  </div>\n",
              "  "
            ]
          },
          "metadata": {},
          "execution_count": 11
        }
      ]
    },
    {
      "cell_type": "code",
      "source": [
        "df2 = df2.sample(frac = 1).reset_index(drop=True)\n",
        "df2"
      ],
      "metadata": {
        "colab": {
          "base_uri": "https://localhost:8080/",
          "height": 424
        },
        "id": "iYJ1ftLek6mj",
        "outputId": "896b4f9e-f428-4df4-9411-6f647968bc0a"
      },
      "execution_count": 12,
      "outputs": [
        {
          "output_type": "execute_result",
          "data": {
            "text/plain": [
              "     FoldID                  EventId  start_index  \\\n",
              "0         A   chrX:10612664-10612864           -5   \n",
              "1         A      chr3L:506207-506407           -5   \n",
              "2         A    chr2L:6806143-6806343           -5   \n",
              "3         A    chr2R:2810265-2810465           -5   \n",
              "4         A  chr3L:11603067-11603267           -5   \n",
              "...     ...                      ...          ...   \n",
              "8241      A  chr3R:26311917-26312117           -5   \n",
              "8242      A    chr2R:9397635-9397835           -5   \n",
              "8243      A   chrX:11589214-11589414           -5   \n",
              "8244      A  chr3R:20452256-20452456           -5   \n",
              "8245      A  chr3L:11358022-11358222           -5   \n",
              "\n",
              "                                                    seq  Bound  \n",
              "0     GCCTATTTGTTGACGTGGTTGGTTTGTTACTCATGGCTCATGATGT...      0  \n",
              "1     TTGTAGTTCGTTTGAATGGCCGCCCAGAGGTCGTCTTTGCCAGACG...      0  \n",
              "2     ACTGTTTTGAATAATGTCATAATTAAACGAATATACAGGCGGTAAC...      0  \n",
              "3     CGGCGGCTGCCAGCCTGGAAAATGGCACAGTGAGCAGTTTGCACTA...      0  \n",
              "4     TTCACGCCGTCTACAAATTATAGGTGGCTGACTTTTCGTCATTAGA...      0  \n",
              "...                                                 ...    ...  \n",
              "8241  TATCGAATTTGGCCTGAAATGTGAAAAGGCCAAGGGAGGCGAAAAA...      0  \n",
              "8242  GTACGCTAAAGATCGGTAGCACGACCATAGCGACCAAATCCACACC...      0  \n",
              "8243  TTGTTGCACTAGCAATTTAATCCGAGGAATATAAATTTTGTGTGGA...      0  \n",
              "8244  TGTCCAAACCAATGGAATATACATACATAAAGTGCCCTACTATTTC...      0  \n",
              "8245  GCGAATTGAAAATGAAAAGGCACAGCGATTGAGGAAAATAGAGAAA...      0  \n",
              "\n",
              "[8246 rows x 5 columns]"
            ],
            "text/html": [
              "\n",
              "  <div id=\"df-25432cc6-4f6a-4961-8f70-ffb26386cd02\">\n",
              "    <div class=\"colab-df-container\">\n",
              "      <div>\n",
              "<style scoped>\n",
              "    .dataframe tbody tr th:only-of-type {\n",
              "        vertical-align: middle;\n",
              "    }\n",
              "\n",
              "    .dataframe tbody tr th {\n",
              "        vertical-align: top;\n",
              "    }\n",
              "\n",
              "    .dataframe thead th {\n",
              "        text-align: right;\n",
              "    }\n",
              "</style>\n",
              "<table border=\"1\" class=\"dataframe\">\n",
              "  <thead>\n",
              "    <tr style=\"text-align: right;\">\n",
              "      <th></th>\n",
              "      <th>FoldID</th>\n",
              "      <th>EventId</th>\n",
              "      <th>start_index</th>\n",
              "      <th>seq</th>\n",
              "      <th>Bound</th>\n",
              "    </tr>\n",
              "  </thead>\n",
              "  <tbody>\n",
              "    <tr>\n",
              "      <th>0</th>\n",
              "      <td>A</td>\n",
              "      <td>chrX:10612664-10612864</td>\n",
              "      <td>-5</td>\n",
              "      <td>GCCTATTTGTTGACGTGGTTGGTTTGTTACTCATGGCTCATGATGT...</td>\n",
              "      <td>0</td>\n",
              "    </tr>\n",
              "    <tr>\n",
              "      <th>1</th>\n",
              "      <td>A</td>\n",
              "      <td>chr3L:506207-506407</td>\n",
              "      <td>-5</td>\n",
              "      <td>TTGTAGTTCGTTTGAATGGCCGCCCAGAGGTCGTCTTTGCCAGACG...</td>\n",
              "      <td>0</td>\n",
              "    </tr>\n",
              "    <tr>\n",
              "      <th>2</th>\n",
              "      <td>A</td>\n",
              "      <td>chr2L:6806143-6806343</td>\n",
              "      <td>-5</td>\n",
              "      <td>ACTGTTTTGAATAATGTCATAATTAAACGAATATACAGGCGGTAAC...</td>\n",
              "      <td>0</td>\n",
              "    </tr>\n",
              "    <tr>\n",
              "      <th>3</th>\n",
              "      <td>A</td>\n",
              "      <td>chr2R:2810265-2810465</td>\n",
              "      <td>-5</td>\n",
              "      <td>CGGCGGCTGCCAGCCTGGAAAATGGCACAGTGAGCAGTTTGCACTA...</td>\n",
              "      <td>0</td>\n",
              "    </tr>\n",
              "    <tr>\n",
              "      <th>4</th>\n",
              "      <td>A</td>\n",
              "      <td>chr3L:11603067-11603267</td>\n",
              "      <td>-5</td>\n",
              "      <td>TTCACGCCGTCTACAAATTATAGGTGGCTGACTTTTCGTCATTAGA...</td>\n",
              "      <td>0</td>\n",
              "    </tr>\n",
              "    <tr>\n",
              "      <th>...</th>\n",
              "      <td>...</td>\n",
              "      <td>...</td>\n",
              "      <td>...</td>\n",
              "      <td>...</td>\n",
              "      <td>...</td>\n",
              "    </tr>\n",
              "    <tr>\n",
              "      <th>8241</th>\n",
              "      <td>A</td>\n",
              "      <td>chr3R:26311917-26312117</td>\n",
              "      <td>-5</td>\n",
              "      <td>TATCGAATTTGGCCTGAAATGTGAAAAGGCCAAGGGAGGCGAAAAA...</td>\n",
              "      <td>0</td>\n",
              "    </tr>\n",
              "    <tr>\n",
              "      <th>8242</th>\n",
              "      <td>A</td>\n",
              "      <td>chr2R:9397635-9397835</td>\n",
              "      <td>-5</td>\n",
              "      <td>GTACGCTAAAGATCGGTAGCACGACCATAGCGACCAAATCCACACC...</td>\n",
              "      <td>0</td>\n",
              "    </tr>\n",
              "    <tr>\n",
              "      <th>8243</th>\n",
              "      <td>A</td>\n",
              "      <td>chrX:11589214-11589414</td>\n",
              "      <td>-5</td>\n",
              "      <td>TTGTTGCACTAGCAATTTAATCCGAGGAATATAAATTTTGTGTGGA...</td>\n",
              "      <td>0</td>\n",
              "    </tr>\n",
              "    <tr>\n",
              "      <th>8244</th>\n",
              "      <td>A</td>\n",
              "      <td>chr3R:20452256-20452456</td>\n",
              "      <td>-5</td>\n",
              "      <td>TGTCCAAACCAATGGAATATACATACATAAAGTGCCCTACTATTTC...</td>\n",
              "      <td>0</td>\n",
              "    </tr>\n",
              "    <tr>\n",
              "      <th>8245</th>\n",
              "      <td>A</td>\n",
              "      <td>chr3L:11358022-11358222</td>\n",
              "      <td>-5</td>\n",
              "      <td>GCGAATTGAAAATGAAAAGGCACAGCGATTGAGGAAAATAGAGAAA...</td>\n",
              "      <td>0</td>\n",
              "    </tr>\n",
              "  </tbody>\n",
              "</table>\n",
              "<p>8246 rows × 5 columns</p>\n",
              "</div>\n",
              "      <button class=\"colab-df-convert\" onclick=\"convertToInteractive('df-25432cc6-4f6a-4961-8f70-ffb26386cd02')\"\n",
              "              title=\"Convert this dataframe to an interactive table.\"\n",
              "              style=\"display:none;\">\n",
              "        \n",
              "  <svg xmlns=\"http://www.w3.org/2000/svg\" height=\"24px\"viewBox=\"0 0 24 24\"\n",
              "       width=\"24px\">\n",
              "    <path d=\"M0 0h24v24H0V0z\" fill=\"none\"/>\n",
              "    <path d=\"M18.56 5.44l.94 2.06.94-2.06 2.06-.94-2.06-.94-.94-2.06-.94 2.06-2.06.94zm-11 1L8.5 8.5l.94-2.06 2.06-.94-2.06-.94L8.5 2.5l-.94 2.06-2.06.94zm10 10l.94 2.06.94-2.06 2.06-.94-2.06-.94-.94-2.06-.94 2.06-2.06.94z\"/><path d=\"M17.41 7.96l-1.37-1.37c-.4-.4-.92-.59-1.43-.59-.52 0-1.04.2-1.43.59L10.3 9.45l-7.72 7.72c-.78.78-.78 2.05 0 2.83L4 21.41c.39.39.9.59 1.41.59.51 0 1.02-.2 1.41-.59l7.78-7.78 2.81-2.81c.8-.78.8-2.07 0-2.86zM5.41 20L4 18.59l7.72-7.72 1.47 1.35L5.41 20z\"/>\n",
              "  </svg>\n",
              "      </button>\n",
              "      \n",
              "  <style>\n",
              "    .colab-df-container {\n",
              "      display:flex;\n",
              "      flex-wrap:wrap;\n",
              "      gap: 12px;\n",
              "    }\n",
              "\n",
              "    .colab-df-convert {\n",
              "      background-color: #E8F0FE;\n",
              "      border: none;\n",
              "      border-radius: 50%;\n",
              "      cursor: pointer;\n",
              "      display: none;\n",
              "      fill: #1967D2;\n",
              "      height: 32px;\n",
              "      padding: 0 0 0 0;\n",
              "      width: 32px;\n",
              "    }\n",
              "\n",
              "    .colab-df-convert:hover {\n",
              "      background-color: #E2EBFA;\n",
              "      box-shadow: 0px 1px 2px rgba(60, 64, 67, 0.3), 0px 1px 3px 1px rgba(60, 64, 67, 0.15);\n",
              "      fill: #174EA6;\n",
              "    }\n",
              "\n",
              "    [theme=dark] .colab-df-convert {\n",
              "      background-color: #3B4455;\n",
              "      fill: #D2E3FC;\n",
              "    }\n",
              "\n",
              "    [theme=dark] .colab-df-convert:hover {\n",
              "      background-color: #434B5C;\n",
              "      box-shadow: 0px 1px 3px 1px rgba(0, 0, 0, 0.15);\n",
              "      filter: drop-shadow(0px 1px 2px rgba(0, 0, 0, 0.3));\n",
              "      fill: #FFFFFF;\n",
              "    }\n",
              "  </style>\n",
              "\n",
              "      <script>\n",
              "        const buttonEl =\n",
              "          document.querySelector('#df-25432cc6-4f6a-4961-8f70-ffb26386cd02 button.colab-df-convert');\n",
              "        buttonEl.style.display =\n",
              "          google.colab.kernel.accessAllowed ? 'block' : 'none';\n",
              "\n",
              "        async function convertToInteractive(key) {\n",
              "          const element = document.querySelector('#df-25432cc6-4f6a-4961-8f70-ffb26386cd02');\n",
              "          const dataTable =\n",
              "            await google.colab.kernel.invokeFunction('convertToInteractive',\n",
              "                                                     [key], {});\n",
              "          if (!dataTable) return;\n",
              "\n",
              "          const docLinkHtml = 'Like what you see? Visit the ' +\n",
              "            '<a target=\"_blank\" href=https://colab.research.google.com/notebooks/data_table.ipynb>data table notebook</a>'\n",
              "            + ' to learn more about interactive tables.';\n",
              "          element.innerHTML = '';\n",
              "          dataTable['output_type'] = 'display_data';\n",
              "          await google.colab.output.renderOutput(dataTable, element);\n",
              "          const docLink = document.createElement('div');\n",
              "          docLink.innerHTML = docLinkHtml;\n",
              "          element.appendChild(docLink);\n",
              "        }\n",
              "      </script>\n",
              "    </div>\n",
              "  </div>\n",
              "  "
            ]
          },
          "metadata": {},
          "execution_count": 12
        }
      ]
    },
    {
      "cell_type": "code",
      "source": [
        "df3 = df2[:4123]\n",
        "df3"
      ],
      "metadata": {
        "colab": {
          "base_uri": "https://localhost:8080/",
          "height": 424
        },
        "id": "NZBMT44zl1Ig",
        "outputId": "d2a2b31b-7f52-4cfc-ab75-f8c5d3341fe2"
      },
      "execution_count": 15,
      "outputs": [
        {
          "output_type": "execute_result",
          "data": {
            "text/plain": [
              "     FoldID                  EventId  start_index  \\\n",
              "0         A   chrX:10612664-10612864           -5   \n",
              "1         A      chr3L:506207-506407           -5   \n",
              "2         A    chr2L:6806143-6806343           -5   \n",
              "3         A    chr2R:2810265-2810465           -5   \n",
              "4         A  chr3L:11603067-11603267           -5   \n",
              "...     ...                      ...          ...   \n",
              "4118      A    chr2L:3448744-3448944           -5   \n",
              "4119      A    chr3L:5801715-5801915           -5   \n",
              "4120      A       chr4:563819-564019           -5   \n",
              "4121      A  chr3L:20349533-20349733           -5   \n",
              "4122      A  chr3L:21209529-21209729           -5   \n",
              "\n",
              "                                                    seq  Bound  \n",
              "0     GCCTATTTGTTGACGTGGTTGGTTTGTTACTCATGGCTCATGATGT...      0  \n",
              "1     TTGTAGTTCGTTTGAATGGCCGCCCAGAGGTCGTCTTTGCCAGACG...      0  \n",
              "2     ACTGTTTTGAATAATGTCATAATTAAACGAATATACAGGCGGTAAC...      0  \n",
              "3     CGGCGGCTGCCAGCCTGGAAAATGGCACAGTGAGCAGTTTGCACTA...      0  \n",
              "4     TTCACGCCGTCTACAAATTATAGGTGGCTGACTTTTCGTCATTAGA...      0  \n",
              "...                                                 ...    ...  \n",
              "4118  AGGCAAACAGAAAGTGTTAAAAGTATTTCTCATGCGGAAAATCCAC...      0  \n",
              "4119  ACCTTTCGCTTAATGACAAACTAAATTTAGAACTCGGAACAATGCC...      0  \n",
              "4120  TATACCGATTGAAATTGGCCAGACAAACAACAAAACTAAAAAAAAT...      0  \n",
              "4121  CTTTCGCATGGTCTTCACTTGTTTTCCCATCCTGAAAAGCAAAGAG...      0  \n",
              "4122  TATTTAGAACCATTCTATGGTTCTTTTAGAACCATTCTATCACTTA...      0  \n",
              "\n",
              "[4123 rows x 5 columns]"
            ],
            "text/html": [
              "\n",
              "  <div id=\"df-d1ee28b7-df8f-4a88-af1c-ce6f34add91b\">\n",
              "    <div class=\"colab-df-container\">\n",
              "      <div>\n",
              "<style scoped>\n",
              "    .dataframe tbody tr th:only-of-type {\n",
              "        vertical-align: middle;\n",
              "    }\n",
              "\n",
              "    .dataframe tbody tr th {\n",
              "        vertical-align: top;\n",
              "    }\n",
              "\n",
              "    .dataframe thead th {\n",
              "        text-align: right;\n",
              "    }\n",
              "</style>\n",
              "<table border=\"1\" class=\"dataframe\">\n",
              "  <thead>\n",
              "    <tr style=\"text-align: right;\">\n",
              "      <th></th>\n",
              "      <th>FoldID</th>\n",
              "      <th>EventId</th>\n",
              "      <th>start_index</th>\n",
              "      <th>seq</th>\n",
              "      <th>Bound</th>\n",
              "    </tr>\n",
              "  </thead>\n",
              "  <tbody>\n",
              "    <tr>\n",
              "      <th>0</th>\n",
              "      <td>A</td>\n",
              "      <td>chrX:10612664-10612864</td>\n",
              "      <td>-5</td>\n",
              "      <td>GCCTATTTGTTGACGTGGTTGGTTTGTTACTCATGGCTCATGATGT...</td>\n",
              "      <td>0</td>\n",
              "    </tr>\n",
              "    <tr>\n",
              "      <th>1</th>\n",
              "      <td>A</td>\n",
              "      <td>chr3L:506207-506407</td>\n",
              "      <td>-5</td>\n",
              "      <td>TTGTAGTTCGTTTGAATGGCCGCCCAGAGGTCGTCTTTGCCAGACG...</td>\n",
              "      <td>0</td>\n",
              "    </tr>\n",
              "    <tr>\n",
              "      <th>2</th>\n",
              "      <td>A</td>\n",
              "      <td>chr2L:6806143-6806343</td>\n",
              "      <td>-5</td>\n",
              "      <td>ACTGTTTTGAATAATGTCATAATTAAACGAATATACAGGCGGTAAC...</td>\n",
              "      <td>0</td>\n",
              "    </tr>\n",
              "    <tr>\n",
              "      <th>3</th>\n",
              "      <td>A</td>\n",
              "      <td>chr2R:2810265-2810465</td>\n",
              "      <td>-5</td>\n",
              "      <td>CGGCGGCTGCCAGCCTGGAAAATGGCACAGTGAGCAGTTTGCACTA...</td>\n",
              "      <td>0</td>\n",
              "    </tr>\n",
              "    <tr>\n",
              "      <th>4</th>\n",
              "      <td>A</td>\n",
              "      <td>chr3L:11603067-11603267</td>\n",
              "      <td>-5</td>\n",
              "      <td>TTCACGCCGTCTACAAATTATAGGTGGCTGACTTTTCGTCATTAGA...</td>\n",
              "      <td>0</td>\n",
              "    </tr>\n",
              "    <tr>\n",
              "      <th>...</th>\n",
              "      <td>...</td>\n",
              "      <td>...</td>\n",
              "      <td>...</td>\n",
              "      <td>...</td>\n",
              "      <td>...</td>\n",
              "    </tr>\n",
              "    <tr>\n",
              "      <th>4118</th>\n",
              "      <td>A</td>\n",
              "      <td>chr2L:3448744-3448944</td>\n",
              "      <td>-5</td>\n",
              "      <td>AGGCAAACAGAAAGTGTTAAAAGTATTTCTCATGCGGAAAATCCAC...</td>\n",
              "      <td>0</td>\n",
              "    </tr>\n",
              "    <tr>\n",
              "      <th>4119</th>\n",
              "      <td>A</td>\n",
              "      <td>chr3L:5801715-5801915</td>\n",
              "      <td>-5</td>\n",
              "      <td>ACCTTTCGCTTAATGACAAACTAAATTTAGAACTCGGAACAATGCC...</td>\n",
              "      <td>0</td>\n",
              "    </tr>\n",
              "    <tr>\n",
              "      <th>4120</th>\n",
              "      <td>A</td>\n",
              "      <td>chr4:563819-564019</td>\n",
              "      <td>-5</td>\n",
              "      <td>TATACCGATTGAAATTGGCCAGACAAACAACAAAACTAAAAAAAAT...</td>\n",
              "      <td>0</td>\n",
              "    </tr>\n",
              "    <tr>\n",
              "      <th>4121</th>\n",
              "      <td>A</td>\n",
              "      <td>chr3L:20349533-20349733</td>\n",
              "      <td>-5</td>\n",
              "      <td>CTTTCGCATGGTCTTCACTTGTTTTCCCATCCTGAAAAGCAAAGAG...</td>\n",
              "      <td>0</td>\n",
              "    </tr>\n",
              "    <tr>\n",
              "      <th>4122</th>\n",
              "      <td>A</td>\n",
              "      <td>chr3L:21209529-21209729</td>\n",
              "      <td>-5</td>\n",
              "      <td>TATTTAGAACCATTCTATGGTTCTTTTAGAACCATTCTATCACTTA...</td>\n",
              "      <td>0</td>\n",
              "    </tr>\n",
              "  </tbody>\n",
              "</table>\n",
              "<p>4123 rows × 5 columns</p>\n",
              "</div>\n",
              "      <button class=\"colab-df-convert\" onclick=\"convertToInteractive('df-d1ee28b7-df8f-4a88-af1c-ce6f34add91b')\"\n",
              "              title=\"Convert this dataframe to an interactive table.\"\n",
              "              style=\"display:none;\">\n",
              "        \n",
              "  <svg xmlns=\"http://www.w3.org/2000/svg\" height=\"24px\"viewBox=\"0 0 24 24\"\n",
              "       width=\"24px\">\n",
              "    <path d=\"M0 0h24v24H0V0z\" fill=\"none\"/>\n",
              "    <path d=\"M18.56 5.44l.94 2.06.94-2.06 2.06-.94-2.06-.94-.94-2.06-.94 2.06-2.06.94zm-11 1L8.5 8.5l.94-2.06 2.06-.94-2.06-.94L8.5 2.5l-.94 2.06-2.06.94zm10 10l.94 2.06.94-2.06 2.06-.94-2.06-.94-.94-2.06-.94 2.06-2.06.94z\"/><path d=\"M17.41 7.96l-1.37-1.37c-.4-.4-.92-.59-1.43-.59-.52 0-1.04.2-1.43.59L10.3 9.45l-7.72 7.72c-.78.78-.78 2.05 0 2.83L4 21.41c.39.39.9.59 1.41.59.51 0 1.02-.2 1.41-.59l7.78-7.78 2.81-2.81c.8-.78.8-2.07 0-2.86zM5.41 20L4 18.59l7.72-7.72 1.47 1.35L5.41 20z\"/>\n",
              "  </svg>\n",
              "      </button>\n",
              "      \n",
              "  <style>\n",
              "    .colab-df-container {\n",
              "      display:flex;\n",
              "      flex-wrap:wrap;\n",
              "      gap: 12px;\n",
              "    }\n",
              "\n",
              "    .colab-df-convert {\n",
              "      background-color: #E8F0FE;\n",
              "      border: none;\n",
              "      border-radius: 50%;\n",
              "      cursor: pointer;\n",
              "      display: none;\n",
              "      fill: #1967D2;\n",
              "      height: 32px;\n",
              "      padding: 0 0 0 0;\n",
              "      width: 32px;\n",
              "    }\n",
              "\n",
              "    .colab-df-convert:hover {\n",
              "      background-color: #E2EBFA;\n",
              "      box-shadow: 0px 1px 2px rgba(60, 64, 67, 0.3), 0px 1px 3px 1px rgba(60, 64, 67, 0.15);\n",
              "      fill: #174EA6;\n",
              "    }\n",
              "\n",
              "    [theme=dark] .colab-df-convert {\n",
              "      background-color: #3B4455;\n",
              "      fill: #D2E3FC;\n",
              "    }\n",
              "\n",
              "    [theme=dark] .colab-df-convert:hover {\n",
              "      background-color: #434B5C;\n",
              "      box-shadow: 0px 1px 3px 1px rgba(0, 0, 0, 0.15);\n",
              "      filter: drop-shadow(0px 1px 2px rgba(0, 0, 0, 0.3));\n",
              "      fill: #FFFFFF;\n",
              "    }\n",
              "  </style>\n",
              "\n",
              "      <script>\n",
              "        const buttonEl =\n",
              "          document.querySelector('#df-d1ee28b7-df8f-4a88-af1c-ce6f34add91b button.colab-df-convert');\n",
              "        buttonEl.style.display =\n",
              "          google.colab.kernel.accessAllowed ? 'block' : 'none';\n",
              "\n",
              "        async function convertToInteractive(key) {\n",
              "          const element = document.querySelector('#df-d1ee28b7-df8f-4a88-af1c-ce6f34add91b');\n",
              "          const dataTable =\n",
              "            await google.colab.kernel.invokeFunction('convertToInteractive',\n",
              "                                                     [key], {});\n",
              "          if (!dataTable) return;\n",
              "\n",
              "          const docLinkHtml = 'Like what you see? Visit the ' +\n",
              "            '<a target=\"_blank\" href=https://colab.research.google.com/notebooks/data_table.ipynb>data table notebook</a>'\n",
              "            + ' to learn more about interactive tables.';\n",
              "          element.innerHTML = '';\n",
              "          dataTable['output_type'] = 'display_data';\n",
              "          await google.colab.output.renderOutput(dataTable, element);\n",
              "          const docLink = document.createElement('div');\n",
              "          docLink.innerHTML = docLinkHtml;\n",
              "          element.appendChild(docLink);\n",
              "        }\n",
              "      </script>\n",
              "    </div>\n",
              "  </div>\n",
              "  "
            ]
          },
          "metadata": {},
          "execution_count": 15
        }
      ]
    },
    {
      "cell_type": "code",
      "source": [
        "boundary = np.empty((4123,200,4), dtype=float)"
      ],
      "metadata": {
        "id": "QZU7BZNFYwHi"
      },
      "execution_count": 16,
      "outputs": []
    },
    {
      "cell_type": "code",
      "source": [
        "boundary.shape"
      ],
      "metadata": {
        "colab": {
          "base_uri": "https://localhost:8080/"
        },
        "id": "xxVS1OKmaL2d",
        "outputId": "6d7c691b-1951-4ff4-8bff-e84a5eef7989"
      },
      "execution_count": 17,
      "outputs": [
        {
          "output_type": "execute_result",
          "data": {
            "text/plain": [
              "(4123, 200, 4)"
            ]
          },
          "metadata": {},
          "execution_count": 17
        }
      ]
    },
    {
      "cell_type": "code",
      "execution_count": 19,
      "metadata": {
        "id": "KrVVvL6-UJVb"
      },
      "outputs": [],
      "source": [
        "import numpy as np\n",
        "def onehote(sequence):\n",
        "    mapping = {\"A\": 0, \"C\": 1, \"G\": 2, \"T\": 3}\n",
        "    seq2 = [mapping[i] for i in sequence]\n",
        "    return np.eye(4)[seq2]\n",
        "\n",
        "for i in range(len(df3)):\n",
        "  boundary[i] = onehote(df3['seq'][i])\n",
        "  "
      ]
    },
    {
      "cell_type": "code",
      "source": [
        "boundary.shape"
      ],
      "metadata": {
        "colab": {
          "base_uri": "https://localhost:8080/"
        },
        "id": "Q29ESMdbZQza",
        "outputId": "f9421c92-93e2-4ce5-f22b-cc98efbd5e28"
      },
      "execution_count": 20,
      "outputs": [
        {
          "output_type": "execute_result",
          "data": {
            "text/plain": [
              "(4123, 200, 4)"
            ]
          },
          "metadata": {},
          "execution_count": 20
        }
      ]
    },
    {
      "cell_type": "code",
      "source": [
        "boundary[:2]"
      ],
      "metadata": {
        "colab": {
          "base_uri": "https://localhost:8080/"
        },
        "id": "iGVtqiekZtYA",
        "outputId": "57f770c6-4e87-4a0d-8785-0344402f5aa0"
      },
      "execution_count": 21,
      "outputs": [
        {
          "output_type": "execute_result",
          "data": {
            "text/plain": [
              "array([[[0., 0., 1., 0.],\n",
              "        [0., 1., 0., 0.],\n",
              "        [0., 1., 0., 0.],\n",
              "        ...,\n",
              "        [0., 0., 0., 1.],\n",
              "        [1., 0., 0., 0.],\n",
              "        [0., 0., 0., 1.]],\n",
              "\n",
              "       [[0., 0., 0., 1.],\n",
              "        [0., 0., 0., 1.],\n",
              "        [0., 0., 1., 0.],\n",
              "        ...,\n",
              "        [0., 0., 0., 1.],\n",
              "        [0., 0., 1., 0.],\n",
              "        [0., 0., 0., 1.]]])"
            ]
          },
          "metadata": {},
          "execution_count": 21
        }
      ]
    },
    {
      "cell_type": "code",
      "source": [
        "import regex as re\n",
        "with open('boundary.txt', 'w') as fout:\n",
        "    fout.write(u'#'+'\\t'.join(str(e) for e in boundary.shape)+'\\n')\n",
        "    boundary.tofile(fout)\n",
        "\n",
        "with open('boundary.txt', 'rb') as f:\n",
        "    line=f.readline().decode('ascii')\n",
        "    if line.startswith('#'):\n",
        "        shape=tuple(map(int, re.findall(r'(\\d+)', line)))\n",
        "    else:\n",
        "        raise IOError('Failed to find shape in file')    \n",
        "\n",
        "    result2=np.fromfile(f)\n",
        "    result3=result2.reshape(shape)"
      ],
      "metadata": {
        "id": "5yr6mdYwXmUg"
      },
      "execution_count": 23,
      "outputs": []
    },
    {
      "cell_type": "code",
      "source": [
        "result3.shape\n"
      ],
      "metadata": {
        "colab": {
          "base_uri": "https://localhost:8080/"
        },
        "id": "KEmTwt1UUs9K",
        "outputId": "34de12ab-eb4a-46ba-cc01-a90ce92226a8"
      },
      "execution_count": 24,
      "outputs": [
        {
          "output_type": "execute_result",
          "data": {
            "text/plain": [
              "(4123, 200, 4)"
            ]
          },
          "metadata": {},
          "execution_count": 24
        }
      ]
    },
    {
      "cell_type": "markdown",
      "source": [
        " X_train = data[\"train_data\"]\n",
        "    Y_train = data[\"train_labels\"]\n",
        "    X_validation = data[\"val_data\"]\n",
        "    Y_validation = data[\"val_labels\"]\n",
        "    X_test = data[\"test_data\"]\n",
        "    Y_test = data[\"test_labels\"]"
      ],
      "metadata": {
        "id": "KERACUPmlxg4"
      }
    },
    {
      "cell_type": "code",
      "source": [
        "#train, test, val = oneHotEncodedData1[:3000,:], oneHotEncodedData1[3000:3800,:], oneHotEncodedData1[3800:,:]"
      ],
      "metadata": {
        "id": "FBt6zZGqUzHL"
      },
      "execution_count": null,
      "outputs": []
    },
    {
      "cell_type": "code",
      "source": [
        "#val.shape"
      ],
      "metadata": {
        "id": "owVdgcZ4mOTi"
      },
      "execution_count": null,
      "outputs": []
    },
    {
      "cell_type": "code",
      "source": [
        ""
      ],
      "metadata": {
        "id": "j9hBaMPgmPgH"
      },
      "execution_count": null,
      "outputs": []
    },
    {
      "cell_type": "markdown",
      "source": [
        "tad"
      ],
      "metadata": {
        "id": "660e9voNm7U2"
      }
    },
    {
      "cell_type": "code",
      "source": [
        "import pandas as pd\n",
        "\n",
        "df1 = pd.read_csv('/content/btechproj/Data/fruitfly/Fruitfly Datasets/shift_200/tad.txt', delimiter=\"\\t\")\n",
        "df1"
      ],
      "metadata": {
        "colab": {
          "base_uri": "https://localhost:8080/",
          "height": 424
        },
        "outputId": "837d97f8-5a88-42a2-d379-e4fc0c084143",
        "id": "jnguN2Wpm7n9"
      },
      "execution_count": 25,
      "outputs": [
        {
          "output_type": "execute_result",
          "data": {
            "text/plain": [
              "     FoldID                 EventId  start_index  \\\n",
              "0         A       chr2L:12482-12682           -5   \n",
              "1         A       chr2L:43932-44132           -5   \n",
              "2         A       chr2L:68857-69057           -5   \n",
              "3         A       chr2L:78079-78279           -5   \n",
              "4         A       chr2L:90108-90308           -5   \n",
              "...     ...                     ...          ...   \n",
              "4118      A  chrX:21887049-21887249           -5   \n",
              "4119      A  chrX:21910699-21910899           -5   \n",
              "4120      A  chrX:21936579-21936779           -5   \n",
              "4121      A  chrX:22085309-22085509           -5   \n",
              "4122      A  chrX:22237079-22237279           -5   \n",
              "\n",
              "                                                    seq  Bound  \n",
              "0     GCTACAACCGTGCATACTCTGCAGTGTTTCCGGGGATATGCGACAA...      1  \n",
              "1     AAAAGGGTTACAACAAATTGAAAGTCGAGTAACCATAAATTTTTGG...      1  \n",
              "2     CGTGGAGGAAGCACTGCCAGAGCACATGATCTTTGCGGCGCCAAAA...      1  \n",
              "3     GTCCTGAATTGACGTATATGTCTACATGTGTTTCCAAAGACAGTTG...      1  \n",
              "4     AAATAAAAACAAATATTTACGAAAATATGTTCAGATCCGAATTTGT...      1  \n",
              "...                                                 ...    ...  \n",
              "4118  TTCCTCTTCCCCAACACAAACAGCGCAAGAAGCCCTAGCAATTCGG...      1  \n",
              "4119  ATATTTTTATAGGCTTACTAATGCTAGGCAGTGGGAGTTATCCACC...      1  \n",
              "4120  CACGATCATCAGTTCCCAACAACTTGTTTCGACTCTTCGAAGACAA...      1  \n",
              "4121  TTCGCTGCGCCAAGACAACACATGCTCAATTTCGGTAATGCACCGT...      1  \n",
              "4122  TAAGTCGCCCGATGGAAAACAGCTTTTAGCCTAATCACAATATTAT...      1  \n",
              "\n",
              "[4123 rows x 5 columns]"
            ],
            "text/html": [
              "\n",
              "  <div id=\"df-76d3432b-d815-4c2e-bbdd-7bd0b764d949\">\n",
              "    <div class=\"colab-df-container\">\n",
              "      <div>\n",
              "<style scoped>\n",
              "    .dataframe tbody tr th:only-of-type {\n",
              "        vertical-align: middle;\n",
              "    }\n",
              "\n",
              "    .dataframe tbody tr th {\n",
              "        vertical-align: top;\n",
              "    }\n",
              "\n",
              "    .dataframe thead th {\n",
              "        text-align: right;\n",
              "    }\n",
              "</style>\n",
              "<table border=\"1\" class=\"dataframe\">\n",
              "  <thead>\n",
              "    <tr style=\"text-align: right;\">\n",
              "      <th></th>\n",
              "      <th>FoldID</th>\n",
              "      <th>EventId</th>\n",
              "      <th>start_index</th>\n",
              "      <th>seq</th>\n",
              "      <th>Bound</th>\n",
              "    </tr>\n",
              "  </thead>\n",
              "  <tbody>\n",
              "    <tr>\n",
              "      <th>0</th>\n",
              "      <td>A</td>\n",
              "      <td>chr2L:12482-12682</td>\n",
              "      <td>-5</td>\n",
              "      <td>GCTACAACCGTGCATACTCTGCAGTGTTTCCGGGGATATGCGACAA...</td>\n",
              "      <td>1</td>\n",
              "    </tr>\n",
              "    <tr>\n",
              "      <th>1</th>\n",
              "      <td>A</td>\n",
              "      <td>chr2L:43932-44132</td>\n",
              "      <td>-5</td>\n",
              "      <td>AAAAGGGTTACAACAAATTGAAAGTCGAGTAACCATAAATTTTTGG...</td>\n",
              "      <td>1</td>\n",
              "    </tr>\n",
              "    <tr>\n",
              "      <th>2</th>\n",
              "      <td>A</td>\n",
              "      <td>chr2L:68857-69057</td>\n",
              "      <td>-5</td>\n",
              "      <td>CGTGGAGGAAGCACTGCCAGAGCACATGATCTTTGCGGCGCCAAAA...</td>\n",
              "      <td>1</td>\n",
              "    </tr>\n",
              "    <tr>\n",
              "      <th>3</th>\n",
              "      <td>A</td>\n",
              "      <td>chr2L:78079-78279</td>\n",
              "      <td>-5</td>\n",
              "      <td>GTCCTGAATTGACGTATATGTCTACATGTGTTTCCAAAGACAGTTG...</td>\n",
              "      <td>1</td>\n",
              "    </tr>\n",
              "    <tr>\n",
              "      <th>4</th>\n",
              "      <td>A</td>\n",
              "      <td>chr2L:90108-90308</td>\n",
              "      <td>-5</td>\n",
              "      <td>AAATAAAAACAAATATTTACGAAAATATGTTCAGATCCGAATTTGT...</td>\n",
              "      <td>1</td>\n",
              "    </tr>\n",
              "    <tr>\n",
              "      <th>...</th>\n",
              "      <td>...</td>\n",
              "      <td>...</td>\n",
              "      <td>...</td>\n",
              "      <td>...</td>\n",
              "      <td>...</td>\n",
              "    </tr>\n",
              "    <tr>\n",
              "      <th>4118</th>\n",
              "      <td>A</td>\n",
              "      <td>chrX:21887049-21887249</td>\n",
              "      <td>-5</td>\n",
              "      <td>TTCCTCTTCCCCAACACAAACAGCGCAAGAAGCCCTAGCAATTCGG...</td>\n",
              "      <td>1</td>\n",
              "    </tr>\n",
              "    <tr>\n",
              "      <th>4119</th>\n",
              "      <td>A</td>\n",
              "      <td>chrX:21910699-21910899</td>\n",
              "      <td>-5</td>\n",
              "      <td>ATATTTTTATAGGCTTACTAATGCTAGGCAGTGGGAGTTATCCACC...</td>\n",
              "      <td>1</td>\n",
              "    </tr>\n",
              "    <tr>\n",
              "      <th>4120</th>\n",
              "      <td>A</td>\n",
              "      <td>chrX:21936579-21936779</td>\n",
              "      <td>-5</td>\n",
              "      <td>CACGATCATCAGTTCCCAACAACTTGTTTCGACTCTTCGAAGACAA...</td>\n",
              "      <td>1</td>\n",
              "    </tr>\n",
              "    <tr>\n",
              "      <th>4121</th>\n",
              "      <td>A</td>\n",
              "      <td>chrX:22085309-22085509</td>\n",
              "      <td>-5</td>\n",
              "      <td>TTCGCTGCGCCAAGACAACACATGCTCAATTTCGGTAATGCACCGT...</td>\n",
              "      <td>1</td>\n",
              "    </tr>\n",
              "    <tr>\n",
              "      <th>4122</th>\n",
              "      <td>A</td>\n",
              "      <td>chrX:22237079-22237279</td>\n",
              "      <td>-5</td>\n",
              "      <td>TAAGTCGCCCGATGGAAAACAGCTTTTAGCCTAATCACAATATTAT...</td>\n",
              "      <td>1</td>\n",
              "    </tr>\n",
              "  </tbody>\n",
              "</table>\n",
              "<p>4123 rows × 5 columns</p>\n",
              "</div>\n",
              "      <button class=\"colab-df-convert\" onclick=\"convertToInteractive('df-76d3432b-d815-4c2e-bbdd-7bd0b764d949')\"\n",
              "              title=\"Convert this dataframe to an interactive table.\"\n",
              "              style=\"display:none;\">\n",
              "        \n",
              "  <svg xmlns=\"http://www.w3.org/2000/svg\" height=\"24px\"viewBox=\"0 0 24 24\"\n",
              "       width=\"24px\">\n",
              "    <path d=\"M0 0h24v24H0V0z\" fill=\"none\"/>\n",
              "    <path d=\"M18.56 5.44l.94 2.06.94-2.06 2.06-.94-2.06-.94-.94-2.06-.94 2.06-2.06.94zm-11 1L8.5 8.5l.94-2.06 2.06-.94-2.06-.94L8.5 2.5l-.94 2.06-2.06.94zm10 10l.94 2.06.94-2.06 2.06-.94-2.06-.94-.94-2.06-.94 2.06-2.06.94z\"/><path d=\"M17.41 7.96l-1.37-1.37c-.4-.4-.92-.59-1.43-.59-.52 0-1.04.2-1.43.59L10.3 9.45l-7.72 7.72c-.78.78-.78 2.05 0 2.83L4 21.41c.39.39.9.59 1.41.59.51 0 1.02-.2 1.41-.59l7.78-7.78 2.81-2.81c.8-.78.8-2.07 0-2.86zM5.41 20L4 18.59l7.72-7.72 1.47 1.35L5.41 20z\"/>\n",
              "  </svg>\n",
              "      </button>\n",
              "      \n",
              "  <style>\n",
              "    .colab-df-container {\n",
              "      display:flex;\n",
              "      flex-wrap:wrap;\n",
              "      gap: 12px;\n",
              "    }\n",
              "\n",
              "    .colab-df-convert {\n",
              "      background-color: #E8F0FE;\n",
              "      border: none;\n",
              "      border-radius: 50%;\n",
              "      cursor: pointer;\n",
              "      display: none;\n",
              "      fill: #1967D2;\n",
              "      height: 32px;\n",
              "      padding: 0 0 0 0;\n",
              "      width: 32px;\n",
              "    }\n",
              "\n",
              "    .colab-df-convert:hover {\n",
              "      background-color: #E2EBFA;\n",
              "      box-shadow: 0px 1px 2px rgba(60, 64, 67, 0.3), 0px 1px 3px 1px rgba(60, 64, 67, 0.15);\n",
              "      fill: #174EA6;\n",
              "    }\n",
              "\n",
              "    [theme=dark] .colab-df-convert {\n",
              "      background-color: #3B4455;\n",
              "      fill: #D2E3FC;\n",
              "    }\n",
              "\n",
              "    [theme=dark] .colab-df-convert:hover {\n",
              "      background-color: #434B5C;\n",
              "      box-shadow: 0px 1px 3px 1px rgba(0, 0, 0, 0.15);\n",
              "      filter: drop-shadow(0px 1px 2px rgba(0, 0, 0, 0.3));\n",
              "      fill: #FFFFFF;\n",
              "    }\n",
              "  </style>\n",
              "\n",
              "      <script>\n",
              "        const buttonEl =\n",
              "          document.querySelector('#df-76d3432b-d815-4c2e-bbdd-7bd0b764d949 button.colab-df-convert');\n",
              "        buttonEl.style.display =\n",
              "          google.colab.kernel.accessAllowed ? 'block' : 'none';\n",
              "\n",
              "        async function convertToInteractive(key) {\n",
              "          const element = document.querySelector('#df-76d3432b-d815-4c2e-bbdd-7bd0b764d949');\n",
              "          const dataTable =\n",
              "            await google.colab.kernel.invokeFunction('convertToInteractive',\n",
              "                                                     [key], {});\n",
              "          if (!dataTable) return;\n",
              "\n",
              "          const docLinkHtml = 'Like what you see? Visit the ' +\n",
              "            '<a target=\"_blank\" href=https://colab.research.google.com/notebooks/data_table.ipynb>data table notebook</a>'\n",
              "            + ' to learn more about interactive tables.';\n",
              "          element.innerHTML = '';\n",
              "          dataTable['output_type'] = 'display_data';\n",
              "          await google.colab.output.renderOutput(dataTable, element);\n",
              "          const docLink = document.createElement('div');\n",
              "          docLink.innerHTML = docLinkHtml;\n",
              "          element.appendChild(docLink);\n",
              "        }\n",
              "      </script>\n",
              "    </div>\n",
              "  </div>\n",
              "  "
            ]
          },
          "metadata": {},
          "execution_count": 25
        }
      ]
    },
    {
      "cell_type": "code",
      "source": [
        ""
      ],
      "metadata": {
        "id": "khROp_B8lX-t"
      },
      "execution_count": 25,
      "outputs": []
    },
    {
      "cell_type": "code",
      "source": [
        "tad = np.empty((4123,200,4), dtype=float)"
      ],
      "metadata": {
        "id": "zgC28Wzym7n_"
      },
      "execution_count": 26,
      "outputs": []
    },
    {
      "cell_type": "code",
      "source": [
        "tad.shape"
      ],
      "metadata": {
        "colab": {
          "base_uri": "https://localhost:8080/"
        },
        "outputId": "c9fb015f-bd69-4d12-ff62-7e134fced773",
        "id": "cn3ip3-4m7oB"
      },
      "execution_count": 27,
      "outputs": [
        {
          "output_type": "execute_result",
          "data": {
            "text/plain": [
              "(4123, 200, 4)"
            ]
          },
          "metadata": {},
          "execution_count": 27
        }
      ]
    },
    {
      "cell_type": "code",
      "execution_count": 28,
      "metadata": {
        "id": "-QmPEyDzm7oF"
      },
      "outputs": [],
      "source": [
        "\n",
        "\n",
        "for i in range(len(df1)):\n",
        "  tad[i] = onehote(df1['seq'][i])\n",
        "  "
      ]
    },
    {
      "cell_type": "code",
      "source": [
        "tad.shape"
      ],
      "metadata": {
        "colab": {
          "base_uri": "https://localhost:8080/"
        },
        "outputId": "2fc1a277-d5ef-407b-a9bb-9ff4a1da3b3c",
        "id": "L_YU2r6Um7oH"
      },
      "execution_count": 29,
      "outputs": [
        {
          "output_type": "execute_result",
          "data": {
            "text/plain": [
              "(4123, 200, 4)"
            ]
          },
          "metadata": {},
          "execution_count": 29
        }
      ]
    },
    {
      "cell_type": "code",
      "source": [
        "tad[:2]"
      ],
      "metadata": {
        "colab": {
          "base_uri": "https://localhost:8080/"
        },
        "outputId": "5c5c4857-079d-4fdf-abb3-5bca99744e75",
        "id": "qR2uGBTGm7oK"
      },
      "execution_count": 30,
      "outputs": [
        {
          "output_type": "execute_result",
          "data": {
            "text/plain": [
              "array([[[0., 0., 1., 0.],\n",
              "        [0., 1., 0., 0.],\n",
              "        [0., 0., 0., 1.],\n",
              "        ...,\n",
              "        [0., 1., 0., 0.],\n",
              "        [0., 0., 1., 0.],\n",
              "        [0., 0., 1., 0.]],\n",
              "\n",
              "       [[1., 0., 0., 0.],\n",
              "        [1., 0., 0., 0.],\n",
              "        [1., 0., 0., 0.],\n",
              "        ...,\n",
              "        [0., 0., 1., 0.],\n",
              "        [0., 0., 0., 1.],\n",
              "        [0., 0., 0., 1.]]])"
            ]
          },
          "metadata": {},
          "execution_count": 30
        }
      ]
    },
    {
      "cell_type": "code",
      "source": [
        "import regex as re\n",
        "with open('tad.txt', 'w') as fout:\n",
        "    fout.write(u'#'+'\\t'.join(str(e) for e in tad.shape)+'\\n')\n",
        "    tad.tofile(fout)\n",
        "\n",
        "with open('tad.txt', 'rb') as f:\n",
        "    line=f.readline().decode('ascii')\n",
        "    if line.startswith('#'):\n",
        "        shape=tuple(map(int, re.findall(r'(\\d+)', line)))\n",
        "    else:\n",
        "        raise IOError('Failed to find shape in file')    \n",
        "\n",
        "    result22=np.fromfile(f)\n",
        "    result33=result2.reshape(shape)"
      ],
      "metadata": {
        "id": "qHsUiSqHm7oL"
      },
      "execution_count": 31,
      "outputs": []
    },
    {
      "cell_type": "code",
      "source": [
        "result22.shape"
      ],
      "metadata": {
        "colab": {
          "base_uri": "https://localhost:8080/"
        },
        "id": "fW65nbGOfkqY",
        "outputId": "0721bbb8-e25b-4771-c92c-6c6361e630a1"
      },
      "execution_count": 32,
      "outputs": [
        {
          "output_type": "execute_result",
          "data": {
            "text/plain": [
              "(3298400,)"
            ]
          },
          "metadata": {},
          "execution_count": 32
        }
      ]
    },
    {
      "cell_type": "code",
      "source": [
        "result33.shape\n"
      ],
      "metadata": {
        "colab": {
          "base_uri": "https://localhost:8080/"
        },
        "id": "VPyluFejSzz9",
        "outputId": "e20d2313-1c95-478e-9182-68af4bddaff2"
      },
      "execution_count": 33,
      "outputs": [
        {
          "output_type": "execute_result",
          "data": {
            "text/plain": [
              "(4123, 200, 4)"
            ]
          },
          "metadata": {},
          "execution_count": 33
        }
      ]
    },
    {
      "cell_type": "markdown",
      "source": [
        "concatinate left_right mix and TAD"
      ],
      "metadata": {
        "id": "n0aqSSd5S7-x"
      }
    },
    {
      "cell_type": "code",
      "source": [
        "eft = np.empty((8246,200,4), dtype=float)"
      ],
      "metadata": {
        "id": "fcPf47nOTcrk"
      },
      "execution_count": 40,
      "outputs": []
    },
    {
      "cell_type": "code",
      "source": [
        "eft = np.concatenate([tad, boundary], 0)"
      ],
      "metadata": {
        "id": "ux0mtCjpS6gD"
      },
      "execution_count": 41,
      "outputs": []
    },
    {
      "cell_type": "code",
      "source": [
        "eft.shape"
      ],
      "metadata": {
        "colab": {
          "base_uri": "https://localhost:8080/"
        },
        "id": "la8sP4xTTLSh",
        "outputId": "42b23ae4-b118-45ba-a259-81604f5f634a"
      },
      "execution_count": 42,
      "outputs": [
        {
          "output_type": "execute_result",
          "data": {
            "text/plain": [
              "(8246, 200, 4)"
            ]
          },
          "metadata": {},
          "execution_count": 42
        }
      ]
    },
    {
      "cell_type": "markdown",
      "source": [
        "eft is the entire 3d matrix training data"
      ],
      "metadata": {
        "id": "QpefswS0Tyvl"
      }
    },
    {
      "cell_type": "markdown",
      "source": [
        "left label matrix"
      ],
      "metadata": {
        "id": "zEi2VcFpT1u8"
      }
    },
    {
      "cell_type": "code",
      "source": [
        "#tad (df1) then boundary (df3) data"
      ],
      "metadata": {
        "id": "v3LIk9_umq00"
      },
      "execution_count": 39,
      "outputs": []
    },
    {
      "cell_type": "code",
      "source": [
        "from numpy import array\n",
        "from numpy import argmax\n",
        "\n",
        "from tensorflow.keras.utils import to_categorical\n",
        "# define example\n",
        "data = np.concatenate([df1['Bound'],df3['Bound']], 0)\n",
        "data = array(data)\n",
        "print(data)\n",
        "# one hot encode\n",
        "encoded1 = to_categorical(data)\n",
        "print(encoded1)"
      ],
      "metadata": {
        "colab": {
          "base_uri": "https://localhost:8080/"
        },
        "id": "D2gmLfXLTU7N",
        "outputId": "c1efb097-9a6a-4c0a-c6f9-8d1f625f1bef"
      },
      "execution_count": 43,
      "outputs": [
        {
          "output_type": "stream",
          "name": "stdout",
          "text": [
            "[1 1 1 ... 0 0 0]\n",
            "[[0. 1.]\n",
            " [0. 1.]\n",
            " [0. 1.]\n",
            " ...\n",
            " [1. 0.]\n",
            " [1. 0.]\n",
            " [1. 0.]]\n"
          ]
        }
      ]
    },
    {
      "cell_type": "code",
      "source": [
        "encoded1.shape"
      ],
      "metadata": {
        "colab": {
          "base_uri": "https://localhost:8080/"
        },
        "id": "f0L53bhddZah",
        "outputId": "04e87672-534e-492c-ec94-44ce5ceab7fe"
      },
      "execution_count": 44,
      "outputs": [
        {
          "output_type": "execute_result",
          "data": {
            "text/plain": [
              "(8246, 2)"
            ]
          },
          "metadata": {},
          "execution_count": 44
        }
      ]
    },
    {
      "cell_type": "code",
      "source": [
        "df2 = pd.DataFrame()\n",
        "df2['data'] = eft.tolist()\n",
        "df2['label'] = encoded1.tolist()"
      ],
      "metadata": {
        "id": "c-O-Vuv4dcFu"
      },
      "execution_count": 45,
      "outputs": []
    },
    {
      "cell_type": "markdown",
      "source": [
        "df2 - the complete dataframe \n",
        "will be broken down into df2_train, df2_test, df2_val"
      ],
      "metadata": {
        "id": "vDf1Gq4fiosg"
      }
    },
    {
      "cell_type": "code",
      "source": [
        "df2 = df2.sample(frac = 1).reset_index(drop=True)\n",
        "df2"
      ],
      "metadata": {
        "colab": {
          "base_uri": "https://localhost:8080/",
          "height": 424
        },
        "id": "1fwXa1uBdoUv",
        "outputId": "e2212993-9499-432a-cd9f-4af75f8d405a"
      },
      "execution_count": 46,
      "outputs": [
        {
          "output_type": "execute_result",
          "data": {
            "text/plain": [
              "                                                   data       label\n",
              "0     [[0.0, 0.0, 1.0, 0.0], [1.0, 0.0, 0.0, 0.0], [...  [1.0, 0.0]\n",
              "1     [[0.0, 0.0, 0.0, 1.0], [0.0, 0.0, 0.0, 1.0], [...  [1.0, 0.0]\n",
              "2     [[0.0, 0.0, 0.0, 1.0], [0.0, 0.0, 0.0, 1.0], [...  [1.0, 0.0]\n",
              "3     [[0.0, 0.0, 1.0, 0.0], [0.0, 0.0, 1.0, 0.0], [...  [1.0, 0.0]\n",
              "4     [[0.0, 1.0, 0.0, 0.0], [1.0, 0.0, 0.0, 0.0], [...  [1.0, 0.0]\n",
              "...                                                 ...         ...\n",
              "8241  [[1.0, 0.0, 0.0, 0.0], [0.0, 0.0, 0.0, 1.0], [...  [1.0, 0.0]\n",
              "8242  [[0.0, 0.0, 1.0, 0.0], [0.0, 1.0, 0.0, 0.0], [...  [1.0, 0.0]\n",
              "8243  [[1.0, 0.0, 0.0, 0.0], [0.0, 0.0, 1.0, 0.0], [...  [0.0, 1.0]\n",
              "8244  [[1.0, 0.0, 0.0, 0.0], [0.0, 0.0, 1.0, 0.0], [...  [0.0, 1.0]\n",
              "8245  [[0.0, 1.0, 0.0, 0.0], [0.0, 0.0, 1.0, 0.0], [...  [0.0, 1.0]\n",
              "\n",
              "[8246 rows x 2 columns]"
            ],
            "text/html": [
              "\n",
              "  <div id=\"df-5cb08eec-682d-4620-a7d4-4a59c2492f2a\">\n",
              "    <div class=\"colab-df-container\">\n",
              "      <div>\n",
              "<style scoped>\n",
              "    .dataframe tbody tr th:only-of-type {\n",
              "        vertical-align: middle;\n",
              "    }\n",
              "\n",
              "    .dataframe tbody tr th {\n",
              "        vertical-align: top;\n",
              "    }\n",
              "\n",
              "    .dataframe thead th {\n",
              "        text-align: right;\n",
              "    }\n",
              "</style>\n",
              "<table border=\"1\" class=\"dataframe\">\n",
              "  <thead>\n",
              "    <tr style=\"text-align: right;\">\n",
              "      <th></th>\n",
              "      <th>data</th>\n",
              "      <th>label</th>\n",
              "    </tr>\n",
              "  </thead>\n",
              "  <tbody>\n",
              "    <tr>\n",
              "      <th>0</th>\n",
              "      <td>[[0.0, 0.0, 1.0, 0.0], [1.0, 0.0, 0.0, 0.0], [...</td>\n",
              "      <td>[1.0, 0.0]</td>\n",
              "    </tr>\n",
              "    <tr>\n",
              "      <th>1</th>\n",
              "      <td>[[0.0, 0.0, 0.0, 1.0], [0.0, 0.0, 0.0, 1.0], [...</td>\n",
              "      <td>[1.0, 0.0]</td>\n",
              "    </tr>\n",
              "    <tr>\n",
              "      <th>2</th>\n",
              "      <td>[[0.0, 0.0, 0.0, 1.0], [0.0, 0.0, 0.0, 1.0], [...</td>\n",
              "      <td>[1.0, 0.0]</td>\n",
              "    </tr>\n",
              "    <tr>\n",
              "      <th>3</th>\n",
              "      <td>[[0.0, 0.0, 1.0, 0.0], [0.0, 0.0, 1.0, 0.0], [...</td>\n",
              "      <td>[1.0, 0.0]</td>\n",
              "    </tr>\n",
              "    <tr>\n",
              "      <th>4</th>\n",
              "      <td>[[0.0, 1.0, 0.0, 0.0], [1.0, 0.0, 0.0, 0.0], [...</td>\n",
              "      <td>[1.0, 0.0]</td>\n",
              "    </tr>\n",
              "    <tr>\n",
              "      <th>...</th>\n",
              "      <td>...</td>\n",
              "      <td>...</td>\n",
              "    </tr>\n",
              "    <tr>\n",
              "      <th>8241</th>\n",
              "      <td>[[1.0, 0.0, 0.0, 0.0], [0.0, 0.0, 0.0, 1.0], [...</td>\n",
              "      <td>[1.0, 0.0]</td>\n",
              "    </tr>\n",
              "    <tr>\n",
              "      <th>8242</th>\n",
              "      <td>[[0.0, 0.0, 1.0, 0.0], [0.0, 1.0, 0.0, 0.0], [...</td>\n",
              "      <td>[1.0, 0.0]</td>\n",
              "    </tr>\n",
              "    <tr>\n",
              "      <th>8243</th>\n",
              "      <td>[[1.0, 0.0, 0.0, 0.0], [0.0, 0.0, 1.0, 0.0], [...</td>\n",
              "      <td>[0.0, 1.0]</td>\n",
              "    </tr>\n",
              "    <tr>\n",
              "      <th>8244</th>\n",
              "      <td>[[1.0, 0.0, 0.0, 0.0], [0.0, 0.0, 1.0, 0.0], [...</td>\n",
              "      <td>[0.0, 1.0]</td>\n",
              "    </tr>\n",
              "    <tr>\n",
              "      <th>8245</th>\n",
              "      <td>[[0.0, 1.0, 0.0, 0.0], [0.0, 0.0, 1.0, 0.0], [...</td>\n",
              "      <td>[0.0, 1.0]</td>\n",
              "    </tr>\n",
              "  </tbody>\n",
              "</table>\n",
              "<p>8246 rows × 2 columns</p>\n",
              "</div>\n",
              "      <button class=\"colab-df-convert\" onclick=\"convertToInteractive('df-5cb08eec-682d-4620-a7d4-4a59c2492f2a')\"\n",
              "              title=\"Convert this dataframe to an interactive table.\"\n",
              "              style=\"display:none;\">\n",
              "        \n",
              "  <svg xmlns=\"http://www.w3.org/2000/svg\" height=\"24px\"viewBox=\"0 0 24 24\"\n",
              "       width=\"24px\">\n",
              "    <path d=\"M0 0h24v24H0V0z\" fill=\"none\"/>\n",
              "    <path d=\"M18.56 5.44l.94 2.06.94-2.06 2.06-.94-2.06-.94-.94-2.06-.94 2.06-2.06.94zm-11 1L8.5 8.5l.94-2.06 2.06-.94-2.06-.94L8.5 2.5l-.94 2.06-2.06.94zm10 10l.94 2.06.94-2.06 2.06-.94-2.06-.94-.94-2.06-.94 2.06-2.06.94z\"/><path d=\"M17.41 7.96l-1.37-1.37c-.4-.4-.92-.59-1.43-.59-.52 0-1.04.2-1.43.59L10.3 9.45l-7.72 7.72c-.78.78-.78 2.05 0 2.83L4 21.41c.39.39.9.59 1.41.59.51 0 1.02-.2 1.41-.59l7.78-7.78 2.81-2.81c.8-.78.8-2.07 0-2.86zM5.41 20L4 18.59l7.72-7.72 1.47 1.35L5.41 20z\"/>\n",
              "  </svg>\n",
              "      </button>\n",
              "      \n",
              "  <style>\n",
              "    .colab-df-container {\n",
              "      display:flex;\n",
              "      flex-wrap:wrap;\n",
              "      gap: 12px;\n",
              "    }\n",
              "\n",
              "    .colab-df-convert {\n",
              "      background-color: #E8F0FE;\n",
              "      border: none;\n",
              "      border-radius: 50%;\n",
              "      cursor: pointer;\n",
              "      display: none;\n",
              "      fill: #1967D2;\n",
              "      height: 32px;\n",
              "      padding: 0 0 0 0;\n",
              "      width: 32px;\n",
              "    }\n",
              "\n",
              "    .colab-df-convert:hover {\n",
              "      background-color: #E2EBFA;\n",
              "      box-shadow: 0px 1px 2px rgba(60, 64, 67, 0.3), 0px 1px 3px 1px rgba(60, 64, 67, 0.15);\n",
              "      fill: #174EA6;\n",
              "    }\n",
              "\n",
              "    [theme=dark] .colab-df-convert {\n",
              "      background-color: #3B4455;\n",
              "      fill: #D2E3FC;\n",
              "    }\n",
              "\n",
              "    [theme=dark] .colab-df-convert:hover {\n",
              "      background-color: #434B5C;\n",
              "      box-shadow: 0px 1px 3px 1px rgba(0, 0, 0, 0.15);\n",
              "      filter: drop-shadow(0px 1px 2px rgba(0, 0, 0, 0.3));\n",
              "      fill: #FFFFFF;\n",
              "    }\n",
              "  </style>\n",
              "\n",
              "      <script>\n",
              "        const buttonEl =\n",
              "          document.querySelector('#df-5cb08eec-682d-4620-a7d4-4a59c2492f2a button.colab-df-convert');\n",
              "        buttonEl.style.display =\n",
              "          google.colab.kernel.accessAllowed ? 'block' : 'none';\n",
              "\n",
              "        async function convertToInteractive(key) {\n",
              "          const element = document.querySelector('#df-5cb08eec-682d-4620-a7d4-4a59c2492f2a');\n",
              "          const dataTable =\n",
              "            await google.colab.kernel.invokeFunction('convertToInteractive',\n",
              "                                                     [key], {});\n",
              "          if (!dataTable) return;\n",
              "\n",
              "          const docLinkHtml = 'Like what you see? Visit the ' +\n",
              "            '<a target=\"_blank\" href=https://colab.research.google.com/notebooks/data_table.ipynb>data table notebook</a>'\n",
              "            + ' to learn more about interactive tables.';\n",
              "          element.innerHTML = '';\n",
              "          dataTable['output_type'] = 'display_data';\n",
              "          await google.colab.output.renderOutput(dataTable, element);\n",
              "          const docLink = document.createElement('div');\n",
              "          docLink.innerHTML = docLinkHtml;\n",
              "          element.appendChild(docLink);\n",
              "        }\n",
              "      </script>\n",
              "    </div>\n",
              "  </div>\n",
              "  "
            ]
          },
          "metadata": {},
          "execution_count": 46
        }
      ]
    },
    {
      "cell_type": "markdown",
      "source": [
        " X_train, X_test, y_train, y_test \n",
        "    = train_test_split(X, y, test_size=0.2, random_state=1)\n",
        "\n",
        " X_train, X_val, y_train, y_val \n",
        "    = train_test_split(X_train, y_train, test_size=0.25, random_state=1)"
      ],
      "metadata": {
        "id": "UsU0yY8tloT_"
      }
    },
    {
      "cell_type": "code",
      "source": [
        "from sklearn.model_selection import train_test_split\n",
        "\n",
        "train, test = train_test_split(df2, test_size = 0.2)"
      ],
      "metadata": {
        "id": "9BgsOmBWinqi"
      },
      "execution_count": 47,
      "outputs": []
    },
    {
      "cell_type": "code",
      "source": [
        "train, val = train_test_split(train, test_size = 0.25)"
      ],
      "metadata": {
        "id": "GGI2J9AVmpKs"
      },
      "execution_count": 48,
      "outputs": []
    },
    {
      "cell_type": "code",
      "source": [
        "len(train)"
      ],
      "metadata": {
        "colab": {
          "base_uri": "https://localhost:8080/"
        },
        "id": "H4kxbNQUmwNS",
        "outputId": "a9fae690-58a9-4110-8afd-28b8916f0369"
      },
      "execution_count": 49,
      "outputs": [
        {
          "output_type": "execute_result",
          "data": {
            "text/plain": [
              "4947"
            ]
          },
          "metadata": {},
          "execution_count": 49
        }
      ]
    },
    {
      "cell_type": "code",
      "source": [
        "len(test)"
      ],
      "metadata": {
        "colab": {
          "base_uri": "https://localhost:8080/"
        },
        "id": "uiqRz1-5myJK",
        "outputId": "079ee701-cbe2-40c1-cf21-f2be91af03b5"
      },
      "execution_count": 50,
      "outputs": [
        {
          "output_type": "execute_result",
          "data": {
            "text/plain": [
              "1650"
            ]
          },
          "metadata": {},
          "execution_count": 50
        }
      ]
    },
    {
      "cell_type": "code",
      "source": [
        "len(val)"
      ],
      "metadata": {
        "colab": {
          "base_uri": "https://localhost:8080/"
        },
        "id": "xSaumnE1mzce",
        "outputId": "d519d384-df00-422f-e62f-49b7346176bb"
      },
      "execution_count": 51,
      "outputs": [
        {
          "output_type": "execute_result",
          "data": {
            "text/plain": [
              "1649"
            ]
          },
          "metadata": {},
          "execution_count": 51
        }
      ]
    },
    {
      "cell_type": "code",
      "source": [
        "train_data = np.array(train.data.tolist())\n",
        "train_label = np.array(train.label.tolist())\n",
        "test_data = np.array(test.data.tolist())\n",
        "test_label = np.array(test.label.tolist())\n",
        "val_data = np.array(val.data.tolist())\n",
        "val_label = np.array(val.label.tolist())"
      ],
      "metadata": {
        "id": "r46_fSAZiaiD"
      },
      "execution_count": 52,
      "outputs": []
    },
    {
      "cell_type": "code",
      "source": [
        "print(\"train_data.shape: \",train_data.shape)\n",
        "print(\"train_label.shape: \",train_label.shape)\n",
        "print(\"test_data.shape: \",test_data.shape)\n",
        "print(\"test_label.shape: \",test_label.shape)\n",
        "print(\"val_data.shape: \",val_data.shape)\n",
        "print(\"val_label.shape: \",val_label.shape)"
      ],
      "metadata": {
        "colab": {
          "base_uri": "https://localhost:8080/"
        },
        "id": "4zCB5bU4nPxq",
        "outputId": "0371584e-ca7c-46d1-dc92-d7e4c763961c"
      },
      "execution_count": 53,
      "outputs": [
        {
          "output_type": "stream",
          "name": "stdout",
          "text": [
            "train_data.shape:  (4947, 200, 4)\n",
            "train_label.shape:  (4947, 2)\n",
            "test_data.shape:  (1650, 200, 4)\n",
            "test_label.shape:  (1650, 2)\n",
            "val_data.shape:  (1649, 200, 4)\n",
            "val_label.shape:  (1649, 2)\n"
          ]
        }
      ]
    },
    {
      "cell_type": "code",
      "source": [
        "import h5py"
      ],
      "metadata": {
        "id": "OsYPYJzQnrPm"
      },
      "execution_count": 54,
      "outputs": []
    },
    {
      "cell_type": "code",
      "source": [
        "with h5py.File('training_200seq_2class_tad_allboundary.hdf5', 'w') as f:\n",
        "  f.create_dataset('train_data', data=train_data)\n",
        "  f.create_dataset('train_labels', data=train_label)\n",
        "  f.create_dataset('test_data', data=test_data)\n",
        "  f.create_dataset('test_labels', data=test_label)\n",
        "  f.create_dataset('val_data', data=val_data)\n",
        "  f.create_dataset('val_labels', data=val_label)"
      ],
      "metadata": {
        "id": "VorJB1x9kM6z"
      },
      "execution_count": 55,
      "outputs": []
    },
    {
      "cell_type": "code",
      "source": [
        ""
      ],
      "metadata": {
        "id": "gAFzx3SirvFQ"
      },
      "execution_count": null,
      "outputs": []
    },
    {
      "cell_type": "code",
      "source": [
        "f = h5py.File('./training_200seq_2class.hdf5', 'r')\n",
        "list(f.keys())"
      ],
      "metadata": {
        "colab": {
          "base_uri": "https://localhost:8080/"
        },
        "id": "pADUfWaPo8-z",
        "outputId": "ecce1bab-94aa-46ae-8a7f-2fac6c93c4e0"
      },
      "execution_count": null,
      "outputs": [
        {
          "output_type": "execute_result",
          "data": {
            "text/plain": [
              "['test_data',\n",
              " 'test_labels',\n",
              " 'train_data',\n",
              " 'train_labels',\n",
              " 'val_data',\n",
              " 'val_labels']"
            ]
          },
          "metadata": {},
          "execution_count": 203
        }
      ]
    },
    {
      "cell_type": "code",
      "source": [
        "!gzip /content/SilencerEnhancerPredict/training_200seq_2class_tad_allboundary.hdf5"
      ],
      "metadata": {
        "id": "M4s-cPlI5On0"
      },
      "execution_count": 56,
      "outputs": []
    },
    {
      "cell_type": "code",
      "source": [
        "#!gunzip -d /content/SilencerEnhancerPredict/traininggg.hdf5.gz"
      ],
      "metadata": {
        "id": "wfEKlkCq_2yP"
      },
      "execution_count": null,
      "outputs": []
    },
    {
      "cell_type": "code",
      "source": [
        "!python3 train.py ./examples/traininggg.hdf5 ./examples/"
      ],
      "metadata": {
        "colab": {
          "base_uri": "https://localhost:8080/"
        },
        "id": "erBUr7DhpaQV",
        "outputId": "bcdf5637-8a3e-40bb-de12-03f45f7bd72a"
      },
      "execution_count": null,
      "outputs": [
        {
          "output_type": "stream",
          "name": "stdout",
          "text": [
            "2022-03-02 16:22:53.016906: W tensorflow/core/common_runtime/gpu/gpu_bfc_allocator.cc:39] Overriding allow_growth setting because the TF_FORCE_GPU_ALLOW_GROWTH environment variable is set. Original config value was 0.\n",
            "WARNING:tensorflow:No training configuration found in the save file, so the model was *not* compiled. Compile it manually.\n",
            "reading enhancers...\n",
            "WARNING:tensorflow:Compiled the loaded model, but the compiled metrics have yet to be built. `model.compile_metrics` will be empty until you train or evaluate the model.\n",
            "Epoch 1/200\n",
            "Traceback (most recent call last):\n",
            "  File \"train.py\", line 126, in <module>\n",
            "    train_model(data,results_dir)\n",
            "  File \"train.py\", line 116, in train_model\n",
            "    run_model(data, model, results_dir)\n",
            "  File \"train.py\", line 56, in run_model\n",
            "    callbacks=_callbacks, verbose=1)\n",
            "  File \"/usr/local/lib/python3.7/dist-packages/keras/utils/traceback_utils.py\", line 67, in error_handler\n",
            "    raise e.with_traceback(filtered_tb) from None\n",
            "  File \"/usr/local/lib/python3.7/dist-packages/tensorflow/python/framework/func_graph.py\", line 1147, in autograph_handler\n",
            "    raise e.ag_error_metadata.to_exception(e)\n",
            "ValueError: in user code:\n",
            "\n",
            "    File \"/usr/local/lib/python3.7/dist-packages/keras/engine/training.py\", line 1021, in train_function  *\n",
            "        return step_function(self, iterator)\n",
            "    File \"/usr/local/lib/python3.7/dist-packages/keras/engine/training.py\", line 1010, in step_function  **\n",
            "        outputs = model.distribute_strategy.run(run_step, args=(data,))\n",
            "    File \"/usr/local/lib/python3.7/dist-packages/keras/engine/training.py\", line 1000, in run_step  **\n",
            "        outputs = model.train_step(data)\n",
            "    File \"/usr/local/lib/python3.7/dist-packages/keras/engine/training.py\", line 859, in train_step\n",
            "        y_pred = self(x, training=True)\n",
            "    File \"/usr/local/lib/python3.7/dist-packages/keras/utils/traceback_utils.py\", line 67, in error_handler\n",
            "        raise e.with_traceback(filtered_tb) from None\n",
            "    File \"/usr/local/lib/python3.7/dist-packages/keras/engine/input_spec.py\", line 264, in assert_input_compatibility\n",
            "        raise ValueError(f'Input {input_index} of layer \"{layer_name}\" is '\n",
            "\n",
            "    ValueError: Input 0 of layer \"sequential\" is incompatible with the layer: expected shape=(None, 1000, 4), found shape=(None, 200, 4)\n",
            "\n"
          ]
        }
      ]
    },
    {
      "cell_type": "code",
      "source": [
        "!gzip /content/SilencerEnhancerPredict/traininggg.hdf5"
      ],
      "metadata": {
        "id": "Gk1-CDgKplKj"
      },
      "execution_count": null,
      "outputs": []
    },
    {
      "cell_type": "code",
      "source": [
        "data = {}\n",
        "with h5py.File('/content/SilencerEnhancerPredict/examples/model.hdf5', \"r\") as inf:\n",
        "  for _key in inf:\n",
        "    print(_key)\n",
        "    #data[_key] = inf[_key][()]"
      ],
      "metadata": {
        "colab": {
          "base_uri": "https://localhost:8080/"
        },
        "id": "i6mrFpdV5VmC",
        "outputId": "da12fd67-763c-4f29-aed9-c9d872888b6d"
      },
      "execution_count": null,
      "outputs": [
        {
          "output_type": "stream",
          "name": "stdout",
          "text": [
            "model_weights\n"
          ]
        }
      ]
    },
    {
      "cell_type": "code",
      "source": [
        ""
      ],
      "metadata": {
        "id": "9CPF_sDSeck6"
      },
      "execution_count": null,
      "outputs": []
    }
  ]
}
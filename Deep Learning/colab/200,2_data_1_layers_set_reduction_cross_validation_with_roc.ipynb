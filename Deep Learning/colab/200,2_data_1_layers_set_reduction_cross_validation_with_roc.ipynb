{
  "cells": [
    {
      "cell_type": "markdown",
      "metadata": {
        "id": "view-in-github",
        "colab_type": "text"
      },
      "source": [
        "<a href=\"https://colab.research.google.com/github/radhikasethi2011/SilencerEnhancerPredict/blob/main/colab/200%2C2_data_1_layers_set_reduction_cross_validation_with_roc.ipynb\" target=\"_parent\"><img src=\"https://colab.research.google.com/assets/colab-badge.svg\" alt=\"Open In Colab\"/></a>"
      ]
    },
    {
      "cell_type": "code",
      "execution_count": 1,
      "metadata": {
        "colab": {
          "base_uri": "https://localhost:8080/"
        },
        "id": "gsGdEyz9ej92",
        "outputId": "d13fe6e6-254c-4384-870a-a3bdc44164ee"
      },
      "outputs": [
        {
          "output_type": "stream",
          "name": "stdout",
          "text": [
            "Cloning into 'SilencerEnhancerPredict'...\n",
            "remote: Enumerating objects: 448, done.\u001b[K\n",
            "remote: Counting objects: 100% (73/73), done.\u001b[K\n",
            "remote: Compressing objects: 100% (69/69), done.\u001b[K\n",
            "remote: Total 448 (delta 32), reused 0 (delta 0), pack-reused 375\u001b[K\n",
            "Receiving objects: 100% (448/448), 201.10 MiB | 26.08 MiB/s, done.\n",
            "Resolving deltas: 100% (212/212), done.\n",
            "Checking out files: 100% (84/84), done.\n"
          ]
        }
      ],
      "source": [
        "!git clone https://github.com/radhikasethi2011/SilencerEnhancerPredict"
      ]
    },
    {
      "cell_type": "code",
      "execution_count": 2,
      "metadata": {
        "colab": {
          "base_uri": "https://localhost:8080/"
        },
        "id": "Z3oFoh8nkdyY",
        "outputId": "fb217136-f72a-4caa-b965-af1fb67b5883"
      },
      "outputs": [
        {
          "output_type": "stream",
          "name": "stdout",
          "text": [
            "/content/SilencerEnhancerPredict\n"
          ]
        }
      ],
      "source": [
        "cd '/content/SilencerEnhancerPredict'"
      ]
    },
    {
      "cell_type": "code",
      "source": [
        "%mkdir curves/"
      ],
      "metadata": {
        "id": "Qd-8Y2aK8ACU"
      },
      "execution_count": 3,
      "outputs": []
    },
    {
      "cell_type": "code",
      "execution_count": 4,
      "metadata": {
        "id": "SCMSlHzvoM7o"
      },
      "outputs": [],
      "source": [
        "from tensorflow.keras.optimizers import Adadelta\n",
        "from keras.models import load_model\n",
        "from keras.callbacks import ModelCheckpoint, EarlyStopping\n",
        "from tensorflow.keras.optimizers import Adadelta\n",
        "from sklearn import metrics\n",
        "import h5py\n",
        "import os"
      ]
    },
    {
      "cell_type": "code",
      "execution_count": 5,
      "metadata": {
        "colab": {
          "base_uri": "https://localhost:8080/",
          "height": 35
        },
        "id": "ev-acXVmknqp",
        "outputId": "44ed6dcd-6e91-426b-f093-46e90ce0672a"
      },
      "outputs": [
        {
          "output_type": "execute_result",
          "data": {
            "text/plain": [
              "'/content/SilencerEnhancerPredict'"
            ],
            "application/vnd.google.colaboratory.intrinsic+json": {
              "type": "string"
            }
          },
          "metadata": {},
          "execution_count": 5
        }
      ],
      "source": [
        "pwd"
      ]
    },
    {
      "cell_type": "code",
      "execution_count": 6,
      "metadata": {
        "id": "gtMkJ25yaXBP"
      },
      "outputs": [],
      "source": [
        "! gunzip /content/SilencerEnhancerPredict/examples/training_200seq_2class.hdf5"
      ]
    },
    {
      "cell_type": "code",
      "execution_count": 7,
      "metadata": {
        "colab": {
          "base_uri": "https://localhost:8080/"
        },
        "id": "5dgZ8wc1nrz5",
        "outputId": "b50bab52-b60c-494b-b94b-f4588e5bcd67"
      },
      "outputs": [
        {
          "output_type": "stream",
          "name": "stdout",
          "text": [
            "Collecting Bio\n",
            "  Downloading bio-1.3.8-py3-none-any.whl (269 kB)\n",
            "\u001b[?25l\r\u001b[K     |█▏                              | 10 kB 18.5 MB/s eta 0:00:01\r\u001b[K     |██▍                             | 20 kB 20.6 MB/s eta 0:00:01\r\u001b[K     |███▋                            | 30 kB 15.8 MB/s eta 0:00:01\r\u001b[K     |████▉                           | 40 kB 13.9 MB/s eta 0:00:01\r\u001b[K     |██████                          | 51 kB 9.0 MB/s eta 0:00:01\r\u001b[K     |███████▎                        | 61 kB 10.4 MB/s eta 0:00:01\r\u001b[K     |████████▌                       | 71 kB 10.5 MB/s eta 0:00:01\r\u001b[K     |█████████▊                      | 81 kB 10.5 MB/s eta 0:00:01\r\u001b[K     |███████████                     | 92 kB 11.5 MB/s eta 0:00:01\r\u001b[K     |████████████▏                   | 102 kB 11.6 MB/s eta 0:00:01\r\u001b[K     |█████████████▍                  | 112 kB 11.6 MB/s eta 0:00:01\r\u001b[K     |██████████████▋                 | 122 kB 11.6 MB/s eta 0:00:01\r\u001b[K     |███████████████▉                | 133 kB 11.6 MB/s eta 0:00:01\r\u001b[K     |█████████████████               | 143 kB 11.6 MB/s eta 0:00:01\r\u001b[K     |██████████████████▏             | 153 kB 11.6 MB/s eta 0:00:01\r\u001b[K     |███████████████████▍            | 163 kB 11.6 MB/s eta 0:00:01\r\u001b[K     |████████████████████▋           | 174 kB 11.6 MB/s eta 0:00:01\r\u001b[K     |█████████████████████▉          | 184 kB 11.6 MB/s eta 0:00:01\r\u001b[K     |███████████████████████         | 194 kB 11.6 MB/s eta 0:00:01\r\u001b[K     |████████████████████████▎       | 204 kB 11.6 MB/s eta 0:00:01\r\u001b[K     |█████████████████████████▌      | 215 kB 11.6 MB/s eta 0:00:01\r\u001b[K     |██████████████████████████▊     | 225 kB 11.6 MB/s eta 0:00:01\r\u001b[K     |████████████████████████████    | 235 kB 11.6 MB/s eta 0:00:01\r\u001b[K     |█████████████████████████████▏  | 245 kB 11.6 MB/s eta 0:00:01\r\u001b[K     |██████████████████████████████▍ | 256 kB 11.6 MB/s eta 0:00:01\r\u001b[K     |███████████████████████████████▋| 266 kB 11.6 MB/s eta 0:00:01\r\u001b[K     |████████████████████████████████| 269 kB 11.6 MB/s \n",
            "\u001b[?25hCollecting mygene\n",
            "  Downloading mygene-3.2.2-py2.py3-none-any.whl (5.4 kB)\n",
            "Collecting biopython>=1.79\n",
            "  Downloading biopython-1.79-cp37-cp37m-manylinux_2_5_x86_64.manylinux1_x86_64.whl (2.3 MB)\n",
            "\u001b[K     |████████████████████████████████| 2.3 MB 23.7 MB/s \n",
            "\u001b[?25hRequirement already satisfied: requests in /usr/local/lib/python3.7/dist-packages (from Bio) (2.23.0)\n",
            "Requirement already satisfied: tqdm in /usr/local/lib/python3.7/dist-packages (from Bio) (4.64.0)\n",
            "Requirement already satisfied: numpy in /usr/local/lib/python3.7/dist-packages (from biopython>=1.79->Bio) (1.21.6)\n",
            "Collecting biothings-client>=0.2.6\n",
            "  Downloading biothings_client-0.2.6-py2.py3-none-any.whl (37 kB)\n",
            "Requirement already satisfied: idna<3,>=2.5 in /usr/local/lib/python3.7/dist-packages (from requests->Bio) (2.10)\n",
            "Requirement already satisfied: urllib3!=1.25.0,!=1.25.1,<1.26,>=1.21.1 in /usr/local/lib/python3.7/dist-packages (from requests->Bio) (1.24.3)\n",
            "Requirement already satisfied: chardet<4,>=3.0.2 in /usr/local/lib/python3.7/dist-packages (from requests->Bio) (3.0.4)\n",
            "Requirement already satisfied: certifi>=2017.4.17 in /usr/local/lib/python3.7/dist-packages (from requests->Bio) (2021.10.8)\n",
            "Installing collected packages: biothings-client, mygene, biopython, Bio\n",
            "Successfully installed Bio-1.3.8 biopython-1.79 biothings-client-0.2.6 mygene-3.2.2\n",
            "Collecting pybedtools\n",
            "  Downloading pybedtools-0.9.0.tar.gz (12.5 MB)\n",
            "\u001b[K     |████████████████████████████████| 12.5 MB 10.1 MB/s \n",
            "\u001b[?25hRequirement already satisfied: six in /usr/local/lib/python3.7/dist-packages (from pybedtools) (1.15.0)\n",
            "Collecting pysam\n",
            "  Downloading pysam-0.19.0-cp37-cp37m-manylinux_2_12_x86_64.manylinux2010_x86_64.whl (15.0 MB)\n",
            "\u001b[K     |████████████████████████████████| 15.0 MB 25.1 MB/s \n",
            "\u001b[?25hBuilding wheels for collected packages: pybedtools\n",
            "  Building wheel for pybedtools (setup.py) ... \u001b[?25l\u001b[?25hdone\n",
            "  Created wheel for pybedtools: filename=pybedtools-0.9.0-cp37-cp37m-linux_x86_64.whl size=13616809 sha256=5e6cb6094810aded3410f1935ec0649c587c0085525f9a73244d6d7ea4db7ffd\n",
            "  Stored in directory: /root/.cache/pip/wheels/7a/44/0d/3a7449885adaf8ebb157da8c3c834a712f48b3b3b84ba51dda\n",
            "Successfully built pybedtools\n",
            "Installing collected packages: pysam, pybedtools\n",
            "Successfully installed pybedtools-0.9.0 pysam-0.19.0\n"
          ]
        }
      ],
      "source": [
        "%pip install Bio\n",
        "%pip install pybedtools"
      ]
    },
    {
      "cell_type": "code",
      "execution_count": 8,
      "metadata": {
        "colab": {
          "base_uri": "https://localhost:8080/"
        },
        "id": "i8VdJs3S5ZZz",
        "outputId": "77e876c4-864b-4a62-abce-fe4d30159cf5"
      },
      "outputs": [
        {
          "output_type": "stream",
          "name": "stdout",
          "text": [
            "Num GPUs Available:  1\n"
          ]
        }
      ],
      "source": [
        "import tensorflow as tf\n",
        "print(\"Num GPUs Available: \", len(tf.config.list_physical_devices('GPU')))"
      ]
    },
    {
      "cell_type": "code",
      "execution_count": 9,
      "metadata": {
        "colab": {
          "base_uri": "https://localhost:8080/",
          "height": 35
        },
        "id": "1tbv0cap7bmR",
        "outputId": "0cfbc908-74f1-4831-e8f1-0a4b3f310d2a"
      },
      "outputs": [
        {
          "output_type": "execute_result",
          "data": {
            "text/plain": [
              "'/device:GPU:0'"
            ],
            "application/vnd.google.colaboratory.intrinsic+json": {
              "type": "string"
            }
          },
          "metadata": {},
          "execution_count": 9
        }
      ],
      "source": [
        "tf.test.gpu_device_name()"
      ]
    },
    {
      "cell_type": "code",
      "execution_count": null,
      "metadata": {
        "colab": {
          "base_uri": "https://localhost:8080/"
        },
        "id": "Q2lE7bPohArJ",
        "outputId": "0e0988db-6c55-4ef8-93a3-dfce6597fa25"
      },
      "outputs": [
        {
          "output_type": "stream",
          "name": "stdout",
          "text": [
            "2022-05-10 12:06:30.979109: W tensorflow/core/common_runtime/gpu/gpu_bfc_allocator.cc:39] Overriding allow_growth setting because the TF_FORCE_GPU_ALLOW_GROWTH environment variable is set. Original config value was 0.\n",
            "reading enhancers...\n",
            "1\n",
            " \n",
            "Epoch 1/200\n",
            "73/73 [==============================] - ETA: 0s - loss: 0.4861 - accuracy: 0.7846\n",
            "Epoch 1: val_loss improved from inf to 0.61930, saving model to /content/SilencerEnhancerPredict/examples/model_weights.hdf5\n",
            "73/73 [==============================] - 7s 34ms/step - loss: 0.4861 - accuracy: 0.7846 - val_loss: 0.6193 - val_accuracy: 0.6669\n",
            "Epoch 2/200\n",
            "73/73 [==============================] - ETA: 0s - loss: 0.3297 - accuracy: 0.8579\n",
            "Epoch 2: val_loss improved from 0.61930 to 0.47162, saving model to /content/SilencerEnhancerPredict/examples/model_weights.hdf5\n",
            "73/73 [==============================] - 2s 24ms/step - loss: 0.3297 - accuracy: 0.8579 - val_loss: 0.4716 - val_accuracy: 0.7878\n",
            "Epoch 3/200\n",
            "73/73 [==============================] - ETA: 0s - loss: 0.2248 - accuracy: 0.9099\n",
            "Epoch 3: val_loss did not improve from 0.47162\n",
            "73/73 [==============================] - 2s 23ms/step - loss: 0.2248 - accuracy: 0.9099 - val_loss: 0.7826 - val_accuracy: 0.6979\n",
            "Epoch 4/200\n",
            "73/73 [==============================] - ETA: 0s - loss: 0.1951 - accuracy: 0.9239\n",
            "Epoch 4: val_loss did not improve from 0.47162\n",
            "73/73 [==============================] - 2s 23ms/step - loss: 0.1951 - accuracy: 0.9239 - val_loss: 0.7957 - val_accuracy: 0.6928\n",
            "Epoch 5/200\n",
            "73/73 [==============================] - ETA: 0s - loss: 0.1623 - accuracy: 0.9362\n",
            "Epoch 5: val_loss did not improve from 0.47162\n",
            "73/73 [==============================] - 2s 23ms/step - loss: 0.1623 - accuracy: 0.9362 - val_loss: 0.7002 - val_accuracy: 0.7212\n",
            "Epoch 6/200\n",
            "73/73 [==============================] - ETA: 0s - loss: 0.1343 - accuracy: 0.9463\n",
            "Epoch 6: val_loss did not improve from 0.47162\n",
            "73/73 [==============================] - 2s 23ms/step - loss: 0.1343 - accuracy: 0.9463 - val_loss: 0.6796 - val_accuracy: 0.7561\n",
            "Epoch 7/200\n",
            "73/73 [==============================] - ETA: 0s - loss: 0.1272 - accuracy: 0.9508\n",
            "Epoch 7: val_loss did not improve from 0.47162\n",
            "73/73 [==============================] - 2s 23ms/step - loss: 0.1272 - accuracy: 0.9508 - val_loss: 1.0586 - val_accuracy: 0.6785\n",
            "Epoch 8/200\n",
            "73/73 [==============================] - ETA: 0s - loss: 0.1150 - accuracy: 0.9564\n",
            "Epoch 8: val_loss did not improve from 0.47162\n",
            "73/73 [==============================] - 2s 25ms/step - loss: 0.1150 - accuracy: 0.9564 - val_loss: 1.1655 - val_accuracy: 0.6772\n",
            "Epoch 9/200\n",
            "73/73 [==============================] - ETA: 0s - loss: 0.1026 - accuracy: 0.9646\n",
            "Epoch 9: val_loss did not improve from 0.47162\n",
            "73/73 [==============================] - 2s 23ms/step - loss: 0.1026 - accuracy: 0.9646 - val_loss: 0.8135 - val_accuracy: 0.7102\n",
            "Epoch 10/200\n",
            "73/73 [==============================] - ETA: 0s - loss: 0.0933 - accuracy: 0.9649\n",
            "Epoch 10: val_loss did not improve from 0.47162\n",
            "73/73 [==============================] - 2s 25ms/step - loss: 0.0933 - accuracy: 0.9649 - val_loss: 0.8214 - val_accuracy: 0.7147\n",
            "Epoch 11/200\n",
            "73/73 [==============================] - ETA: 0s - loss: 0.0954 - accuracy: 0.9659\n",
            "Epoch 11: val_loss did not improve from 0.47162\n",
            "73/73 [==============================] - 2s 23ms/step - loss: 0.0954 - accuracy: 0.9659 - val_loss: 1.0402 - val_accuracy: 0.6798\n",
            "Epoch 12/200\n",
            "73/73 [==============================] - ETA: 0s - loss: 0.0940 - accuracy: 0.9642\n",
            "Epoch 12: val_loss did not improve from 0.47162\n",
            "73/73 [==============================] - 2s 23ms/step - loss: 0.0940 - accuracy: 0.9642 - val_loss: 0.8802 - val_accuracy: 0.7102\n",
            "Epoch 12: early stopping\n",
            " \n",
            "Score for fold 1: loss of 0.8694615960121155; accuracy of 69.8836088180542%\n",
            "reading samples...\n",
            "prediction on test samples ...\n",
            "11/11 [==============================] - 1s 21ms/step\n",
            "Keys: <KeysViewHDF5 ['ypred']>\n",
            "<Figure size 640x480 with 1 Axes>\n",
            "2\n",
            " \n",
            "Epoch 1/200\n",
            "73/73 [==============================] - ETA: 0s - loss: 0.3521 - accuracy: 0.8609\n",
            "Epoch 1: val_loss did not improve from 0.47162\n",
            "73/73 [==============================] - 2s 25ms/step - loss: 0.3521 - accuracy: 0.8609 - val_loss: 0.7059 - val_accuracy: 0.6662\n",
            "Epoch 2/200\n",
            "72/73 [============================>.] - ETA: 0s - loss: 0.1906 - accuracy: 0.9266\n",
            "Epoch 2: val_loss did not improve from 0.47162\n",
            "73/73 [==============================] - 2s 25ms/step - loss: 0.1901 - accuracy: 0.9269 - val_loss: 0.8486 - val_accuracy: 0.6481\n",
            "Epoch 3/200\n",
            "73/73 [==============================] - ETA: 0s - loss: 0.1347 - accuracy: 0.9508\n",
            "Epoch 3: val_loss did not improve from 0.47162\n",
            "73/73 [==============================] - 2s 23ms/step - loss: 0.1347 - accuracy: 0.9508 - val_loss: 0.9712 - val_accuracy: 0.6617\n",
            "Epoch 4/200\n",
            "73/73 [==============================] - ETA: 0s - loss: 0.1112 - accuracy: 0.9605\n",
            "Epoch 4: val_loss did not improve from 0.47162\n",
            "73/73 [==============================] - 2s 23ms/step - loss: 0.1112 - accuracy: 0.9605 - val_loss: 0.9596 - val_accuracy: 0.6624\n",
            "Epoch 5/200\n",
            "73/73 [==============================] - ETA: 0s - loss: 0.0901 - accuracy: 0.9683\n",
            "Epoch 5: val_loss did not improve from 0.47162\n",
            "73/73 [==============================] - 2s 23ms/step - loss: 0.0901 - accuracy: 0.9683 - val_loss: 1.3656 - val_accuracy: 0.6235\n",
            "Epoch 6/200\n",
            "73/73 [==============================] - ETA: 0s - loss: 0.0919 - accuracy: 0.9657\n",
            "Epoch 6: val_loss did not improve from 0.47162\n",
            "73/73 [==============================] - 2s 23ms/step - loss: 0.0919 - accuracy: 0.9657 - val_loss: 1.2594 - val_accuracy: 0.6339\n",
            "Epoch 7/200\n",
            "73/73 [==============================] - ETA: 0s - loss: 0.0821 - accuracy: 0.9679\n",
            "Epoch 7: val_loss did not improve from 0.47162\n",
            "73/73 [==============================] - 2s 23ms/step - loss: 0.0821 - accuracy: 0.9679 - val_loss: 1.1346 - val_accuracy: 0.6404\n",
            "Epoch 8/200\n",
            "73/73 [==============================] - ETA: 0s - loss: 0.0719 - accuracy: 0.9759\n",
            "Epoch 8: val_loss did not improve from 0.47162\n",
            "73/73 [==============================] - 2s 23ms/step - loss: 0.0719 - accuracy: 0.9759 - val_loss: 1.0698 - val_accuracy: 0.6429\n",
            "Epoch 9/200\n",
            "73/73 [==============================] - ETA: 0s - loss: 0.0851 - accuracy: 0.9670\n",
            "Epoch 9: val_loss did not improve from 0.47162\n",
            "73/73 [==============================] - 2s 23ms/step - loss: 0.0851 - accuracy: 0.9670 - val_loss: 1.2537 - val_accuracy: 0.6552\n",
            "Epoch 10/200\n",
            "73/73 [==============================] - ETA: 0s - loss: 0.0805 - accuracy: 0.9711\n",
            "Epoch 10: val_loss did not improve from 0.47162\n",
            "73/73 [==============================] - 2s 25ms/step - loss: 0.0805 - accuracy: 0.9711 - val_loss: 1.2952 - val_accuracy: 0.6332\n",
            "Epoch 11/200\n",
            "73/73 [==============================] - ETA: 0s - loss: 0.0618 - accuracy: 0.9756\n",
            "Epoch 11: val_loss did not improve from 0.47162\n",
            "73/73 [==============================] - 2s 23ms/step - loss: 0.0618 - accuracy: 0.9756 - val_loss: 1.1188 - val_accuracy: 0.6669\n",
            "Epoch 11: early stopping\n",
            " \n",
            "Score for fold 2: loss of 0.4349414110183716; accuracy of 84.86905694007874%\n",
            "reading samples...\n",
            "prediction on test samples ...\n",
            "11/11 [==============================] - 0s 15ms/step\n",
            "Keys: <KeysViewHDF5 ['ypred']>\n",
            "<Figure size 640x480 with 1 Axes>\n",
            "3\n",
            " \n",
            "Epoch 1/200\n",
            "73/73 [==============================] - ETA: 0s - loss: 0.1827 - accuracy: 0.9310\n",
            "Epoch 1: val_loss did not improve from 0.47162\n",
            "73/73 [==============================] - 2s 30ms/step - loss: 0.1827 - accuracy: 0.9310 - val_loss: 0.9112 - val_accuracy: 0.6574\n",
            "Epoch 2/200\n",
            "73/73 [==============================] - ETA: 0s - loss: 0.0973 - accuracy: 0.9638\n",
            "Epoch 2: val_loss did not improve from 0.47162\n",
            "73/73 [==============================] - 2s 23ms/step - loss: 0.0973 - accuracy: 0.9638 - val_loss: 1.0946 - val_accuracy: 0.6593\n",
            "Epoch 3/200\n",
            "73/73 [==============================] - ETA: 0s - loss: 0.0831 - accuracy: 0.9661\n",
            "Epoch 3: val_loss did not improve from 0.47162\n",
            "73/73 [==============================] - 2s 23ms/step - loss: 0.0831 - accuracy: 0.9661 - val_loss: 1.0938 - val_accuracy: 0.6600\n",
            "Epoch 4/200\n",
            "73/73 [==============================] - ETA: 0s - loss: 0.0740 - accuracy: 0.9735\n",
            "Epoch 4: val_loss did not improve from 0.47162\n",
            "73/73 [==============================] - 2s 23ms/step - loss: 0.0740 - accuracy: 0.9735 - val_loss: 1.2362 - val_accuracy: 0.6406\n",
            "Epoch 5/200\n",
            "73/73 [==============================] - ETA: 0s - loss: 0.0739 - accuracy: 0.9735\n",
            "Epoch 5: val_loss did not improve from 0.47162\n",
            "73/73 [==============================] - 2s 25ms/step - loss: 0.0739 - accuracy: 0.9735 - val_loss: 1.3675 - val_accuracy: 0.6322\n",
            "Epoch 6/200\n",
            "73/73 [==============================] - ETA: 0s - loss: 0.0549 - accuracy: 0.9806\n",
            "Epoch 6: val_loss did not improve from 0.47162\n",
            "73/73 [==============================] - 2s 23ms/step - loss: 0.0549 - accuracy: 0.9806 - val_loss: 1.2041 - val_accuracy: 0.6723\n",
            "Epoch 7/200\n",
            "73/73 [==============================] - ETA: 0s - loss: 0.0581 - accuracy: 0.9797\n",
            "Epoch 7: val_loss did not improve from 0.47162\n",
            "73/73 [==============================] - 2s 25ms/step - loss: 0.0581 - accuracy: 0.9797 - val_loss: 1.1361 - val_accuracy: 0.6684\n",
            "Epoch 8/200\n",
            "73/73 [==============================] - ETA: 0s - loss: 0.0521 - accuracy: 0.9808\n",
            "Epoch 8: val_loss did not improve from 0.47162\n",
            "73/73 [==============================] - 2s 23ms/step - loss: 0.0521 - accuracy: 0.9808 - val_loss: 1.1950 - val_accuracy: 0.6703\n",
            "Epoch 9/200\n",
            "71/73 [============================>.] - ETA: 0s - loss: 0.0652 - accuracy: 0.9740\n",
            "Epoch 9: val_loss did not improve from 0.47162\n",
            "73/73 [==============================] - 2s 26ms/step - loss: 0.0659 - accuracy: 0.9739 - val_loss: 1.0802 - val_accuracy: 0.6690\n",
            "Epoch 10/200\n",
            "73/73 [==============================] - ETA: 0s - loss: 0.0602 - accuracy: 0.9787\n",
            "Epoch 10: val_loss did not improve from 0.47162\n",
            "73/73 [==============================] - 2s 23ms/step - loss: 0.0602 - accuracy: 0.9787 - val_loss: 1.1181 - val_accuracy: 0.6632\n",
            "Epoch 11/200\n",
            "73/73 [==============================] - ETA: 0s - loss: 0.0498 - accuracy: 0.9828\n",
            "Epoch 11: val_loss did not improve from 0.47162\n",
            "73/73 [==============================] - 2s 23ms/step - loss: 0.0498 - accuracy: 0.9828 - val_loss: 1.1768 - val_accuracy: 0.6677\n",
            "Epoch 11: early stopping\n",
            " \n",
            "Score for fold 3: loss of 0.3780953884124756; accuracy of 88.11256885528564%\n",
            "reading samples...\n",
            "prediction on test samples ...\n",
            "11/11 [==============================] - 0s 21ms/step\n",
            "Keys: <KeysViewHDF5 ['ypred']>\n",
            "<Figure size 640x480 with 1 Axes>\n",
            "4\n",
            " \n",
            "Epoch 1/200\n",
            "73/73 [==============================] - ETA: 0s - loss: 0.1148 - accuracy: 0.9569\n",
            "Epoch 1: val_loss did not improve from 0.47162\n",
            "73/73 [==============================] - 2s 24ms/step - loss: 0.1148 - accuracy: 0.9569 - val_loss: 1.1942 - val_accuracy: 0.6167\n",
            "Epoch 2/200\n",
            "73/73 [==============================] - ETA: 0s - loss: 0.0800 - accuracy: 0.9679\n",
            "Epoch 2: val_loss did not improve from 0.47162\n",
            "73/73 [==============================] - 2s 24ms/step - loss: 0.0800 - accuracy: 0.9679 - val_loss: 1.4530 - val_accuracy: 0.5921\n",
            "Epoch 3/200\n",
            "73/73 [==============================] - ETA: 0s - loss: 0.0796 - accuracy: 0.9698\n",
            "Epoch 3: val_loss did not improve from 0.47162\n",
            "73/73 [==============================] - 2s 25ms/step - loss: 0.0796 - accuracy: 0.9698 - val_loss: 1.3298 - val_accuracy: 0.6419\n",
            "Epoch 4/200\n",
            "73/73 [==============================] - ETA: 0s - loss: 0.0538 - accuracy: 0.9804\n",
            "Epoch 4: val_loss did not improve from 0.47162\n",
            "73/73 [==============================] - 2s 24ms/step - loss: 0.0538 - accuracy: 0.9804 - val_loss: 1.2439 - val_accuracy: 0.6464\n",
            "Epoch 5/200\n",
            "73/73 [==============================] - ETA: 0s - loss: 0.0534 - accuracy: 0.9806\n",
            "Epoch 5: val_loss did not improve from 0.47162\n",
            "73/73 [==============================] - 2s 25ms/step - loss: 0.0534 - accuracy: 0.9806 - val_loss: 1.3554 - val_accuracy: 0.6231\n",
            "Epoch 6/200\n",
            "73/73 [==============================] - ETA: 0s - loss: 0.0612 - accuracy: 0.9787\n",
            "Epoch 6: val_loss did not improve from 0.47162\n",
            "73/73 [==============================] - 2s 25ms/step - loss: 0.0612 - accuracy: 0.9787 - val_loss: 1.2358 - val_accuracy: 0.6315\n",
            "Epoch 7/200\n",
            "73/73 [==============================] - ETA: 0s - loss: 0.0632 - accuracy: 0.9763\n",
            "Epoch 7: val_loss did not improve from 0.47162\n",
            "73/73 [==============================] - 2s 23ms/step - loss: 0.0632 - accuracy: 0.9763 - val_loss: 1.3068 - val_accuracy: 0.6283\n",
            "Epoch 8/200\n",
            "73/73 [==============================] - ETA: 0s - loss: 0.0693 - accuracy: 0.9752\n",
            "Epoch 8: val_loss did not improve from 0.47162\n",
            "73/73 [==============================] - 2s 24ms/step - loss: 0.0693 - accuracy: 0.9752 - val_loss: 1.2456 - val_accuracy: 0.6270\n",
            "Epoch 9/200\n",
            "72/73 [============================>.] - ETA: 0s - loss: 0.0439 - accuracy: 0.9835\n",
            "Epoch 9: val_loss did not improve from 0.47162\n",
            "73/73 [==============================] - 2s 24ms/step - loss: 0.0436 - accuracy: 0.9836 - val_loss: 1.4654 - val_accuracy: 0.6186\n",
            "Epoch 10/200\n",
            "73/73 [==============================] - ETA: 0s - loss: 0.0462 - accuracy: 0.9847\n",
            "Epoch 10: val_loss did not improve from 0.47162\n",
            "73/73 [==============================] - 2s 23ms/step - loss: 0.0462 - accuracy: 0.9847 - val_loss: 1.3796 - val_accuracy: 0.6380\n",
            "Epoch 11/200\n",
            "73/73 [==============================] - ETA: 0s - loss: 0.0352 - accuracy: 0.9884\n",
            "Epoch 11: val_loss did not improve from 0.47162\n",
            "73/73 [==============================] - 2s 23ms/step - loss: 0.0352 - accuracy: 0.9884 - val_loss: 1.4472 - val_accuracy: 0.6160\n",
            "Epoch 11: early stopping\n",
            " \n",
            "Score for fold 4: loss of 0.3533502519130707; accuracy of 89.81077075004578%\n",
            "reading samples...\n",
            "prediction on test samples ...\n",
            "11/11 [==============================] - 0s 15ms/step\n",
            "Keys: <KeysViewHDF5 ['ypred']>\n",
            "<Figure size 640x480 with 1 Axes>\n",
            "------------------------------------------------------------------------\n",
            "Score per fold\n",
            "------------------------------------------------------------------------\n",
            "> Fold 1 - Loss: 0.8694615960121155 - Accuracy: 69.8836088180542%\n",
            "------------------------------------------------------------------------\n",
            "> Fold 2 - Loss: 0.4349414110183716 - Accuracy: 84.86905694007874%\n",
            "------------------------------------------------------------------------\n",
            "> Fold 3 - Loss: 0.3780953884124756 - Accuracy: 88.11256885528564%\n",
            "------------------------------------------------------------------------\n",
            "> Fold 4 - Loss: 0.3533502519130707 - Accuracy: 89.81077075004578%\n",
            "------------------------------------------------------------------------\n",
            "Average scores for all folds:\n",
            "> Accuracy: 83.16900134086609 (+- 7.8731157139333945)\n",
            "> Loss: 0.5089621618390083\n",
            "------------------------------------------------------------------------\n",
            "Traceback (most recent call last):\n",
            "  File \"/content/SilencerEnhancerPredict/train.py\", line 242, in <module>\n",
            "    train_model(data,results_dir)\n",
            "  File \"/content/SilencerEnhancerPredict/train.py\", line 232, in train_model\n",
            "    run_model(data, model, results_dir)\n",
            "  File \"/content/SilencerEnhancerPredict/train.py\", line 174, in run_model\n",
            "    of.write(test_acc_per_fold)\n",
            "TypeError: write() argument must be str, not list\n"
          ]
        }
      ],
      "source": [
        "!python /content/SilencerEnhancerPredict/train.py /content/SilencerEnhancerPredict/examples/training_200seq_2class.hdf5 /content/SilencerEnhancerPredict/examples/"
      ]
    },
    {
      "cell_type": "markdown",
      "source": [
        "generated files: \n",
        "\n",
        "/examples/auc.txt\n",
        "\n",
        "/examples/fpr_threshold_scores.txt\n",
        "\n",
        "/examples/test_auc.txt\n",
        "\n",
        "/examples/test_acc.txt\n",
        "\n",
        "/examples/data_prediction.hdf5.pred.data\n",
        "\n"
      ],
      "metadata": {
        "id": "KfVr0L858UDl"
      }
    },
    {
      "cell_type": "code",
      "source": [
        ""
      ],
      "metadata": {
        "id": "gyLXxe188kRE"
      },
      "execution_count": null,
      "outputs": []
    }
  ],
  "metadata": {
    "accelerator": "GPU",
    "colab": {
      "collapsed_sections": [],
      "name": "200,2 data - 1 layers set reduction - cross validation with roc.ipynb",
      "provenance": [],
      "include_colab_link": true
    },
    "kernelspec": {
      "display_name": "Python 3",
      "name": "python3"
    },
    "language_info": {
      "name": "python"
    }
  },
  "nbformat": 4,
  "nbformat_minor": 0
}
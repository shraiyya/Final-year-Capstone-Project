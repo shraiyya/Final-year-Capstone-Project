{
  "nbformat": 4,
  "nbformat_minor": 0,
  "metadata": {
    "colab": {
      "name": "Silencer neural network- 1000,3 data on our model.ipynb",
      "provenance": [],
      "collapsed_sections": [],
      "include_colab_link": true
    },
    "kernelspec": {
      "name": "python3",
      "display_name": "Python 3"
    },
    "language_info": {
      "name": "python"
    },
    "accelerator": "GPU"
  },
  "cells": [
    {
      "cell_type": "markdown",
      "metadata": {
        "id": "view-in-github",
        "colab_type": "text"
      },
      "source": [
        "<a href=\"https://colab.research.google.com/github/radhikasethi2011/SilencerEnhancerPredict/blob/main/colab/1000_3_model.ipynb\" target=\"_parent\"><img src=\"https://colab.research.google.com/assets/colab-badge.svg\" alt=\"Open In Colab\"/></a>"
      ]
    },
    {
      "cell_type": "code",
      "source": [
        "!git clone https://github.com/radhikasethi2011/SilencerEnhancerPredict"
      ],
      "metadata": {
        "colab": {
          "base_uri": "https://localhost:8080/"
        },
        "id": "gsGdEyz9ej92",
        "outputId": "fad0ab8d-8637-4e80-b3eb-3acef0e571a5"
      },
      "execution_count": null,
      "outputs": [
        {
          "output_type": "stream",
          "name": "stdout",
          "text": [
            "Cloning into 'SilencerEnhancerPredict'...\n",
            "remote: Enumerating objects: 129, done.\u001b[K\n",
            "remote: Counting objects: 100% (129/129), done.\u001b[K\n",
            "remote: Compressing objects: 100% (98/98), done.\u001b[K\n",
            "remote: Total 129 (delta 48), reused 68 (delta 23), pack-reused 0\u001b[K\n",
            "Receiving objects: 100% (129/129), 53.33 MiB | 21.84 MiB/s, done.\n",
            "Resolving deltas: 100% (48/48), done.\n"
          ]
        }
      ]
    },
    {
      "cell_type": "code",
      "source": [
        "#!git clone https://github.com/ncbi/SilencerEnhancerPredict.git"
      ],
      "metadata": {
        "id": "OdKIf95SZ2XC"
      },
      "execution_count": null,
      "outputs": []
    },
    {
      "cell_type": "code",
      "source": [
        "import h5py\n",
        "p='/content/SilencerEnhancerPredict/examples/data_prediction.hdf5'"
      ],
      "metadata": {
        "id": "6yYGeqjL8JAm"
      },
      "execution_count": null,
      "outputs": []
    },
    {
      "cell_type": "code",
      "source": [
        "\n",
        "with open(p,'rb') as f:\n",
        "    contents = f.read()"
      ],
      "metadata": {
        "id": "lpQVzTyV7gMQ"
      },
      "execution_count": null,
      "outputs": []
    },
    {
      "cell_type": "code",
      "source": [
        "contents"
      ],
      "metadata": {
        "id": "Eq9maJC57zkz"
      },
      "execution_count": null,
      "outputs": []
    },
    {
      "cell_type": "code",
      "source": [
        "import h5py\n",
        "filename = \"/content/SilencerEnhancerPredict/examples/model.hdf5\"\n",
        "\n",
        "with h5py.File(filename, \"r\") as f:\n",
        "    # List all groups\n",
        "    print(\"Keys: %s\" % f.keys())\n",
        "    a_group_key = list(f.keys())[0]\n",
        "\n",
        "    # Get the data\n",
        "    data = list(f[a_group_key])\n",
        "    print(data)"
      ],
      "metadata": {
        "id": "zfETL8hb9ZK9",
        "colab": {
          "base_uri": "https://localhost:8080/"
        },
        "outputId": "5c612bb3-a920-42d5-8abb-c07248496fe4"
      },
      "execution_count": null,
      "outputs": [
        {
          "output_type": "stream",
          "name": "stdout",
          "text": [
            "Keys: <KeysViewHDF5 ['model_weights']>\n",
            "['batch_normalization_1', 'batch_normalization_2', 'batch_normalization_3', 'batch_normalization_4', 'conv1d_1', 'conv1d_2', 'conv1d_3', 'conv1d_4', 'conv1d_5', 'dense_1', 'dense_2', 'dropout_1', 'dropout_2', 'dropout_3', 'flatten_1', 'leaky_re_lu_1', 'leaky_re_lu_2', 'leaky_re_lu_3', 'leaky_re_lu_4', 'max_pooling1d_1', 'max_pooling1d_2', 'max_pooling1d_3', 'max_pooling1d_4', 'max_pooling1d_5']\n"
          ]
        }
      ]
    },
    {
      "cell_type": "code",
      "source": [
        "f = h5py.File(filename, 'r')\n",
        "list(f.keys())"
      ],
      "metadata": {
        "id": "ficd9eWieUVk",
        "colab": {
          "base_uri": "https://localhost:8080/"
        },
        "outputId": "434f9043-e8db-4b62-dbc9-688adce22e62"
      },
      "execution_count": null,
      "outputs": [
        {
          "output_type": "execute_result",
          "data": {
            "text/plain": [
              "['model_weights']"
            ]
          },
          "metadata": {},
          "execution_count": 11
        }
      ]
    },
    {
      "cell_type": "code",
      "source": [
        "from keras.models import load_model\n",
        "model = load_model('/content/SilencerEnhancerPredict/examples/model.hdf5')"
      ],
      "metadata": {
        "id": "OPmhrD_ShIg7",
        "colab": {
          "base_uri": "https://localhost:8080/"
        },
        "outputId": "46bc2baa-754d-4e4d-8ec0-183f07d1155e"
      },
      "execution_count": null,
      "outputs": [
        {
          "output_type": "stream",
          "name": "stdout",
          "text": [
            "WARNING:tensorflow:No training configuration found in the save file, so the model was *not* compiled. Compile it manually.\n"
          ]
        }
      ]
    },
    {
      "cell_type": "markdown",
      "source": [
        "Neural :\n"
      ],
      "metadata": {
        "id": "zQLf3JCarCj5"
      }
    },
    {
      "cell_type": "code",
      "source": [
        "cd /content/SilencerEnhancerPredict/examples/"
      ],
      "metadata": {
        "id": "iulfH4gnhoxq",
        "colab": {
          "base_uri": "https://localhost:8080/"
        },
        "outputId": "74ac744e-4249-42c2-c955-e281e92057d7"
      },
      "execution_count": null,
      "outputs": [
        {
          "output_type": "stream",
          "name": "stdout",
          "text": [
            "/content/SilencerEnhancerPredict/examples\n"
          ]
        }
      ]
    },
    {
      "cell_type": "code",
      "source": [
        "from tensorflow.keras.optimizers import Adadelta\n",
        "from keras.models import load_model\n",
        "from keras.callbacks import ModelCheckpoint, EarlyStopping\n",
        "from tensorflow.keras.optimizers import Adadelta\n",
        "from sklearn import metrics\n",
        "import h5py\n",
        "import os"
      ],
      "metadata": {
        "id": "SCMSlHzvoM7o"
      },
      "execution_count": null,
      "outputs": []
    },
    {
      "cell_type": "code",
      "source": [
        "INPUT_LENGTH = 200\n",
        "EPOCH = 200\n",
        "BATCH_SIZE = 64\n",
        "WORK_DIR = \"./\""
      ],
      "metadata": {
        "id": "909G7HHhqf0B"
      },
      "execution_count": null,
      "outputs": []
    },
    {
      "cell_type": "code",
      "source": [
        "model = load_model('model.hdf5')"
      ],
      "metadata": {
        "id": "-zQSwuaJh4il",
        "colab": {
          "base_uri": "https://localhost:8080/"
        },
        "outputId": "8d869da1-736a-4772-fd77-978ab3e2441f"
      },
      "execution_count": null,
      "outputs": [
        {
          "output_type": "stream",
          "name": "stdout",
          "text": [
            "WARNING:tensorflow:No training configuration found in the save file, so the model was *not* compiled. Compile it manually.\n"
          ]
        }
      ]
    },
    {
      "cell_type": "code",
      "source": [
        "model.summary()"
      ],
      "metadata": {
        "colab": {
          "base_uri": "https://localhost:8080/"
        },
        "id": "sYNvJsv7leZ_",
        "outputId": "9d30b81b-e594-46e8-8483-194eaa106fb8"
      },
      "execution_count": null,
      "outputs": [
        {
          "output_type": "stream",
          "name": "stdout",
          "text": [
            "Model: \"sequential_1\"\n",
            "_________________________________________________________________\n",
            " Layer (type)                Output Shape              Param #   \n",
            "=================================================================\n",
            " conv1d_1 (Conv1D)           (None, 992, 480)          17760     \n",
            "                                                                 \n",
            " batch_normalization_1 (Batc  (None, 992, 480)         1920      \n",
            " hNormalization)                                                 \n",
            "                                                                 \n",
            " leaky_re_lu_1 (LeakyReLU)   (None, 992, 480)          0         \n",
            "                                                                 \n",
            " max_pooling1d_1 (MaxPooling  (None, 328, 480)         0         \n",
            " 1D)                                                             \n",
            "                                                                 \n",
            " dropout_1 (Dropout)         (None, 328, 480)          0         \n",
            "                                                                 \n",
            " conv1d_2 (Conv1D)           (None, 325, 480)          922080    \n",
            "                                                                 \n",
            " batch_normalization_2 (Batc  (None, 325, 480)         1920      \n",
            " hNormalization)                                                 \n",
            "                                                                 \n",
            " leaky_re_lu_2 (LeakyReLU)   (None, 325, 480)          0         \n",
            "                                                                 \n",
            " max_pooling1d_2 (MaxPooling  (None, 161, 480)         0         \n",
            " 1D)                                                             \n",
            "                                                                 \n",
            " dropout_2 (Dropout)         (None, 161, 480)          0         \n",
            "                                                                 \n",
            " conv1d_3 (Conv1D)           (None, 158, 240)          461040    \n",
            "                                                                 \n",
            " max_pooling1d_3 (MaxPooling  (None, 52, 240)          0         \n",
            " 1D)                                                             \n",
            "                                                                 \n",
            " dropout_3 (Dropout)         (None, 52, 240)           0         \n",
            "                                                                 \n",
            " conv1d_4 (Conv1D)           (None, 49, 320)           307520    \n",
            "                                                                 \n",
            " batch_normalization_3 (Batc  (None, 49, 320)          1280      \n",
            " hNormalization)                                                 \n",
            "                                                                 \n",
            " leaky_re_lu_3 (LeakyReLU)   (None, 49, 320)           0         \n",
            "                                                                 \n",
            " max_pooling1d_4 (MaxPooling  (None, 16, 320)          0         \n",
            " 1D)                                                             \n",
            "                                                                 \n",
            " conv1d_5 (Conv1D)           (None, 13, 320)           409920    \n",
            "                                                                 \n",
            " batch_normalization_4 (Batc  (None, 13, 320)          1280      \n",
            " hNormalization)                                                 \n",
            "                                                                 \n",
            " leaky_re_lu_4 (LeakyReLU)   (None, 13, 320)           0         \n",
            "                                                                 \n",
            " max_pooling1d_5 (MaxPooling  (None, 4, 320)           0         \n",
            " 1D)                                                             \n",
            "                                                                 \n",
            " flatten_1 (Flatten)         (None, 1280)              0         \n",
            "                                                                 \n",
            " dense_1 (Dense)             (None, 180)               230580    \n",
            "                                                                 \n",
            " dense_2 (Dense)             (None, 3)                 543       \n",
            "                                                                 \n",
            "=================================================================\n",
            "Total params: 2,355,843\n",
            "Trainable params: 2,352,643\n",
            "Non-trainable params: 3,200\n",
            "_________________________________________________________________\n"
          ]
        }
      ]
    },
    {
      "cell_type": "code",
      "source": [
        "model.get_config()"
      ],
      "metadata": {
        "colab": {
          "base_uri": "https://localhost:8080/"
        },
        "id": "aqk45uRWaH0k",
        "outputId": "3560b9ab-a5fb-4c9e-d71b-ea7107bee354"
      },
      "execution_count": null,
      "outputs": [
        {
          "output_type": "execute_result",
          "data": {
            "text/plain": [
              "{'layers': [{'class_name': 'InputLayer',\n",
              "   'config': {'batch_input_shape': (None, 1000, 4),\n",
              "    'dtype': 'float32',\n",
              "    'name': 'conv1d_1_input',\n",
              "    'ragged': False,\n",
              "    'sparse': False}},\n",
              "  {'class_name': 'Conv1D',\n",
              "   'config': {'activation': 'relu',\n",
              "    'activity_regularizer': None,\n",
              "    'batch_input_shape': (None, 1000, 4),\n",
              "    'bias_constraint': None,\n",
              "    'bias_initializer': {'class_name': 'Zeros', 'config': {}},\n",
              "    'bias_regularizer': None,\n",
              "    'data_format': 'channels_last',\n",
              "    'dilation_rate': (1,),\n",
              "    'dtype': 'float32',\n",
              "    'filters': 480,\n",
              "    'groups': 1,\n",
              "    'kernel_constraint': {'class_name': 'MaxNorm',\n",
              "     'config': {'axis': 0, 'max_value': 1}},\n",
              "    'kernel_initializer': {'class_name': 'VarianceScaling',\n",
              "     'config': {'distribution': 'uniform',\n",
              "      'mode': 'fan_avg',\n",
              "      'scale': 1.0,\n",
              "      'seed': None}},\n",
              "    'kernel_regularizer': {'class_name': 'L1L2',\n",
              "     'config': {'l1': 9.99999993922529e-09, 'l2': 4.999999987376214e-07}},\n",
              "    'kernel_size': (9,),\n",
              "    'name': 'conv1d_1',\n",
              "    'padding': 'valid',\n",
              "    'strides': (1,),\n",
              "    'trainable': True,\n",
              "    'use_bias': True}},\n",
              "  {'class_name': 'BatchNormalization',\n",
              "   'config': {'axis': ListWrapper([2]),\n",
              "    'beta_constraint': None,\n",
              "    'beta_initializer': {'class_name': 'Zeros', 'config': {}},\n",
              "    'beta_regularizer': None,\n",
              "    'center': True,\n",
              "    'dtype': 'float32',\n",
              "    'epsilon': 0.001,\n",
              "    'gamma_constraint': None,\n",
              "    'gamma_initializer': {'class_name': 'Ones', 'config': {}},\n",
              "    'gamma_regularizer': None,\n",
              "    'momentum': 0.99,\n",
              "    'moving_mean_initializer': {'class_name': 'Zeros', 'config': {}},\n",
              "    'moving_variance_initializer': {'class_name': 'Ones', 'config': {}},\n",
              "    'name': 'batch_normalization_1',\n",
              "    'scale': True,\n",
              "    'trainable': True}},\n",
              "  {'class_name': 'LeakyReLU',\n",
              "   'config': {'alpha': 0.0,\n",
              "    'dtype': 'float32',\n",
              "    'name': 'leaky_re_lu_1',\n",
              "    'trainable': True}},\n",
              "  {'class_name': 'MaxPooling1D',\n",
              "   'config': {'data_format': 'channels_last',\n",
              "    'dtype': 'float32',\n",
              "    'name': 'max_pooling1d_1',\n",
              "    'padding': 'valid',\n",
              "    'pool_size': (9,),\n",
              "    'strides': (3,),\n",
              "    'trainable': True}},\n",
              "  {'class_name': 'Dropout',\n",
              "   'config': {'dtype': 'float32',\n",
              "    'name': 'dropout_1',\n",
              "    'noise_shape': None,\n",
              "    'rate': 0.2,\n",
              "    'seed': None,\n",
              "    'trainable': True}},\n",
              "  {'class_name': 'Conv1D',\n",
              "   'config': {'activation': 'relu',\n",
              "    'activity_regularizer': None,\n",
              "    'bias_constraint': None,\n",
              "    'bias_initializer': {'class_name': 'Zeros', 'config': {}},\n",
              "    'bias_regularizer': None,\n",
              "    'data_format': 'channels_last',\n",
              "    'dilation_rate': (1,),\n",
              "    'dtype': 'float32',\n",
              "    'filters': 480,\n",
              "    'groups': 1,\n",
              "    'kernel_constraint': {'class_name': 'MaxNorm',\n",
              "     'config': {'axis': 0, 'max_value': 0.9}},\n",
              "    'kernel_initializer': {'class_name': 'VarianceScaling',\n",
              "     'config': {'distribution': 'uniform',\n",
              "      'mode': 'fan_avg',\n",
              "      'scale': 1.0,\n",
              "      'seed': None}},\n",
              "    'kernel_regularizer': {'class_name': 'L1L2',\n",
              "     'config': {'l1': 9.99999993922529e-09, 'l2': 4.999999987376214e-07}},\n",
              "    'kernel_size': (4,),\n",
              "    'name': 'conv1d_2',\n",
              "    'padding': 'valid',\n",
              "    'strides': (1,),\n",
              "    'trainable': True,\n",
              "    'use_bias': True}},\n",
              "  {'class_name': 'BatchNormalization',\n",
              "   'config': {'axis': ListWrapper([2]),\n",
              "    'beta_constraint': None,\n",
              "    'beta_initializer': {'class_name': 'Zeros', 'config': {}},\n",
              "    'beta_regularizer': None,\n",
              "    'center': True,\n",
              "    'dtype': 'float32',\n",
              "    'epsilon': 0.001,\n",
              "    'gamma_constraint': None,\n",
              "    'gamma_initializer': {'class_name': 'Ones', 'config': {}},\n",
              "    'gamma_regularizer': None,\n",
              "    'momentum': 0.99,\n",
              "    'moving_mean_initializer': {'class_name': 'Zeros', 'config': {}},\n",
              "    'moving_variance_initializer': {'class_name': 'Ones', 'config': {}},\n",
              "    'name': 'batch_normalization_2',\n",
              "    'scale': True,\n",
              "    'trainable': True}},\n",
              "  {'class_name': 'LeakyReLU',\n",
              "   'config': {'alpha': 0.0,\n",
              "    'dtype': 'float32',\n",
              "    'name': 'leaky_re_lu_2',\n",
              "    'trainable': True}},\n",
              "  {'class_name': 'MaxPooling1D',\n",
              "   'config': {'data_format': 'channels_last',\n",
              "    'dtype': 'float32',\n",
              "    'name': 'max_pooling1d_2',\n",
              "    'padding': 'valid',\n",
              "    'pool_size': (4,),\n",
              "    'strides': (2,),\n",
              "    'trainable': True}},\n",
              "  {'class_name': 'Dropout',\n",
              "   'config': {'dtype': 'float32',\n",
              "    'name': 'dropout_2',\n",
              "    'noise_shape': None,\n",
              "    'rate': 0.2,\n",
              "    'seed': None,\n",
              "    'trainable': True}},\n",
              "  {'class_name': 'Conv1D',\n",
              "   'config': {'activation': 'relu',\n",
              "    'activity_regularizer': None,\n",
              "    'bias_constraint': None,\n",
              "    'bias_initializer': {'class_name': 'Zeros', 'config': {}},\n",
              "    'bias_regularizer': None,\n",
              "    'data_format': 'channels_last',\n",
              "    'dilation_rate': (1,),\n",
              "    'dtype': 'float32',\n",
              "    'filters': 240,\n",
              "    'groups': 1,\n",
              "    'kernel_constraint': {'class_name': 'MaxNorm',\n",
              "     'config': {'axis': 0, 'max_value': 1}},\n",
              "    'kernel_initializer': {'class_name': 'VarianceScaling',\n",
              "     'config': {'distribution': 'uniform',\n",
              "      'mode': 'fan_avg',\n",
              "      'scale': 1.0,\n",
              "      'seed': None}},\n",
              "    'kernel_regularizer': {'class_name': 'L1L2',\n",
              "     'config': {'l1': 9.99999993922529e-09, 'l2': 4.999999987376214e-07}},\n",
              "    'kernel_size': (4,),\n",
              "    'name': 'conv1d_3',\n",
              "    'padding': 'valid',\n",
              "    'strides': (1,),\n",
              "    'trainable': True,\n",
              "    'use_bias': True}},\n",
              "  {'class_name': 'MaxPooling1D',\n",
              "   'config': {'data_format': 'channels_last',\n",
              "    'dtype': 'float32',\n",
              "    'name': 'max_pooling1d_3',\n",
              "    'padding': 'valid',\n",
              "    'pool_size': (4,),\n",
              "    'strides': (3,),\n",
              "    'trainable': True}},\n",
              "  {'class_name': 'Dropout',\n",
              "   'config': {'dtype': 'float32',\n",
              "    'name': 'dropout_3',\n",
              "    'noise_shape': None,\n",
              "    'rate': 0.2,\n",
              "    'seed': None,\n",
              "    'trainable': True}},\n",
              "  {'class_name': 'Conv1D',\n",
              "   'config': {'activation': 'relu',\n",
              "    'activity_regularizer': None,\n",
              "    'bias_constraint': None,\n",
              "    'bias_initializer': {'class_name': 'Zeros', 'config': {}},\n",
              "    'bias_regularizer': None,\n",
              "    'data_format': 'channels_last',\n",
              "    'dilation_rate': (1,),\n",
              "    'dtype': 'float32',\n",
              "    'filters': 320,\n",
              "    'groups': 1,\n",
              "    'kernel_constraint': {'class_name': 'MaxNorm',\n",
              "     'config': {'axis': 0, 'max_value': 1}},\n",
              "    'kernel_initializer': {'class_name': 'VarianceScaling',\n",
              "     'config': {'distribution': 'uniform',\n",
              "      'mode': 'fan_avg',\n",
              "      'scale': 1.0,\n",
              "      'seed': None}},\n",
              "    'kernel_regularizer': {'class_name': 'L1L2',\n",
              "     'config': {'l1': 9.99999993922529e-09, 'l2': 4.999999987376214e-07}},\n",
              "    'kernel_size': (4,),\n",
              "    'name': 'conv1d_4',\n",
              "    'padding': 'valid',\n",
              "    'strides': (1,),\n",
              "    'trainable': True,\n",
              "    'use_bias': True}},\n",
              "  {'class_name': 'BatchNormalization',\n",
              "   'config': {'axis': ListWrapper([2]),\n",
              "    'beta_constraint': None,\n",
              "    'beta_initializer': {'class_name': 'Zeros', 'config': {}},\n",
              "    'beta_regularizer': None,\n",
              "    'center': True,\n",
              "    'dtype': 'float32',\n",
              "    'epsilon': 0.001,\n",
              "    'gamma_constraint': None,\n",
              "    'gamma_initializer': {'class_name': 'Ones', 'config': {}},\n",
              "    'gamma_regularizer': None,\n",
              "    'momentum': 0.99,\n",
              "    'moving_mean_initializer': {'class_name': 'Zeros', 'config': {}},\n",
              "    'moving_variance_initializer': {'class_name': 'Ones', 'config': {}},\n",
              "    'name': 'batch_normalization_3',\n",
              "    'scale': True,\n",
              "    'trainable': True}},\n",
              "  {'class_name': 'LeakyReLU',\n",
              "   'config': {'alpha': 0.0,\n",
              "    'dtype': 'float32',\n",
              "    'name': 'leaky_re_lu_3',\n",
              "    'trainable': True}},\n",
              "  {'class_name': 'MaxPooling1D',\n",
              "   'config': {'data_format': 'channels_last',\n",
              "    'dtype': 'float32',\n",
              "    'name': 'max_pooling1d_4',\n",
              "    'padding': 'valid',\n",
              "    'pool_size': (4,),\n",
              "    'strides': (3,),\n",
              "    'trainable': True}},\n",
              "  {'class_name': 'Conv1D',\n",
              "   'config': {'activation': 'relu',\n",
              "    'activity_regularizer': None,\n",
              "    'bias_constraint': None,\n",
              "    'bias_initializer': {'class_name': 'Zeros', 'config': {}},\n",
              "    'bias_regularizer': None,\n",
              "    'data_format': 'channels_last',\n",
              "    'dilation_rate': (1,),\n",
              "    'dtype': 'float32',\n",
              "    'filters': 320,\n",
              "    'groups': 1,\n",
              "    'kernel_constraint': {'class_name': 'MaxNorm',\n",
              "     'config': {'axis': 0, 'max_value': 1}},\n",
              "    'kernel_initializer': {'class_name': 'VarianceScaling',\n",
              "     'config': {'distribution': 'uniform',\n",
              "      'mode': 'fan_avg',\n",
              "      'scale': 1.0,\n",
              "      'seed': None}},\n",
              "    'kernel_regularizer': {'class_name': 'L1L2',\n",
              "     'config': {'l1': 9.99999993922529e-09, 'l2': 4.999999987376214e-07}},\n",
              "    'kernel_size': (4,),\n",
              "    'name': 'conv1d_5',\n",
              "    'padding': 'valid',\n",
              "    'strides': (1,),\n",
              "    'trainable': True,\n",
              "    'use_bias': True}},\n",
              "  {'class_name': 'BatchNormalization',\n",
              "   'config': {'axis': ListWrapper([2]),\n",
              "    'beta_constraint': None,\n",
              "    'beta_initializer': {'class_name': 'Zeros', 'config': {}},\n",
              "    'beta_regularizer': None,\n",
              "    'center': True,\n",
              "    'dtype': 'float32',\n",
              "    'epsilon': 0.001,\n",
              "    'gamma_constraint': None,\n",
              "    'gamma_initializer': {'class_name': 'Ones', 'config': {}},\n",
              "    'gamma_regularizer': None,\n",
              "    'momentum': 0.99,\n",
              "    'moving_mean_initializer': {'class_name': 'Zeros', 'config': {}},\n",
              "    'moving_variance_initializer': {'class_name': 'Ones', 'config': {}},\n",
              "    'name': 'batch_normalization_4',\n",
              "    'scale': True,\n",
              "    'trainable': True}},\n",
              "  {'class_name': 'LeakyReLU',\n",
              "   'config': {'alpha': 0.0,\n",
              "    'dtype': 'float32',\n",
              "    'name': 'leaky_re_lu_4',\n",
              "    'trainable': True}},\n",
              "  {'class_name': 'MaxPooling1D',\n",
              "   'config': {'data_format': 'channels_last',\n",
              "    'dtype': 'float32',\n",
              "    'name': 'max_pooling1d_5',\n",
              "    'padding': 'valid',\n",
              "    'pool_size': (4,),\n",
              "    'strides': (3,),\n",
              "    'trainable': True}},\n",
              "  {'class_name': 'Flatten',\n",
              "   'config': {'data_format': 'channels_last',\n",
              "    'dtype': 'float32',\n",
              "    'name': 'flatten_1',\n",
              "    'trainable': True}},\n",
              "  {'class_name': 'Dense',\n",
              "   'config': {'activation': 'sigmoid',\n",
              "    'activity_regularizer': None,\n",
              "    'bias_constraint': None,\n",
              "    'bias_initializer': {'class_name': 'Zeros', 'config': {}},\n",
              "    'bias_regularizer': None,\n",
              "    'dtype': 'float32',\n",
              "    'kernel_constraint': {'class_name': 'MaxNorm',\n",
              "     'config': {'axis': 0, 'max_value': 1}},\n",
              "    'kernel_initializer': {'class_name': 'VarianceScaling',\n",
              "     'config': {'distribution': 'uniform',\n",
              "      'mode': 'fan_avg',\n",
              "      'scale': 1.0,\n",
              "      'seed': None}},\n",
              "    'kernel_regularizer': {'class_name': 'L1L2',\n",
              "     'config': {'l1': 9.99999993922529e-09, 'l2': 4.999999987376214e-07}},\n",
              "    'name': 'dense_1',\n",
              "    'trainable': True,\n",
              "    'units': 180,\n",
              "    'use_bias': True}},\n",
              "  {'class_name': 'Dense',\n",
              "   'config': {'activation': 'softmax',\n",
              "    'activity_regularizer': None,\n",
              "    'bias_constraint': None,\n",
              "    'bias_initializer': {'class_name': 'Zeros', 'config': {}},\n",
              "    'bias_regularizer': None,\n",
              "    'dtype': 'float32',\n",
              "    'kernel_constraint': {'class_name': 'MaxNorm',\n",
              "     'config': {'axis': 0, 'max_value': 1}},\n",
              "    'kernel_initializer': {'class_name': 'VarianceScaling',\n",
              "     'config': {'distribution': 'uniform',\n",
              "      'mode': 'fan_avg',\n",
              "      'scale': 1.0,\n",
              "      'seed': None}},\n",
              "    'kernel_regularizer': {'class_name': 'L1L2',\n",
              "     'config': {'l1': 9.99999993922529e-09, 'l2': 4.999999987376214e-07}},\n",
              "    'name': 'dense_2',\n",
              "    'trainable': True,\n",
              "    'units': 3,\n",
              "    'use_bias': True}}],\n",
              " 'name': 'sequential_1'}"
            ]
          },
          "metadata": {},
          "execution_count": 18
        }
      ]
    },
    {
      "cell_type": "code",
      "source": [
        "weights_file = os.path.join('./examples', \"model_weights.hdf5\")\n",
        "model_file = os.path.join('./examples', \"single_model.hdf5\")\n",
        "model.save(model_file)"
      ],
      "metadata": {
        "id": "VQEkjHcMqAVr",
        "colab": {
          "base_uri": "https://localhost:8080/"
        },
        "outputId": "a0a31bbc-0e74-46fa-977f-6c18e3857597"
      },
      "execution_count": null,
      "outputs": [
        {
          "output_type": "stream",
          "name": "stdout",
          "text": [
            "WARNING:tensorflow:Compiled the loaded model, but the compiled metrics have yet to be built. `model.compile_metrics` will be empty until you train or evaluate the model.\n"
          ]
        }
      ]
    },
    {
      "cell_type": "code",
      "source": [
        "model.get_config"
      ],
      "metadata": {
        "id": "tg3r-08QGljQ",
        "colab": {
          "base_uri": "https://localhost:8080/"
        },
        "outputId": "6aeb7d69-0602-4f50-8acc-3e869ef908e7"
      },
      "execution_count": null,
      "outputs": [
        {
          "output_type": "execute_result",
          "data": {
            "text/plain": [
              "<bound method Sequential.get_config of <keras.engine.sequential.Sequential object at 0x7f60001f61d0>>"
            ]
          },
          "metadata": {},
          "execution_count": 20
        }
      ]
    },
    {
      "cell_type": "code",
      "source": [
        "opt = Adadelta()"
      ],
      "metadata": {
        "id": "gsHsFed5op0o"
      },
      "execution_count": null,
      "outputs": []
    },
    {
      "cell_type": "markdown",
      "source": [
        "CODE BASED ON PAPER:"
      ],
      "metadata": {
        "id": "3fA5aQAN38dh"
      }
    },
    {
      "cell_type": "code",
      "source": [
        "from keras.models import Sequential\n",
        "from keras.layers import Dense\n",
        "from keras.layers import Flatten, Dropout\n",
        "from keras.layers.convolutional import Conv1D\n",
        "from keras.layers.convolutional import MaxPooling1D\n",
        "from keras.layers.embeddings import Embedding\n",
        "from keras.preprocessing import sequence\n",
        "from keras.layers import BatchNormalization\n",
        "from keras.layers import InputLayer, LeakyReLU\n",
        "\n",
        "model1 = Sequential(InputLayer(batch_input_shape= (None, 1000, 4),\n",
        "    dtype= 'float32',\n",
        "    ragged= False,\n",
        "    sparse= False))\n",
        "\n",
        "model1.add(Conv1D(activation= 'relu',\n",
        "    activity_regularizer= None,\n",
        "    batch_input_shape= (None, 1000, 4),\n",
        "    bias_constraint= None,\n",
        "    bias_initializer= {'class_name': 'Zeros', 'config': {}},\n",
        "    bias_regularizer= None,\n",
        "    data_format= 'channels_last',\n",
        "    dilation_rate= (1,),\n",
        "    dtype= 'float32',\n",
        "    filters= 480,\n",
        "    groups= 1,\n",
        "    kernel_constraint= {'class_name': 'MaxNorm',\n",
        "     'config': {'axis': 0, 'max_value': 1}},\n",
        "    kernel_initializer= {'class_name': 'VarianceScaling',\n",
        "     'config': {'distribution': 'uniform',\n",
        "      'mode': 'fan_avg',\n",
        "      'scale': 1.0,\n",
        "      'seed': None}},\n",
        "    kernel_regularizer= {'class_name': 'L1L2',\n",
        "     'config': {'l1': 9.99999993922529e-09, 'l2': 4.999999987376214e-07}},\n",
        "    kernel_size= (9,),\n",
        "    padding= 'valid',\n",
        "    strides= (1,),\n",
        "    trainable= True,\n",
        "    use_bias= True))\n",
        "\n",
        "model1.add(BatchNormalization(\n",
        "    beta_constraint= None,\n",
        "    beta_initializer= {'class_name': 'Zeros', 'config': {}},\n",
        "    beta_regularizer= None,\n",
        "    center= True,\n",
        "    dtype= 'float32',\n",
        "    epsilon= 0.001,\n",
        "    gamma_constraint= None,\n",
        "    gamma_initializer= {'class_name': 'Ones', 'config': {}},\n",
        "    gamma_regularizer= None,\n",
        "    momentum= 0.99,\n",
        "    moving_mean_initializer= {'class_name': 'Zeros', 'config': {}},\n",
        "    moving_variance_initializer= {'class_name': 'Ones', 'config': {}},\n",
        "    scale= True,\n",
        "    trainable=True))\n",
        "\n",
        "model1.add(LeakyReLU(alpha= 0.0,\n",
        "    dtype='float32',\n",
        "    trainable= True))\n",
        "\n",
        "model1.add(MaxPooling1D(data_format= 'channels_last',\n",
        "    dtype= 'float32',\n",
        "    padding='valid',\n",
        "    pool_size=(9,),\n",
        "    strides= (3,),\n",
        "    trainable= True))\n",
        "\n",
        "model1.add(Dropout(dtype= 'float32',\n",
        "    noise_shape= None,\n",
        "    rate= 0.2,\n",
        "    seed= None,\n",
        "    trainable= True))\n",
        "\n",
        "model1.add(Conv1D(activation= 'relu',\n",
        "    activity_regularizer= None,\n",
        "    bias_constraint= None,\n",
        "    bias_initializer= {'class_name': 'Zeros', 'config': {}},\n",
        "    bias_regularizer= None,\n",
        "    data_format= 'channels_last',\n",
        "    dilation_rate= (1,),\n",
        "    dtype= 'float32',\n",
        "    filters= 480,\n",
        "    groups= 1,\n",
        "    kernel_constraint= {'class_name': 'MaxNorm',\n",
        "     'config': {'axis': 0, 'max_value': 0.9}},\n",
        "    kernel_initializer= {'class_name': 'VarianceScaling',\n",
        "     'config': {'distribution': 'uniform',\n",
        "      'mode': 'fan_avg',\n",
        "      'scale': 1.0,\n",
        "      'seed': None}},\n",
        "    kernel_regularizer= {'class_name': 'L1L2',\n",
        "     'config': {'l1': 9.99999993922529e-09, 'l2': 4.999999987376214e-07}},\n",
        "    kernel_size= (4,),\n",
        "    padding= 'valid',\n",
        "    strides= (1,),\n",
        "    trainable= True,\n",
        "    use_bias= True))\n",
        "\n",
        "model1.add(BatchNormalization(beta_constraint= None,\n",
        "    beta_initializer= {'class_name': 'Zeros', 'config': {}},\n",
        "    beta_regularizer= None,\n",
        "    center= True,\n",
        "    dtype= 'float32',\n",
        "    epsilon= 0.001,\n",
        "    gamma_constraint= None,\n",
        "    gamma_initializer= {'class_name': 'Ones', 'config': {}},\n",
        "    gamma_regularizer= None,\n",
        "    momentum= 0.99,\n",
        "    moving_mean_initializer= {'class_name': 'Zeros', 'config': {}},\n",
        "    moving_variance_initializer= {'class_name': 'Ones', 'config': {}},\n",
        "    scale= True,\n",
        "    trainable=True))\n",
        "\n",
        "model1.add(LeakyReLU(alpha= 0.0,\n",
        "    dtype='float32',\n",
        "    trainable= True))\n",
        "\n",
        "model1.add(MaxPooling1D(data_format='channels_last',\n",
        "    dtype='float32',\n",
        "    padding='valid',\n",
        "    pool_size= (4,),\n",
        "    strides=(2,),\n",
        "    trainable=True))\n",
        "\n",
        "model1.add(Dropout(dtype= 'float32',\n",
        "    noise_shape= None,\n",
        "    rate= 0.2,\n",
        "    seed= None,\n",
        "    trainable= True))\n",
        "\n",
        "##\n",
        "model1.add(Conv1D(activation= 'relu',\n",
        "    activity_regularizer= None,\n",
        "    bias_constraint= None,\n",
        "    bias_initializer= {'class_name': 'Zeros', 'config': {}},\n",
        "    bias_regularizer= None,\n",
        "    data_format= 'channels_last',\n",
        "    dilation_rate= (1,),\n",
        "    dtype= 'float32',\n",
        "    filters= 240,\n",
        "    groups= 1,\n",
        "    kernel_constraint= {'class_name': 'MaxNorm',\n",
        "     'config': {'axis': 0, 'max_value': 1}},\n",
        "    kernel_initializer= {'class_name': 'VarianceScaling',\n",
        "     'config': {'distribution': 'uniform',\n",
        "      'mode': 'fan_avg',\n",
        "      'scale': 1.0,\n",
        "      'seed': None}},\n",
        "    kernel_regularizer= {'class_name': 'L1L2',\n",
        "     'config': {'l1': 9.99999993922529e-09, 'l2': 4.999999987376214e-07}},\n",
        "    kernel_size= (4,),\n",
        "    padding= 'valid',\n",
        "    strides= (1,),\n",
        "    trainable= True,\n",
        "    use_bias= True))\n",
        "\n",
        "\n",
        "model1.add(MaxPooling1D(data_format='channels_last',\n",
        "    dtype='float32',\n",
        "    padding='valid',\n",
        "    pool_size= (4,),\n",
        "    strides=(3,),\n",
        "    trainable=True))\n",
        "\n",
        "model1.add(Dropout(dtype= 'float32',\n",
        "    noise_shape= None,\n",
        "    rate= 0.2,\n",
        "    seed= None,\n",
        "    trainable= True))\n",
        "\n",
        "##\n",
        "\n",
        "\n",
        "model1.add(Conv1D(activation= 'relu',\n",
        "    activity_regularizer= None,\n",
        "    bias_constraint= None,\n",
        "    bias_initializer= {'class_name': 'Zeros', 'config': {}},\n",
        "    bias_regularizer= None,\n",
        "    data_format= 'channels_last',\n",
        "    dilation_rate= (1,),\n",
        "    dtype= 'float32',\n",
        "    filters= 320,\n",
        "    groups= 1,\n",
        "    kernel_constraint= {'class_name': 'MaxNorm',\n",
        "     'config': {'axis': 0, 'max_value': 1}},\n",
        "    kernel_initializer= {'class_name': 'VarianceScaling',\n",
        "     'config': {'distribution': 'uniform',\n",
        "      'mode': 'fan_avg',\n",
        "      'scale': 1.0,\n",
        "      'seed': None}},\n",
        "    kernel_regularizer= {'class_name': 'L1L2',\n",
        "     'config': {'l1': 9.99999993922529e-09, 'l2': 4.999999987376214e-07}},\n",
        "    kernel_size= (4,),\n",
        "    padding= 'valid',\n",
        "    strides= (1,),\n",
        "    trainable= True,\n",
        "    use_bias= True))\n",
        "\n",
        "model1.add(BatchNormalization(beta_constraint= None,\n",
        "    beta_initializer= {'class_name': 'Zeros', 'config': {}},\n",
        "    beta_regularizer= None,\n",
        "    center= True,\n",
        "    dtype= 'float32',\n",
        "    epsilon= 0.001,\n",
        "    gamma_constraint= None,\n",
        "    gamma_initializer= {'class_name': 'Ones', 'config': {}},\n",
        "    gamma_regularizer= None,\n",
        "    momentum= 0.99,\n",
        "    moving_mean_initializer= {'class_name': 'Zeros', 'config': {}},\n",
        "    moving_variance_initializer= {'class_name': 'Ones', 'config': {}},\n",
        "    scale= True,\n",
        "    trainable=True))\n",
        "\n",
        "model1.add(LeakyReLU(alpha= 0.0,dtype='float32',trainable=True))\n",
        "\n",
        "model1.add(MaxPooling1D(data_format='channels_last',\n",
        "    dtype='float32',\n",
        "    padding='valid',\n",
        "    pool_size= (4,),\n",
        "    strides=(3,),\n",
        "    trainable=True))\n",
        "\n",
        "model1.add(Conv1D(activation= 'relu',\n",
        "    activity_regularizer= None,\n",
        "    bias_constraint= None,\n",
        "    bias_initializer= {'class_name': 'Zeros', 'config': {}},\n",
        "    bias_regularizer= None,\n",
        "    data_format= 'channels_last',\n",
        "    dilation_rate= (1,),\n",
        "    dtype= 'float32',\n",
        "    filters= 320,\n",
        "    groups= 1,\n",
        "    kernel_constraint= {'class_name': 'MaxNorm',\n",
        "     'config': {'axis': 0, 'max_value': 1}},\n",
        "    kernel_initializer= {'class_name': 'VarianceScaling',\n",
        "     'config': {'distribution': 'uniform',\n",
        "      'mode': 'fan_avg',\n",
        "      'scale': 1.0,\n",
        "      'seed': None}},\n",
        "    kernel_regularizer= {'class_name': 'L1L2',\n",
        "     'config': {'l1': 9.99999993922529e-09, 'l2': 4.999999987376214e-07}},\n",
        "    kernel_size= (4,),\n",
        "    padding= 'valid',\n",
        "    strides= (1,),\n",
        "    trainable= True,\n",
        "    use_bias= True))\n",
        "\n",
        "model1.add(BatchNormalization(beta_constraint= None,\n",
        "    beta_initializer= {'class_name': 'Zeros', 'config': {}},\n",
        "    beta_regularizer= None,\n",
        "    center= True,\n",
        "    dtype= 'float32',\n",
        "    epsilon= 0.001,\n",
        "    gamma_constraint= None,\n",
        "    gamma_initializer= {'class_name': 'Ones', 'config': {}},\n",
        "    gamma_regularizer= None,\n",
        "    momentum= 0.99,\n",
        "    moving_mean_initializer= {'class_name': 'Zeros', 'config': {}},\n",
        "    moving_variance_initializer= {'class_name': 'Ones', 'config': {}},\n",
        "    scale= True,\n",
        "    trainable=True))\n",
        "\n",
        "model1.add(LeakyReLU(alpha= 0.0,dtype='float32',trainable=True))\n",
        "\n",
        "model1.add(MaxPooling1D(data_format='channels_last',\n",
        "    dtype='float32',\n",
        "    padding='valid',\n",
        "    pool_size= (4,),\n",
        "    strides=(3,),\n",
        "    trainable=True))\n",
        "\n",
        "model1.add(Flatten(data_format= 'channels_last',\n",
        "    dtype= 'float32',\n",
        "  trainable= True))\n",
        "\n",
        "model1.add(Dense(180,activation='sigmoid', activity_regularizer=None,\n",
        "    bias_constraint= None,\n",
        "    bias_initializer= {'class_name': 'Zeros', 'config': {}},\n",
        "    bias_regularizer=None,\n",
        "    dtype='float32',\n",
        "    kernel_constraint= {'class_name': 'MaxNorm',\n",
        "     'config': {'axis': 0, 'max_value': 1}},\n",
        "    kernel_initializer= {'class_name': 'VarianceScaling',\n",
        "     'config': {'distribution': 'uniform',\n",
        "      'mode': 'fan_avg',\n",
        "      'scale': 1.0,\n",
        "      'seed': None}},\n",
        "    kernel_regularizer={'class_name': 'L1L2',\n",
        "     'config': {'l1': 9.99999993922529e-09, 'l2': 4.999999987376214e-07}}, \n",
        "     trainable=True,\t\n",
        "    use_bias= True\n",
        "     ))\n",
        "\n",
        "model1.add(Dense(3,activation='softmax',activity_regularizer= None,bias_constraint= None,\n",
        "                 kernel_constraint= {'class_name': 'MaxNorm',\n",
        "     'config': {'axis': 0, 'max_value': 1}},\n",
        "    kernel_initializer= {'class_name': 'VarianceScaling',\n",
        "     'config': {'distribution': 'uniform',\n",
        "      'mode': 'fan_avg',\n",
        "      'scale': 1.0,\n",
        "      'seed': None}},\n",
        "    kernel_regularizer= {'class_name': 'L1L2',\n",
        "     'config': {'l1': 9.99999993922529e-09, 'l2': 4.999999987376214e-07}}\n",
        "     ))\n",
        "\n",
        "model1.build()"
      ],
      "metadata": {
        "id": "umZ3q-2R38di"
      },
      "execution_count": null,
      "outputs": []
    },
    {
      "cell_type": "code",
      "source": [
        "model1.compile(loss='categorical_crossentropy', optimizer='adam', metrics=[\"accuracy\"])"
      ],
      "metadata": {
        "id": "31rs43u238dk"
      },
      "execution_count": null,
      "outputs": []
    },
    {
      "cell_type": "code",
      "source": [
        "model1.get_config()"
      ],
      "metadata": {
        "colab": {
          "base_uri": "https://localhost:8080/"
        },
        "id": "HXlD_DvEdklE",
        "outputId": "63773cd3-eac6-478a-d464-f64a32b27ab3"
      },
      "execution_count": null,
      "outputs": [
        {
          "output_type": "execute_result",
          "data": {
            "text/plain": [
              "{'layers': [{'class_name': 'InputLayer',\n",
              "   'config': {'batch_input_shape': (None, 1000, 4),\n",
              "    'dtype': 'float32',\n",
              "    'name': 'input_1',\n",
              "    'ragged': False,\n",
              "    'sparse': False}},\n",
              "  {'class_name': 'Conv1D',\n",
              "   'config': {'activation': 'relu',\n",
              "    'activity_regularizer': None,\n",
              "    'batch_input_shape': (None, 1000, 4),\n",
              "    'bias_constraint': None,\n",
              "    'bias_initializer': {'class_name': 'Zeros', 'config': {}},\n",
              "    'bias_regularizer': None,\n",
              "    'data_format': 'channels_last',\n",
              "    'dilation_rate': (1,),\n",
              "    'dtype': 'float32',\n",
              "    'filters': 480,\n",
              "    'groups': 1,\n",
              "    'kernel_constraint': {'class_name': 'MaxNorm',\n",
              "     'config': {'axis': 0, 'max_value': 1}},\n",
              "    'kernel_initializer': {'class_name': 'VarianceScaling',\n",
              "     'config': {'distribution': 'uniform',\n",
              "      'mode': 'fan_avg',\n",
              "      'scale': 1.0,\n",
              "      'seed': None}},\n",
              "    'kernel_regularizer': {'class_name': 'L1L2',\n",
              "     'config': {'l1': 9.99999993922529e-09, 'l2': 4.999999987376214e-07}},\n",
              "    'kernel_size': (9,),\n",
              "    'name': 'conv1d',\n",
              "    'padding': 'valid',\n",
              "    'strides': (1,),\n",
              "    'trainable': True,\n",
              "    'use_bias': True}},\n",
              "  {'class_name': 'BatchNormalization',\n",
              "   'config': {'axis': ListWrapper([2]),\n",
              "    'beta_constraint': None,\n",
              "    'beta_initializer': {'class_name': 'Zeros', 'config': {}},\n",
              "    'beta_regularizer': None,\n",
              "    'center': True,\n",
              "    'dtype': 'float32',\n",
              "    'epsilon': 0.001,\n",
              "    'gamma_constraint': None,\n",
              "    'gamma_initializer': {'class_name': 'Ones', 'config': {}},\n",
              "    'gamma_regularizer': None,\n",
              "    'momentum': 0.99,\n",
              "    'moving_mean_initializer': {'class_name': 'Zeros', 'config': {}},\n",
              "    'moving_variance_initializer': {'class_name': 'Ones', 'config': {}},\n",
              "    'name': 'batch_normalization',\n",
              "    'scale': True,\n",
              "    'trainable': True}},\n",
              "  {'class_name': 'LeakyReLU',\n",
              "   'config': {'alpha': 0.0,\n",
              "    'dtype': 'float32',\n",
              "    'name': 'leaky_re_lu',\n",
              "    'trainable': True}},\n",
              "  {'class_name': 'MaxPooling1D',\n",
              "   'config': {'data_format': 'channels_last',\n",
              "    'dtype': 'float32',\n",
              "    'name': 'max_pooling1d',\n",
              "    'padding': 'valid',\n",
              "    'pool_size': (9,),\n",
              "    'strides': (3,),\n",
              "    'trainable': True}},\n",
              "  {'class_name': 'Dropout',\n",
              "   'config': {'dtype': 'float32',\n",
              "    'name': 'dropout',\n",
              "    'noise_shape': None,\n",
              "    'rate': 0.2,\n",
              "    'seed': None,\n",
              "    'trainable': True}},\n",
              "  {'class_name': 'Conv1D',\n",
              "   'config': {'activation': 'relu',\n",
              "    'activity_regularizer': None,\n",
              "    'bias_constraint': None,\n",
              "    'bias_initializer': {'class_name': 'Zeros', 'config': {}},\n",
              "    'bias_regularizer': None,\n",
              "    'data_format': 'channels_last',\n",
              "    'dilation_rate': (1,),\n",
              "    'dtype': 'float32',\n",
              "    'filters': 480,\n",
              "    'groups': 1,\n",
              "    'kernel_constraint': {'class_name': 'MaxNorm',\n",
              "     'config': {'axis': 0, 'max_value': 0.9}},\n",
              "    'kernel_initializer': {'class_name': 'VarianceScaling',\n",
              "     'config': {'distribution': 'uniform',\n",
              "      'mode': 'fan_avg',\n",
              "      'scale': 1.0,\n",
              "      'seed': None}},\n",
              "    'kernel_regularizer': {'class_name': 'L1L2',\n",
              "     'config': {'l1': 9.99999993922529e-09, 'l2': 4.999999987376214e-07}},\n",
              "    'kernel_size': (4,),\n",
              "    'name': 'conv1d_1',\n",
              "    'padding': 'valid',\n",
              "    'strides': (1,),\n",
              "    'trainable': True,\n",
              "    'use_bias': True}},\n",
              "  {'class_name': 'BatchNormalization',\n",
              "   'config': {'axis': ListWrapper([2]),\n",
              "    'beta_constraint': None,\n",
              "    'beta_initializer': {'class_name': 'Zeros', 'config': {}},\n",
              "    'beta_regularizer': None,\n",
              "    'center': True,\n",
              "    'dtype': 'float32',\n",
              "    'epsilon': 0.001,\n",
              "    'gamma_constraint': None,\n",
              "    'gamma_initializer': {'class_name': 'Ones', 'config': {}},\n",
              "    'gamma_regularizer': None,\n",
              "    'momentum': 0.99,\n",
              "    'moving_mean_initializer': {'class_name': 'Zeros', 'config': {}},\n",
              "    'moving_variance_initializer': {'class_name': 'Ones', 'config': {}},\n",
              "    'name': 'batch_normalization_1',\n",
              "    'scale': True,\n",
              "    'trainable': True}},\n",
              "  {'class_name': 'LeakyReLU',\n",
              "   'config': {'alpha': 0.0,\n",
              "    'dtype': 'float32',\n",
              "    'name': 'leaky_re_lu_1',\n",
              "    'trainable': True}},\n",
              "  {'class_name': 'MaxPooling1D',\n",
              "   'config': {'data_format': 'channels_last',\n",
              "    'dtype': 'float32',\n",
              "    'name': 'max_pooling1d_1',\n",
              "    'padding': 'valid',\n",
              "    'pool_size': (4,),\n",
              "    'strides': (2,),\n",
              "    'trainable': True}},\n",
              "  {'class_name': 'Dropout',\n",
              "   'config': {'dtype': 'float32',\n",
              "    'name': 'dropout_1',\n",
              "    'noise_shape': None,\n",
              "    'rate': 0.2,\n",
              "    'seed': None,\n",
              "    'trainable': True}},\n",
              "  {'class_name': 'Conv1D',\n",
              "   'config': {'activation': 'relu',\n",
              "    'activity_regularizer': None,\n",
              "    'bias_constraint': None,\n",
              "    'bias_initializer': {'class_name': 'Zeros', 'config': {}},\n",
              "    'bias_regularizer': None,\n",
              "    'data_format': 'channels_last',\n",
              "    'dilation_rate': (1,),\n",
              "    'dtype': 'float32',\n",
              "    'filters': 240,\n",
              "    'groups': 1,\n",
              "    'kernel_constraint': {'class_name': 'MaxNorm',\n",
              "     'config': {'axis': 0, 'max_value': 1}},\n",
              "    'kernel_initializer': {'class_name': 'VarianceScaling',\n",
              "     'config': {'distribution': 'uniform',\n",
              "      'mode': 'fan_avg',\n",
              "      'scale': 1.0,\n",
              "      'seed': None}},\n",
              "    'kernel_regularizer': {'class_name': 'L1L2',\n",
              "     'config': {'l1': 9.99999993922529e-09, 'l2': 4.999999987376214e-07}},\n",
              "    'kernel_size': (4,),\n",
              "    'name': 'conv1d_2',\n",
              "    'padding': 'valid',\n",
              "    'strides': (1,),\n",
              "    'trainable': True,\n",
              "    'use_bias': True}},\n",
              "  {'class_name': 'MaxPooling1D',\n",
              "   'config': {'data_format': 'channels_last',\n",
              "    'dtype': 'float32',\n",
              "    'name': 'max_pooling1d_2',\n",
              "    'padding': 'valid',\n",
              "    'pool_size': (4,),\n",
              "    'strides': (3,),\n",
              "    'trainable': True}},\n",
              "  {'class_name': 'Dropout',\n",
              "   'config': {'dtype': 'float32',\n",
              "    'name': 'dropout_2',\n",
              "    'noise_shape': None,\n",
              "    'rate': 0.2,\n",
              "    'seed': None,\n",
              "    'trainable': True}},\n",
              "  {'class_name': 'Conv1D',\n",
              "   'config': {'activation': 'relu',\n",
              "    'activity_regularizer': None,\n",
              "    'bias_constraint': None,\n",
              "    'bias_initializer': {'class_name': 'Zeros', 'config': {}},\n",
              "    'bias_regularizer': None,\n",
              "    'data_format': 'channels_last',\n",
              "    'dilation_rate': (1,),\n",
              "    'dtype': 'float32',\n",
              "    'filters': 320,\n",
              "    'groups': 1,\n",
              "    'kernel_constraint': {'class_name': 'MaxNorm',\n",
              "     'config': {'axis': 0, 'max_value': 1}},\n",
              "    'kernel_initializer': {'class_name': 'VarianceScaling',\n",
              "     'config': {'distribution': 'uniform',\n",
              "      'mode': 'fan_avg',\n",
              "      'scale': 1.0,\n",
              "      'seed': None}},\n",
              "    'kernel_regularizer': {'class_name': 'L1L2',\n",
              "     'config': {'l1': 9.99999993922529e-09, 'l2': 4.999999987376214e-07}},\n",
              "    'kernel_size': (4,),\n",
              "    'name': 'conv1d_3',\n",
              "    'padding': 'valid',\n",
              "    'strides': (1,),\n",
              "    'trainable': True,\n",
              "    'use_bias': True}},\n",
              "  {'class_name': 'BatchNormalization',\n",
              "   'config': {'axis': ListWrapper([2]),\n",
              "    'beta_constraint': None,\n",
              "    'beta_initializer': {'class_name': 'Zeros', 'config': {}},\n",
              "    'beta_regularizer': None,\n",
              "    'center': True,\n",
              "    'dtype': 'float32',\n",
              "    'epsilon': 0.001,\n",
              "    'gamma_constraint': None,\n",
              "    'gamma_initializer': {'class_name': 'Ones', 'config': {}},\n",
              "    'gamma_regularizer': None,\n",
              "    'momentum': 0.99,\n",
              "    'moving_mean_initializer': {'class_name': 'Zeros', 'config': {}},\n",
              "    'moving_variance_initializer': {'class_name': 'Ones', 'config': {}},\n",
              "    'name': 'batch_normalization_2',\n",
              "    'scale': True,\n",
              "    'trainable': True}},\n",
              "  {'class_name': 'LeakyReLU',\n",
              "   'config': {'alpha': 0.0,\n",
              "    'dtype': 'float32',\n",
              "    'name': 'leaky_re_lu_2',\n",
              "    'trainable': True}},\n",
              "  {'class_name': 'MaxPooling1D',\n",
              "   'config': {'data_format': 'channels_last',\n",
              "    'dtype': 'float32',\n",
              "    'name': 'max_pooling1d_3',\n",
              "    'padding': 'valid',\n",
              "    'pool_size': (4,),\n",
              "    'strides': (3,),\n",
              "    'trainable': True}},\n",
              "  {'class_name': 'Conv1D',\n",
              "   'config': {'activation': 'relu',\n",
              "    'activity_regularizer': None,\n",
              "    'bias_constraint': None,\n",
              "    'bias_initializer': {'class_name': 'Zeros', 'config': {}},\n",
              "    'bias_regularizer': None,\n",
              "    'data_format': 'channels_last',\n",
              "    'dilation_rate': (1,),\n",
              "    'dtype': 'float32',\n",
              "    'filters': 320,\n",
              "    'groups': 1,\n",
              "    'kernel_constraint': {'class_name': 'MaxNorm',\n",
              "     'config': {'axis': 0, 'max_value': 1}},\n",
              "    'kernel_initializer': {'class_name': 'VarianceScaling',\n",
              "     'config': {'distribution': 'uniform',\n",
              "      'mode': 'fan_avg',\n",
              "      'scale': 1.0,\n",
              "      'seed': None}},\n",
              "    'kernel_regularizer': {'class_name': 'L1L2',\n",
              "     'config': {'l1': 9.99999993922529e-09, 'l2': 4.999999987376214e-07}},\n",
              "    'kernel_size': (4,),\n",
              "    'name': 'conv1d_4',\n",
              "    'padding': 'valid',\n",
              "    'strides': (1,),\n",
              "    'trainable': True,\n",
              "    'use_bias': True}},\n",
              "  {'class_name': 'BatchNormalization',\n",
              "   'config': {'axis': ListWrapper([2]),\n",
              "    'beta_constraint': None,\n",
              "    'beta_initializer': {'class_name': 'Zeros', 'config': {}},\n",
              "    'beta_regularizer': None,\n",
              "    'center': True,\n",
              "    'dtype': 'float32',\n",
              "    'epsilon': 0.001,\n",
              "    'gamma_constraint': None,\n",
              "    'gamma_initializer': {'class_name': 'Ones', 'config': {}},\n",
              "    'gamma_regularizer': None,\n",
              "    'momentum': 0.99,\n",
              "    'moving_mean_initializer': {'class_name': 'Zeros', 'config': {}},\n",
              "    'moving_variance_initializer': {'class_name': 'Ones', 'config': {}},\n",
              "    'name': 'batch_normalization_3',\n",
              "    'scale': True,\n",
              "    'trainable': True}},\n",
              "  {'class_name': 'LeakyReLU',\n",
              "   'config': {'alpha': 0.0,\n",
              "    'dtype': 'float32',\n",
              "    'name': 'leaky_re_lu_3',\n",
              "    'trainable': True}},\n",
              "  {'class_name': 'MaxPooling1D',\n",
              "   'config': {'data_format': 'channels_last',\n",
              "    'dtype': 'float32',\n",
              "    'name': 'max_pooling1d_4',\n",
              "    'padding': 'valid',\n",
              "    'pool_size': (4,),\n",
              "    'strides': (3,),\n",
              "    'trainable': True}},\n",
              "  {'class_name': 'Flatten',\n",
              "   'config': {'data_format': 'channels_last',\n",
              "    'dtype': 'float32',\n",
              "    'name': 'flatten',\n",
              "    'trainable': True}},\n",
              "  {'class_name': 'Dense',\n",
              "   'config': {'activation': 'sigmoid',\n",
              "    'activity_regularizer': None,\n",
              "    'bias_constraint': None,\n",
              "    'bias_initializer': {'class_name': 'Zeros', 'config': {}},\n",
              "    'bias_regularizer': None,\n",
              "    'dtype': 'float32',\n",
              "    'kernel_constraint': {'class_name': 'MaxNorm',\n",
              "     'config': {'axis': 0, 'max_value': 1}},\n",
              "    'kernel_initializer': {'class_name': 'VarianceScaling',\n",
              "     'config': {'distribution': 'uniform',\n",
              "      'mode': 'fan_avg',\n",
              "      'scale': 1.0,\n",
              "      'seed': None}},\n",
              "    'kernel_regularizer': {'class_name': 'L1L2',\n",
              "     'config': {'l1': 9.99999993922529e-09, 'l2': 4.999999987376214e-07}},\n",
              "    'name': 'dense',\n",
              "    'trainable': True,\n",
              "    'units': 180,\n",
              "    'use_bias': True}},\n",
              "  {'class_name': 'Dense',\n",
              "   'config': {'activation': 'softmax',\n",
              "    'activity_regularizer': None,\n",
              "    'bias_constraint': None,\n",
              "    'bias_initializer': {'class_name': 'Zeros', 'config': {}},\n",
              "    'bias_regularizer': None,\n",
              "    'dtype': 'float32',\n",
              "    'kernel_constraint': {'class_name': 'MaxNorm',\n",
              "     'config': {'axis': 0, 'max_value': 1}},\n",
              "    'kernel_initializer': {'class_name': 'VarianceScaling',\n",
              "     'config': {'distribution': 'uniform',\n",
              "      'mode': 'fan_avg',\n",
              "      'scale': 1.0,\n",
              "      'seed': None}},\n",
              "    'kernel_regularizer': {'class_name': 'L1L2',\n",
              "     'config': {'l1': 9.99999993922529e-09, 'l2': 4.999999987376214e-07}},\n",
              "    'name': 'dense_1',\n",
              "    'trainable': True,\n",
              "    'units': 3,\n",
              "    'use_bias': True}}],\n",
              " 'name': 'sequential_2'}"
            ]
          },
          "metadata": {},
          "execution_count": 24
        }
      ]
    },
    {
      "cell_type": "code",
      "source": [
        "model1.summary(expand_nested=True)"
      ],
      "metadata": {
        "colab": {
          "base_uri": "https://localhost:8080/"
        },
        "id": "xWHceg6zc6aQ",
        "outputId": "da286ac3-d72d-4dbc-aaff-56979050d430"
      },
      "execution_count": null,
      "outputs": [
        {
          "output_type": "stream",
          "name": "stdout",
          "text": [
            "Model: \"sequential_2\"\n",
            "_________________________________________________________________\n",
            " Layer (type)                Output Shape              Param #   \n",
            "=================================================================\n",
            " conv1d (Conv1D)             (None, 992, 480)          17760     \n",
            "                                                                 \n",
            " batch_normalization (BatchN  (None, 992, 480)         1920      \n",
            " ormalization)                                                   \n",
            "                                                                 \n",
            " leaky_re_lu (LeakyReLU)     (None, 992, 480)          0         \n",
            "                                                                 \n",
            " max_pooling1d (MaxPooling1D  (None, 328, 480)         0         \n",
            " )                                                               \n",
            "                                                                 \n",
            " dropout (Dropout)           (None, 328, 480)          0         \n",
            "                                                                 \n",
            " conv1d_1 (Conv1D)           (None, 325, 480)          922080    \n",
            "                                                                 \n",
            " batch_normalization_1 (Batc  (None, 325, 480)         1920      \n",
            " hNormalization)                                                 \n",
            "                                                                 \n",
            " leaky_re_lu_1 (LeakyReLU)   (None, 325, 480)          0         \n",
            "                                                                 \n",
            " max_pooling1d_1 (MaxPooling  (None, 161, 480)         0         \n",
            " 1D)                                                             \n",
            "                                                                 \n",
            " dropout_1 (Dropout)         (None, 161, 480)          0         \n",
            "                                                                 \n",
            " conv1d_2 (Conv1D)           (None, 158, 240)          461040    \n",
            "                                                                 \n",
            " max_pooling1d_2 (MaxPooling  (None, 52, 240)          0         \n",
            " 1D)                                                             \n",
            "                                                                 \n",
            " dropout_2 (Dropout)         (None, 52, 240)           0         \n",
            "                                                                 \n",
            " conv1d_3 (Conv1D)           (None, 49, 320)           307520    \n",
            "                                                                 \n",
            " batch_normalization_2 (Batc  (None, 49, 320)          1280      \n",
            " hNormalization)                                                 \n",
            "                                                                 \n",
            " leaky_re_lu_2 (LeakyReLU)   (None, 49, 320)           0         \n",
            "                                                                 \n",
            " max_pooling1d_3 (MaxPooling  (None, 16, 320)          0         \n",
            " 1D)                                                             \n",
            "                                                                 \n",
            " conv1d_4 (Conv1D)           (None, 13, 320)           409920    \n",
            "                                                                 \n",
            " batch_normalization_3 (Batc  (None, 13, 320)          1280      \n",
            " hNormalization)                                                 \n",
            "                                                                 \n",
            " leaky_re_lu_3 (LeakyReLU)   (None, 13, 320)           0         \n",
            "                                                                 \n",
            " max_pooling1d_4 (MaxPooling  (None, 4, 320)           0         \n",
            " 1D)                                                             \n",
            "                                                                 \n",
            " flatten (Flatten)           (None, 1280)              0         \n",
            "                                                                 \n",
            " dense (Dense)               (None, 180)               230580    \n",
            "                                                                 \n",
            " dense_1 (Dense)             (None, 3)                 543       \n",
            "                                                                 \n",
            "=================================================================\n",
            "Total params: 2,355,843\n",
            "Trainable params: 2,352,643\n",
            "Non-trainable params: 3,200\n",
            "_________________________________________________________________\n"
          ]
        }
      ]
    },
    {
      "cell_type": "code",
      "source": [
        "def load_dataset(Dfile):\n",
        "\n",
        "    print(\"reading enhancers...\")\n",
        "    data = {}\n",
        "    with h5py.File(Dfile, \"r\") as inf:\n",
        "        for _key in inf:\n",
        "            data[_key] = inf[_key][()]\n",
        "    return data"
      ],
      "metadata": {
        "id": "B_7PwyyCouX0"
      },
      "execution_count": null,
      "outputs": []
    },
    {
      "cell_type": "code",
      "source": [
        "!gunzip -d /content/SilencerEnhancerPredict/examples/training_1000_3_seqlen.hdf5.gz"
      ],
      "metadata": {
        "id": "KVAanGsOpgvu"
      },
      "execution_count": null,
      "outputs": []
    },
    {
      "cell_type": "code",
      "source": [
        "data = load_dataset('/content/SilencerEnhancerPredict/examples/training_1000_3_seqlen.hdf5')"
      ],
      "metadata": {
        "id": "qwqHKgXRo8qE",
        "colab": {
          "base_uri": "https://localhost:8080/"
        },
        "outputId": "b8412a62-a7f4-4e36-9f1a-d085c0717f5d"
      },
      "execution_count": null,
      "outputs": [
        {
          "output_type": "stream",
          "name": "stdout",
          "text": [
            "reading enhancers...\n"
          ]
        }
      ]
    },
    {
      "cell_type": "code",
      "source": [
        "X_train = data[\"train_data\"]\n",
        "Y_train = data[\"train_labels\"]\n",
        "X_validation = data[\"val_data\"]\n",
        "Y_validation = data[\"val_labels\"]\n",
        "X_test = data[\"test_data\"]\n",
        "Y_test = data[\"test_labels\"]"
      ],
      "metadata": {
        "id": "xZM2J-wBpFNG"
      },
      "execution_count": null,
      "outputs": []
    },
    {
      "cell_type": "code",
      "source": [
        "import numpy as np\n",
        "model1.fit(X_train,Y_train)"
      ],
      "metadata": {
        "id": "OQGOMCKp38dk",
        "colab": {
          "base_uri": "https://localhost:8080/"
        },
        "outputId": "c5d51dc4-896e-4a80-e41a-87e03a85a3b5"
      },
      "execution_count": null,
      "outputs": [
        {
          "output_type": "stream",
          "name": "stdout",
          "text": [
            "232/232 [==============================] - 43s 115ms/step - loss: 1.1004 - accuracy: 0.3765\n"
          ]
        },
        {
          "output_type": "execute_result",
          "data": {
            "text/plain": [
              "<keras.callbacks.History at 0x7f6000140710>"
            ]
          },
          "metadata": {},
          "execution_count": 32
        }
      ]
    },
    {
      "cell_type": "code",
      "source": [
        "parallel_model = model1"
      ],
      "metadata": {
        "id": "rO_OrLseotbT"
      },
      "execution_count": null,
      "outputs": []
    },
    {
      "cell_type": "code",
      "source": [
        "from keras.utils.np_utils import to_categorical\n",
        "'''\n",
        "Y_train = to_categorical(Y_train, num_classes=None)\n",
        "Y_test = to_categorical(Y_test, num_classes=None)\n",
        "Y_validation = to_categorical(Y_validation, num_classes=None)\n",
        "'''\n",
        "\n",
        "\n",
        "_callbacks = []\n",
        "checkpointer = ModelCheckpoint(filepath=weights_file, verbose=1, save_best_only=True)\n",
        "_callbacks.append(checkpointer)\n",
        "earlystopper = EarlyStopping(monitor=\"val_loss\", patience=10, verbose=1)\n",
        "_callbacks.append(earlystopper)"
      ],
      "metadata": {
        "id": "LPKGM60CouUZ"
      },
      "execution_count": null,
      "outputs": []
    },
    {
      "cell_type": "markdown",
      "source": [
        "OUR MODEL"
      ],
      "metadata": {
        "id": "jv_q9IA795pe"
      }
    },
    {
      "cell_type": "code",
      "source": [
        "parallel_model.fit(X_train,\n",
        "                    Y_train,\n",
        "                    batch_size=BATCH_SIZE * 1,\n",
        "                    epochs=EPOCH,\n",
        "                    validation_data=(X_validation, Y_validation),\n",
        "                    shuffle=True,\n",
        "                    callbacks=_callbacks, verbose=1)\n",
        "\n",
        "Y_pred = parallel_model.predict(X_test)"
      ],
      "metadata": {
        "id": "FsoVn3nLuwDf",
        "colab": {
          "base_uri": "https://localhost:8080/"
        },
        "outputId": "bc81bc06-bd3a-443e-e1ef-b5cd54653290"
      },
      "execution_count": null,
      "outputs": [
        {
          "output_type": "stream",
          "name": "stdout",
          "text": [
            "Epoch 1/200\n",
            "116/116 [==============================] - ETA: 0s - loss: 1.0664 - accuracy: 0.4138\n",
            "Epoch 1: val_loss improved from inf to 1.26691, saving model to ./examples/model_weights.hdf5\n",
            "116/116 [==============================] - 26s 219ms/step - loss: 1.0664 - accuracy: 0.4138 - val_loss: 1.2669 - val_accuracy: 0.3432\n",
            "Epoch 2/200\n",
            "116/116 [==============================] - ETA: 0s - loss: 1.0537 - accuracy: 0.4293\n",
            "Epoch 2: val_loss did not improve from 1.26691\n",
            "116/116 [==============================] - 24s 206ms/step - loss: 1.0537 - accuracy: 0.4293 - val_loss: 1.2880 - val_accuracy: 0.3432\n",
            "Epoch 3/200\n",
            "116/116 [==============================] - ETA: 0s - loss: 1.0420 - accuracy: 0.4379\n",
            "Epoch 3: val_loss improved from 1.26691 to 1.17992, saving model to ./examples/model_weights.hdf5\n",
            "116/116 [==============================] - 24s 207ms/step - loss: 1.0420 - accuracy: 0.4379 - val_loss: 1.1799 - val_accuracy: 0.3767\n",
            "Epoch 4/200\n",
            "116/116 [==============================] - ETA: 0s - loss: 1.0369 - accuracy: 0.4474\n",
            "Epoch 4: val_loss did not improve from 1.17992\n",
            "116/116 [==============================] - 24s 206ms/step - loss: 1.0369 - accuracy: 0.4474 - val_loss: 1.2921 - val_accuracy: 0.3751\n",
            "Epoch 5/200\n",
            "116/116 [==============================] - ETA: 0s - loss: 1.0255 - accuracy: 0.4582\n",
            "Epoch 5: val_loss did not improve from 1.17992\n",
            "116/116 [==============================] - 24s 206ms/step - loss: 1.0255 - accuracy: 0.4582 - val_loss: 1.2232 - val_accuracy: 0.3286\n",
            "Epoch 6/200\n",
            "116/116 [==============================] - ETA: 0s - loss: 1.0116 - accuracy: 0.4662\n",
            "Epoch 6: val_loss improved from 1.17992 to 1.08596, saving model to ./examples/model_weights.hdf5\n",
            "116/116 [==============================] - 24s 207ms/step - loss: 1.0116 - accuracy: 0.4662 - val_loss: 1.0860 - val_accuracy: 0.4103\n",
            "Epoch 7/200\n",
            "116/116 [==============================] - ETA: 0s - loss: 0.9959 - accuracy: 0.4879\n",
            "Epoch 7: val_loss did not improve from 1.08596\n",
            "116/116 [==============================] - 24s 206ms/step - loss: 0.9959 - accuracy: 0.4879 - val_loss: 1.1786 - val_accuracy: 0.3686\n",
            "Epoch 8/200\n",
            "116/116 [==============================] - ETA: 0s - loss: 0.9775 - accuracy: 0.4962\n",
            "Epoch 8: val_loss did not improve from 1.08596\n",
            "116/116 [==============================] - 24s 206ms/step - loss: 0.9775 - accuracy: 0.4962 - val_loss: 1.1633 - val_accuracy: 0.3735\n",
            "Epoch 9/200\n",
            "116/116 [==============================] - ETA: 0s - loss: 0.9587 - accuracy: 0.5162\n",
            "Epoch 9: val_loss improved from 1.08596 to 1.08350, saving model to ./examples/model_weights.hdf5\n",
            "116/116 [==============================] - 24s 207ms/step - loss: 0.9587 - accuracy: 0.5162 - val_loss: 1.0835 - val_accuracy: 0.3973\n",
            "Epoch 10/200\n",
            "116/116 [==============================] - ETA: 0s - loss: 0.9344 - accuracy: 0.5327\n",
            "Epoch 10: val_loss did not improve from 1.08350\n",
            "116/116 [==============================] - 24s 206ms/step - loss: 0.9344 - accuracy: 0.5327 - val_loss: 1.1658 - val_accuracy: 0.4006\n",
            "Epoch 11/200\n",
            "116/116 [==============================] - ETA: 0s - loss: 0.9084 - accuracy: 0.5498\n",
            "Epoch 11: val_loss did not improve from 1.08350\n",
            "116/116 [==============================] - 24s 206ms/step - loss: 0.9084 - accuracy: 0.5498 - val_loss: 1.3337 - val_accuracy: 0.3666\n",
            "Epoch 12/200\n",
            "116/116 [==============================] - ETA: 0s - loss: 0.8717 - accuracy: 0.5773\n",
            "Epoch 12: val_loss did not improve from 1.08350\n",
            "116/116 [==============================] - 24s 206ms/step - loss: 0.8717 - accuracy: 0.5773 - val_loss: 1.2402 - val_accuracy: 0.3638\n",
            "Epoch 13/200\n",
            "116/116 [==============================] - ETA: 0s - loss: 0.8311 - accuracy: 0.6063\n",
            "Epoch 13: val_loss did not improve from 1.08350\n",
            "116/116 [==============================] - 24s 207ms/step - loss: 0.8311 - accuracy: 0.6063 - val_loss: 1.4418 - val_accuracy: 0.3549\n",
            "Epoch 14/200\n",
            "116/116 [==============================] - ETA: 0s - loss: 0.8016 - accuracy: 0.6133\n",
            "Epoch 14: val_loss did not improve from 1.08350\n",
            "116/116 [==============================] - 24s 205ms/step - loss: 0.8016 - accuracy: 0.6133 - val_loss: 1.3167 - val_accuracy: 0.3872\n",
            "Epoch 15/200\n",
            "116/116 [==============================] - ETA: 0s - loss: 0.7415 - accuracy: 0.6556\n",
            "Epoch 15: val_loss did not improve from 1.08350\n",
            "116/116 [==============================] - 24s 205ms/step - loss: 0.7415 - accuracy: 0.6556 - val_loss: 1.2227 - val_accuracy: 0.3941\n",
            "Epoch 16/200\n",
            "116/116 [==============================] - ETA: 0s - loss: 0.6918 - accuracy: 0.6854\n",
            "Epoch 16: val_loss did not improve from 1.08350\n",
            "116/116 [==============================] - 24s 205ms/step - loss: 0.6918 - accuracy: 0.6854 - val_loss: 1.4374 - val_accuracy: 0.3888\n",
            "Epoch 17/200\n",
            "116/116 [==============================] - ETA: 0s - loss: 0.6422 - accuracy: 0.7137\n",
            "Epoch 17: val_loss did not improve from 1.08350\n",
            "116/116 [==============================] - 24s 205ms/step - loss: 0.6422 - accuracy: 0.7137 - val_loss: 2.0425 - val_accuracy: 0.3476\n",
            "Epoch 18/200\n",
            "116/116 [==============================] - ETA: 0s - loss: 0.5823 - accuracy: 0.7507\n",
            "Epoch 18: val_loss did not improve from 1.08350\n",
            "116/116 [==============================] - 24s 206ms/step - loss: 0.5823 - accuracy: 0.7507 - val_loss: 2.3906 - val_accuracy: 0.3666\n",
            "Epoch 19/200\n",
            "116/116 [==============================] - ETA: 0s - loss: 0.5358 - accuracy: 0.7725\n",
            "Epoch 19: val_loss did not improve from 1.08350\n",
            "116/116 [==============================] - 24s 206ms/step - loss: 0.5358 - accuracy: 0.7725 - val_loss: 1.5984 - val_accuracy: 0.3824\n",
            "Epoch 19: early stopping\n"
          ]
        }
      ]
    },
    {
      "cell_type": "markdown",
      "source": [
        "OG MODEL"
      ],
      "metadata": {
        "id": "4uZuJmom9zQu"
      }
    },
    {
      "cell_type": "code",
      "source": [
        "model.compile(loss='categorical_crossentropy', optimizer='adam', metrics=[\"accuracy\"])"
      ],
      "metadata": {
        "id": "foHlL2ez9nvn"
      },
      "execution_count": null,
      "outputs": []
    },
    {
      "cell_type": "code",
      "source": [
        "parallel_model1=model"
      ],
      "metadata": {
        "id": "C5V0kxP99npd"
      },
      "execution_count": null,
      "outputs": []
    },
    {
      "cell_type": "code",
      "source": [
        "parallel_model1.fit(X_train,\n",
        "                    Y_train,\n",
        "                    batch_size=BATCH_SIZE * 1,\n",
        "                    epochs=EPOCH,\n",
        "                    validation_data=(X_validation, Y_validation),\n",
        "                    shuffle=True,\n",
        "                    callbacks=_callbacks, verbose=1)\n",
        "\n",
        "Y_pred = parallel_model1.predict(X_test)"
      ],
      "metadata": {
        "colab": {
          "base_uri": "https://localhost:8080/"
        },
        "id": "3PSMNq9m9lpQ",
        "outputId": "1238a9a0-6810-468f-f9c8-64b76b0f1436"
      },
      "execution_count": null,
      "outputs": [
        {
          "output_type": "stream",
          "name": "stdout",
          "text": [
            "Epoch 1/200\n",
            "116/116 [==============================] - ETA: 0s - loss: 1.1052 - accuracy: 0.3683\n",
            "Epoch 1: val_loss did not improve from 1.08350\n",
            "116/116 [==============================] - 27s 209ms/step - loss: 1.1052 - accuracy: 0.3683 - val_loss: 1.1487 - val_accuracy: 0.3432\n",
            "Epoch 2/200\n",
            "116/116 [==============================] - ETA: 0s - loss: 1.0775 - accuracy: 0.4061\n",
            "Epoch 2: val_loss did not improve from 1.08350\n",
            "116/116 [==============================] - 24s 206ms/step - loss: 1.0775 - accuracy: 0.4061 - val_loss: 1.1437 - val_accuracy: 0.3432\n",
            "Epoch 3/200\n",
            "116/116 [==============================] - ETA: 0s - loss: 1.0651 - accuracy: 0.4142\n",
            "Epoch 3: val_loss did not improve from 1.08350\n",
            "116/116 [==============================] - 24s 207ms/step - loss: 1.0651 - accuracy: 0.4142 - val_loss: 1.1099 - val_accuracy: 0.3432\n",
            "Epoch 4/200\n",
            "116/116 [==============================] - ETA: 0s - loss: 1.0500 - accuracy: 0.4346\n",
            "Epoch 4: val_loss did not improve from 1.08350\n",
            "116/116 [==============================] - 24s 207ms/step - loss: 1.0500 - accuracy: 0.4346 - val_loss: 1.1591 - val_accuracy: 0.3432\n",
            "Epoch 5/200\n",
            "116/116 [==============================] - ETA: 0s - loss: 1.0431 - accuracy: 0.4284\n",
            "Epoch 5: val_loss did not improve from 1.08350\n",
            "116/116 [==============================] - 24s 207ms/step - loss: 1.0431 - accuracy: 0.4284 - val_loss: 1.1193 - val_accuracy: 0.3157\n",
            "Epoch 6/200\n",
            "116/116 [==============================] - ETA: 0s - loss: 1.0255 - accuracy: 0.4590\n",
            "Epoch 6: val_loss did not improve from 1.08350\n",
            "116/116 [==============================] - 24s 207ms/step - loss: 1.0255 - accuracy: 0.4590 - val_loss: 1.0961 - val_accuracy: 0.3751\n",
            "Epoch 7/200\n",
            "116/116 [==============================] - ETA: 0s - loss: 1.0106 - accuracy: 0.4684\n",
            "Epoch 7: val_loss did not improve from 1.08350\n",
            "116/116 [==============================] - 24s 206ms/step - loss: 1.0106 - accuracy: 0.4684 - val_loss: 1.1578 - val_accuracy: 0.3832\n",
            "Epoch 8/200\n",
            "116/116 [==============================] - ETA: 0s - loss: 0.9960 - accuracy: 0.4805\n",
            "Epoch 8: val_loss did not improve from 1.08350\n",
            "116/116 [==============================] - 24s 206ms/step - loss: 0.9960 - accuracy: 0.4805 - val_loss: 1.1235 - val_accuracy: 0.4046\n",
            "Epoch 9/200\n",
            "116/116 [==============================] - ETA: 0s - loss: 0.9794 - accuracy: 0.4901\n",
            "Epoch 9: val_loss did not improve from 1.08350\n",
            "116/116 [==============================] - 24s 210ms/step - loss: 0.9794 - accuracy: 0.4901 - val_loss: 1.2674 - val_accuracy: 0.3694\n",
            "Epoch 10/200\n",
            "116/116 [==============================] - ETA: 0s - loss: 0.9552 - accuracy: 0.4990\n",
            "Epoch 10: val_loss did not improve from 1.08350\n",
            "116/116 [==============================] - 24s 206ms/step - loss: 0.9552 - accuracy: 0.4990 - val_loss: 1.1384 - val_accuracy: 0.3905\n",
            "Epoch 11/200\n",
            "116/116 [==============================] - ETA: 0s - loss: 0.9251 - accuracy: 0.5254\n",
            "Epoch 11: val_loss did not improve from 1.08350\n",
            "116/116 [==============================] - 24s 206ms/step - loss: 0.9251 - accuracy: 0.5254 - val_loss: 1.3166 - val_accuracy: 0.3549\n",
            "Epoch 12/200\n",
            "116/116 [==============================] - ETA: 0s - loss: 0.8884 - accuracy: 0.5466\n",
            "Epoch 12: val_loss did not improve from 1.08350\n",
            "116/116 [==============================] - 24s 206ms/step - loss: 0.8884 - accuracy: 0.5466 - val_loss: 1.1563 - val_accuracy: 0.4050\n",
            "Epoch 13/200\n",
            "116/116 [==============================] - ETA: 0s - loss: 0.8559 - accuracy: 0.5714\n",
            "Epoch 13: val_loss did not improve from 1.08350\n",
            "116/116 [==============================] - 24s 206ms/step - loss: 0.8559 - accuracy: 0.5714 - val_loss: 1.4006 - val_accuracy: 0.3185\n",
            "Epoch 14/200\n",
            "116/116 [==============================] - ETA: 0s - loss: 0.8252 - accuracy: 0.5886\n",
            "Epoch 14: val_loss did not improve from 1.08350\n",
            "116/116 [==============================] - 24s 210ms/step - loss: 0.8252 - accuracy: 0.5886 - val_loss: 1.2735 - val_accuracy: 0.3876\n",
            "Epoch 15/200\n",
            "116/116 [==============================] - ETA: 0s - loss: 0.7886 - accuracy: 0.6102\n",
            "Epoch 15: val_loss did not improve from 1.08350\n",
            "116/116 [==============================] - 24s 206ms/step - loss: 0.7886 - accuracy: 0.6102 - val_loss: 1.3426 - val_accuracy: 0.4002\n",
            "Epoch 16/200\n",
            "116/116 [==============================] - ETA: 0s - loss: 0.7367 - accuracy: 0.6413\n",
            "Epoch 16: val_loss did not improve from 1.08350\n",
            "116/116 [==============================] - 24s 206ms/step - loss: 0.7367 - accuracy: 0.6413 - val_loss: 1.5755 - val_accuracy: 0.3783\n",
            "Epoch 16: early stopping\n"
          ]
        }
      ]
    },
    {
      "cell_type": "code",
      "source": [
        "model1.save('/content/SilencerEnhancerPredict/examples/model_1000_3.hdf5')"
      ],
      "metadata": {
        "id": "Nc21tubB38dl"
      },
      "execution_count": null,
      "outputs": []
    },
    {
      "cell_type": "code",
      "source": [
        "history = model1.fit(input_train, target_train,\n",
        "          batch_size=batch_size,\n",
        "          epochs=no_epochs,\n",
        "          verbose=verbosity,\n",
        "          validation_split=validation_split)"
      ],
      "metadata": {
        "id": "uqmDJQ4Ivy9F",
        "colab": {
          "base_uri": "https://localhost:8080/",
          "height": 235
        },
        "outputId": "797f94ed-cf0b-4791-e344-e245eed36ccf"
      },
      "execution_count": null,
      "outputs": [
        {
          "output_type": "error",
          "ename": "NameError",
          "evalue": "ignored",
          "traceback": [
            "\u001b[0;31m---------------------------------------------------------------------------\u001b[0m",
            "\u001b[0;31mNameError\u001b[0m                                 Traceback (most recent call last)",
            "\u001b[0;32m<ipython-input-41-3db700def69e>\u001b[0m in \u001b[0;36m<module>\u001b[0;34m()\u001b[0m\n\u001b[0;32m----> 1\u001b[0;31m history = model1.fit(input_train, target_train,\n\u001b[0m\u001b[1;32m      2\u001b[0m           \u001b[0mbatch_size\u001b[0m\u001b[0;34m=\u001b[0m\u001b[0mbatch_size\u001b[0m\u001b[0;34m,\u001b[0m\u001b[0;34m\u001b[0m\u001b[0;34m\u001b[0m\u001b[0m\n\u001b[1;32m      3\u001b[0m           \u001b[0mepochs\u001b[0m\u001b[0;34m=\u001b[0m\u001b[0mno_epochs\u001b[0m\u001b[0;34m,\u001b[0m\u001b[0;34m\u001b[0m\u001b[0;34m\u001b[0m\u001b[0m\n\u001b[1;32m      4\u001b[0m           \u001b[0mverbose\u001b[0m\u001b[0;34m=\u001b[0m\u001b[0mverbosity\u001b[0m\u001b[0;34m,\u001b[0m\u001b[0;34m\u001b[0m\u001b[0;34m\u001b[0m\u001b[0m\n\u001b[1;32m      5\u001b[0m           validation_split=validation_split)\n",
            "\u001b[0;31mNameError\u001b[0m: name 'input_train' is not defined"
          ]
        }
      ]
    },
    {
      "cell_type": "code",
      "source": [
        "from keras import backend as K\n",
        "# To get learning rate\n",
        "print(K.get_value(model1.optimizer.lr))"
      ],
      "metadata": {
        "id": "O3RjK8Zkm5MK",
        "colab": {
          "base_uri": "https://localhost:8080/"
        },
        "outputId": "f210c31f-543a-4579-ae33-06c8d6637401"
      },
      "execution_count": null,
      "outputs": [
        {
          "output_type": "stream",
          "name": "stdout",
          "text": [
            "0.001\n"
          ]
        }
      ]
    }
  ]
}
{
  "cells": [
    {
      "cell_type": "markdown",
      "metadata": {
        "id": "view-in-github",
        "colab_type": "text"
      },
      "source": [
        "<a href=\"https://colab.research.google.com/github/radhikasethi2011/btechproj/blob/main/Data/full_pipeline_zip_files_13_01_22.ipynb\" target=\"_parent\"><img src=\"https://colab.research.google.com/assets/colab-badge.svg\" alt=\"Open In Colab\"/></a>"
      ]
    },
    {
      "cell_type": "code",
      "source": [
        "!git clone https://github.com/radhikasethi2011/btechproj.git"
      ],
      "metadata": {
        "id": "FXbzEQql1vqY",
        "colab": {
          "base_uri": "https://localhost:8080/"
        },
        "outputId": "8df6dd31-1e0d-4b74-e71a-0a08d93631b9"
      },
      "execution_count": null,
      "outputs": [
        {
          "output_type": "stream",
          "name": "stdout",
          "text": [
            "Cloning into 'btechproj'...\n",
            "remote: Enumerating objects: 216, done.\u001b[K\n",
            "remote: Counting objects: 100% (216/216), done.\u001b[K\n",
            "remote: Compressing objects: 100% (176/176), done.\u001b[K\n",
            "remote: Total 216 (delta 91), reused 89 (delta 28), pack-reused 0\u001b[K\n",
            "Receiving objects: 100% (216/216), 7.25 MiB | 8.63 MiB/s, done.\n",
            "Resolving deltas: 100% (91/91), done.\n"
          ]
        }
      ]
    },
    {
      "cell_type": "code",
      "source": [
        "import random\n",
        "random.seed(10)"
      ],
      "metadata": {
        "id": "P3grt2pC9SIL"
      },
      "execution_count": null,
      "outputs": []
    },
    {
      "cell_type": "code",
      "source": [
        "from google.colab import drive\n",
        "drive.mount('/content/drive')"
      ],
      "metadata": {
        "colab": {
          "base_uri": "https://localhost:8080/"
        },
        "id": "gsVwvGsrLoDF",
        "outputId": "315f33a6-904e-4e7b-bc1f-cefb7570ee56"
      },
      "execution_count": null,
      "outputs": [
        {
          "output_type": "stream",
          "name": "stdout",
          "text": [
            "Mounted at /content/drive\n"
          ]
        }
      ]
    },
    {
      "cell_type": "markdown",
      "metadata": {
        "id": "-idFGizPi9aB"
      },
      "source": [
        "https://jaspar.genereg.net/matrix/MA0003.4/\n",
        "\n",
        "https://jaspar.genereg.net/sites/MA0003.4/"
      ]
    },
    {
      "cell_type": "markdown",
      "source": [
        "pipeline to prepare files: \n"
      ],
      "metadata": {
        "id": "VkmUVawvsqh_"
      }
    },
    {
      "cell_type": "code",
      "source": [
        "import random\n",
        "import string\n",
        "import numpy as np\n",
        "from pathlib import Path\n",
        "import pandas as pd\n",
        "\n",
        "def get_num(a, b, x):\n",
        "    \"\"\"\n",
        "    gets a unique number between a range (a,b), divisible by x\n",
        "    input:  a - start inde\n",
        "            b - end index\n",
        "            x = random number should be divisible by x\n",
        "    return:\n",
        "        random number divisible by x\n",
        "    \"\"\"\n",
        "    if not a % x:\n",
        "        return random.choice(range(a, b, x))\n",
        "    else:\n",
        "        return random.choice(range(a + x - (a % x), b, x))\n",
        "\n",
        "def motif_string():\n",
        "    \"\"\"\n",
        "    generates a string of length (by get_num) of ACGT\n",
        "    returns: string of equal ACGT\n",
        "    \"\"\"\n",
        "    length = 288\n",
        "    # print(\"random length: \" , length)\n",
        "    len4 = length / 4\n",
        "    # print(\"len / 4 :\" , len4)\n",
        "    letters = [\"A\", \"C\", \"G\", \"T\"]\n",
        "    letters_list = list(random.choice(letters))\n",
        "    random.shuffle(letters_list)\n",
        "    # print(\" Random generated string with repetition:\")\n",
        "    str1 = \"\"\n",
        "    return str1.join(letters_list)\n",
        "\n",
        "def non_motif_string(length):\n",
        "    \"\"\"\n",
        "    generates a string of length (by get_num) of ACGT\n",
        "    returns: string \n",
        "    \"\"\"\n",
        "    # print(\"random length: \" , length)\n",
        "    #len4 = length / 4\n",
        "    # print(\"len / 4 :\" , len4)\n",
        "    letters = [\"A\", \"C\", \"G\", \"T\"]\n",
        "    nonmotiflist = []\n",
        "    for i in range(length): \n",
        "      nonmotiflist.append(random.choice(letters))\n",
        "    # print(\" Random generated string with repetition:\")\n",
        "    str1 = \"\"\n",
        "    return str1.join(nonmotiflist)\n",
        "\n",
        "def add_motif():\n",
        "    \"\"\"\n",
        "    adds a motif - string input, to output by non_motif_string\n",
        "    returns: string consisting of a motif\n",
        "    \"\"\"\n",
        "    motif = 'ATACGTTACCCG'\n",
        "    result = list(motif_string())\n",
        "    i = random.choice(range(len(result)))\n",
        "    result.insert(i, motif)\n",
        "    result = \"\".join(result)\n",
        "    return result,i\n",
        "\n",
        "\n",
        "def write_to_df(length,var): #to generate non motif background files\n",
        "  l=[]\n",
        "  for i1 in range(int(length)):\n",
        "    l1=[]\n",
        "    i=-5\n",
        "    result= non_motif_string(var)\n",
        "    seq = \"seq_\" + str(i1 + 1) + \"_peak\"\n",
        "    a='0'      \n",
        "    l1 = [\"A\",seq,str(i), result,a]\n",
        "    l.append(list(l1))\n",
        "  df = pd.DataFrame(l,columns=['FoldID',\t'EventID',\t'start_index',\t'seq',\t'Bound']) \n",
        "  return df\n",
        "\n",
        "#write_to_file(1000)\n",
        "\n",
        "#def write_to_df(length, var,name):\n"
      ],
      "metadata": {
        "id": "MXkXBrYms31B"
      },
      "execution_count": null,
      "outputs": []
    },
    {
      "cell_type": "code",
      "source": [
        "df_nonmotif_train = write_to_df(1000,314)\n",
        "df_mixed_motif = write_to_df(1000,300)\n",
        "df_mixed_nonmotif = write_to_df(1000,314)\n",
        "df_motif_train = write_to_df(1000,300)"
      ],
      "metadata": {
        "id": "-cTVrXscs3xb"
      },
      "execution_count": null,
      "outputs": []
    },
    {
      "cell_type": "code",
      "source": [
        "df_nonmotif_train.head()"
      ],
      "metadata": {
        "colab": {
          "base_uri": "https://localhost:8080/",
          "height": 206
        },
        "id": "p5mCTx4t3Daa",
        "outputId": "a6f41e9d-0eb6-42fb-c85e-3928847cca92"
      },
      "execution_count": null,
      "outputs": [
        {
          "output_type": "execute_result",
          "data": {
            "text/html": [
              "\n",
              "  <div id=\"df-a99e355b-f8fb-40e7-ae04-0099d27281ae\">\n",
              "    <div class=\"colab-df-container\">\n",
              "      <div>\n",
              "<style scoped>\n",
              "    .dataframe tbody tr th:only-of-type {\n",
              "        vertical-align: middle;\n",
              "    }\n",
              "\n",
              "    .dataframe tbody tr th {\n",
              "        vertical-align: top;\n",
              "    }\n",
              "\n",
              "    .dataframe thead th {\n",
              "        text-align: right;\n",
              "    }\n",
              "</style>\n",
              "<table border=\"1\" class=\"dataframe\">\n",
              "  <thead>\n",
              "    <tr style=\"text-align: right;\">\n",
              "      <th></th>\n",
              "      <th>FoldID</th>\n",
              "      <th>EventID</th>\n",
              "      <th>start_index</th>\n",
              "      <th>seq</th>\n",
              "      <th>Bound</th>\n",
              "    </tr>\n",
              "  </thead>\n",
              "  <tbody>\n",
              "    <tr>\n",
              "      <th>0</th>\n",
              "      <td>A</td>\n",
              "      <td>seq_1_peak</td>\n",
              "      <td>-5</td>\n",
              "      <td>ATTACTTGCATGACGATCGTTGGTCGGCTCTTAACCCGGCGTTTAG...</td>\n",
              "      <td>0</td>\n",
              "    </tr>\n",
              "    <tr>\n",
              "      <th>1</th>\n",
              "      <td>A</td>\n",
              "      <td>seq_2_peak</td>\n",
              "      <td>-5</td>\n",
              "      <td>ACTCATATCGGACAATAATGCAGGTCACCGCCCTTACAAAACATAA...</td>\n",
              "      <td>0</td>\n",
              "    </tr>\n",
              "    <tr>\n",
              "      <th>2</th>\n",
              "      <td>A</td>\n",
              "      <td>seq_3_peak</td>\n",
              "      <td>-5</td>\n",
              "      <td>CTTCCGTCCACCATACGGTCTCTTTATACAAAGCGGGGCGCAATAT...</td>\n",
              "      <td>0</td>\n",
              "    </tr>\n",
              "    <tr>\n",
              "      <th>3</th>\n",
              "      <td>A</td>\n",
              "      <td>seq_4_peak</td>\n",
              "      <td>-5</td>\n",
              "      <td>CTCCAAGGACAAATCATTGAAACATGAGAGCCTCTGGCTATCTGCG...</td>\n",
              "      <td>0</td>\n",
              "    </tr>\n",
              "    <tr>\n",
              "      <th>4</th>\n",
              "      <td>A</td>\n",
              "      <td>seq_5_peak</td>\n",
              "      <td>-5</td>\n",
              "      <td>AAACGTTATTAAGTACTTCACGTTTCAAAACAATGGTGACGTTTTT...</td>\n",
              "      <td>0</td>\n",
              "    </tr>\n",
              "  </tbody>\n",
              "</table>\n",
              "</div>\n",
              "      <button class=\"colab-df-convert\" onclick=\"convertToInteractive('df-a99e355b-f8fb-40e7-ae04-0099d27281ae')\"\n",
              "              title=\"Convert this dataframe to an interactive table.\"\n",
              "              style=\"display:none;\">\n",
              "        \n",
              "  <svg xmlns=\"http://www.w3.org/2000/svg\" height=\"24px\"viewBox=\"0 0 24 24\"\n",
              "       width=\"24px\">\n",
              "    <path d=\"M0 0h24v24H0V0z\" fill=\"none\"/>\n",
              "    <path d=\"M18.56 5.44l.94 2.06.94-2.06 2.06-.94-2.06-.94-.94-2.06-.94 2.06-2.06.94zm-11 1L8.5 8.5l.94-2.06 2.06-.94-2.06-.94L8.5 2.5l-.94 2.06-2.06.94zm10 10l.94 2.06.94-2.06 2.06-.94-2.06-.94-.94-2.06-.94 2.06-2.06.94z\"/><path d=\"M17.41 7.96l-1.37-1.37c-.4-.4-.92-.59-1.43-.59-.52 0-1.04.2-1.43.59L10.3 9.45l-7.72 7.72c-.78.78-.78 2.05 0 2.83L4 21.41c.39.39.9.59 1.41.59.51 0 1.02-.2 1.41-.59l7.78-7.78 2.81-2.81c.8-.78.8-2.07 0-2.86zM5.41 20L4 18.59l7.72-7.72 1.47 1.35L5.41 20z\"/>\n",
              "  </svg>\n",
              "      </button>\n",
              "      \n",
              "  <style>\n",
              "    .colab-df-container {\n",
              "      display:flex;\n",
              "      flex-wrap:wrap;\n",
              "      gap: 12px;\n",
              "    }\n",
              "\n",
              "    .colab-df-convert {\n",
              "      background-color: #E8F0FE;\n",
              "      border: none;\n",
              "      border-radius: 50%;\n",
              "      cursor: pointer;\n",
              "      display: none;\n",
              "      fill: #1967D2;\n",
              "      height: 32px;\n",
              "      padding: 0 0 0 0;\n",
              "      width: 32px;\n",
              "    }\n",
              "\n",
              "    .colab-df-convert:hover {\n",
              "      background-color: #E2EBFA;\n",
              "      box-shadow: 0px 1px 2px rgba(60, 64, 67, 0.3), 0px 1px 3px 1px rgba(60, 64, 67, 0.15);\n",
              "      fill: #174EA6;\n",
              "    }\n",
              "\n",
              "    [theme=dark] .colab-df-convert {\n",
              "      background-color: #3B4455;\n",
              "      fill: #D2E3FC;\n",
              "    }\n",
              "\n",
              "    [theme=dark] .colab-df-convert:hover {\n",
              "      background-color: #434B5C;\n",
              "      box-shadow: 0px 1px 3px 1px rgba(0, 0, 0, 0.15);\n",
              "      filter: drop-shadow(0px 1px 2px rgba(0, 0, 0, 0.3));\n",
              "      fill: #FFFFFF;\n",
              "    }\n",
              "  </style>\n",
              "\n",
              "      <script>\n",
              "        const buttonEl =\n",
              "          document.querySelector('#df-a99e355b-f8fb-40e7-ae04-0099d27281ae button.colab-df-convert');\n",
              "        buttonEl.style.display =\n",
              "          google.colab.kernel.accessAllowed ? 'block' : 'none';\n",
              "\n",
              "        async function convertToInteractive(key) {\n",
              "          const element = document.querySelector('#df-a99e355b-f8fb-40e7-ae04-0099d27281ae');\n",
              "          const dataTable =\n",
              "            await google.colab.kernel.invokeFunction('convertToInteractive',\n",
              "                                                     [key], {});\n",
              "          if (!dataTable) return;\n",
              "\n",
              "          const docLinkHtml = 'Like what you see? Visit the ' +\n",
              "            '<a target=\"_blank\" href=https://colab.research.google.com/notebooks/data_table.ipynb>data table notebook</a>'\n",
              "            + ' to learn more about interactive tables.';\n",
              "          element.innerHTML = '';\n",
              "          dataTable['output_type'] = 'display_data';\n",
              "          await google.colab.output.renderOutput(dataTable, element);\n",
              "          const docLink = document.createElement('div');\n",
              "          docLink.innerHTML = docLinkHtml;\n",
              "          element.appendChild(docLink);\n",
              "        }\n",
              "      </script>\n",
              "    </div>\n",
              "  </div>\n",
              "  "
            ],
            "text/plain": [
              "  FoldID     EventID  ...                                                seq Bound\n",
              "0      A  seq_1_peak  ...  ATTACTTGCATGACGATCGTTGGTCGGCTCTTAACCCGGCGTTTAG...     0\n",
              "1      A  seq_2_peak  ...  ACTCATATCGGACAATAATGCAGGTCACCGCCCTTACAAAACATAA...     0\n",
              "2      A  seq_3_peak  ...  CTTCCGTCCACCATACGGTCTCTTTATACAAAGCGGGGCGCAATAT...     0\n",
              "3      A  seq_4_peak  ...  CTCCAAGGACAAATCATTGAAACATGAGAGCCTCTGGCTATCTGCG...     0\n",
              "4      A  seq_5_peak  ...  AAACGTTATTAAGTACTTCACGTTTCAAAACAATGGTGACGTTTTT...     0\n",
              "\n",
              "[5 rows x 5 columns]"
            ]
          },
          "metadata": {},
          "execution_count": 5
        }
      ]
    },
    {
      "cell_type": "markdown",
      "source": [
        "need to print lines 1 to 4 (0 is heading) of JASPAR file\n"
      ],
      "metadata": {
        "id": "jmrZyoNz3pb0"
      }
    },
    {
      "cell_type": "code",
      "source": [
        "import numpy as np\n",
        "from pathlib import Path\n",
        "\n",
        "\n",
        "def read_pfm_jaspar(filepath_):\n",
        "  with open(Path(filepath_)) as f:\n",
        "    lines = f.readlines()\n",
        "\n",
        "  a = []\n",
        "  for i in range(1,5,1):\n",
        "    b = list(lines[i].split()[2:-1])\n",
        "    a.append(b)\n",
        "  a = np.array(a,dtype=float)\n",
        "  return a\n",
        "\n",
        "pfm = read_pfm_jaspar('/content/MA0003.4.jaspar')\n",
        "pfm"
      ],
      "metadata": {
        "colab": {
          "base_uri": "https://localhost:8080/"
        },
        "id": "SOp4cJKj3wIh",
        "outputId": "16552919-5fd3-45a2-d9a9-994d9198804c"
      },
      "execution_count": null,
      "outputs": [
        {
          "output_type": "execute_result",
          "data": {
            "text/plain": [
              "array([[ 4335.,  2763.,  2842.,  1088.,   280.,   116.,   278.,   530.,\n",
              "        13567.,   186.,   154.,  1221.,  4220.,  5204.],\n",
              "       [ 4092.,  4620.,  2634.,  3615., 15321., 15351.,  1173., 13536.,\n",
              "          739.,   217.,   234.,  9445.,  4783.,  3915.],\n",
              "       [ 4072.,  3374.,  3791.,  9961.,   187.,   212.,   750.,  1406.,\n",
              "         1229., 15432., 15422.,  4098.,  3051.,  3841.],\n",
              "       [ 3469.,  5211.,  6701.,  1304.,   180.,   289., 13767.,   496.,\n",
              "          433.,   133.,   158.,  1204.,  3914.,  3008.]])"
            ]
          },
          "metadata": {},
          "execution_count": 6
        }
      ]
    },
    {
      "cell_type": "code",
      "source": [
        "%cd /content/drive/MyDrive/BTech Proj/Data/MA0003.4"
      ],
      "metadata": {
        "colab": {
          "base_uri": "https://localhost:8080/"
        },
        "id": "E8_C0aV2VZHk",
        "outputId": "ab18b5c0-a19b-47fd-d833-62524e9ee720"
      },
      "execution_count": null,
      "outputs": [
        {
          "output_type": "stream",
          "name": "stdout",
          "text": [
            "/content/drive/MyDrive/BTech Proj/Data/MA0003.4\n"
          ]
        }
      ]
    },
    {
      "cell_type": "code",
      "source": [
        "print(pfm.shape)\n",
        "print(type(pfm))"
      ],
      "metadata": {
        "colab": {
          "base_uri": "https://localhost:8080/"
        },
        "id": "Vk4FiQc35DyL",
        "outputId": "d23da0a5-4ce8-4ea8-d58e-bd174f8791f6"
      },
      "execution_count": null,
      "outputs": [
        {
          "output_type": "stream",
          "name": "stdout",
          "text": [
            "(4, 14)\n",
            "<class 'numpy.ndarray'>\n"
          ]
        }
      ]
    },
    {
      "cell_type": "code",
      "execution_count": null,
      "metadata": {
        "colab": {
          "base_uri": "https://localhost:8080/"
        },
        "id": "Eow9l32xinT9",
        "outputId": "dcbfa35c-50eb-4fe7-96ec-2bfadfd5e092"
      },
      "outputs": [
        {
          "output_type": "stream",
          "name": "stdout",
          "text": [
            "[[ 4335.  2763.  2842.  1088.   280.   116.   278.   530. 13567.   186.\n",
            "    154.  1221.  4220.  5204.]\n",
            " [ 4092.  4620.  2634.  3615. 15321. 15351.  1173. 13536.   739.   217.\n",
            "    234.  9445.  4783.  3915.]\n",
            " [ 4072.  3374.  3791.  9961.   187.   212.   750.  1406.  1229. 15432.\n",
            "  15422.  4098.  3051.  3841.]\n",
            " [ 3469.  5211.  6701.  1304.   180.   289. 13767.   496.   433.   133.\n",
            "    158.  1204.  3914.  3008.]]\n"
          ]
        }
      ],
      "source": [
        "import copy\n",
        "ppm = copy.deepcopy(pfm)\n",
        "print(ppm)"
      ]
    },
    {
      "cell_type": "code",
      "execution_count": null,
      "metadata": {
        "id": "nU3tIC1lisey"
      },
      "outputs": [],
      "source": [
        "def convert_pfm_to_ppm(pfm):\n",
        "  for i in range(pfm.shape[1]):\n",
        "    sum = 0\n",
        "    for j in range(pfm.shape[0]):\n",
        "      sum+= pfm[j][i] \n",
        "    for j in range(pfm.shape[0]):\n",
        "      prob = float(pfm[j][i]/sum)\n",
        "      ppm[j][i] = float(prob)\n",
        "  return(ppm)\n",
        "  "
      ]
    },
    {
      "cell_type": "code",
      "execution_count": null,
      "metadata": {
        "id": "rUG5gXarix8E"
      },
      "outputs": [],
      "source": [
        "p1=['A','C','G','T']\n",
        "str1=''\n",
        "def ppm_to_motif(ppm):\n",
        "  motif = []\n",
        "  mot=[]\n",
        "  for i in range(ppm.shape[1]):\n",
        "    arr = []\n",
        "    for j in range(ppm.shape[0]):\n",
        "      arr.append(float(ppm[j][i]))\n",
        "    choice = np.random.choice(p1,p=arr) #motif is generated here\n",
        "    mot.append(choice)\n",
        "  \n",
        "  return (''.join(mot))\n",
        "  #return choice"
      ]
    },
    {
      "cell_type": "code",
      "execution_count": null,
      "metadata": {
        "colab": {
          "base_uri": "https://localhost:8080/"
        },
        "id": "gzsS956oi3iM",
        "outputId": "fd345d0d-3069-42a3-9fbb-5137ff772a8b"
      },
      "outputs": [
        {
          "output_type": "stream",
          "name": "stdout",
          "text": [
            "[[0.27148046 0.17303357 0.17798096 0.06813627 0.01753507 0.00726453\n",
            "  0.01740982 0.03319138 0.84963677 0.0116483  0.00964429 0.07646543\n",
            "  0.26427856 0.3259018 ]\n",
            " [0.25626253 0.28932866 0.16495491 0.22639028 0.95948146 0.96136022\n",
            "  0.07345942 0.84769539 0.04628006 0.01358968 0.01465431 0.59149549\n",
            "  0.29953657 0.24517786]\n",
            " [0.25501002 0.2112976  0.23741232 0.62381012 0.01171092 0.01327655\n",
            "  0.04696894 0.0880511  0.07696643 0.96643287 0.96580661 0.25663828\n",
            "  0.19106964 0.24054359]\n",
            " [0.21724699 0.32634018 0.4196518  0.08166333 0.01127255 0.0180987\n",
            "  0.86216182 0.03106212 0.02711673 0.00832916 0.00989479 0.0754008\n",
            "  0.24511523 0.18837675]]\n"
          ]
        }
      ],
      "source": [
        "ppm = convert_pfm_to_ppm(pfm)\n",
        "print(ppm)\n"
      ]
    },
    {
      "cell_type": "code",
      "execution_count": null,
      "metadata": {
        "colab": {
          "base_uri": "https://localhost:8080/"
        },
        "id": "VijbH7abi7Eo",
        "outputId": "e4ba5b55-b0fa-4b0a-b991-ab6f67b97a0d"
      },
      "outputs": [
        {
          "output_type": "stream",
          "name": "stdout",
          "text": [
            "ATGGCCTAAGGGTA\n"
          ]
        }
      ],
      "source": [
        "motif= ppm_to_motif(ppm)\n",
        "print(motif)"
      ]
    },
    {
      "cell_type": "code",
      "execution_count": null,
      "metadata": {
        "colab": {
          "base_uri": "https://localhost:8080/"
        },
        "id": "D04pNdOrTqmM",
        "outputId": "9c6000fc-a04c-4708-f01a-fa5670e66ce7"
      },
      "outputs": [
        {
          "output_type": "stream",
          "name": "stdout",
          "text": [
            "ATGGCCTCACGCGA\n",
            "GGAGCCTCAGGTGA\n",
            "CCGGCCTCAGGCAT\n",
            "ACACGCTCAGGGGG\n",
            "ATTGCCTTAGGACG\n",
            "ACTGCCACAGGACA\n",
            "GTGGCCCCAGGCGA\n",
            "TCTGCCTCAGGCCA\n",
            "GCTTCCTCAGGGAT\n",
            "CAGTCCTCAGGCCA\n",
            "GTGGCCTCAGGGAT\n",
            "GACGCCTCAGGCTA\n",
            "TGCTCCTCAGGGCA\n",
            "ATGGCCTGAGGCAA\n",
            "CCTACCTCAGGGCT\n",
            "GGAGCCTCAGGGAG\n",
            "TTTGCCTCAGGGCC\n",
            "AATGCCTCAGGCCA\n",
            "GTTGCCTCCGGTGG\n",
            "GGCCCCTCAGGGAG\n",
            "CGGCCCTCAGGGTC\n",
            "GGGCCCTCAGGCCT\n",
            "TTTCCCACAGGCTT\n",
            "ACTTCCTTAGGGTA\n",
            "GCTGCCCCAGGGTG\n",
            "GGATCCGAACGTCC\n",
            "GTTCCCTCTGGCTC\n",
            "ATGACCTCGGGAAC\n",
            "CTTCCTTCAGGCTT\n",
            "GTTGCCTCAGGGAC\n",
            "CGCGCCTCTGGGGA\n",
            "TTCCCCTCAGGCGA\n",
            "GACGCCTCAGGCCG\n",
            "CGAGCCTCAAGTAC\n",
            "AGTGCCTCAGGCCC\n",
            "GTCGCCGCAGGCAG\n",
            "TGTGCCTCAGACTC\n",
            "ACAGCCTCGGGCCG\n",
            "GCCGCCTCAGGGCA\n",
            "ACACCCTCAGGCTA\n",
            "TTCGCCTCGGGCAG\n",
            "TAACCCTCAGGATG\n",
            "ACTGCCTCAGGCAC\n",
            "CCAGCTTGAGGGGG\n",
            "GCGGCTCCAGGCCC\n",
            "TGTCCCTCCGGGAT\n",
            "TCTCCCTCAGGCTA\n",
            "ACTTCCTCAGGCAA\n",
            "ACAGCCTCAGGCCA\n",
            "CCACCCTCAGGCCT\n"
          ]
        }
      ],
      "source": [
        "for i in range(50):\n",
        "  motif=ppm_to_motif(ppm)\n",
        "  print(motif)"
      ]
    },
    {
      "cell_type": "markdown",
      "source": [
        "implanting motifs in 2 files - df_mixed_motif , df_motif_train "
      ],
      "metadata": {
        "id": "1sAKK3e48uxj"
      }
    },
    {
      "cell_type": "code",
      "source": [
        "#print(list(df_motif_train['seq']))"
      ],
      "metadata": {
        "id": "1AGYF9nPGp-p"
      },
      "execution_count": null,
      "outputs": []
    },
    {
      "cell_type": "code",
      "execution_count": null,
      "metadata": {
        "id": "XfaIIeELjAO6"
      },
      "outputs": [],
      "source": [
        "def non_motif_create(df1,df2): #to implant a  motif in a non motif file -> 1. motif file, 2. mixed file \n",
        "  mot=[]\n",
        "  l1=[]\n",
        "  l2=[]\n",
        "  for i in range(0,len(df1)):\n",
        "    motif = ppm_to_motif(ppm)\n",
        "    mot.append(motif)\n",
        "    index=random.randint(0,len(df1[i])-1) #0 to 300 \n",
        "    l1.append(index)\n",
        "    df1[i]=df1[i][:index] + str(motif) + df1[i][index:]\n",
        "    \n",
        "    index2=np.random.choice(len(df2[i]))\n",
        "    l2.append(index2)\n",
        "    df2[i]=df2[i][:index2] + str(motif) + df2[i][index2:]\n",
        "    #print(index)\n",
        "    #print(df1[i])\n",
        "    #print(mot)\n",
        "  return l1,l2,df1,df2,mot #l1, l2 to store the index"
      ]
    },
    {
      "cell_type": "code",
      "source": [
        "l1,l2,df_motif_train['seq'],df_mixed_motif['seq'],mot=non_motif_create(list(df_motif_train['seq']),list(df_mixed_motif['seq']))"
      ],
      "metadata": {
        "id": "LWDFj7Po9vVg"
      },
      "execution_count": null,
      "outputs": []
    },
    {
      "cell_type": "code",
      "execution_count": null,
      "metadata": {
        "colab": {
          "base_uri": "https://localhost:8080/"
        },
        "id": "WRfqiPVZ7enD",
        "outputId": "8117b216-f248-42da-8d7a-e5a71b3d5c97"
      },
      "outputs": [
        {
          "output_type": "execute_result",
          "data": {
            "text/plain": [
              "1000"
            ]
          },
          "metadata": {},
          "execution_count": 18
        }
      ],
      "source": [
        "len(l1)"
      ]
    },
    {
      "cell_type": "code",
      "execution_count": null,
      "metadata": {
        "colab": {
          "base_uri": "https://localhost:8080/"
        },
        "id": "9ipT2FTurD-x",
        "outputId": "873bfab1-7923-4925-dd40-f1b5d028a107"
      },
      "outputs": [
        {
          "output_type": "execute_result",
          "data": {
            "text/plain": [
              "314"
            ]
          },
          "metadata": {},
          "execution_count": 19
        }
      ],
      "source": [
        "len(df_motif_train['seq'][0])"
      ]
    },
    {
      "cell_type": "code",
      "source": [
        "df_motif_train['start_index'] = l1\n",
        "df_mixed_motif['start_index'] = l2\n",
        "df_motif_train['Bound']=df_motif_train['Bound'].astype('int32').replace(0,1)\n",
        "df_mixed_motif['Bound']=df_mixed_motif['Bound'].astype('int32').replace(0,1)"
      ],
      "metadata": {
        "id": "AXQuRrUsHcj9"
      },
      "execution_count": null,
      "outputs": []
    },
    {
      "cell_type": "code",
      "source": [
        "df_mixed_motif['Bound'].dtype\n",
        "df_mixed_motif.head()"
      ],
      "metadata": {
        "colab": {
          "base_uri": "https://localhost:8080/",
          "height": 206
        },
        "id": "mafLV4DxH8Q2",
        "outputId": "f0fd9b2f-eb43-4b77-db9b-2dccb7a85c7a"
      },
      "execution_count": null,
      "outputs": [
        {
          "output_type": "execute_result",
          "data": {
            "text/html": [
              "\n",
              "  <div id=\"df-07bc69e7-01db-44b3-b396-d609ac2bf9ff\">\n",
              "    <div class=\"colab-df-container\">\n",
              "      <div>\n",
              "<style scoped>\n",
              "    .dataframe tbody tr th:only-of-type {\n",
              "        vertical-align: middle;\n",
              "    }\n",
              "\n",
              "    .dataframe tbody tr th {\n",
              "        vertical-align: top;\n",
              "    }\n",
              "\n",
              "    .dataframe thead th {\n",
              "        text-align: right;\n",
              "    }\n",
              "</style>\n",
              "<table border=\"1\" class=\"dataframe\">\n",
              "  <thead>\n",
              "    <tr style=\"text-align: right;\">\n",
              "      <th></th>\n",
              "      <th>FoldID</th>\n",
              "      <th>EventID</th>\n",
              "      <th>start_index</th>\n",
              "      <th>seq</th>\n",
              "      <th>Bound</th>\n",
              "    </tr>\n",
              "  </thead>\n",
              "  <tbody>\n",
              "    <tr>\n",
              "      <th>0</th>\n",
              "      <td>A</td>\n",
              "      <td>seq_1_peak</td>\n",
              "      <td>246</td>\n",
              "      <td>CTAGTGGGTGGGTCTGATCAAGAGCAGCATCCTAGTAGATATCTCT...</td>\n",
              "      <td>1</td>\n",
              "    </tr>\n",
              "    <tr>\n",
              "      <th>1</th>\n",
              "      <td>A</td>\n",
              "      <td>seq_2_peak</td>\n",
              "      <td>107</td>\n",
              "      <td>CGGGAACGAAGCTGCTATATCGTAAGAGCGCGCATTAGCTCAAGCT...</td>\n",
              "      <td>1</td>\n",
              "    </tr>\n",
              "    <tr>\n",
              "      <th>2</th>\n",
              "      <td>A</td>\n",
              "      <td>seq_3_peak</td>\n",
              "      <td>111</td>\n",
              "      <td>AGCGCCGACGGTTCGCAACCCTATGGTTGCGGTCATGAGCTCAAAT...</td>\n",
              "      <td>1</td>\n",
              "    </tr>\n",
              "    <tr>\n",
              "      <th>3</th>\n",
              "      <td>A</td>\n",
              "      <td>seq_4_peak</td>\n",
              "      <td>161</td>\n",
              "      <td>CGCACTATCTTCTGGCCCCACGAGTGGAATTTAAGGGTTTGATCTA...</td>\n",
              "      <td>1</td>\n",
              "    </tr>\n",
              "    <tr>\n",
              "      <th>4</th>\n",
              "      <td>A</td>\n",
              "      <td>seq_5_peak</td>\n",
              "      <td>87</td>\n",
              "      <td>TCTACCTTAAAGCCTTGTAGAACGCACGCACCTGGGGCAATTGGTA...</td>\n",
              "      <td>1</td>\n",
              "    </tr>\n",
              "  </tbody>\n",
              "</table>\n",
              "</div>\n",
              "      <button class=\"colab-df-convert\" onclick=\"convertToInteractive('df-07bc69e7-01db-44b3-b396-d609ac2bf9ff')\"\n",
              "              title=\"Convert this dataframe to an interactive table.\"\n",
              "              style=\"display:none;\">\n",
              "        \n",
              "  <svg xmlns=\"http://www.w3.org/2000/svg\" height=\"24px\"viewBox=\"0 0 24 24\"\n",
              "       width=\"24px\">\n",
              "    <path d=\"M0 0h24v24H0V0z\" fill=\"none\"/>\n",
              "    <path d=\"M18.56 5.44l.94 2.06.94-2.06 2.06-.94-2.06-.94-.94-2.06-.94 2.06-2.06.94zm-11 1L8.5 8.5l.94-2.06 2.06-.94-2.06-.94L8.5 2.5l-.94 2.06-2.06.94zm10 10l.94 2.06.94-2.06 2.06-.94-2.06-.94-.94-2.06-.94 2.06-2.06.94z\"/><path d=\"M17.41 7.96l-1.37-1.37c-.4-.4-.92-.59-1.43-.59-.52 0-1.04.2-1.43.59L10.3 9.45l-7.72 7.72c-.78.78-.78 2.05 0 2.83L4 21.41c.39.39.9.59 1.41.59.51 0 1.02-.2 1.41-.59l7.78-7.78 2.81-2.81c.8-.78.8-2.07 0-2.86zM5.41 20L4 18.59l7.72-7.72 1.47 1.35L5.41 20z\"/>\n",
              "  </svg>\n",
              "      </button>\n",
              "      \n",
              "  <style>\n",
              "    .colab-df-container {\n",
              "      display:flex;\n",
              "      flex-wrap:wrap;\n",
              "      gap: 12px;\n",
              "    }\n",
              "\n",
              "    .colab-df-convert {\n",
              "      background-color: #E8F0FE;\n",
              "      border: none;\n",
              "      border-radius: 50%;\n",
              "      cursor: pointer;\n",
              "      display: none;\n",
              "      fill: #1967D2;\n",
              "      height: 32px;\n",
              "      padding: 0 0 0 0;\n",
              "      width: 32px;\n",
              "    }\n",
              "\n",
              "    .colab-df-convert:hover {\n",
              "      background-color: #E2EBFA;\n",
              "      box-shadow: 0px 1px 2px rgba(60, 64, 67, 0.3), 0px 1px 3px 1px rgba(60, 64, 67, 0.15);\n",
              "      fill: #174EA6;\n",
              "    }\n",
              "\n",
              "    [theme=dark] .colab-df-convert {\n",
              "      background-color: #3B4455;\n",
              "      fill: #D2E3FC;\n",
              "    }\n",
              "\n",
              "    [theme=dark] .colab-df-convert:hover {\n",
              "      background-color: #434B5C;\n",
              "      box-shadow: 0px 1px 3px 1px rgba(0, 0, 0, 0.15);\n",
              "      filter: drop-shadow(0px 1px 2px rgba(0, 0, 0, 0.3));\n",
              "      fill: #FFFFFF;\n",
              "    }\n",
              "  </style>\n",
              "\n",
              "      <script>\n",
              "        const buttonEl =\n",
              "          document.querySelector('#df-07bc69e7-01db-44b3-b396-d609ac2bf9ff button.colab-df-convert');\n",
              "        buttonEl.style.display =\n",
              "          google.colab.kernel.accessAllowed ? 'block' : 'none';\n",
              "\n",
              "        async function convertToInteractive(key) {\n",
              "          const element = document.querySelector('#df-07bc69e7-01db-44b3-b396-d609ac2bf9ff');\n",
              "          const dataTable =\n",
              "            await google.colab.kernel.invokeFunction('convertToInteractive',\n",
              "                                                     [key], {});\n",
              "          if (!dataTable) return;\n",
              "\n",
              "          const docLinkHtml = 'Like what you see? Visit the ' +\n",
              "            '<a target=\"_blank\" href=https://colab.research.google.com/notebooks/data_table.ipynb>data table notebook</a>'\n",
              "            + ' to learn more about interactive tables.';\n",
              "          element.innerHTML = '';\n",
              "          dataTable['output_type'] = 'display_data';\n",
              "          await google.colab.output.renderOutput(dataTable, element);\n",
              "          const docLink = document.createElement('div');\n",
              "          docLink.innerHTML = docLinkHtml;\n",
              "          element.appendChild(docLink);\n",
              "        }\n",
              "      </script>\n",
              "    </div>\n",
              "  </div>\n",
              "  "
            ],
            "text/plain": [
              "  FoldID     EventID  ...                                                seq Bound\n",
              "0      A  seq_1_peak  ...  CTAGTGGGTGGGTCTGATCAAGAGCAGCATCCTAGTAGATATCTCT...     1\n",
              "1      A  seq_2_peak  ...  CGGGAACGAAGCTGCTATATCGTAAGAGCGCGCATTAGCTCAAGCT...     1\n",
              "2      A  seq_3_peak  ...  AGCGCCGACGGTTCGCAACCCTATGGTTGCGGTCATGAGCTCAAAT...     1\n",
              "3      A  seq_4_peak  ...  CGCACTATCTTCTGGCCCCACGAGTGGAATTTAAGGGTTTGATCTA...     1\n",
              "4      A  seq_5_peak  ...  TCTACCTTAAAGCCTTGTAGAACGCACGCACCTGGGGCAATTGGTA...     1\n",
              "\n",
              "[5 rows x 5 columns]"
            ]
          },
          "metadata": {},
          "execution_count": 21
        }
      ]
    },
    {
      "cell_type": "code",
      "source": [
        "df_motif_train.head()"
      ],
      "metadata": {
        "colab": {
          "base_uri": "https://localhost:8080/",
          "height": 206
        },
        "id": "1oCgAUpkIk-p",
        "outputId": "15da1d18-f41e-4b57-b84f-ef3e2cb0239f"
      },
      "execution_count": null,
      "outputs": [
        {
          "output_type": "execute_result",
          "data": {
            "text/html": [
              "\n",
              "  <div id=\"df-d2381b2d-b56d-4159-a2b8-6c37d9ad4253\">\n",
              "    <div class=\"colab-df-container\">\n",
              "      <div>\n",
              "<style scoped>\n",
              "    .dataframe tbody tr th:only-of-type {\n",
              "        vertical-align: middle;\n",
              "    }\n",
              "\n",
              "    .dataframe tbody tr th {\n",
              "        vertical-align: top;\n",
              "    }\n",
              "\n",
              "    .dataframe thead th {\n",
              "        text-align: right;\n",
              "    }\n",
              "</style>\n",
              "<table border=\"1\" class=\"dataframe\">\n",
              "  <thead>\n",
              "    <tr style=\"text-align: right;\">\n",
              "      <th></th>\n",
              "      <th>FoldID</th>\n",
              "      <th>EventID</th>\n",
              "      <th>start_index</th>\n",
              "      <th>seq</th>\n",
              "      <th>Bound</th>\n",
              "    </tr>\n",
              "  </thead>\n",
              "  <tbody>\n",
              "    <tr>\n",
              "      <th>0</th>\n",
              "      <td>A</td>\n",
              "      <td>seq_1_peak</td>\n",
              "      <td>168</td>\n",
              "      <td>ACTTCTGTGTAACCTCGTTGGGAGATGTGCGTGTTGGGGCTGGAGG...</td>\n",
              "      <td>1</td>\n",
              "    </tr>\n",
              "    <tr>\n",
              "      <th>1</th>\n",
              "      <td>A</td>\n",
              "      <td>seq_2_peak</td>\n",
              "      <td>154</td>\n",
              "      <td>TCCGTAGGTGGTTATCTCGCGTAGTCTACAGGAAATATTACTGAGA...</td>\n",
              "      <td>1</td>\n",
              "    </tr>\n",
              "    <tr>\n",
              "      <th>2</th>\n",
              "      <td>A</td>\n",
              "      <td>seq_3_peak</td>\n",
              "      <td>234</td>\n",
              "      <td>GCCTACACAAGGGGACTCGATAATACTGCTCAACGTCAAGCCATCC...</td>\n",
              "      <td>1</td>\n",
              "    </tr>\n",
              "    <tr>\n",
              "      <th>3</th>\n",
              "      <td>A</td>\n",
              "      <td>seq_4_peak</td>\n",
              "      <td>210</td>\n",
              "      <td>AGAGTGTCCGTTCCTGCGTTATTTCGGTAGCATCCCTATCTGAGTC...</td>\n",
              "      <td>1</td>\n",
              "    </tr>\n",
              "    <tr>\n",
              "      <th>4</th>\n",
              "      <td>A</td>\n",
              "      <td>seq_5_peak</td>\n",
              "      <td>64</td>\n",
              "      <td>TTTTCGCGTTCGCTAACTCCTGAAAGACAAGGCCATAAAGATTACC...</td>\n",
              "      <td>1</td>\n",
              "    </tr>\n",
              "  </tbody>\n",
              "</table>\n",
              "</div>\n",
              "      <button class=\"colab-df-convert\" onclick=\"convertToInteractive('df-d2381b2d-b56d-4159-a2b8-6c37d9ad4253')\"\n",
              "              title=\"Convert this dataframe to an interactive table.\"\n",
              "              style=\"display:none;\">\n",
              "        \n",
              "  <svg xmlns=\"http://www.w3.org/2000/svg\" height=\"24px\"viewBox=\"0 0 24 24\"\n",
              "       width=\"24px\">\n",
              "    <path d=\"M0 0h24v24H0V0z\" fill=\"none\"/>\n",
              "    <path d=\"M18.56 5.44l.94 2.06.94-2.06 2.06-.94-2.06-.94-.94-2.06-.94 2.06-2.06.94zm-11 1L8.5 8.5l.94-2.06 2.06-.94-2.06-.94L8.5 2.5l-.94 2.06-2.06.94zm10 10l.94 2.06.94-2.06 2.06-.94-2.06-.94-.94-2.06-.94 2.06-2.06.94z\"/><path d=\"M17.41 7.96l-1.37-1.37c-.4-.4-.92-.59-1.43-.59-.52 0-1.04.2-1.43.59L10.3 9.45l-7.72 7.72c-.78.78-.78 2.05 0 2.83L4 21.41c.39.39.9.59 1.41.59.51 0 1.02-.2 1.41-.59l7.78-7.78 2.81-2.81c.8-.78.8-2.07 0-2.86zM5.41 20L4 18.59l7.72-7.72 1.47 1.35L5.41 20z\"/>\n",
              "  </svg>\n",
              "      </button>\n",
              "      \n",
              "  <style>\n",
              "    .colab-df-container {\n",
              "      display:flex;\n",
              "      flex-wrap:wrap;\n",
              "      gap: 12px;\n",
              "    }\n",
              "\n",
              "    .colab-df-convert {\n",
              "      background-color: #E8F0FE;\n",
              "      border: none;\n",
              "      border-radius: 50%;\n",
              "      cursor: pointer;\n",
              "      display: none;\n",
              "      fill: #1967D2;\n",
              "      height: 32px;\n",
              "      padding: 0 0 0 0;\n",
              "      width: 32px;\n",
              "    }\n",
              "\n",
              "    .colab-df-convert:hover {\n",
              "      background-color: #E2EBFA;\n",
              "      box-shadow: 0px 1px 2px rgba(60, 64, 67, 0.3), 0px 1px 3px 1px rgba(60, 64, 67, 0.15);\n",
              "      fill: #174EA6;\n",
              "    }\n",
              "\n",
              "    [theme=dark] .colab-df-convert {\n",
              "      background-color: #3B4455;\n",
              "      fill: #D2E3FC;\n",
              "    }\n",
              "\n",
              "    [theme=dark] .colab-df-convert:hover {\n",
              "      background-color: #434B5C;\n",
              "      box-shadow: 0px 1px 3px 1px rgba(0, 0, 0, 0.15);\n",
              "      filter: drop-shadow(0px 1px 2px rgba(0, 0, 0, 0.3));\n",
              "      fill: #FFFFFF;\n",
              "    }\n",
              "  </style>\n",
              "\n",
              "      <script>\n",
              "        const buttonEl =\n",
              "          document.querySelector('#df-d2381b2d-b56d-4159-a2b8-6c37d9ad4253 button.colab-df-convert');\n",
              "        buttonEl.style.display =\n",
              "          google.colab.kernel.accessAllowed ? 'block' : 'none';\n",
              "\n",
              "        async function convertToInteractive(key) {\n",
              "          const element = document.querySelector('#df-d2381b2d-b56d-4159-a2b8-6c37d9ad4253');\n",
              "          const dataTable =\n",
              "            await google.colab.kernel.invokeFunction('convertToInteractive',\n",
              "                                                     [key], {});\n",
              "          if (!dataTable) return;\n",
              "\n",
              "          const docLinkHtml = 'Like what you see? Visit the ' +\n",
              "            '<a target=\"_blank\" href=https://colab.research.google.com/notebooks/data_table.ipynb>data table notebook</a>'\n",
              "            + ' to learn more about interactive tables.';\n",
              "          element.innerHTML = '';\n",
              "          dataTable['output_type'] = 'display_data';\n",
              "          await google.colab.output.renderOutput(dataTable, element);\n",
              "          const docLink = document.createElement('div');\n",
              "          docLink.innerHTML = docLinkHtml;\n",
              "          element.appendChild(docLink);\n",
              "        }\n",
              "      </script>\n",
              "    </div>\n",
              "  </div>\n",
              "  "
            ],
            "text/plain": [
              "  FoldID     EventID  ...                                                seq Bound\n",
              "0      A  seq_1_peak  ...  ACTTCTGTGTAACCTCGTTGGGAGATGTGCGTGTTGGGGCTGGAGG...     1\n",
              "1      A  seq_2_peak  ...  TCCGTAGGTGGTTATCTCGCGTAGTCTACAGGAAATATTACTGAGA...     1\n",
              "2      A  seq_3_peak  ...  GCCTACACAAGGGGACTCGATAATACTGCTCAACGTCAAGCCATCC...     1\n",
              "3      A  seq_4_peak  ...  AGAGTGTCCGTTCCTGCGTTATTTCGGTAGCATCCCTATCTGAGTC...     1\n",
              "4      A  seq_5_peak  ...  TTTTCGCGTTCGCTAACTCCTGAAAGACAAGGCCATAAAGATTACC...     1\n",
              "\n",
              "[5 rows x 5 columns]"
            ]
          },
          "metadata": {},
          "execution_count": 22
        }
      ]
    },
    {
      "cell_type": "markdown",
      "source": [
        "Creating mixed file using df_mixed_motif and df_mixed_nonmotif"
      ],
      "metadata": {
        "id": "KbHqj3ZHAl9G"
      }
    },
    {
      "cell_type": "code",
      "source": [
        "df_mixed_motif=df_mixed_motif.append(df_mixed_nonmotif,ignore_index=True)"
      ],
      "metadata": {
        "id": "wenKEWhFGqp_"
      },
      "execution_count": null,
      "outputs": []
    },
    {
      "cell_type": "code",
      "source": [
        "df_mixed=df_mixed_motif.sample(frac=1).reset_index(drop=True)\n",
        "df_mixed"
      ],
      "metadata": {
        "colab": {
          "base_uri": "https://localhost:8080/",
          "height": 424
        },
        "id": "asxSY2LRJIft",
        "outputId": "3e3f012b-1c1a-45ee-99a8-fbb7e48f61de"
      },
      "execution_count": null,
      "outputs": [
        {
          "output_type": "execute_result",
          "data": {
            "text/html": [
              "\n",
              "  <div id=\"df-73ff79d5-2935-44d6-82d4-dc6983bbc524\">\n",
              "    <div class=\"colab-df-container\">\n",
              "      <div>\n",
              "<style scoped>\n",
              "    .dataframe tbody tr th:only-of-type {\n",
              "        vertical-align: middle;\n",
              "    }\n",
              "\n",
              "    .dataframe tbody tr th {\n",
              "        vertical-align: top;\n",
              "    }\n",
              "\n",
              "    .dataframe thead th {\n",
              "        text-align: right;\n",
              "    }\n",
              "</style>\n",
              "<table border=\"1\" class=\"dataframe\">\n",
              "  <thead>\n",
              "    <tr style=\"text-align: right;\">\n",
              "      <th></th>\n",
              "      <th>FoldID</th>\n",
              "      <th>EventID</th>\n",
              "      <th>start_index</th>\n",
              "      <th>seq</th>\n",
              "      <th>Bound</th>\n",
              "    </tr>\n",
              "  </thead>\n",
              "  <tbody>\n",
              "    <tr>\n",
              "      <th>0</th>\n",
              "      <td>A</td>\n",
              "      <td>seq_546_peak</td>\n",
              "      <td>-5</td>\n",
              "      <td>CAGCTCCGCACGTACCACCCGTGCCCGTTCACGCCTATGTTCTTTG...</td>\n",
              "      <td>0</td>\n",
              "    </tr>\n",
              "    <tr>\n",
              "      <th>1</th>\n",
              "      <td>A</td>\n",
              "      <td>seq_841_peak</td>\n",
              "      <td>-5</td>\n",
              "      <td>TGTCGGCAAGGTGCATGTTTGCGCTGGCAAAACCGAATTCTAACTT...</td>\n",
              "      <td>0</td>\n",
              "    </tr>\n",
              "    <tr>\n",
              "      <th>2</th>\n",
              "      <td>A</td>\n",
              "      <td>seq_751_peak</td>\n",
              "      <td>183</td>\n",
              "      <td>GGGTCGATCCTGATTAAGATCCAGATAAGGCGCACGCAATACTATC...</td>\n",
              "      <td>1</td>\n",
              "    </tr>\n",
              "    <tr>\n",
              "      <th>3</th>\n",
              "      <td>A</td>\n",
              "      <td>seq_344_peak</td>\n",
              "      <td>15</td>\n",
              "      <td>TAGACGATTTGGATTCGAGCCTCAGGCACTAGAGACCGTGTATTCC...</td>\n",
              "      <td>1</td>\n",
              "    </tr>\n",
              "    <tr>\n",
              "      <th>4</th>\n",
              "      <td>A</td>\n",
              "      <td>seq_10_peak</td>\n",
              "      <td>51</td>\n",
              "      <td>ACCGGTAACGTATGCCACGAAAATCACATACACCGAAGTTTGTACA...</td>\n",
              "      <td>1</td>\n",
              "    </tr>\n",
              "    <tr>\n",
              "      <th>...</th>\n",
              "      <td>...</td>\n",
              "      <td>...</td>\n",
              "      <td>...</td>\n",
              "      <td>...</td>\n",
              "      <td>...</td>\n",
              "    </tr>\n",
              "    <tr>\n",
              "      <th>1995</th>\n",
              "      <td>A</td>\n",
              "      <td>seq_901_peak</td>\n",
              "      <td>260</td>\n",
              "      <td>AATAGCCTCCTCCATCCCGAATGACGGCTCTAACGTAATGATTCGC...</td>\n",
              "      <td>1</td>\n",
              "    </tr>\n",
              "    <tr>\n",
              "      <th>1996</th>\n",
              "      <td>A</td>\n",
              "      <td>seq_733_peak</td>\n",
              "      <td>120</td>\n",
              "      <td>TAAAGTTGATTGTATCGAGCACTCCCCAGACGGTGAATTACTCCAC...</td>\n",
              "      <td>1</td>\n",
              "    </tr>\n",
              "    <tr>\n",
              "      <th>1997</th>\n",
              "      <td>A</td>\n",
              "      <td>seq_354_peak</td>\n",
              "      <td>-5</td>\n",
              "      <td>ATTATGACTGAGGATTCGCAGCGTGGAGAAAAGTGCATATACTCCA...</td>\n",
              "      <td>0</td>\n",
              "    </tr>\n",
              "    <tr>\n",
              "      <th>1998</th>\n",
              "      <td>A</td>\n",
              "      <td>seq_23_peak</td>\n",
              "      <td>-5</td>\n",
              "      <td>ACCCCAGAGGGCTTCGGGTTTCTTGTTGAGCAACCTTATTACCGGT...</td>\n",
              "      <td>0</td>\n",
              "    </tr>\n",
              "    <tr>\n",
              "      <th>1999</th>\n",
              "      <td>A</td>\n",
              "      <td>seq_337_peak</td>\n",
              "      <td>201</td>\n",
              "      <td>GACCGTTTTGATTTTAGATTCTCCGTTTCTCGCTACATGCCGTGCG...</td>\n",
              "      <td>1</td>\n",
              "    </tr>\n",
              "  </tbody>\n",
              "</table>\n",
              "<p>2000 rows × 5 columns</p>\n",
              "</div>\n",
              "      <button class=\"colab-df-convert\" onclick=\"convertToInteractive('df-73ff79d5-2935-44d6-82d4-dc6983bbc524')\"\n",
              "              title=\"Convert this dataframe to an interactive table.\"\n",
              "              style=\"display:none;\">\n",
              "        \n",
              "  <svg xmlns=\"http://www.w3.org/2000/svg\" height=\"24px\"viewBox=\"0 0 24 24\"\n",
              "       width=\"24px\">\n",
              "    <path d=\"M0 0h24v24H0V0z\" fill=\"none\"/>\n",
              "    <path d=\"M18.56 5.44l.94 2.06.94-2.06 2.06-.94-2.06-.94-.94-2.06-.94 2.06-2.06.94zm-11 1L8.5 8.5l.94-2.06 2.06-.94-2.06-.94L8.5 2.5l-.94 2.06-2.06.94zm10 10l.94 2.06.94-2.06 2.06-.94-2.06-.94-.94-2.06-.94 2.06-2.06.94z\"/><path d=\"M17.41 7.96l-1.37-1.37c-.4-.4-.92-.59-1.43-.59-.52 0-1.04.2-1.43.59L10.3 9.45l-7.72 7.72c-.78.78-.78 2.05 0 2.83L4 21.41c.39.39.9.59 1.41.59.51 0 1.02-.2 1.41-.59l7.78-7.78 2.81-2.81c.8-.78.8-2.07 0-2.86zM5.41 20L4 18.59l7.72-7.72 1.47 1.35L5.41 20z\"/>\n",
              "  </svg>\n",
              "      </button>\n",
              "      \n",
              "  <style>\n",
              "    .colab-df-container {\n",
              "      display:flex;\n",
              "      flex-wrap:wrap;\n",
              "      gap: 12px;\n",
              "    }\n",
              "\n",
              "    .colab-df-convert {\n",
              "      background-color: #E8F0FE;\n",
              "      border: none;\n",
              "      border-radius: 50%;\n",
              "      cursor: pointer;\n",
              "      display: none;\n",
              "      fill: #1967D2;\n",
              "      height: 32px;\n",
              "      padding: 0 0 0 0;\n",
              "      width: 32px;\n",
              "    }\n",
              "\n",
              "    .colab-df-convert:hover {\n",
              "      background-color: #E2EBFA;\n",
              "      box-shadow: 0px 1px 2px rgba(60, 64, 67, 0.3), 0px 1px 3px 1px rgba(60, 64, 67, 0.15);\n",
              "      fill: #174EA6;\n",
              "    }\n",
              "\n",
              "    [theme=dark] .colab-df-convert {\n",
              "      background-color: #3B4455;\n",
              "      fill: #D2E3FC;\n",
              "    }\n",
              "\n",
              "    [theme=dark] .colab-df-convert:hover {\n",
              "      background-color: #434B5C;\n",
              "      box-shadow: 0px 1px 3px 1px rgba(0, 0, 0, 0.15);\n",
              "      filter: drop-shadow(0px 1px 2px rgba(0, 0, 0, 0.3));\n",
              "      fill: #FFFFFF;\n",
              "    }\n",
              "  </style>\n",
              "\n",
              "      <script>\n",
              "        const buttonEl =\n",
              "          document.querySelector('#df-73ff79d5-2935-44d6-82d4-dc6983bbc524 button.colab-df-convert');\n",
              "        buttonEl.style.display =\n",
              "          google.colab.kernel.accessAllowed ? 'block' : 'none';\n",
              "\n",
              "        async function convertToInteractive(key) {\n",
              "          const element = document.querySelector('#df-73ff79d5-2935-44d6-82d4-dc6983bbc524');\n",
              "          const dataTable =\n",
              "            await google.colab.kernel.invokeFunction('convertToInteractive',\n",
              "                                                     [key], {});\n",
              "          if (!dataTable) return;\n",
              "\n",
              "          const docLinkHtml = 'Like what you see? Visit the ' +\n",
              "            '<a target=\"_blank\" href=https://colab.research.google.com/notebooks/data_table.ipynb>data table notebook</a>'\n",
              "            + ' to learn more about interactive tables.';\n",
              "          element.innerHTML = '';\n",
              "          dataTable['output_type'] = 'display_data';\n",
              "          await google.colab.output.renderOutput(dataTable, element);\n",
              "          const docLink = document.createElement('div');\n",
              "          docLink.innerHTML = docLinkHtml;\n",
              "          element.appendChild(docLink);\n",
              "        }\n",
              "      </script>\n",
              "    </div>\n",
              "  </div>\n",
              "  "
            ],
            "text/plain": [
              "     FoldID  ... Bound\n",
              "0         A  ...     0\n",
              "1         A  ...     0\n",
              "2         A  ...     1\n",
              "3         A  ...     1\n",
              "4         A  ...     1\n",
              "...     ...  ...   ...\n",
              "1995      A  ...     1\n",
              "1996      A  ...     1\n",
              "1997      A  ...     0\n",
              "1998      A  ...     0\n",
              "1999      A  ...     1\n",
              "\n",
              "[2000 rows x 5 columns]"
            ]
          },
          "metadata": {},
          "execution_count": 24
        }
      ]
    },
    {
      "cell_type": "markdown",
      "metadata": {
        "id": "EOHmk1AS2Wel"
      },
      "source": [
        "Saving all 3 files : df_mixed, df_motif_train, df_nonmotif_train"
      ]
    },
    {
      "cell_type": "code",
      "source": [
        "%pwd"
      ],
      "metadata": {
        "colab": {
          "base_uri": "https://localhost:8080/",
          "height": 36
        },
        "id": "RPq_FuKxWlVY",
        "outputId": "d54e2a75-949f-42e9-9a35-0685670cb69e"
      },
      "execution_count": null,
      "outputs": [
        {
          "output_type": "execute_result",
          "data": {
            "application/vnd.google.colaboratory.intrinsic+json": {
              "type": "string"
            },
            "text/plain": [
              "'/content/drive/My Drive/BTech Proj/Data/MA0003.4'"
            ]
          },
          "metadata": {},
          "execution_count": 25
        }
      ]
    },
    {
      "cell_type": "code",
      "source": [
        "df_mixed.to_csv('/content/drive/MyDrive/BTech Proj/Data/MA0003.4/mixed.txt',index=None, sep='\\t')\n",
        "df_motif_train.to_csv('/content/drive/MyDrive/BTech Proj/Data/MA0003.4/motif.txt',index=None, sep='\\t')\n",
        "df_nonmotif_train.to_csv('/content/drive/MyDrive/BTech Proj/Data/MA0003.4/nonmotif.txt',index=None, sep='\\t')"
      ],
      "metadata": {
        "id": "Uf1tA2-2JbQG"
      },
      "execution_count": null,
      "outputs": []
    },
    {
      "cell_type": "markdown",
      "metadata": {
        "id": "q5Vw0bum-zSg"
      },
      "source": [
        "now running through markov models \n"
      ]
    },
    {
      "cell_type": "code",
      "source": [
        "import math\n",
        "a = math.log(1)\n",
        "a"
      ],
      "metadata": {
        "colab": {
          "base_uri": "https://localhost:8080/"
        },
        "id": "MWYTNqSIKEYV",
        "outputId": "78f724b8-de83-4033-923b-ea4ce3567053"
      },
      "execution_count": null,
      "outputs": [
        {
          "output_type": "execute_result",
          "data": {
            "text/plain": [
              "0.0"
            ]
          },
          "metadata": {},
          "execution_count": 27
        }
      ]
    },
    {
      "cell_type": "code",
      "source": [
        "pd.reset_option('all')"
      ],
      "metadata": {
        "colab": {
          "base_uri": "https://localhost:8080/"
        },
        "id": "f4zAfxSs9Apb",
        "outputId": "0fe6615a-16a4-469e-90da-501ac340a27f"
      },
      "execution_count": null,
      "outputs": [
        {
          "output_type": "stream",
          "name": "stdout",
          "text": [
            "\n",
            ": boolean\n",
            "    use_inf_as_null had been deprecated and will be removed in a future\n",
            "    version. Use `use_inf_as_na` instead.\n",
            "\n"
          ]
        },
        {
          "output_type": "stream",
          "name": "stderr",
          "text": [
            "/usr/local/lib/python3.7/dist-packages/pandas/_config/config.py:622: FutureWarning: \n",
            ": boolean\n",
            "    use_inf_as_null had been deprecated and will be removed in a future\n",
            "    version. Use `use_inf_as_na` instead.\n",
            "\n",
            "  warnings.warn(d.msg, FutureWarning)\n"
          ]
        }
      ]
    },
    {
      "cell_type": "code",
      "source": [
        "from sklearn.metrics import roc_auc_score\n",
        "from sklearn.metrics import roc_curve, auc\n",
        "from sklearn.metrics import accuracy_score\n",
        "import pandas as pd \n",
        "dict2, dict3 = {}, {}\n",
        "\n",
        "def markov_model_motif(df1):\n",
        "    \"\"\"\n",
        "    for a second degree motif markov model \n",
        "    returns dict2, dict3: count of the appearance of eg: A->C and eg: AC->T occuring\n",
        "    \"\"\"\n",
        "    \n",
        "    for j in range(len(df1)):\n",
        "      seq = df1[j]\n",
        "      for i in range(len(seq)-var): #dict2\n",
        "        if seq[i:i+var] not in dict2: \n",
        "          dict2[seq[i:i+var]] = 1\n",
        "        else: \n",
        "          dict2[seq[i:i+var]] += 1\n",
        "\n",
        "      for i in range(len(seq)): #dict3\n",
        "        if seq[i:i+var+1] not in dict3: \n",
        "          dict3[seq[i:i+var+1]] = 1\n",
        "        else: \n",
        "          dict3[seq[i:i+var+1]] += 1\n",
        "\n",
        "    #print('dict2: ', dict2)\n",
        "    #print('dict3: ', dict3)\n",
        "      \n",
        "    return dict2, dict3\n",
        "\n",
        "\n",
        "def motif_score1(dict2, dict3, seq):\n",
        "    \"\"\"\n",
        "    returns the score of th markov model motif \n",
        "    \"\"\"\n",
        "    s = seq\n",
        "    import math\n",
        "\n",
        "    a=0\n",
        "    sum = 0\n",
        "    score = 1\n",
        "    for i in range(0, len(s)):\n",
        "      if s[i : i + var+1] not in dict3:\n",
        "        #print(\"HELLOOOOOOOOOOOO\", s[i : i + var+1])\n",
        "        dict3[s[i : i + var+1]] = 1\n",
        "      score = score * dict3[s[i : i + var+1]]\n",
        "    #print('dict2-',dict2)\n",
        "    #print('dict3-',dict3)\n",
        "    return math.log(score),dict2,dict3\n",
        "\n",
        "def motif_score(dict2, dict3, seq):\n",
        "    \"\"\"\n",
        "    returns the score of th markov model motif \n",
        "    \"\"\"\n",
        "    s = seq\n",
        "    import math\n",
        "    score = 0\n",
        "    ep=0.01\n",
        "    for i in range(0, len(s)):\n",
        "      if s[i : i + var+1] not in dict3:\n",
        "        #print(\"HELLOOOOOOOOOOOO\", s[i : i + var+1])\n",
        "        dict3[s[i : i + var+1]] = ep\n",
        "      else:\n",
        "        dict3[s[i : i + var+1]] = dict3[s[i : i + var+1]] + ep\n",
        "      score = score + math.log(dict3[s[i : i + var+1]])\n",
        "\n",
        "    #print('dict2-',dict2)\n",
        "    #print('dict3-',dict3)\n",
        "    return score,dict2,dict3\n",
        "\n",
        "def train(df,df2,df4):\n",
        "  \"\"\"\n",
        "  df = for the motif markov model - seq \n",
        "  df2 = for the non motif markov model  - seq \n",
        "\n",
        "  df4 = the test file - pass the entire thing = seq + bound \n",
        "\n",
        "  Returns: the final dictionaries\n",
        "  \"\"\"\n",
        "    # df1 = df['seq']\n",
        "   \n",
        "  dict2, dict3 = markov_model_motif(df)  # markov model for the motif.txt file\n",
        "  # print(\"####################################################\")\n",
        "  \n",
        "  dict2_non, dict3_non = markov_model_motif(df2)  # markov model for the non motif file\n",
        "  # now, testing each sequence and predicting their class using the 2 dictionaries\n",
        "\n",
        "  for i in range(len(df4)):\n",
        "      list1 = []\n",
        "      list2 = []\n",
        "  for i in range(len(df4)):\n",
        "      seq = df4[\"seq\"][i]\n",
        "      \"\"\"\n",
        "      1. score it using ddict3\n",
        "      2. score it using dict3_non \n",
        "      3. whichever score higher, give value of that class \n",
        "      4. add seq, class to a list, append that list to the df \n",
        "      5. write this file \n",
        "      \"\"\"\n",
        "\n",
        "      score_motif,dict5,dict6 = motif_score(dict2, dict3, seq)\n",
        "      score_nonmotif,dict7,dict8 = motif_score(dict2_non, dict3_non, seq)\n",
        "      #print('for sequence: ', seq, 'score motif: ', score_motif, 'score_nonmotif: ', score_nonmotif)\n",
        "      list1.append(score_motif-score_nonmotif)\n",
        "      if score_motif > score_nonmotif:\n",
        "          list2.append(1)\n",
        "      else:\n",
        "          list2.append(0)\n",
        "  df4[\"predicted\"] = list2\n",
        "  df4[\"log odd score\"] = list1\n",
        "  display(df4)\n",
        "  if score_motif > score_nonmotif:\n",
        "    return dict6\n",
        "  else:\n",
        "    return dict8\n",
        "\n",
        "  #print('dict2 - motif: ', dict5)\n",
        "  #print('dict3 - motif : ', dict6)\n",
        " \n",
        "    \n",
        "\n",
        "def accuracy(df4):\n",
        "    y_true = df4[\"Bound\"]\n",
        "    y_pred = df4[\"predicted\"]\n",
        "    return accuracy_score(y_true, y_pred)\n",
        "\n",
        "colnames2 = [\"FoldID\", \"EventID\", \"start_index\", \"seq\", \"Bound\"]\n",
        "colnames = [\"FoldID\", \"EventID\", \"seq\", \"Bound\"]"
      ],
      "metadata": {
        "id": "BrD2NzAeDG7Y"
      },
      "execution_count": null,
      "outputs": []
    },
    {
      "cell_type": "code",
      "source": [
        "def true_false_positive(threshold_vector, y_test):\n",
        "    true_positive = np.equal(threshold_vector, 1) & np.equal(y_test, 1)\n",
        "    true_negative = np.equal(threshold_vector, 0) & np.equal(y_test, 0)\n",
        "    false_positive = np.equal(threshold_vector, 1) & np.equal(y_test, 0)\n",
        "    false_negative = np.equal(threshold_vector, 0) & np.equal(y_test, 1)\n",
        "\n",
        "    tpr = true_positive.sum() / (true_positive.sum() + false_negative.sum())\n",
        "    fpr = false_positive.sum() / (false_positive.sum() + true_negative.sum())\n",
        "\n",
        "    return tpr, fpr\n",
        "\n",
        "\n",
        "def roc_from_scratch(probabilities, y_test, partitions=100):\n",
        "    roc = np.array([])\n",
        "    for i in range(partitions + 1):\n",
        "        \n",
        "        threshold_vector = np.greater_equal(probabilities, i / partitions).astype(int)\n",
        "        tpr, fpr = true_false_positive(threshold_vector, y_test)\n",
        "        roc = np.append(roc, [fpr, tpr])\n",
        "        \n",
        "    return roc.reshape(-1, 2)\n",
        "\n",
        "def roc_2(y_true,y_pred):\n",
        "  #plt.figure(figsize=(15,7))\n",
        "  ROC = roc_from_scratch(y_pred,y_true,partitions=10)\n",
        "  plt.scatter(ROC[:,0],ROC[:,1],color='#0F9D58',s=100)\n",
        "  plt.title('ROC Curve',fontsize=20)\n",
        "  plt.xlabel('False Positive Rate',fontsize=16)\n",
        "  plt.ylabel('True Positive Rate',fontsize=16)"
      ],
      "metadata": {
        "id": "waVlCTc-sFlj"
      },
      "execution_count": null,
      "outputs": []
    },
    {
      "cell_type": "code",
      "source": [
        "def create_triangle(tpr_0,tpr_1,fpr_0,fpr_1):\n",
        "    plt.plot([tpr_0,tpr_1],[fpr_0,fpr_1], 'k-', lw=2,color='#4285F4')\n",
        "    plt.plot([tpr_0,tpr_1],[fpr_1,fpr_1], 'k-', lw=2,color='#4285F4')\n",
        "    plt.plot([tpr_0,tpr_0],[fpr_0,fpr_1], 'k-', lw=2,color='#4285F4')\n",
        "    #print('area: ',(tpr_0-tpr_1)*(fpr_0-fpr_1)/2)\n",
        "\n",
        "def create_rectangle(tpr_0,fpr_0):\n",
        "    plt.plot([tpr_0,tpr_0],[fpr_0,0], 'k-', lw=2,color='#4285F4')\n",
        "\n",
        "\n",
        "def auc_2(y_pred,y_true):\n",
        "  for i in range(30):\n",
        "    ROC = roc_from_scratch(y_pred,y_true, partitions=5 + 2 * i)\n",
        "    fpr, tpr = ROC[:, 0], ROC[:, 1]\n",
        "    plt.scatter(fpr, tpr, color=\"#0F9D58\", s=100)\n",
        "    plt.plot([1, 0], [0, 0], \"k-\", lw=2, color=\"#4285F4\")\n",
        "    plt.title(\"ROC Curve\", fontsize=20)\n",
        "    plt.xlabel(\"False Positive Rate\", fontsize=16)\n",
        "    plt.ylabel(\"True Positive Rate\", fontsize=16)\n",
        "    for j in range(5 + 2 * i):\n",
        "        create_rectangle(fpr[j], tpr[j])\n",
        "    for k in range(5 + 2 * i):\n",
        "        create_triangle(fpr[k], fpr[k + 1], tpr[k], tpr[k + 1])"
      ],
      "metadata": {
        "id": "tQi7gkRCs5uQ"
      },
      "execution_count": null,
      "outputs": []
    },
    {
      "cell_type": "code",
      "metadata": {
        "id": "sKz0CLdJYzM8"
      },
      "source": [
        "from sklearn.metrics import accuracy_score\n",
        "from sklearn.metrics import confusion_matrix\n",
        "import matplotlib.pyplot as plt\n",
        "import seaborn as sns \n",
        "from sklearn.metrics import roc_auc_score\n",
        "from sklearn.metrics import roc_curve, auc\n",
        "from sklearn.metrics import precision_recall_curve\n",
        "import pylab as pl\n",
        "from sklearn import metrics\n",
        "\n",
        "def acc_score(df4):\n",
        "  y_true=df4['Bound']\n",
        "  y_pred=df4['predicted']\n",
        "  accuracy_score(y_true, y_pred)\n",
        "  return y_true, y_pred\n",
        "\n",
        "\n",
        "\n",
        "def confusion_mat(y_true,y_pred):\n",
        "  array3=confusion_matrix(y_true, y_pred)\n",
        "\n",
        "  plt.figure(figsize=(5,5))   \n",
        "  sns.heatmap(array3, annot=True,fmt='.2f',cmap=\"PuBu\")\n",
        "  plt.title('Confusion Matrix',fontsize=15,color='red')\n",
        "  plt.xlabel('Predicted')\n",
        "  plt.ylabel('True')\n",
        "  plt.show()\n",
        "\n",
        "\n",
        "def auc_calculate(df4):\n",
        "  y_log_score = df4['log odd score']\n",
        "  precision, recall, thresholds = precision_recall_curve(y_true, y_log_score)\n",
        "  area = auc(recall, precision)\n",
        "  print(\"Area Under Curve\")\n",
        "  print(area)\n",
        "\n",
        "  pl.clf()\n",
        "  pl.plot(recall, precision, label='Precision-Recall curve')\n",
        "  pl.xlabel('Recall')\n",
        "  pl.ylabel('Precision')\n",
        "  pl.ylim([0.0, 1.0])\n",
        "  pl.xlim([0.0, 1.0])\n",
        "  pl.title('Precision-Recall example: AUC=%0.2f' % area)\n",
        "  pl.legend(loc=\"lower left\")\n",
        "  pl.show()\n",
        "\n",
        "def roc_calculate(df4):\n",
        "  y_log_score = df4['log odd score']\n",
        "  fpr,tpr, thresh = metrics.roc_curve(y_true, y_log_score)\n",
        "  auc = metrics.auc(fpr, tpr)\n",
        "  print(\"AUC:\", auc)\n",
        "\n",
        "  plt.plot(fpr, tpr, label='ROC curve (area = %.2f)' %auc)\n",
        "  plt.plot([0, 1], [0, 1], linestyle='--', lw=2, color='r', label='Random guess')\n",
        "  plt.title('ROC curve')\n",
        "  plt.xlabel('False Positive Rate')\n",
        "  plt.ylabel('True Positive Rate')\n",
        "  plt.grid()\n",
        "  plt.legend()\n",
        "  plt.show()"
      ],
      "execution_count": null,
      "outputs": []
    },
    {
      "cell_type": "code",
      "source": [
        "%cd /content/drive/MyDrive/BTech Proj/Data/MA0003.4"
      ],
      "metadata": {
        "colab": {
          "base_uri": "https://localhost:8080/"
        },
        "id": "GNvjiT9pVOZp",
        "outputId": "0e9a3972-9553-4e97-eb26-5958cf8a0e31"
      },
      "execution_count": null,
      "outputs": [
        {
          "output_type": "stream",
          "name": "stdout",
          "text": [
            "/content/drive/.shortcut-targets-by-id/1YDh995khf5BdNqiTF5p2C-HLdTxiQZX-/BTech Proj/Data/MA0003.4\n"
          ]
        }
      ]
    },
    {
      "cell_type": "code",
      "source": [
        "#df =  motif \n",
        "#df2 = non motif\n",
        "#df4 = mixed test file\n",
        "df = pd.read_csv(\"/content/drive/MyDrive/BTech Proj/Data/MA0003.4/motif.txt\", delimiter=\"\\t\")\n",
        "\n",
        "df2 = pd.read_csv(\"/content/drive/MyDrive/BTech Proj/Data/MA0003.4/nonmotif.txt\", delimiter=\"\\t\")\n",
        "df1 = list(df[\"seq\"])\n",
        "df3 = list(df2[\"seq\"])\n",
        "#df1.reset_index(drop=True, inplace=True)\n",
        "#df3.reset_index(drop=True, inplace=True)\n",
        "df4 = pd.read_csv(\"/content/drive/MyDrive/BTech Proj/Data/MA0003.4/mixed.txt\", delimiter=\"\\t\")\n",
        "\n",
        "#df4=df4.rename(columns=df4.iloc[0]).drop(df4.index[0])\n",
        "#df4 = df4.sample(frac=1).reset_index(drop=True)"
      ],
      "metadata": {
        "id": "IQVNgXr5GED0"
      },
      "execution_count": null,
      "outputs": []
    },
    {
      "cell_type": "code",
      "source": [
        "df4.head(10)"
      ],
      "metadata": {
        "colab": {
          "base_uri": "https://localhost:8080/",
          "height": 363
        },
        "id": "sMkdH0wBKnCD",
        "outputId": "385b2840-b438-44d8-8185-f67da0a99809"
      },
      "execution_count": null,
      "outputs": [
        {
          "output_type": "execute_result",
          "data": {
            "text/html": [
              "\n",
              "  <div id=\"df-cd8e52cf-deb9-4a3b-bd66-a04ee9709e1a\">\n",
              "    <div class=\"colab-df-container\">\n",
              "      <div>\n",
              "<style scoped>\n",
              "    .dataframe tbody tr th:only-of-type {\n",
              "        vertical-align: middle;\n",
              "    }\n",
              "\n",
              "    .dataframe tbody tr th {\n",
              "        vertical-align: top;\n",
              "    }\n",
              "\n",
              "    .dataframe thead th {\n",
              "        text-align: right;\n",
              "    }\n",
              "</style>\n",
              "<table border=\"1\" class=\"dataframe\">\n",
              "  <thead>\n",
              "    <tr style=\"text-align: right;\">\n",
              "      <th></th>\n",
              "      <th>FoldID</th>\n",
              "      <th>EventID</th>\n",
              "      <th>start_index</th>\n",
              "      <th>seq</th>\n",
              "      <th>Bound</th>\n",
              "    </tr>\n",
              "  </thead>\n",
              "  <tbody>\n",
              "    <tr>\n",
              "      <th>0</th>\n",
              "      <td>A</td>\n",
              "      <td>seq_548_peak</td>\n",
              "      <td>129</td>\n",
              "      <td>CAGACTCTCTTCAGGTCCCTGGGGTGTTGAGCTAGAGCTTGTGTAC...</td>\n",
              "      <td>1</td>\n",
              "    </tr>\n",
              "    <tr>\n",
              "      <th>1</th>\n",
              "      <td>A</td>\n",
              "      <td>seq_718_peak</td>\n",
              "      <td>-5</td>\n",
              "      <td>CAATAACACTGTTATGAGTGGGCTATCCCTTCAAGGGAAACGCTGT...</td>\n",
              "      <td>0</td>\n",
              "    </tr>\n",
              "    <tr>\n",
              "      <th>2</th>\n",
              "      <td>A</td>\n",
              "      <td>seq_185_peak</td>\n",
              "      <td>-5</td>\n",
              "      <td>AAGTTGTTTGTAATCTGGTATTGATATTTTGACCGATGAAAGATGT...</td>\n",
              "      <td>0</td>\n",
              "    </tr>\n",
              "    <tr>\n",
              "      <th>3</th>\n",
              "      <td>A</td>\n",
              "      <td>seq_646_peak</td>\n",
              "      <td>-5</td>\n",
              "      <td>ACGACTAGGCGCTTTAGCGACAGGGACGAGTATATGAGTAACAGCC...</td>\n",
              "      <td>0</td>\n",
              "    </tr>\n",
              "    <tr>\n",
              "      <th>4</th>\n",
              "      <td>A</td>\n",
              "      <td>seq_958_peak</td>\n",
              "      <td>247</td>\n",
              "      <td>TGGTTATGTCGAGAAAACCTACGGACTTTCGGCGAGGAGAAGATCT...</td>\n",
              "      <td>1</td>\n",
              "    </tr>\n",
              "    <tr>\n",
              "      <th>5</th>\n",
              "      <td>A</td>\n",
              "      <td>seq_793_peak</td>\n",
              "      <td>261</td>\n",
              "      <td>CTGTCCTTAATCTGGGCCCCCCTTAGTTCGAGCACAGTAATGTCGT...</td>\n",
              "      <td>1</td>\n",
              "    </tr>\n",
              "    <tr>\n",
              "      <th>6</th>\n",
              "      <td>A</td>\n",
              "      <td>seq_869_peak</td>\n",
              "      <td>279</td>\n",
              "      <td>ATCCTACTCTTCGCACACATAGATTCAATTTTGATCAGTGCCACCC...</td>\n",
              "      <td>1</td>\n",
              "    </tr>\n",
              "    <tr>\n",
              "      <th>7</th>\n",
              "      <td>A</td>\n",
              "      <td>seq_806_peak</td>\n",
              "      <td>-5</td>\n",
              "      <td>CGTTTGTGCAAGTAACTCTTGTATAGACCTAGTCAGCCTCCCTTCA...</td>\n",
              "      <td>0</td>\n",
              "    </tr>\n",
              "    <tr>\n",
              "      <th>8</th>\n",
              "      <td>A</td>\n",
              "      <td>seq_7_peak</td>\n",
              "      <td>118</td>\n",
              "      <td>CCTCAGAAGATCTGTAACGATATGATCCGCCCAGTTCATACGTGTA...</td>\n",
              "      <td>1</td>\n",
              "    </tr>\n",
              "    <tr>\n",
              "      <th>9</th>\n",
              "      <td>A</td>\n",
              "      <td>seq_152_peak</td>\n",
              "      <td>-5</td>\n",
              "      <td>AGCTTACAAATAATCAGCATCCGCTGGACTTGTGTTTTGTCCAGGA...</td>\n",
              "      <td>0</td>\n",
              "    </tr>\n",
              "  </tbody>\n",
              "</table>\n",
              "</div>\n",
              "      <button class=\"colab-df-convert\" onclick=\"convertToInteractive('df-cd8e52cf-deb9-4a3b-bd66-a04ee9709e1a')\"\n",
              "              title=\"Convert this dataframe to an interactive table.\"\n",
              "              style=\"display:none;\">\n",
              "        \n",
              "  <svg xmlns=\"http://www.w3.org/2000/svg\" height=\"24px\"viewBox=\"0 0 24 24\"\n",
              "       width=\"24px\">\n",
              "    <path d=\"M0 0h24v24H0V0z\" fill=\"none\"/>\n",
              "    <path d=\"M18.56 5.44l.94 2.06.94-2.06 2.06-.94-2.06-.94-.94-2.06-.94 2.06-2.06.94zm-11 1L8.5 8.5l.94-2.06 2.06-.94-2.06-.94L8.5 2.5l-.94 2.06-2.06.94zm10 10l.94 2.06.94-2.06 2.06-.94-2.06-.94-.94-2.06-.94 2.06-2.06.94z\"/><path d=\"M17.41 7.96l-1.37-1.37c-.4-.4-.92-.59-1.43-.59-.52 0-1.04.2-1.43.59L10.3 9.45l-7.72 7.72c-.78.78-.78 2.05 0 2.83L4 21.41c.39.39.9.59 1.41.59.51 0 1.02-.2 1.41-.59l7.78-7.78 2.81-2.81c.8-.78.8-2.07 0-2.86zM5.41 20L4 18.59l7.72-7.72 1.47 1.35L5.41 20z\"/>\n",
              "  </svg>\n",
              "      </button>\n",
              "      \n",
              "  <style>\n",
              "    .colab-df-container {\n",
              "      display:flex;\n",
              "      flex-wrap:wrap;\n",
              "      gap: 12px;\n",
              "    }\n",
              "\n",
              "    .colab-df-convert {\n",
              "      background-color: #E8F0FE;\n",
              "      border: none;\n",
              "      border-radius: 50%;\n",
              "      cursor: pointer;\n",
              "      display: none;\n",
              "      fill: #1967D2;\n",
              "      height: 32px;\n",
              "      padding: 0 0 0 0;\n",
              "      width: 32px;\n",
              "    }\n",
              "\n",
              "    .colab-df-convert:hover {\n",
              "      background-color: #E2EBFA;\n",
              "      box-shadow: 0px 1px 2px rgba(60, 64, 67, 0.3), 0px 1px 3px 1px rgba(60, 64, 67, 0.15);\n",
              "      fill: #174EA6;\n",
              "    }\n",
              "\n",
              "    [theme=dark] .colab-df-convert {\n",
              "      background-color: #3B4455;\n",
              "      fill: #D2E3FC;\n",
              "    }\n",
              "\n",
              "    [theme=dark] .colab-df-convert:hover {\n",
              "      background-color: #434B5C;\n",
              "      box-shadow: 0px 1px 3px 1px rgba(0, 0, 0, 0.15);\n",
              "      filter: drop-shadow(0px 1px 2px rgba(0, 0, 0, 0.3));\n",
              "      fill: #FFFFFF;\n",
              "    }\n",
              "  </style>\n",
              "\n",
              "      <script>\n",
              "        const buttonEl =\n",
              "          document.querySelector('#df-cd8e52cf-deb9-4a3b-bd66-a04ee9709e1a button.colab-df-convert');\n",
              "        buttonEl.style.display =\n",
              "          google.colab.kernel.accessAllowed ? 'block' : 'none';\n",
              "\n",
              "        async function convertToInteractive(key) {\n",
              "          const element = document.querySelector('#df-cd8e52cf-deb9-4a3b-bd66-a04ee9709e1a');\n",
              "          const dataTable =\n",
              "            await google.colab.kernel.invokeFunction('convertToInteractive',\n",
              "                                                     [key], {});\n",
              "          if (!dataTable) return;\n",
              "\n",
              "          const docLinkHtml = 'Like what you see? Visit the ' +\n",
              "            '<a target=\"_blank\" href=https://colab.research.google.com/notebooks/data_table.ipynb>data table notebook</a>'\n",
              "            + ' to learn more about interactive tables.';\n",
              "          element.innerHTML = '';\n",
              "          dataTable['output_type'] = 'display_data';\n",
              "          await google.colab.output.renderOutput(dataTable, element);\n",
              "          const docLink = document.createElement('div');\n",
              "          docLink.innerHTML = docLinkHtml;\n",
              "          element.appendChild(docLink);\n",
              "        }\n",
              "      </script>\n",
              "    </div>\n",
              "  </div>\n",
              "  "
            ],
            "text/plain": [
              "  FoldID  ... Bound\n",
              "0      A  ...     1\n",
              "1      A  ...     0\n",
              "2      A  ...     0\n",
              "3      A  ...     0\n",
              "4      A  ...     1\n",
              "5      A  ...     1\n",
              "6      A  ...     1\n",
              "7      A  ...     0\n",
              "8      A  ...     1\n",
              "9      A  ...     0\n",
              "\n",
              "[10 rows x 5 columns]"
            ]
          },
          "metadata": {},
          "execution_count": 86
        }
      ]
    },
    {
      "cell_type": "code",
      "source": [
        "# cross validation\n",
        "from sklearn.model_selection import KFold\n",
        "\n",
        "motif_seq = df['seq'].to_list()\n",
        "nonmotif_seq = df2['seq'].to_list()\n"
      ],
      "metadata": {
        "id": "F58SA65wGBfC"
      },
      "execution_count": null,
      "outputs": []
    },
    {
      "cell_type": "code",
      "source": [
        "print(\"Len of motif list: \", len(motif_seq))\n",
        "print(\"Len of non motif list: \", len(nonmotif_seq))"
      ],
      "metadata": {
        "colab": {
          "base_uri": "https://localhost:8080/"
        },
        "id": "eC2zLGdvGcwn",
        "outputId": "155c464a-0baa-4cfb-cfd3-58e27fb2bd5f"
      },
      "execution_count": null,
      "outputs": [
        {
          "output_type": "stream",
          "name": "stdout",
          "text": [
            "Len of motif list:  1000\n",
            "Len of non motif list:  1000\n"
          ]
        }
      ]
    },
    {
      "cell_type": "code",
      "source": [
        "X_motifs = motif_seq\n",
        "y_motifs = [1 for i in range(len(motif_seq))]\n",
        "\n",
        "X_nonmotifs = nonmotif_seq\n",
        "y_nonmotifs = [1 for i in range(len(nonmotif_seq))]\n"
      ],
      "metadata": {
        "id": "6dPkQhVbGvg7"
      },
      "execution_count": null,
      "outputs": []
    },
    {
      "cell_type": "code",
      "source": [
        "X_motifs[0:5]"
      ],
      "metadata": {
        "id": "QYgzqokiKwtS",
        "colab": {
          "base_uri": "https://localhost:8080/"
        },
        "outputId": "e71a454f-c4df-4728-d429-3eb00b9694fb"
      },
      "execution_count": null,
      "outputs": [
        {
          "output_type": "execute_result",
          "data": {
            "text/plain": [
              "['ACTTCTGTGTAACCTCGTTGGGAGATGTGCGTGTTGGGGCTGGAGGGTACGAAGTGGTTCCCGTCAAAGAGCTCGACTTGAGAAATTTGCTGCGCTACGAGCAGGTCATTTGACGACGAGATTCCTTACCGTATATAGAACACGAGTGGGCCGTATCTTCCTTGTCTGGCTCCCCCAGGCTATTATGCACCCTCCAGCACAGAAAACTGTCTGACTTAGCTTCTATCAGAGAAGAGGTTAATAAGGTAACCATTCGCGCCTGCATCCCGAGAGGTAAATTTTGAAGAATCTCATAGACGCCCACGGTGAAGCGC',\n",
              " 'TCCGTAGGTGGTTATCTCGCGTAGTCTACAGGAAATATTACTGAGAAATTGATAAATGGCTAGCTGGTTCGGGACCGCACGGTCGACATCCATCCAAGCTGCTGAACCGAATCGGAGGAGGTGAGGTGACTCTGAATGTATGTGTTTAGAGAGTCACGCCTCAGGCTCTAGGATGCATTCTCTCTCACAGGCACCGTATCGATCTGCAAAACATCAGGGGCTAACAGTAGTGGCGTTAATTCGATCGCTTACCGGAGCCCCCCCCAGTGGGTTCGTATGACTGATTGGCCTAAACTGTACCCGAACGTACTCGC',\n",
              " 'GCCTACACAAGGGGACTCGATAATACTGCTCAACGTCAAGCCATCCGTTCATAGTGAGGCACTAGGGATAATTGCGTCGGGGTTACGCTTCTCTACTTCGGCCAGGCAGGGGCCAATGACGACAGGGGCACAGTTTGCCCTGCGAGTAGGGACGTGGGTTAAGCCGTGACGCAGAAGCATTAGGAATGAGCGTGCAGAGCCGGTGAACTCCCTAACAAAACATGCGCCCTAGATTGGGCCTCAGGCCTCATTACGTCCGCGACTGGCTTCCGATGACGCGGCCGTCCTATTACCTAGGCGCTCGAGTAAAGAGA',\n",
              " 'AGAGTGTCCGTTCCTGCGTTATTTCGGTAGCATCCCTATCTGAGTCGATTATAAGTCAGGCGCTTAATAATGGGGGTATATCTTATGTCACTTCGCGAATTATGGCTGCGAATTATGGAGCTTTGAGACCAGACACGGGCCTTGTTCATTAAAAGCGCACGTGCACCCGTCAAAACTCTAGCGCAATTTAGGGGACTACAGTGATGGCTGCTGGCCTCAGGGATTGAATTGTGAGCTTAATTTCACCGCCGAGAAGATCACACGCCCCCCCCGCCTGTGTTTTCGGCGGATAGCCGACAGTTAGTGCAAGTGCG',\n",
              " 'TTTTCGCGTTCGCTAACTCCTGAAAGACAAGGCCATAAAGATTACCGTGCTTGCCAAAGTAGGCTATGCCCGAGGCCCGTCCAGGGGATCCGGTGACAGTATTCATTCCTAGTTACTGGAAGATAGCACAATAGTTAGATGTCTTCATGGACCTTCCGGTCTTAACAACGCGCGCTTACATTCCCACCACTATACAGTTGCTCCCTTATGACCACAATACTGTAACCTAGAACTATTGCACAATCGAGGGCAACGTTAGGAGGCCTAGTCCAGCATCATAGGCGTAGTTATACCAAATTCTGACACCTTGAATA']"
            ]
          },
          "metadata": {},
          "execution_count": 90
        }
      ]
    },
    {
      "cell_type": "code",
      "source": [
        "kf = KFold(n_splits=10)\n",
        "print(kf.get_n_splits(X_motifs))"
      ],
      "metadata": {
        "colab": {
          "base_uri": "https://localhost:8080/"
        },
        "id": "v04BlaAiHfkt",
        "outputId": "06512f90-2e00-4782-e49e-d69bf9221a66"
      },
      "execution_count": null,
      "outputs": [
        {
          "output_type": "stream",
          "name": "stdout",
          "text": [
            "10\n"
          ]
        }
      ]
    },
    {
      "cell_type": "markdown",
      "source": [
        "for motif CV "
      ],
      "metadata": {
        "id": "Zm5K8rGMIwom"
      }
    },
    {
      "cell_type": "code",
      "source": [
        "all_train_index_motif, all_test_index_motif  = [], []\n",
        "all_train_index_nonmotif, all_test_index_nonmotif  = [], []\n",
        "\n",
        "#motif\n",
        "for train_index, test_index in kf.split(X_motifs): \n",
        "  #print(\"TRAIN: \", train_index, \"TEST: \", test_index)\n",
        "  all_train_index_motif.append(train_index)\n",
        "  all_test_index_motif.append(test_index)\n",
        "\n",
        "#nonmotif\n",
        "for train_index, test_index in kf.split(X_nonmotifs): \n",
        "  #print(\"TRAIN: \", train_index, \"TEST: \", test_index)\n",
        "  all_train_index_nonmotif.append(train_index)\n",
        "  all_test_index_nonmotif.append(test_index)\n",
        "\n"
      ],
      "metadata": {
        "id": "EG1v5Sk4H_53"
      },
      "execution_count": null,
      "outputs": []
    },
    {
      "cell_type": "code",
      "source": [
        "print(len(all_train_index_motif[0]))"
      ],
      "metadata": {
        "colab": {
          "base_uri": "https://localhost:8080/"
        },
        "id": "Fz26rUcS4V3n",
        "outputId": "9db6ee3a-1deb-4ff0-f89c-45e1f7589ff7"
      },
      "execution_count": null,
      "outputs": [
        {
          "output_type": "stream",
          "name": "stdout",
          "text": [
            "900\n"
          ]
        }
      ]
    },
    {
      "cell_type": "code",
      "source": [
        "print(len(all_train_index_motif))"
      ],
      "metadata": {
        "colab": {
          "base_uri": "https://localhost:8080/"
        },
        "id": "RijXLPMp4SlO",
        "outputId": "41702418-9b9d-4f4c-c79c-3a609186200d"
      },
      "execution_count": null,
      "outputs": [
        {
          "output_type": "stream",
          "name": "stdout",
          "text": [
            "10\n"
          ]
        }
      ]
    },
    {
      "cell_type": "code",
      "source": [
        "print(len(all_train_index_nonmotif))"
      ],
      "metadata": {
        "colab": {
          "base_uri": "https://localhost:8080/"
        },
        "id": "GQlgqz0NvVGQ",
        "outputId": "adcce5db-7e3d-46f9-ef6b-17633361482e"
      },
      "execution_count": null,
      "outputs": [
        {
          "output_type": "stream",
          "name": "stdout",
          "text": [
            "10\n"
          ]
        }
      ]
    },
    {
      "cell_type": "code",
      "source": [
        "len(all_train_index_nonmotif[0])"
      ],
      "metadata": {
        "colab": {
          "base_uri": "https://localhost:8080/"
        },
        "id": "e0VBywetvbbW",
        "outputId": "44800b38-4e51-4795-f264-f3cd698fc89a"
      },
      "execution_count": null,
      "outputs": [
        {
          "output_type": "execute_result",
          "data": {
            "text/plain": [
              "900"
            ]
          },
          "metadata": {},
          "execution_count": 96
        }
      ]
    },
    {
      "cell_type": "code",
      "source": [
        "len(all_test_index_nonmotif)"
      ],
      "metadata": {
        "colab": {
          "base_uri": "https://localhost:8080/"
        },
        "id": "PA96j-A3v6zd",
        "outputId": "fcd77d1b-352e-4b37-a08d-48b5df51ed1e"
      },
      "execution_count": null,
      "outputs": [
        {
          "output_type": "execute_result",
          "data": {
            "text/plain": [
              "10"
            ]
          },
          "metadata": {},
          "execution_count": 97
        }
      ]
    },
    {
      "cell_type": "code",
      "source": [
        "len(all_test_index_motif[0])"
      ],
      "metadata": {
        "colab": {
          "base_uri": "https://localhost:8080/"
        },
        "id": "wlFiPgEswjcw",
        "outputId": "e6634725-29e9-49d6-8e53-4d149a9df4ad"
      },
      "execution_count": null,
      "outputs": [
        {
          "output_type": "execute_result",
          "data": {
            "text/plain": [
              "100"
            ]
          },
          "metadata": {},
          "execution_count": 98
        }
      ]
    },
    {
      "cell_type": "code",
      "source": [
        "X_nonmotifs[:2]"
      ],
      "metadata": {
        "colab": {
          "base_uri": "https://localhost:8080/"
        },
        "id": "4oS4HTzMNNpJ",
        "outputId": "51e277e7-c360-4927-b32f-54191570055f"
      },
      "execution_count": null,
      "outputs": [
        {
          "output_type": "execute_result",
          "data": {
            "text/plain": [
              "['ATTACTTGCATGACGATCGTTGGTCGGCTCTTAACCCGGCGTTTAGCCTCAATGAACTGCAATCCGTTTCGCCAGTGCCCTGGTCAAGGCAGTTCTTCGTTACTTTCTGTTCTATAATAAGACATTCTTTGGTTGCCGACTAAGTCGAAAGCTCGTCGCACTCAGTTTCGGAACTTTCATAAGGGTTCGTGTGTTGGGTTTTAGTCTAGAGGATGGCCCGAACATCTATCGCGAAAGTGCCAGCAGATTGACTTTTCGTGTTCATCACCTGTAACGCACAGCGATTAGCTCCTTGACCTCTATACATGGAGTCG',\n",
              " 'ACTCATATCGGACAATAATGCAGGTCACCGCCCTTACAAAACATAATCTACATTTGCATTTGACGGCATACGAGCAAGGAGTCAAACACCGTCAGATGTTCCATCTCGTCATTCTGCTGTCGGCATAGATAACAAGTCTAAAGTTGCCTCCCTCTTCACCATTACATCCGTCCGGGCATTGGAGGATGTCATTAATCATAAGTATATTCTATTTTGCTCCTTTTGTAGTGCCCGCAAACTGCCACTGACAACTTGATGGACGACCATGGGTGGTAATGTTTGACCGGCATACCTGTATCCATAGTAACCCTTCT']"
            ]
          },
          "metadata": {},
          "execution_count": 99
        }
      ]
    },
    {
      "cell_type": "code",
      "source": [
        "\n",
        "#for i in range(len(all_test_index_nonmotif[0])): \n",
        "  print(X_nonmotifs[all_test_index_nonmotif[0][i]])\n"
      ],
      "metadata": {
        "colab": {
          "base_uri": "https://localhost:8080/",
          "height": 131
        },
        "id": "usiz7jnfMYN-",
        "outputId": "1973f8e9-aa2c-452b-b080-7fb7bf84337a"
      },
      "execution_count": null,
      "outputs": [
        {
          "output_type": "error",
          "ename": "IndentationError",
          "evalue": "ignored",
          "traceback": [
            "\u001b[0;36m  File \u001b[0;32m\"<ipython-input-100-1283e37cef19>\"\u001b[0;36m, line \u001b[0;32m3\u001b[0m\n\u001b[0;31m    print(X_nonmotifs[all_test_index_nonmotif[0][i]])\u001b[0m\n\u001b[0m    ^\u001b[0m\n\u001b[0;31mIndentationError\u001b[0m\u001b[0;31m:\u001b[0m unexpected indent\n"
          ]
        }
      ]
    },
    {
      "cell_type": "markdown",
      "source": [
        "list containing all the test motif and non motif sequences"
      ],
      "metadata": {
        "id": "FKnP5TAaztwJ"
      }
    },
    {
      "cell_type": "code",
      "source": [
        "for i in range(10):\n",
        "  l_motif=[]\n",
        "  l_nonmotif=[]\n",
        "\n",
        "  motif_seq=[]\n",
        "  for a in all_train_index_motif[i]:\n",
        "    motif_seq.append(X_motifs[a])\n",
        "\n",
        "  nonmotif_seq=[]\n",
        "  for a1 in all_train_index_nonmotif[i]:\n",
        "    nonmotif_seq.append(X_nonmotifs[a1])\n",
        "  \n",
        "\n",
        "  for j in range(len(all_test_index_motif[0])):\n",
        "    test_set_motif=X_motifs\n",
        "    l_motif.append(X_motifs[all_test_index_motif[i][j]])\n",
        "\n",
        "    test_set_nonmotif=X_nonmotifs\n",
        "    l_nonmotif.append(X_nonmotifs[all_test_index_nonmotif[i][j]])\n",
        "\n",
        "  l_1 =[1 for i in range(len(l_motif))]\n",
        "  l_0 =[0 for i in range(len(l_nonmotif))]\n",
        "\n",
        "  df_test= pd.DataFrame(list(zip(l_motif,l_1)),columns=['seq','Bound'])\n",
        "  extra={'seq':l_nonmotif,'Bound':l_0}\n",
        "  df_test= df_test.append(pd.DataFrame(extra))\n",
        "  df_test=df_test.sample(frac=1).reset_index(drop=True)\n",
        "  #print(df_test)\n",
        "\n",
        "  for i1 in range(2,3,1):\n",
        "    print(\"Step: \", i1)\n",
        "    var = i1\n",
        "    dict6 = train(motif_seq,nonmotif_seq,df_test)\n",
        "    print(\"TCT: \",dict6['TCT'])\n",
        "    print(\"CTC: \",dict6['CTC'])\n",
        "    print(\"TCG \",dict6['TCG'])\n",
        "    acc = accuracy(df_test)\n",
        "    print(acc)  \n",
        "    y_true,y_pred = acc_score(df_test)\n",
        "    confusion_mat(y_true,y_pred)\n",
        "    auc_calculate(df_test)\n",
        "    roc_calculate(df_test)"
      ],
      "metadata": {
        "id": "3ux4b_Hpvwcz"
      },
      "execution_count": null,
      "outputs": []
    },
    {
      "cell_type": "code",
      "source": [
        " len(all_train_index_motif)"
      ],
      "metadata": {
        "id": "pv6YyEj09BuG"
      },
      "execution_count": null,
      "outputs": []
    },
    {
      "cell_type": "code",
      "source": [
        "for i in range(10):\n",
        "  ll=[]\n",
        "  for a in all_train_index_motif[i]:\n",
        "    ll.append(X_motifs[a])\n",
        "print(len(ll[0]))"
      ],
      "metadata": {
        "id": "DBBf0QTa6YrU"
      },
      "execution_count": null,
      "outputs": []
    },
    {
      "cell_type": "code",
      "source": [
        "ll=[]\n",
        "for a in all_train_index_motif[0]:\n",
        "  ll.append(X_motifs[a])\n",
        "len(ll)"
      ],
      "metadata": {
        "id": "RAhx3w-a7NwT"
      },
      "execution_count": null,
      "outputs": []
    },
    {
      "cell_type": "markdown",
      "source": [
        "list containing all the test nonmotif sequences"
      ],
      "metadata": {
        "id": "240n7Utrzya8"
      }
    },
    {
      "cell_type": "code",
      "source": [
        "l_nonmotif=[]\n",
        "for i in range(10):\n",
        "  for j in range(len(all_test_index_nonmotif[0])):\n",
        "    test_set_nonmotif=X_nonmotifs\n",
        "    l_nonmotif.append(X_nonmotifs[all_test_index_nonmotif[i][j]])\n",
        "print(len(l_nonmotif))"
      ],
      "metadata": {
        "id": "8ZSNytlUzWu2"
      },
      "execution_count": null,
      "outputs": []
    },
    {
      "cell_type": "code",
      "source": [
        "l_1 =[1 for i in range(len(l_motif))]\n",
        "len(l_1)\n",
        "\n",
        "l_0 =[0 for i in range(len(l_nonmotif))]\n",
        "len(l_0)"
      ],
      "metadata": {
        "id": "qUqWPU5tz1SH"
      },
      "execution_count": null,
      "outputs": []
    },
    {
      "cell_type": "code",
      "source": [
        "df_test= pd.DataFrame(list(zip(l_motif,l_1)),columns=['seq','Bound'])\n",
        "extra={'seq':l_nonmotif,'Bound':l_0}\n",
        "df_test= df_test.append(pd.DataFrame(extra))\n",
        "df_test"
      ],
      "metadata": {
        "id": "00GS_o0X0P0t"
      },
      "execution_count": null,
      "outputs": []
    },
    {
      "cell_type": "code",
      "source": [
        "df_test=df_test.sample(frac=1).reset_index(drop=True)\n",
        "df_test"
      ],
      "metadata": {
        "id": "Aa3ON4S614fS"
      },
      "execution_count": null,
      "outputs": []
    },
    {
      "cell_type": "code",
      "source": [
        "\n",
        "\n",
        "for i in range(2,16,1):\n",
        "  print(\"Step: \", i)\n",
        "  var = i\n",
        "  \n",
        "  dict6 = train(df1,df3,df4)\n",
        "  dict6 = sorted(dict6.items(), key=lambda x: x[1], reverse=True)\n",
        "  print('Printing Dictionary at Step: ', i, )\n",
        "  for j in range(len(dict6)): \n",
        "    max = 0\n",
        "    if len(dict6[j][0])>=var and max<=10:\n",
        "      max+=1\n",
        "      #print(\"Key: \",dict6[j][0], \"Value: \", dict6[j][1])\n",
        "  acc = accuracy()\n",
        "  print(acc)\n",
        "\n",
        "  \n",
        "  y_true,y_pred = acc_score(df4)\n",
        "  confusion_mat(y_true,y_pred)\n",
        "  auc_calculate(df4)\n",
        "  print(\"########################################################################################\")\n"
      ],
      "metadata": {
        "id": "IQZ2xk8WhXN_"
      },
      "execution_count": null,
      "outputs": []
    },
    {
      "cell_type": "code",
      "source": [
        "df4"
      ],
      "metadata": {
        "id": "gNmxg2qoEHfp"
      },
      "execution_count": null,
      "outputs": []
    },
    {
      "cell_type": "code",
      "metadata": {
        "id": "hSb7U3C1embn"
      },
      "source": [
        "df4.dtypes"
      ],
      "execution_count": null,
      "outputs": []
    },
    {
      "cell_type": "code",
      "metadata": {
        "id": "Zr1ciT4mzRCI"
      },
      "source": [
        "df4['predicted'].unique()"
      ],
      "execution_count": null,
      "outputs": []
    },
    {
      "cell_type": "code",
      "metadata": {
        "id": "GgFx4hN9awGl"
      },
      "source": [
        "#from sklearn.metrics import classification_report\n",
        "\n",
        "#target_names = ['nonmotif', 'motif']\n",
        "#print(classification_report(y_true, y_pred, target_names=target_names))"
      ],
      "execution_count": null,
      "outputs": []
    },
    {
      "cell_type": "code",
      "metadata": {
        "id": "rdYf7xHfbH-n"
      },
      "source": [
        ""
      ],
      "execution_count": null,
      "outputs": []
    },
    {
      "cell_type": "code",
      "metadata": {
        "id": "pLyNVvsRgsjN"
      },
      "source": [
        "#from sklearn.metrics import f1_score\n",
        "#f1_score(y_true, y_pred, average=None)"
      ],
      "execution_count": null,
      "outputs": []
    },
    {
      "cell_type": "code",
      "metadata": {
        "id": "cwkyh6_vhDi-"
      },
      "source": [
        "#f1_score(y_true, y_pred, average='weighted')"
      ],
      "execution_count": null,
      "outputs": []
    },
    {
      "cell_type": "code",
      "metadata": {
        "id": "78FYib2ieJpD"
      },
      "source": [
        "len(dict6[0][0])"
      ],
      "execution_count": null,
      "outputs": []
    },
    {
      "cell_type": "code",
      "metadata": {
        "id": "5tpzwmVyiDPW"
      },
      "source": [
        "#area = auc(recall, precision)\n",
        "#print(\"Area Under Curve\")\n",
        "#print(area)"
      ],
      "execution_count": null,
      "outputs": []
    },
    {
      "cell_type": "code",
      "metadata": {
        "id": "r0854YSMirH3"
      },
      "source": [
        "\n"
      ],
      "execution_count": null,
      "outputs": []
    },
    {
      "cell_type": "code",
      "metadata": {
        "id": "a11yhZceiz5r"
      },
      "source": [
        ""
      ],
      "execution_count": null,
      "outputs": []
    },
    {
      "cell_type": "code",
      "metadata": {
        "id": "3XqRT0Gne5z1"
      },
      "source": [
        "#print(thresh)"
      ],
      "execution_count": null,
      "outputs": []
    },
    {
      "cell_type": "code",
      "source": [
        "l = ['A','C','G','T']\n",
        "for i in range(20):\n",
        "  ans = random.choice(l)\n",
        "  print(ans)"
      ],
      "metadata": {
        "id": "UU9vbvJur32H"
      },
      "execution_count": null,
      "outputs": []
    },
    {
      "cell_type": "code",
      "source": [
        "def non_motif_string():\n",
        "    \"\"\"\n",
        "    generates a string of length (by get_num) of ACGT\n",
        "    returns: string \n",
        "    \"\"\"\n",
        "    length = 314\n",
        "    # print(\"random length: \" , length)\n",
        "    #len4 = length / 4\n",
        "    # print(\"len / 4 :\" , len4)\n",
        "    letters = [\"A\", \"C\", \"G\", \"T\"]\n",
        "    nonmotiflist = []\n",
        "    for i in range(length): \n",
        "      nonmotiflist.append(random.choice(letters))\n",
        "    # print(\" Random generated string with repetition:\")\n",
        "    str1 = \"\"\n",
        "    #print(str1.join(nonmotiflist))\n",
        "    return str1.join(nonmotiflist)\n",
        "\n",
        "non = non_motif_string()\n",
        "print(non)"
      ],
      "metadata": {
        "id": "fycMtKxnr8oY"
      },
      "execution_count": null,
      "outputs": []
    }
  ],
  "metadata": {
    "colab": {
      "name": " full_pipeline_zip_files 13/01/22.ipynb",
      "provenance": [],
      "collapsed_sections": [],
      "include_colab_link": true
    },
    "kernelspec": {
      "display_name": "Python 3",
      "language": "python",
      "name": "python3"
    },
    "language_info": {
      "codemirror_mode": {
        "name": "ipython",
        "version": 3
      },
      "file_extension": ".py",
      "mimetype": "text/x-python",
      "name": "python",
      "nbconvert_exporter": "python",
      "pygments_lexer": "ipython3",
      "version": "3.7.4"
    },
    "accelerator": "GPU"
  },
  "nbformat": 4,
  "nbformat_minor": 0
}
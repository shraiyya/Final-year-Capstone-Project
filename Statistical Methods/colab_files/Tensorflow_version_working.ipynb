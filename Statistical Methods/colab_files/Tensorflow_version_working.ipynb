{
  "nbformat": 4,
  "nbformat_minor": 0,
  "metadata": {
    "accelerator": "GPU",
    "colab": {
      "name": "Deepbind.ipynb",
      "provenance": [],
      "collapsed_sections": []
    },
    "kernelspec": {
      "display_name": "Python 3",
      "language": "python",
      "name": "python3"
    },
    "language_info": {
      "codemirror_mode": {
        "name": "ipython",
        "version": 3
      },
      "file_extension": ".py",
      "mimetype": "text/x-python",
      "name": "python",
      "nbconvert_exporter": "python",
      "pygments_lexer": "ipython3",
      "version": "3.8.9"
    },
    "toc": {
      "base_numbering": 1,
      "nav_menu": {},
      "number_sections": true,
      "sideBar": true,
      "skip_h1_title": false,
      "title_cell": "Table of Contents",
      "title_sidebar": "Contents",
      "toc_cell": false,
      "toc_position": {},
      "toc_section_display": true,
      "toc_window_display": false
    },
    "varInspector": {
      "cols": {
        "lenName": 16,
        "lenType": 16,
        "lenVar": 40
      },
      "kernels_config": {
        "python": {
          "delete_cmd_postfix": "",
          "delete_cmd_prefix": "del ",
          "library": "var_list.py",
          "varRefreshCmd": "print(var_dic_list())"
        },
        "r": {
          "delete_cmd_postfix": ") ",
          "delete_cmd_prefix": "rm(",
          "library": "var_list.r",
          "varRefreshCmd": "cat(var_dic_list()) "
        }
      },
      "types_to_exclude": [
        "module",
        "function",
        "builtin_function_or_method",
        "instance",
        "_Feature"
      ],
      "window_display": false
    }
  },
  "cells": [
    {
      "cell_type": "markdown",
      "metadata": {
        "id": "5Y8N7gi33ckM"
      },
      "source": [
        "Data Source : \n",
        "https://github.com/jisraeli/DeepBind"
      ]
    },
    {
      "cell_type": "markdown",
      "metadata": {
        "id": "cZkcfFBf5rxk"
      },
      "source": [
        "Code Repo : https://github.com/julianhesse/DeepBind_with_Tensorflow_test"
      ]
    },
    {
      "cell_type": "code",
      "metadata": {
        "id": "ONhGLUI034dD",
        "outputId": "21857483-4562-4970-e441-2aae55da48fc",
        "colab": {
          "base_uri": "https://localhost:8080/"
        }
      },
      "source": [
        "! git clone https://github.com/jisraeli/DeepBind"
      ],
      "execution_count": 1,
      "outputs": [
        {
          "output_type": "stream",
          "name": "stdout",
          "text": [
            "fatal: destination path 'DeepBind' already exists and is not an empty directory.\n"
          ]
        }
      ]
    },
    {
      "cell_type": "code",
      "metadata": {
        "colab": {
          "base_uri": "https://localhost:8080/"
        },
        "collapsed": true,
        "id": "uosH3ughmaVn",
        "outputId": "d693d25b-7687-4108-f10f-c652e6479945"
      },
      "source": [
        "# Load the Drive helper and mount\n",
        "from google.colab import drive\n",
        "\n",
        "# This will prompt for authorization.\n",
        "drive.mount('/content/drive')"
      ],
      "execution_count": 2,
      "outputs": [
        {
          "output_type": "stream",
          "name": "stdout",
          "text": [
            "Drive already mounted at /content/drive; to attempt to forcibly remount, call drive.mount(\"/content/drive\", force_remount=True).\n"
          ]
        }
      ]
    },
    {
      "cell_type": "code",
      "metadata": {
        "id": "yqAeAsJs0IT1"
      },
      "source": [
        "#!ls \"/content/drive/MyDrive\""
      ],
      "execution_count": null,
      "outputs": []
    },
    {
      "cell_type": "code",
      "metadata": {
        "ExecuteTime": {
          "end_time": "2021-05-31T15:07:20.606935Z",
          "start_time": "2021-05-31T15:07:20.497909Z"
        },
        "id": "coXeS8RbmvD_"
      },
      "source": [
        "#!ls \"/home/julian/Documents/bat/DeepBind_train/data\""
      ],
      "execution_count": 4,
      "outputs": []
    },
    {
      "cell_type": "code",
      "metadata": {
        "id": "ZT6q-z2414J1"
      },
      "source": [
        "import tensorflow as tf"
      ],
      "execution_count": 5,
      "outputs": []
    },
    {
      "cell_type": "code",
      "metadata": {
        "ExecuteTime": {
          "end_time": "2021-06-01T12:40:57.598540Z",
          "start_time": "2021-06-01T12:40:57.495684Z"
        },
        "id": "tvOHzCl4zcLd",
        "outputId": "7bb9e74e-6ab3-40e2-e252-e517dd54533f",
        "colab": {
          "base_uri": "https://localhost:8080/"
        }
      },
      "source": [
        "tf.config.list_physical_devices('GPU')"
      ],
      "execution_count": 6,
      "outputs": [
        {
          "output_type": "execute_result",
          "data": {
            "text/plain": [
              "[PhysicalDevice(name='/physical_device:GPU:0', device_type='GPU')]"
            ]
          },
          "metadata": {},
          "execution_count": 6
        }
      ]
    },
    {
      "cell_type": "code",
      "metadata": {
        "ExecuteTime": {
          "end_time": "2021-06-01T12:40:55.967483Z",
          "start_time": "2021-06-01T12:40:53.993414Z"
        },
        "id": "UiSAAZ_OkWri"
      },
      "source": [
        "import numpy as np\n",
        "import csv\n",
        "import math \n",
        "import random\n",
        "import gzip\n",
        "from scipy.stats import bernoulli"
      ],
      "execution_count": 7,
      "outputs": []
    },
    {
      "cell_type": "code",
      "metadata": {
        "ExecuteTime": {
          "end_time": "2021-06-01T12:41:07.326068Z",
          "start_time": "2021-06-01T12:41:07.323894Z"
        },
        "id": "jASRrXw4kWrn"
      },
      "source": [
        "nummotif=16 #number of motifs to discover\n",
        "bases='ACGT' #DNA bases\n",
        "basesRNA='ACGU'#RNA bases\n",
        "batch_size=64 #fixed batch size -> see notes to problem about it\n",
        "dictReverse={'A':'T','C':'G','G':'C','T':'A','N':'N'} #dictionary to implement reverse-complement mode"
      ],
      "execution_count": 8,
      "outputs": []
    },
    {
      "cell_type": "code",
      "metadata": {
        "ExecuteTime": {
          "end_time": "2021-06-01T12:41:09.726728Z",
          "start_time": "2021-06-01T12:41:09.724519Z"
        },
        "id": "iWEt7WVVkWrp"
      },
      "source": [
        "class Experiment:\n",
        "    def __init__(self,filename,motiflen):\n",
        "        self.file=filename\n",
        "        self.motiflen=motiflen\n",
        "    \n",
        "    def getMotifLen(self):\n",
        "        return self.motiflen"
      ],
      "execution_count": 9,
      "outputs": []
    },
    {
      "cell_type": "code",
      "metadata": {
        "ExecuteTime": {
          "end_time": "2021-06-01T12:41:20.384069Z",
          "start_time": "2021-06-01T12:41:20.380294Z"
        },
        "id": "Jhp-yVajkWrs"
      },
      "source": [
        "def seqtopad(sequence,motlen,kind='DNA'):\n",
        "    rows=len(sequence)+2*motlen-2\n",
        "    S=np.empty([rows,4])\n",
        "    base= bases if kind=='DNA' else basesRNA\n",
        "    for i in range(rows):\n",
        "        for j in range(4):\n",
        "            if i-motlen+1<len(sequence) and sequence[i-motlen+1]=='N' or i<motlen-1 or i>len(sequence)+motlen-2:\n",
        "                S[i,j]=np.float32(0.25)\n",
        "            elif sequence[i-motlen+1]==base[j]:\n",
        "                S[i,j]=np.float32(1)\n",
        "            else:\n",
        "                S[i,j]=np.float32(0)\n",
        "    return S"
      ],
      "execution_count": 10,
      "outputs": []
    },
    {
      "cell_type": "code",
      "metadata": {
        "ExecuteTime": {
          "end_time": "2021-06-01T12:41:21.556510Z",
          "start_time": "2021-06-01T12:41:21.554166Z"
        },
        "id": "qujC_-HAkWru"
      },
      "source": [
        "def dinucshuffle(sequence):\n",
        "    b=[sequence[i:i+2] for i in range(0, len(sequence), 2)]\n",
        "    random.shuffle(b)\n",
        "    d=''.join([str(x) for x in b])\n",
        "    return d\n"
      ],
      "execution_count": 11,
      "outputs": []
    },
    {
      "cell_type": "code",
      "metadata": {
        "ExecuteTime": {
          "end_time": "2021-06-01T12:41:22.943707Z",
          "start_time": "2021-06-01T12:41:22.941286Z"
        },
        "id": "ju_lj4g8kWrw"
      },
      "source": [
        "def logsampler(a,b):\n",
        "    x=tf.Variable(tf.random_uniform([],minval=0,maxval=1), trainable=False)\n",
        "    y=10**((math.log10(b)-math.log10(a))*x + math.log10(a))\n",
        "    \n",
        "#     x=np.random.uniform(low=0,high=1)\n",
        "#     y=10**((math.log10(b)-math.log10(a))*x + math.log10(a))\n",
        "    return y"
      ],
      "execution_count": 12,
      "outputs": []
    },
    {
      "cell_type": "code",
      "metadata": {
        "ExecuteTime": {
          "end_time": "2021-06-01T12:41:24.171140Z",
          "start_time": "2021-06-01T12:41:24.168923Z"
        },
        "id": "MFBv7OV-kWrz"
      },
      "source": [
        "def sqrtsampler(a,b):\n",
        "    x=tf.Variable(tf.random_uniform([],minval=0,maxval=1), trainable=False)\n",
        "#     x=np.random.uniform(low=0,high=1)\n",
        "    y=(b-a)*(x**0.5)+a\n",
        "    return y"
      ],
      "execution_count": 13,
      "outputs": []
    },
    {
      "cell_type": "code",
      "metadata": {
        "ExecuteTime": {
          "end_time": "2021-06-01T12:41:25.652610Z",
          "start_time": "2021-06-01T12:41:25.648765Z"
        },
        "id": "5NkULJwDkWr1"
      },
      "source": [
        "class Chip(Experiment):\n",
        "    def __init__(self,filename,motiflen=24):\n",
        "        self.file = filename\n",
        "        self.motiflen = motiflen\n",
        "            \n",
        "    def openFile(self):\n",
        "        train_dataset=[]\n",
        "     \n",
        "        with gzip.open(self.file, 'rt') as data:\n",
        "            next(data)\n",
        "            reader = csv.reader(data,delimiter='\\t')\n",
        "            \n",
        "            for row in reader:\n",
        "                    train_dataset.append([seqtopad(row[2],self.motiflen),[1]])\n",
        "                    \n",
        "                    train_dataset.append([seqtopad(dinucshuffle(row[2]),self.motiflen),[0]])\n",
        "                   \n",
        "        \n",
        "        \n",
        "        random.shuffle(train_dataset)\n",
        "        frac1=int(len(train_dataset)*1/3)\n",
        "        frac2=int(len(train_dataset)*2/3)\n",
        "        return train_dataset[:frac1],train_dataset[frac1:frac2],train_dataset[frac2:],train_dataset"
      ],
      "execution_count": 14,
      "outputs": []
    },
    {
      "cell_type": "code",
      "metadata": {
        "ExecuteTime": {
          "end_time": "2021-06-01T12:41:27.609542Z",
          "start_time": "2021-06-01T12:41:27.607943Z"
        },
        "id": "a48AQrhKkWr3"
      },
      "source": [
        "filename='/content/training5084.seq.gz'\n",
        "\n",
        "#filename='/content/DeepBind/data/encode/ELK1_GM12878_ELK1_(1277-1)_Stanford_AC.seq.gz'"
      ],
      "execution_count": 15,
      "outputs": []
    },
    {
      "cell_type": "code",
      "metadata": {
        "ExecuteTime": {
          "end_time": "2021-06-01T12:41:37.684824Z",
          "start_time": "2021-06-01T12:41:30.474707Z"
        },
        "id": "tByxbfE2kWr6"
      },
      "source": [
        "test= Chip(filename)\n",
        "d1,d2,d3,dataAll =test.openFile()\n",
        "\n",
        "data1=np.asarray([el[0] for el in d1],dtype=np.float32)\n",
        "label1=np.asarray([el[1] for el in d1],dtype=np.float32).reshape(len(data1),1)\n",
        "\n",
        "data2=np.asarray([el[0] for el in d2],dtype=np.float32)\n",
        "label2=np.asarray([el[1] for el in d2],dtype=np.float32).reshape(len(data2),1)\n",
        "\n",
        "data3=np.asarray([el[0] for el in d3],dtype=np.float32)\n",
        "label3=np.asarray([el[1] for el in d3],dtype=np.float32).reshape(len(data3),1)\n",
        "\n",
        "data=[data1,data2,data3]\n",
        "label=[label1,label2,label3]\n",
        "\n",
        "data_all=np.asarray([el[0] for el in dataAll],dtype=np.float32)\n",
        "label_all=np.asarray([el[1] for el in dataAll],dtype=np.float32).reshape(len(data_all),1)"
      ],
      "execution_count": 16,
      "outputs": []
    },
    {
      "cell_type": "code",
      "metadata": {
        "ExecuteTime": {
          "end_time": "2021-06-01T12:44:33.791615Z",
          "start_time": "2021-06-01T12:44:33.785611Z"
        },
        "id": "8Jx0FGiJkWr8"
      },
      "source": [
        "def convolution(input_data, num_input_channels, num_filters, filter_shape, conv_weights,bias_weights,wd1,bd1,W,b,pooling,neuType,training,dropprob):\n",
        "\n",
        "    \n",
        "    # setup the convolutional layer operation\n",
        "    out_layer = tf.nn.conv1d(input_data, conv_weights, 1, padding='VALID')\n",
        "\n",
        "    out_layer= tf.subtract(out_layer,conv_bias)\n",
        "\n",
        "    # apply a ReLU non-linear activation\n",
        "    out_layer = tf.nn.relu(out_layer)\n",
        "\n",
        "    # now perform pooling\n",
        "    if pooling == 'max_pool':\n",
        "        pool=tf.reduce_max(out_layer,axis=1) \n",
        "        \n",
        "    elif pooling == 'avg_pool':\n",
        "        out_layer1= tf.reduce_max(out_layer, axis=1)\n",
        "        out_layer2= tf.reduce_mean(out_layer, axis=1)\n",
        "        \n",
        "        x_expanded = tf.expand_dims(out_layer1, 2)                 \n",
        "        y_expanded = tf.expand_dims(out_layer2, 2)  \n",
        "        \n",
        "        concatted = tf.concat([x_expanded, y_expanded], 2)  \n",
        "\n",
        "        pool = tf.reshape(concatted, [-1, 2*num_filters]) \n",
        "        \n",
        "\n",
        "    t =tf.constant(1 ,dtype=tf.float32)\n",
        "    \n",
        "    def ifTrain(pool):\n",
        "        pooldrop = tf.nn.dropout(pool,keep_prob=dropprob)\n",
        "#         pooldrop=tf.multiply(pool,mask) \n",
        "        out = tf.matmul(pooldrop, wd1) + bd1\n",
        "        \n",
        "        return out\n",
        "    def ifTest(pool):\n",
        "        out = dropprob*tf.matmul(pool, wd1) + bd1\n",
        "        return out\n",
        "    \n",
        "    #check if there's hidden stage\n",
        "    if(neuType=='nohidden'):\n",
        "\n",
        "        out = tf.cond(tf.equal(training,t), lambda: ifTrain(pool), lambda: ifTest(pool))\n",
        "\n",
        "        \n",
        "    elif(neuType=='hidden'):\n",
        "\n",
        "\n",
        "        dense_layer1 = tf.matmul(pool, W) + b\n",
        "        dense_layer1=tf.nn.relu(dense_layer1)\n",
        "        \n",
        "        out = tf.cond(tf.equal(training,t), lambda: ifTrain(dense_layer1), lambda: ifTest(dense_layer1))\n",
        "        \n",
        "\n",
        "    return out \n",
        "    "
      ],
      "execution_count": 17,
      "outputs": []
    },
    {
      "cell_type": "code",
      "metadata": {
        "ExecuteTime": {
          "end_time": "2021-06-01T12:47:27.299820Z",
          "start_time": "2021-06-01T12:47:26.977702Z"
        },
        "colab": {
          "base_uri": "https://localhost:8080/"
        },
        "id": "_6AXbP8EkWsA",
        "outputId": "6b9b44af-a43e-410e-850d-301af15d9732"
      },
      "source": [
        "import tensorflow.compat.v1 as tf\n",
        "tf.disable_v2_behavior() \n",
        "graph=tf.Graph()\n",
        "with graph.as_default():\n",
        "    \n",
        "    num_input_channels=4\n",
        "    num_filters=16\n",
        "    filter_shape=24\n",
        "    pooling='avg_pool'\n",
        "    neuType='nohidden'\n",
        "    \n",
        "    beta1=tf.placeholder_with_default(logsampler(10**-15,10**-3),shape=())\n",
        "    beta2=tf.placeholder_with_default(logsampler(10**-10,10**-3),shape=())\n",
        "    beta3=tf.placeholder_with_default(logsampler(10**-10,10**-3),shape=())    \n",
        "    \n",
        "    learning_rate= tf.placeholder_with_default(logsampler(0.0005, 0.05),shape=())\n",
        "    momentum_rate= tf.placeholder_with_default(sqrtsampler(0.95, 0.99),shape=())\n",
        "    \n",
        "\n",
        "    batch_size=64\n",
        "    with tf.device('/gpu:0'):\n",
        "    \n",
        "      x = tf.placeholder(tf.float32, [None, 346, 4])\n",
        "      y = tf.placeholder(tf.float32,[None,1])\n",
        "      dropprob = tf.placeholder_with_default(1.0, shape=())\n",
        "\n",
        "      # Distinguish training and testing: training=1 for training , =0 for testing\n",
        "      training = tf.placeholder_with_default(0.0, shape=())\n",
        "\n",
        "    with tf.device('/cpu:0'):\n",
        "      \n",
        "      #Set up iterator for the data\n",
        "      dataset = tf.data.Dataset.from_tensor_slices((x, y))\n",
        "      dataset = dataset.shuffle(500).repeat().batch(batch_size)\n",
        "      \n",
        "                  \n",
        "      iterator = dataset.make_initializable_iterator()\n",
        "      data_X, data_y = iterator.get_next()      \n",
        "      data_y = tf.cast(data_y, tf.float32)\n",
        "      \n",
        "      \n",
        "   \n",
        "    with tf.device('/gpu:0'):\n",
        "      \n",
        "      conv_filt_shape = [filter_shape, num_input_channels, num_filters]\n",
        "\n",
        "      stdConv=tf.placeholder_with_default(logsampler(10**-7,10**-3),shape=()) \n",
        "      # initialise weights and bias for the filter\n",
        "      conv_weights = tf.Variable(tf.truncated_normal(conv_filt_shape, mean=0,stddev=stdConv), name='Conv1_W')\n",
        "      conv_bias = tf.Variable(tf.truncated_normal([num_filters]), name='Conv1_b')\n",
        "\n",
        "\n",
        "\n",
        "      if pooling=='max_pool':\n",
        "          W = tf.Variable(tf.truncated_normal([16,32], mean=0, stddev=0.3), name='W')\n",
        "          b = tf.Variable(tf.truncated_normal([32], mean=0, stddev=0.3), name='b')\n",
        "      else:\n",
        "          W = tf.Variable(tf.truncated_normal([32,32], mean=0, stddev=0.3), name='W')\n",
        "          b = tf.Variable(tf.truncated_normal([32], mean=0, stddev=0.3), name='b')     \n",
        "\n",
        "      if neuType == 'nohidden':\n",
        "          if pooling=='max_pool':\n",
        "              wdim1=16\n",
        "          else:\n",
        "              wdim1=32\n",
        "      else:\n",
        "          wdim1=32\n",
        "          \n",
        "      stdNeu=tf.placeholder_with_default(logsampler(10**-5,10**-2) ,shape=()) \n",
        "      wd1 = tf.Variable(tf.truncated_normal([wdim1,1], mean=0, stddev=stdNeu), name='w2')\n",
        "      bd1 = tf.Variable(tf.truncated_normal([1], mean=0, stddev=stdNeu), name='b2')\n",
        "\n",
        "\n",
        "      xconv = convolution(data_X,num_input_channels,num_filters,filter_shape,conv_weights,conv_bias,wd1,bd1,W,b,pooling,neuType,training,dropprob)\n",
        "\n",
        "\n",
        "      sig = tf.nn.sigmoid(xconv)\n",
        "      if neuType == 'hidden':\n",
        "        loss = tf.reduce_mean(tf.nn.sigmoid_cross_entropy_with_logits(labels=data_y,logits=xconv))+ beta1*tf.norm(conv_weights,ord=1)+ beta2*tf.norm(wd1,ord=1)+ beta3*tf.norm(W,ord=1)\n",
        "      else:\n",
        "        loss = tf.reduce_mean(tf.nn.sigmoid_cross_entropy_with_logits(labels=data_y,logits=xconv))+ beta1*tf.norm(conv_weights,ord=1)+ beta2*tf.norm(wd1,ord=1)\n",
        "\n",
        "      optimizer=tf.train.MomentumOptimizer(learning_rate,momentum_rate,use_nesterov=True).minimize(loss)\n",
        "\n",
        "    with tf.device('/cpu:0'):\n",
        "      #Set up iterator for the validation data\n",
        "      dataset_val = tf.data.Dataset.from_tensor_slices((x, y))\n",
        "      dataset_val = dataset_val.batch(tf.cast(tf.size(y),tf.int64))\n",
        "                  \n",
        "      iterator_val = dataset_val.make_initializable_iterator()\n",
        "      data_XV, data_yV = iterator_val.get_next()      \n",
        "      data_yV = tf.cast(data_yV, tf.float32)\n",
        "    with tf.device('/gpu:0'):\n",
        "      xconvV = convolution(data_XV,num_input_channels,num_filters,filter_shape,conv_weights,conv_bias,wd1,bd1,W,b,pooling,neuType,training,dropprob)\n",
        "\n",
        "      sigV = tf.nn.sigmoid(xconvV)"
      ],
      "execution_count": 18,
      "outputs": [
        {
          "output_type": "stream",
          "name": "stdout",
          "text": [
            "WARNING:tensorflow:From /usr/local/lib/python3.7/dist-packages/tensorflow/python/compat/v2_compat.py:101: disable_resource_variables (from tensorflow.python.ops.variable_scope) is deprecated and will be removed in a future version.\n",
            "Instructions for updating:\n",
            "non-resource variables are not supported in the long term\n",
            "WARNING:tensorflow:From <ipython-input-18-1c379bd7847c>:37: DatasetV1.make_initializable_iterator (from tensorflow.python.data.ops.dataset_ops) is deprecated and will be removed in a future version.\n",
            "Instructions for updating:\n",
            "This is a deprecated API that should only be used in TF 1 graph mode and legacy TF 2 graph mode available through `tf.compat.v1`. In all other situations -- namely, eager mode and inside `tf.function` -- you can consume dataset elements using `for elem in dataset: ...` or by explicitly creating iterator via `iterator = iter(dataset)` and fetching its elements via `values = next(iterator)`. Furthermore, this API is not available in TF 2. During the transition from TF 1 to TF 2 you can use `tf.compat.v1.data.make_initializable_iterator(dataset)` to create a TF 1 graph mode style iterator for a dataset created through TF 2 APIs. Note that this should be a transient state of your code base as there are in general no guarantees about the interoperability of TF 1 and TF 2 code.\n",
            "WARNING:tensorflow:From /usr/local/lib/python3.7/dist-packages/tensorflow/python/ops/variables.py:2883: Variable.initialized_value (from tensorflow.python.ops.variables) is deprecated and will be removed in a future version.\n",
            "Instructions for updating:\n",
            "Use Variable.read_value. Variables in 2.X are initialized automatically both in eager and graph (inside tf.defun) contexts.\n",
            "WARNING:tensorflow:From /usr/local/lib/python3.7/dist-packages/tensorflow/python/util/dispatch.py:206: calling dropout (from tensorflow.python.ops.nn_ops) with keep_prob is deprecated and will be removed in a future version.\n",
            "Instructions for updating:\n",
            "Please use `rate` instead of `keep_prob`. Rate should be set to `rate = 1 - keep_prob`.\n"
          ]
        }
      ]
    },
    {
      "cell_type": "code",
      "metadata": {
        "ExecuteTime": {
          "end_time": "2021-06-01T13:02:14.251812Z",
          "start_time": "2021-06-01T12:50:21.090782Z"
        },
        "colab": {
          "base_uri": "https://localhost:8080/"
        },
        "id": "yY9abt5qkWsB",
        "outputId": "5672c532-60e5-4d54-c449-9efc45d87f51"
      },
      "source": [
        "import copy\n",
        "from sklearn import metrics\n",
        "import numpy as np\n",
        "import random\n",
        "\n",
        "with tf.Session(graph=graph, config=tf.ConfigProto(log_device_placement=True)) as sess:\n",
        "    dropoutList=[0.5,0.75,1.0] #list of possible dropout values\n",
        "    best_AUC=0\n",
        "\n",
        "    #for iter in range(10):\n",
        "    for iter in range(2):\n",
        "        sess.run(tf.global_variables_initializer())\n",
        "        sess.run(tf.local_variables_initializer())\n",
        "        beta_1=sess.run(beta1)\n",
        "        beta_2=sess.run(beta2)\n",
        "        beta_3=sess.run(beta3)\n",
        "        lea_r,mom_r,stdc,stdn=sess.run([learning_rate,momentum_rate,stdConv,stdNeu])                \n",
        "        \n",
        "        prob=random.choice(dropoutList)\n",
        "        \n",
        "        crossV=[0,1,2]\n",
        "    \n",
        "        CV_auc_list=[]\n",
        "        Avg_List=[]\n",
        "        for c in crossV:\n",
        "              sess.run(tf.global_variables_initializer())\n",
        "              sess.run(tf.local_variables_initializer())\n",
        "              sess.run([conv_weights,wd1,conv_bias,bd1], feed_dict={stdConv:stdc,stdNeu:stdn})\n",
        "              t=copy.copy(crossV)\n",
        "              t.remove(c)\n",
        "              traind=np.concatenate((data[t[0]], data[t[1]]), axis=0)\n",
        "              labeltrain=np.concatenate((label[t[0]], label[t[1]]), axis=0)\n",
        "\n",
        "              testd=data[c]\n",
        "              labeltest=label[c]\n",
        "\n",
        "              avg_cost=0\n",
        "              auc_list=[]\n",
        "              iterationSteps=0\n",
        "              sess.run(iterator.initializer, feed_dict = {x: traind, y: labeltrain})\n",
        "              try:\n",
        "\n",
        "                  while iterationSteps <=20000:\n",
        "                          iterationSteps+=1\n",
        "                      \n",
        "                          ### Training\n",
        "                          _,lss=sess.run([optimizer,loss], feed_dict= {training: 1, dropprob: prob, beta1:beta_1, \n",
        "                                                                       beta2: beta_2, beta3:beta_3, learning_rate:lea_r, momentum_rate:mom_r,stdConv:stdc,stdNeu:stdn})\n",
        "                         \n",
        "                          \n",
        "                          if iterationSteps % 4000==0:\n",
        "                                  ## Validation\n",
        "\n",
        "                                  sess.run(iterator_val.initializer, feed_dict = {x: testd, y: labeltest})\n",
        "\n",
        "                                  l,yl=sess.run([sigV, data_yV], feed_dict= {training: 0, dropprob: prob, beta1:beta_1, \n",
        "                                                                       beta2: beta_2, beta3:beta_3, learning_rate:lea_r, momentum_rate:mom_r,stdConv:stdc,stdNeu:stdn})\n",
        "                                  auc=metrics.roc_auc_score(yl, l)\n",
        "                                  print('AUC for the number of iterations',iterationSteps,'is:',auc)\n",
        "                                  auc_list.append(auc)\n",
        "\n",
        "\n",
        "              except tf.errors.OutOfRangeError:\n",
        "                  pass\n",
        "              print('===== Fold Done =====') \n",
        "              CV_auc_list.append(auc_list)\n",
        "              \n",
        "        print('The Cross Validation AUC for The Three Folds in 5 Different Iteration Steps:' , CV_auc_list)\n",
        "        for i in range(len(auc_list)):\n",
        "                Avg_List.append(np.mean([CV_auc_list[j][i] for j in range(len(CV_auc_list))]))\n",
        "        print('The Average AUC for each Iteration Step of The Three Folds is:', Avg_List)       \n",
        "    \n",
        "        \n",
        "        maxlist=max(Avg_List)\n",
        "        if maxlist>best_AUC:\n",
        "          best_AUC=maxlist\n",
        "          \n",
        "          ind=Avg_List.index(maxlist)\n",
        "          \n",
        "          lr,mr,sc,sn,b1,b2,b3 = sess.run([learning_rate, momentum_rate,stdConv, stdNeu,beta1,beta2,beta3], feed_dict= {training: 0, dropprob: prob, beta1:beta_1, \n",
        "                                                                       beta2: beta_2, beta3:beta_3, learning_rate:lea_r, momentum_rate:mom_r,stdConv:stdc,stdNeu:stdn})\n",
        "          print( 'Best hyperparameters So far:')\n",
        "          print( 'Best Learning Rate', lr)\n",
        "          print( 'Best Momentum Rate', mr)\n",
        "          print( 'Best Learning Step', (ind+1)*4000)\n",
        "          print( 'Best Sigma Conv', sc)\n",
        "          print( 'Best Sigma NN', sn)\n",
        "          print( 'Best Dropout Prob', prob)\n",
        "          print( 'Best Beta 1', b1)\n",
        "          print( 'Best Beta 2', b2)\n",
        "          print( 'Best Beta 3', b3)\n",
        "          print(\" \")\n",
        "          \n",
        "          save_LearningRate=lr\n",
        "          save_Momentum=mr\n",
        "          save_LearningStep=(ind+1)*4000\n",
        "          save_SigmaConv=sc\n",
        "          save_SigmaNeu=sn\n",
        "          save_Dropprob=prob\n",
        "          save_Beta1=b1\n",
        "          save_Beta2=b2\n",
        "          save_Beta3=b3"
      ],
      "execution_count": 19,
      "outputs": [
        {
          "output_type": "stream",
          "name": "stdout",
          "text": [
            "Device mapping:\n",
            "/job:localhost/replica:0/task:0/device:GPU:0 -> device: 0, name: Tesla K80, pci bus id: 0000:00:04.0, compute capability: 3.7\n",
            "\n",
            "AUC for the number of iterations 4000 is: 0.5067869029571158\n",
            "AUC for the number of iterations 8000 is: 0.5040702598149407\n",
            "AUC for the number of iterations 12000 is: 0.5031529788976598\n",
            "AUC for the number of iterations 16000 is: 0.5026859741753359\n",
            "AUC for the number of iterations 20000 is: 0.5196809381915766\n",
            "===== Fold Done =====\n",
            "AUC for the number of iterations 4000 is: 0.5669121950199952\n",
            "AUC for the number of iterations 8000 is: 0.5298880404642803\n",
            "AUC for the number of iterations 12000 is: 0.5434832513550797\n",
            "AUC for the number of iterations 16000 is: 0.5585035601320941\n",
            "AUC for the number of iterations 20000 is: 0.5521127398386445\n",
            "===== Fold Done =====\n",
            "AUC for the number of iterations 4000 is: 0.48634107574014923\n",
            "AUC for the number of iterations 8000 is: 0.4937056683273784\n",
            "AUC for the number of iterations 12000 is: 0.49216789711570863\n",
            "AUC for the number of iterations 16000 is: 0.4866296580456329\n",
            "AUC for the number of iterations 20000 is: 0.4893971240632389\n",
            "===== Fold Done =====\n",
            "The Cross Validation AUC for The Three Folds in 5 Different Iteration Steps: [[0.5067869029571158, 0.5040702598149407, 0.5031529788976598, 0.5026859741753359, 0.5196809381915766], [0.5669121950199952, 0.5298880404642803, 0.5434832513550797, 0.5585035601320941, 0.5521127398386445], [0.48634107574014923, 0.4937056683273784, 0.49216789711570863, 0.4866296580456329, 0.4893971240632389]]\n",
            "The Average AUC for each Iteration Step of The Three Folds is: [0.5200133912390867, 0.5092213228688665, 0.512934709122816, 0.5159397307843543, 0.5203969340311533]\n",
            "Best hyperparameters So far:\n",
            "Best Learning Rate 0.0007452714\n",
            "Best Momentum Rate 0.97612053\n",
            "Best Learning Step 20000\n",
            "Best Sigma Conv 5.424687e-07\n",
            "Best Sigma NN 0.000899234\n",
            "Best Dropout Prob 0.75\n",
            "Best Beta 1 3.6585973e-12\n",
            "Best Beta 2 7.103232e-08\n",
            "Best Beta 3 2.5441923e-07\n",
            "AUC for the number of iterations 4000 is: 0.5937031034903375\n",
            "AUC for the number of iterations 8000 is: 0.5574103891125168\n",
            "AUC for the number of iterations 12000 is: 0.564418596546256\n",
            "AUC for the number of iterations 16000 is: 0.5507620192726576\n",
            "AUC for the number of iterations 20000 is: 0.5565251712060223\n",
            "===== Fold Done =====\n",
            "AUC for the number of iterations 4000 is: 0.513695883902072\n",
            "AUC for the number of iterations 8000 is: 0.5794243872531943\n",
            "AUC for the number of iterations 12000 is: 0.5679006367829225\n",
            "AUC for the number of iterations 16000 is: 0.5566559142781501\n",
            "AUC for the number of iterations 20000 is: 0.5631686569035907\n",
            "===== Fold Done =====\n",
            "AUC for the number of iterations 4000 is: 0.5941244781847094\n",
            "AUC for the number of iterations 8000 is: 0.5603739246915058\n",
            "AUC for the number of iterations 12000 is: 0.5402299050637317\n",
            "AUC for the number of iterations 16000 is: 0.5400025899304618\n",
            "AUC for the number of iterations 20000 is: 0.5203650688002496\n",
            "===== Fold Done =====\n",
            "The Cross Validation AUC for The Three Folds in 5 Different Iteration Steps: [[0.5937031034903375, 0.5574103891125168, 0.564418596546256, 0.5507620192726576, 0.5565251712060223], [0.513695883902072, 0.5794243872531943, 0.5679006367829225, 0.5566559142781501, 0.5631686569035907], [0.5941244781847094, 0.5603739246915058, 0.5402299050637317, 0.5400025899304618, 0.5203650688002496]]\n",
            "The Average AUC for each Iteration Step of The Three Folds is: [0.5671744885257063, 0.565736233685739, 0.5575163794643033, 0.5491401744937564, 0.5466862989699542]\n",
            "Best hyperparameters So far:\n",
            "Best Learning Rate 0.003746697\n",
            "Best Momentum Rate 0.9601729\n",
            "Best Learning Step 4000\n",
            "Best Sigma Conv 2.2825334e-05\n",
            "Best Sigma NN 0.0063811964\n",
            "Best Dropout Prob 0.75\n",
            "Best Beta 1 1.9618572e-05\n",
            "Best Beta 2 8.736099e-05\n",
            "Best Beta 3 2.7037514e-08\n"
          ]
        }
      ]
    },
    {
      "cell_type": "code",
      "metadata": {
        "ExecuteTime": {
          "end_time": "2021-06-01T13:05:07.738480Z",
          "start_time": "2021-06-01T13:05:07.544195Z"
        },
        "id": "XZK-IaoTkYBK"
      },
      "source": [
        "graph2=tf.Graph()\n",
        "with graph2.as_default():\n",
        "    \n",
        "    num_input_channels=4\n",
        "    num_filters=16\n",
        "    filter_shape=24\n",
        "    pooling='max_pool'\n",
        "    neuType='hidden'\n",
        "    \n",
        "    beta1=save_Beta1\n",
        "    beta2=save_Beta2\n",
        "    beta3=save_Beta3\n",
        "  \n",
        "    learning_rate= save_LearningRate\n",
        "    momentum_rate= save_Momentum\n",
        "    batch_size=64\n",
        "    \n",
        "    \n",
        "    with tf.device('/gpu:0'):\n",
        "    \n",
        "      x = tf.placeholder(tf.float32, [None, 346, 4],name='X')\n",
        "      y = tf.placeholder(tf.float32,[None,1],name='y')\n",
        "\n",
        "\n",
        "    with tf.device('/cpu:0'):\n",
        "      \n",
        "      #Set up iterator for the data\n",
        "      dataset = tf.data.Dataset.from_tensor_slices((x, y))\n",
        "      dataset = dataset.shuffle(500).repeat().batch(batch_size)\n",
        "      iterator = dataset.make_initializable_iterator()\n",
        "      data_X, data_y = iterator.get_next()\n",
        "      data_y = tf.cast(data_y, tf.float32)\n",
        "\n",
        "      dropprob = tf.placeholder_with_default(0.5, shape=(),name='prob')\n",
        "\n",
        "      # Distinguish training and testing: training=1 for training , =0 for testing\n",
        "      training = tf.placeholder_with_default(0.0, shape=(),name='training')\n",
        "      \n",
        "   \n",
        "    with tf.device('/gpu:0'):\n",
        "      \n",
        "      conv_filt_shape = [filter_shape, num_input_channels, num_filters]\n",
        "\n",
        "      stdConv=save_SigmaConv\n",
        "      # initialise weights and bias for the filter\n",
        "      conv_weights = tf.Variable(tf.truncated_normal(conv_filt_shape, mean=0,stddev=stdConv), name='Conv1_W')\n",
        "      conv_bias = tf.Variable(tf.truncated_normal([num_filters]), name='Conv1_b')\n",
        "\n",
        "\n",
        "\n",
        "      if pooling=='max_pool':\n",
        "          W = tf.Variable(tf.truncated_normal([16,32], mean=0, stddev=0.3), name='W')\n",
        "          b = tf.Variable(tf.truncated_normal([32], mean=0, stddev=0.3), name='b')\n",
        "      else:\n",
        "          W = tf.Variable(tf.truncated_normal([32,32], mean=0, stddev=0.3), name='W')\n",
        "          b = tf.Variable(tf.truncated_normal([32], mean=0, stddev=0.3), name='b')     \n",
        "\n",
        "      if neuType == 'nohidden':\n",
        "          if pooling=='max_pool':\n",
        "              wdim1=16\n",
        "          else:\n",
        "              wdim1=32\n",
        "      else:\n",
        "          wdim1=32\n",
        "      stdNeu=save_SigmaNeu\n",
        "      wd1 = tf.Variable(tf.truncated_normal([wdim1,1], mean=0, stddev=stdNeu), name='w2')\n",
        "      bd1 = tf.Variable(tf.truncated_normal([1], mean=0, stddev=stdNeu), name='b2')\n",
        "\n",
        "\n",
        "      xconv = convolution(data_X,num_input_channels,num_filters,filter_shape,conv_weights,conv_bias,wd1,bd1,W,b,pooling,neuType,training,dropprob)\n",
        "\n",
        "      sig = tf.nn.sigmoid(xconv)\n",
        "      if neuType == 'hidden':\n",
        "        loss = tf.reduce_mean(tf.nn.sigmoid_cross_entropy_with_logits(labels=data_y,logits=xconv))+ beta1*tf.norm(conv_weights,ord=1)+ beta2*tf.norm(wd1,ord=1)+ beta3*tf.norm(W,ord=1)\n",
        "      else:\n",
        "        loss = tf.reduce_mean(tf.nn.sigmoid_cross_entropy_with_logits(labels=data_y,logits=xconv))+ beta1*tf.norm(conv_weights,ord=1)+ beta2*tf.norm(wd1,ord=1)\n",
        "\n",
        "      optimizer=tf.train.MomentumOptimizer(learning_rate,momentum_rate,use_nesterov=True).minimize(loss)\n",
        "    with tf.device('/cpu:0'):\n",
        "      \n",
        "      #Set up iterator for the validation data\n",
        "      dataset_val = tf.data.Dataset.from_tensor_slices((x, y))\n",
        "      dataset_val = dataset_val.batch(tf.cast(tf.size(y),tf.int64))\n",
        "                  \n",
        "      iterator_val = dataset_val.make_initializable_iterator()\n",
        "      data_XV, data_yV = iterator_val.get_next()      \n",
        "      data_yV = tf.cast(data_yV, tf.float32)\n",
        "      \n",
        "      \n",
        "      data_XV = tf.placeholder_with_default(data_XV, shape=None, name='input')\n",
        "      data_yV = tf.placeholder_with_default(data_yV, shape=None,name='label')\n",
        "      \n",
        "      \n",
        "    with tf.device('/gpu:0'):\n",
        "      xconvV = convolution(data_XV,num_input_channels,num_filters,filter_shape,conv_weights,conv_bias,wd1,bd1,W,b,pooling,neuType,training,dropprob)\n",
        "\n",
        "      sigV = tf.nn.sigmoid(xconvV, name='Conv_V')\n",
        "  \n",
        "    saver = tf.train.Saver()"
      ],
      "execution_count": 22,
      "outputs": []
    },
    {
      "cell_type": "code",
      "metadata": {
        "ExecuteTime": {
          "end_time": "2021-06-01T13:39:41.900695Z",
          "start_time": "2021-06-01T13:38:25.515580Z"
        },
        "colab": {
          "base_uri": "https://localhost:8080/"
        },
        "id": "huj8k7YtXGXu",
        "outputId": "e03b1f5e-0f04-4bda-a392-ef11ac9f0da0"
      },
      "source": [
        "import copy\n",
        "from sklearn import metrics\n",
        "import numpy as np\n",
        "import random\n",
        "\n",
        "\n",
        "\n",
        "with tf.Session(graph=graph2, config=tf.ConfigProto(log_device_placement=True)) as sess:\n",
        "    auc_list=[]\n",
        "    best_auc=0\n",
        "    for iter in range(6):\n",
        "        sess.run(tf.global_variables_initializer())\n",
        "        sess.run(tf.local_variables_initializer())\n",
        "        \n",
        "\n",
        "        prob=save_Dropprob\n",
        "        iterationSteps=0\n",
        "        sess.run(iterator.initializer, feed_dict = {x: data_all, y: label_all})\n",
        "        try:\n",
        "\n",
        "            while iterationSteps <=save_LearningStep:\n",
        "                  iterationSteps+=1\n",
        "              \n",
        "                  ### Training\n",
        "                  _,lss=sess.run([optimizer,loss], feed_dict= {training: 1, dropprob: prob})\n",
        "                  \n",
        "        except tf.errors.OutOfRangeError:\n",
        "            pass\n",
        "          \n",
        "        ## Validation\n",
        "        sess.run(iterator_val.initializer, feed_dict = {x: data_all, y: label_all})\n",
        "        l,yl=sess.run([sigV,data_yV], feed_dict= {training: 0, dropprob: prob})\n",
        "\n",
        "        auc=metrics.roc_auc_score(yl, l)\n",
        "        print('AUC of Model Num',iter,' is : ', auc)\n",
        "        \n",
        "        if auc > best_auc:\n",
        "          best_auc=auc\n",
        "          print('Best AUC So Far is : ', best_auc)\n",
        "          ##save model\n",
        "          save_path = saver.save(sess, \"/content/drive/MyDrive/Colab Notebooks/DeepBind_with_Tensorflow\")\n",
        "          print('Model Saved!')        \n",
        "  "
      ],
      "execution_count": 23,
      "outputs": [
        {
          "output_type": "stream",
          "name": "stdout",
          "text": [
            "Device mapping:\n",
            "/job:localhost/replica:0/task:0/device:GPU:0 -> device: 0, name: Tesla K80, pci bus id: 0000:00:04.0, compute capability: 3.7\n",
            "\n",
            "AUC of Model Num 0  is :  0.639620639967662\n",
            "Best AUC So Far is :  0.639620639967662\n",
            "Model Saved!\n",
            "AUC of Model Num 1  is :  0.6115992862011055\n",
            "AUC of Model Num 2  is :  0.6290463022171655\n",
            "AUC of Model Num 3  is :  0.6433236148828709\n",
            "Best AUC So Far is :  0.6433236148828709\n",
            "Model Saved!\n",
            "AUC of Model Num 4  is :  0.6059150411559444\n",
            "AUC of Model Num 5  is :  0.6249611367731784\n"
          ]
        }
      ]
    },
    {
      "cell_type": "code",
      "metadata": {
        "ExecuteTime": {
          "end_time": "2021-06-01T13:42:35.827373Z",
          "start_time": "2021-06-01T13:42:35.825661Z"
        },
        "id": "P4ES6bgYBbKh"
      },
      "source": [
        "import copy\n",
        "from sklearn import metrics\n",
        "import numpy as np\n",
        "import random"
      ],
      "execution_count": 24,
      "outputs": []
    },
    {
      "cell_type": "code",
      "metadata": {
        "ExecuteTime": {
          "end_time": "2021-06-01T14:07:50.185544Z",
          "start_time": "2021-06-01T14:07:50.183780Z"
        },
        "id": "8vr5DH5ER0k2"
      },
      "source": [
        "filename='/content/testing1000.seq.gz'"
      ],
      "execution_count": 25,
      "outputs": []
    },
    {
      "cell_type": "code",
      "metadata": {
        "ExecuteTime": {
          "end_time": "2021-06-01T14:10:44.201631Z",
          "start_time": "2021-06-01T14:10:44.198619Z"
        },
        "id": "5cRQzE9-YsAd"
      },
      "source": [
        "class ChipTest(Experiment):\n",
        "    def __init__(self,filename,motiflen=24):\n",
        "        self.file = filename\n",
        "        self.motiflen = motiflen\n",
        "            \n",
        "    def openFile(self):\n",
        "        train_dataset=[]\n",
        "     \n",
        "        with gzip.open(self.file, 'rt') as data:\n",
        "            next(data)\n",
        "            reader = csv.reader(data,delimiter='\\t')\n",
        "            \n",
        "            for row in reader:\n",
        "                    train_dataset.append([seqtopad(row[2],self.motiflen),[row[3]]])           \n",
        "                   \n",
        "        \n",
        "\n",
        "        return train_dataset"
      ],
      "execution_count": 26,
      "outputs": []
    },
    {
      "cell_type": "code",
      "metadata": {
        "ExecuteTime": {
          "end_time": "2021-06-01T14:13:38.405102Z",
          "start_time": "2021-06-01T14:13:37.718882Z"
        },
        "id": "WbQxI6v4R2cb"
      },
      "source": [
        "test= ChipTest(filename)\n",
        "dataAll =test.openFile()\n",
        "data_all=np.asarray([el[0] for el in dataAll],dtype=np.float32)\n",
        "label_all=np.asarray([el[1] for el in dataAll],dtype=np.float32).reshape(len(data_all),1)"
      ],
      "execution_count": 27,
      "outputs": []
    },
    {
      "cell_type": "code",
      "metadata": {
        "ExecuteTime": {
          "end_time": "2021-06-01T13:51:16.706042Z",
          "start_time": "2021-06-01T13:41:54.333Z"
        },
        "id": "zO0bp4gHxTWw"
      },
      "source": [
        "import tensorflow as tf\n",
        "\n",
        "TestGraph=tf.Graph()\n",
        "with tf.compat.v1.Session(graph=TestGraph) as sess:    \n",
        "  \n",
        "  # #First let's load meta graph and restore weights\n",
        "  ckpt = tf.train.get_checkpoint_state('/content/drive/My Drive/Colab Notebooks/DeepBind_with_Tensorflow/Test2', latest_filename='checkpoint')\n",
        "  \n",
        "  if ckpt and ckpt.model_checkpoint_path:  # if there's checkpoint\n",
        "    saver = tf.train.import_meta_graph('/content/drive/My Drive/Colab Notebooks/DeepBind_with_Tensorflow/Test2/model2.meta')\n",
        "    saver.restore(sess, ckpt.model_checkpoint_path)\n",
        "\n",
        "\n",
        "    X = TestGraph.get_tensor_by_name(\"input:0\")\n",
        "    y = TestGraph.get_tensor_by_name(\"label:0\")\n",
        "\n",
        "\n",
        "    training = TestGraph.get_tensor_by_name(\"training:0\")\n",
        "    prob = TestGraph.get_tensor_by_name(\"prob:0\")\n",
        "\n",
        "    # #Now, access the op to run. \n",
        "    Conv_V = TestGraph.get_tensor_by_name(\"Conv_V:0\")\n",
        "    feed_dict2={X:data_all,y:label_all,prob:save_Dropprob}\n",
        "    l=sess.run(Conv_V,feed_dict2)\n",
        "    auc=metrics.roc_auc_score(label_all, l)\n",
        "    print(auc)"
      ],
      "execution_count": 31,
      "outputs": []
    }
  ]
}
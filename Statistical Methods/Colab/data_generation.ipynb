{
  "nbformat": 4,
  "nbformat_minor": 0,
  "metadata": {
    "colab": {
      "name": "data_generation.ipynb",
      "provenance": [],
      "authorship_tag": "ABX9TyNZZwbwhBjbmwuLeN+tIToP",
      "include_colab_link": true
    },
    "kernelspec": {
      "name": "python3",
      "display_name": "Python 3"
    },
    "language_info": {
      "name": "python"
    }
  },
  "cells": [
    {
      "cell_type": "markdown",
      "metadata": {
        "id": "view-in-github",
        "colab_type": "text"
      },
      "source": [
        "<a href=\"https://colab.research.google.com/github/radhikasethi2011/btechproj/blob/main/Colab/data_generation.ipynb\" target=\"_parent\"><img src=\"https://colab.research.google.com/assets/colab-badge.svg\" alt=\"Open In Colab\"/></a>"
      ]
    },
    {
      "cell_type": "code",
      "execution_count": 12,
      "metadata": {
        "colab": {
          "base_uri": "https://localhost:8080/"
        },
        "id": "YVy489I73hPu",
        "outputId": "51ee12d3-cfd2-4ea7-9362-8537839d53bf"
      },
      "outputs": [
        {
          "output_type": "stream",
          "name": "stdout",
          "text": [
            "fatal: destination path 'btechproj' already exists and is not an empty directory.\n"
          ]
        }
      ],
      "source": [
        "!git clone https://github.com/radhikasethi2011/btechproj.git"
      ]
    },
    {
      "cell_type": "markdown",
      "source": [
        "left"
      ],
      "metadata": {
        "id": "hKk0SK765b-R"
      }
    },
    {
      "cell_type": "code",
      "source": [
        "\n",
        "import pandas as pd\n",
        "import numpy as np\n",
        "from random import seed\n",
        "df = pd.read_csv('/content/btechproj/Data/fruitfly/Fruitfly Datasets/shift_200/left.txt', delimiter=\"\\t\")\n",
        "df"
      ],
      "metadata": {
        "colab": {
          "base_uri": "https://localhost:8080/",
          "height": 424
        },
        "id": "HGucF2Fn3qih",
        "outputId": "bcb5aa2c-cf4e-4c3a-9eec-eee3e287620b"
      },
      "execution_count": 46,
      "outputs": [
        {
          "output_type": "execute_result",
          "data": {
            "text/plain": [
              "     FoldID                 EventId  start_index  \\\n",
              "0         A         chr2L:7316-7516           -5   \n",
              "1         A       chr2L:21243-21443           -5   \n",
              "2         A       chr2L:66022-66222           -5   \n",
              "3         A       chr2L:71092-71292           -5   \n",
              "4         A       chr2L:85916-86116           -5   \n",
              "...     ...                     ...          ...   \n",
              "4118      A  chrX:21883414-21883614           -5   \n",
              "4119      A  chrX:21890084-21890284           -5   \n",
              "4120      A  chrX:21930715-21930915           -5   \n",
              "4121      A  chrX:21943991-21944191           -5   \n",
              "4122      A  chrX:22226296-22226496           -5   \n",
              "\n",
              "                                                    seq  Bound  \n",
              "0     TAGAGAGGAGAGGACAATATTATAATTGTAGACCGTTTTAAACACT...      0  \n",
              "1     CACAGATAATAATACGACCGGTCAGAGCTTAACCGTGTATCTGTTT...      0  \n",
              "2     TTTAGAGTAAAAGTTACCCCAAGATATTGATTCTTATGTATAGATT...      0  \n",
              "3     TATTTAAAGAATAACACGATTTGGTTGAAAAAATTTCCTTACGTAT...      0  \n",
              "4     CACTGGGAAGCGTTCCCTGTGTGGGAAGCCTCGTCTTATCATAACA...      0  \n",
              "...                                                 ...    ...  \n",
              "4118  CCGTATTTTTATAAAGGAAAGGGGCTAGGAATAAAGTTAGGGGTAA...      0  \n",
              "4119  CTTCCAGCGAAGAGATAACCAAACAACAGTCCAAAGAGTAATGAGC...      0  \n",
              "4120  CGCAAGCGCAAGGCGAGCAATGAATGCTGCTCGGCATTTCCACTGC...      0  \n",
              "4121  CTGGCTATGCTTTGACTTGCACAGTCCCACTTACCTATGTACATGC...      0  \n",
              "4122  TTATCACAAAAAATCGGGGGTTTCTATTAAAAATTTAAGTGGTCTG...      0  \n",
              "\n",
              "[4123 rows x 5 columns]"
            ],
            "text/html": [
              "\n",
              "  <div id=\"df-2d1be907-5823-4a99-9de3-da0b74a5e7be\">\n",
              "    <div class=\"colab-df-container\">\n",
              "      <div>\n",
              "<style scoped>\n",
              "    .dataframe tbody tr th:only-of-type {\n",
              "        vertical-align: middle;\n",
              "    }\n",
              "\n",
              "    .dataframe tbody tr th {\n",
              "        vertical-align: top;\n",
              "    }\n",
              "\n",
              "    .dataframe thead th {\n",
              "        text-align: right;\n",
              "    }\n",
              "</style>\n",
              "<table border=\"1\" class=\"dataframe\">\n",
              "  <thead>\n",
              "    <tr style=\"text-align: right;\">\n",
              "      <th></th>\n",
              "      <th>FoldID</th>\n",
              "      <th>EventId</th>\n",
              "      <th>start_index</th>\n",
              "      <th>seq</th>\n",
              "      <th>Bound</th>\n",
              "    </tr>\n",
              "  </thead>\n",
              "  <tbody>\n",
              "    <tr>\n",
              "      <th>0</th>\n",
              "      <td>A</td>\n",
              "      <td>chr2L:7316-7516</td>\n",
              "      <td>-5</td>\n",
              "      <td>TAGAGAGGAGAGGACAATATTATAATTGTAGACCGTTTTAAACACT...</td>\n",
              "      <td>0</td>\n",
              "    </tr>\n",
              "    <tr>\n",
              "      <th>1</th>\n",
              "      <td>A</td>\n",
              "      <td>chr2L:21243-21443</td>\n",
              "      <td>-5</td>\n",
              "      <td>CACAGATAATAATACGACCGGTCAGAGCTTAACCGTGTATCTGTTT...</td>\n",
              "      <td>0</td>\n",
              "    </tr>\n",
              "    <tr>\n",
              "      <th>2</th>\n",
              "      <td>A</td>\n",
              "      <td>chr2L:66022-66222</td>\n",
              "      <td>-5</td>\n",
              "      <td>TTTAGAGTAAAAGTTACCCCAAGATATTGATTCTTATGTATAGATT...</td>\n",
              "      <td>0</td>\n",
              "    </tr>\n",
              "    <tr>\n",
              "      <th>3</th>\n",
              "      <td>A</td>\n",
              "      <td>chr2L:71092-71292</td>\n",
              "      <td>-5</td>\n",
              "      <td>TATTTAAAGAATAACACGATTTGGTTGAAAAAATTTCCTTACGTAT...</td>\n",
              "      <td>0</td>\n",
              "    </tr>\n",
              "    <tr>\n",
              "      <th>4</th>\n",
              "      <td>A</td>\n",
              "      <td>chr2L:85916-86116</td>\n",
              "      <td>-5</td>\n",
              "      <td>CACTGGGAAGCGTTCCCTGTGTGGGAAGCCTCGTCTTATCATAACA...</td>\n",
              "      <td>0</td>\n",
              "    </tr>\n",
              "    <tr>\n",
              "      <th>...</th>\n",
              "      <td>...</td>\n",
              "      <td>...</td>\n",
              "      <td>...</td>\n",
              "      <td>...</td>\n",
              "      <td>...</td>\n",
              "    </tr>\n",
              "    <tr>\n",
              "      <th>4118</th>\n",
              "      <td>A</td>\n",
              "      <td>chrX:21883414-21883614</td>\n",
              "      <td>-5</td>\n",
              "      <td>CCGTATTTTTATAAAGGAAAGGGGCTAGGAATAAAGTTAGGGGTAA...</td>\n",
              "      <td>0</td>\n",
              "    </tr>\n",
              "    <tr>\n",
              "      <th>4119</th>\n",
              "      <td>A</td>\n",
              "      <td>chrX:21890084-21890284</td>\n",
              "      <td>-5</td>\n",
              "      <td>CTTCCAGCGAAGAGATAACCAAACAACAGTCCAAAGAGTAATGAGC...</td>\n",
              "      <td>0</td>\n",
              "    </tr>\n",
              "    <tr>\n",
              "      <th>4120</th>\n",
              "      <td>A</td>\n",
              "      <td>chrX:21930715-21930915</td>\n",
              "      <td>-5</td>\n",
              "      <td>CGCAAGCGCAAGGCGAGCAATGAATGCTGCTCGGCATTTCCACTGC...</td>\n",
              "      <td>0</td>\n",
              "    </tr>\n",
              "    <tr>\n",
              "      <th>4121</th>\n",
              "      <td>A</td>\n",
              "      <td>chrX:21943991-21944191</td>\n",
              "      <td>-5</td>\n",
              "      <td>CTGGCTATGCTTTGACTTGCACAGTCCCACTTACCTATGTACATGC...</td>\n",
              "      <td>0</td>\n",
              "    </tr>\n",
              "    <tr>\n",
              "      <th>4122</th>\n",
              "      <td>A</td>\n",
              "      <td>chrX:22226296-22226496</td>\n",
              "      <td>-5</td>\n",
              "      <td>TTATCACAAAAAATCGGGGGTTTCTATTAAAAATTTAAGTGGTCTG...</td>\n",
              "      <td>0</td>\n",
              "    </tr>\n",
              "  </tbody>\n",
              "</table>\n",
              "<p>4123 rows × 5 columns</p>\n",
              "</div>\n",
              "      <button class=\"colab-df-convert\" onclick=\"convertToInteractive('df-2d1be907-5823-4a99-9de3-da0b74a5e7be')\"\n",
              "              title=\"Convert this dataframe to an interactive table.\"\n",
              "              style=\"display:none;\">\n",
              "        \n",
              "  <svg xmlns=\"http://www.w3.org/2000/svg\" height=\"24px\"viewBox=\"0 0 24 24\"\n",
              "       width=\"24px\">\n",
              "    <path d=\"M0 0h24v24H0V0z\" fill=\"none\"/>\n",
              "    <path d=\"M18.56 5.44l.94 2.06.94-2.06 2.06-.94-2.06-.94-.94-2.06-.94 2.06-2.06.94zm-11 1L8.5 8.5l.94-2.06 2.06-.94-2.06-.94L8.5 2.5l-.94 2.06-2.06.94zm10 10l.94 2.06.94-2.06 2.06-.94-2.06-.94-.94-2.06-.94 2.06-2.06.94z\"/><path d=\"M17.41 7.96l-1.37-1.37c-.4-.4-.92-.59-1.43-.59-.52 0-1.04.2-1.43.59L10.3 9.45l-7.72 7.72c-.78.78-.78 2.05 0 2.83L4 21.41c.39.39.9.59 1.41.59.51 0 1.02-.2 1.41-.59l7.78-7.78 2.81-2.81c.8-.78.8-2.07 0-2.86zM5.41 20L4 18.59l7.72-7.72 1.47 1.35L5.41 20z\"/>\n",
              "  </svg>\n",
              "      </button>\n",
              "      \n",
              "  <style>\n",
              "    .colab-df-container {\n",
              "      display:flex;\n",
              "      flex-wrap:wrap;\n",
              "      gap: 12px;\n",
              "    }\n",
              "\n",
              "    .colab-df-convert {\n",
              "      background-color: #E8F0FE;\n",
              "      border: none;\n",
              "      border-radius: 50%;\n",
              "      cursor: pointer;\n",
              "      display: none;\n",
              "      fill: #1967D2;\n",
              "      height: 32px;\n",
              "      padding: 0 0 0 0;\n",
              "      width: 32px;\n",
              "    }\n",
              "\n",
              "    .colab-df-convert:hover {\n",
              "      background-color: #E2EBFA;\n",
              "      box-shadow: 0px 1px 2px rgba(60, 64, 67, 0.3), 0px 1px 3px 1px rgba(60, 64, 67, 0.15);\n",
              "      fill: #174EA6;\n",
              "    }\n",
              "\n",
              "    [theme=dark] .colab-df-convert {\n",
              "      background-color: #3B4455;\n",
              "      fill: #D2E3FC;\n",
              "    }\n",
              "\n",
              "    [theme=dark] .colab-df-convert:hover {\n",
              "      background-color: #434B5C;\n",
              "      box-shadow: 0px 1px 3px 1px rgba(0, 0, 0, 0.15);\n",
              "      filter: drop-shadow(0px 1px 2px rgba(0, 0, 0, 0.3));\n",
              "      fill: #FFFFFF;\n",
              "    }\n",
              "  </style>\n",
              "\n",
              "      <script>\n",
              "        const buttonEl =\n",
              "          document.querySelector('#df-2d1be907-5823-4a99-9de3-da0b74a5e7be button.colab-df-convert');\n",
              "        buttonEl.style.display =\n",
              "          google.colab.kernel.accessAllowed ? 'block' : 'none';\n",
              "\n",
              "        async function convertToInteractive(key) {\n",
              "          const element = document.querySelector('#df-2d1be907-5823-4a99-9de3-da0b74a5e7be');\n",
              "          const dataTable =\n",
              "            await google.colab.kernel.invokeFunction('convertToInteractive',\n",
              "                                                     [key], {});\n",
              "          if (!dataTable) return;\n",
              "\n",
              "          const docLinkHtml = 'Like what you see? Visit the ' +\n",
              "            '<a target=\"_blank\" href=https://colab.research.google.com/notebooks/data_table.ipynb>data table notebook</a>'\n",
              "            + ' to learn more about interactive tables.';\n",
              "          element.innerHTML = '';\n",
              "          dataTable['output_type'] = 'display_data';\n",
              "          await google.colab.output.renderOutput(dataTable, element);\n",
              "          const docLink = document.createElement('div');\n",
              "          docLink.innerHTML = docLinkHtml;\n",
              "          element.appendChild(docLink);\n",
              "        }\n",
              "      </script>\n",
              "    </div>\n",
              "  </div>\n",
              "  "
            ]
          },
          "metadata": {},
          "execution_count": 46
        }
      ]
    },
    {
      "cell_type": "code",
      "source": [
        "df1 = pd.read_csv('/content/btechproj/Data/fruitfly/Fruitfly Datasets/shift_200/tad.txt', delimiter=\"\\t\")\n",
        "df1"
      ],
      "metadata": {
        "colab": {
          "base_uri": "https://localhost:8080/",
          "height": 424
        },
        "id": "YIfAF9LN5QR-",
        "outputId": "d3ec3ab3-7331-4c37-92cf-81ea1f83d7dd"
      },
      "execution_count": 47,
      "outputs": [
        {
          "output_type": "execute_result",
          "data": {
            "text/plain": [
              "     FoldID                 EventId  start_index  \\\n",
              "0         A       chr2L:12482-12682           -5   \n",
              "1         A       chr2L:43932-44132           -5   \n",
              "2         A       chr2L:68857-69057           -5   \n",
              "3         A       chr2L:78079-78279           -5   \n",
              "4         A       chr2L:90108-90308           -5   \n",
              "...     ...                     ...          ...   \n",
              "4118      A  chrX:21887049-21887249           -5   \n",
              "4119      A  chrX:21910699-21910899           -5   \n",
              "4120      A  chrX:21936579-21936779           -5   \n",
              "4121      A  chrX:22085309-22085509           -5   \n",
              "4122      A  chrX:22237079-22237279           -5   \n",
              "\n",
              "                                                    seq  Bound  \n",
              "0     GCTACAACCGTGCATACTCTGCAGTGTTTCCGGGGATATGCGACAA...      1  \n",
              "1     AAAAGGGTTACAACAAATTGAAAGTCGAGTAACCATAAATTTTTGG...      1  \n",
              "2     CGTGGAGGAAGCACTGCCAGAGCACATGATCTTTGCGGCGCCAAAA...      1  \n",
              "3     GTCCTGAATTGACGTATATGTCTACATGTGTTTCCAAAGACAGTTG...      1  \n",
              "4     AAATAAAAACAAATATTTACGAAAATATGTTCAGATCCGAATTTGT...      1  \n",
              "...                                                 ...    ...  \n",
              "4118  TTCCTCTTCCCCAACACAAACAGCGCAAGAAGCCCTAGCAATTCGG...      1  \n",
              "4119  ATATTTTTATAGGCTTACTAATGCTAGGCAGTGGGAGTTATCCACC...      1  \n",
              "4120  CACGATCATCAGTTCCCAACAACTTGTTTCGACTCTTCGAAGACAA...      1  \n",
              "4121  TTCGCTGCGCCAAGACAACACATGCTCAATTTCGGTAATGCACCGT...      1  \n",
              "4122  TAAGTCGCCCGATGGAAAACAGCTTTTAGCCTAATCACAATATTAT...      1  \n",
              "\n",
              "[4123 rows x 5 columns]"
            ],
            "text/html": [
              "\n",
              "  <div id=\"df-2d74e652-36bd-4d56-b353-de942d5d5e1b\">\n",
              "    <div class=\"colab-df-container\">\n",
              "      <div>\n",
              "<style scoped>\n",
              "    .dataframe tbody tr th:only-of-type {\n",
              "        vertical-align: middle;\n",
              "    }\n",
              "\n",
              "    .dataframe tbody tr th {\n",
              "        vertical-align: top;\n",
              "    }\n",
              "\n",
              "    .dataframe thead th {\n",
              "        text-align: right;\n",
              "    }\n",
              "</style>\n",
              "<table border=\"1\" class=\"dataframe\">\n",
              "  <thead>\n",
              "    <tr style=\"text-align: right;\">\n",
              "      <th></th>\n",
              "      <th>FoldID</th>\n",
              "      <th>EventId</th>\n",
              "      <th>start_index</th>\n",
              "      <th>seq</th>\n",
              "      <th>Bound</th>\n",
              "    </tr>\n",
              "  </thead>\n",
              "  <tbody>\n",
              "    <tr>\n",
              "      <th>0</th>\n",
              "      <td>A</td>\n",
              "      <td>chr2L:12482-12682</td>\n",
              "      <td>-5</td>\n",
              "      <td>GCTACAACCGTGCATACTCTGCAGTGTTTCCGGGGATATGCGACAA...</td>\n",
              "      <td>1</td>\n",
              "    </tr>\n",
              "    <tr>\n",
              "      <th>1</th>\n",
              "      <td>A</td>\n",
              "      <td>chr2L:43932-44132</td>\n",
              "      <td>-5</td>\n",
              "      <td>AAAAGGGTTACAACAAATTGAAAGTCGAGTAACCATAAATTTTTGG...</td>\n",
              "      <td>1</td>\n",
              "    </tr>\n",
              "    <tr>\n",
              "      <th>2</th>\n",
              "      <td>A</td>\n",
              "      <td>chr2L:68857-69057</td>\n",
              "      <td>-5</td>\n",
              "      <td>CGTGGAGGAAGCACTGCCAGAGCACATGATCTTTGCGGCGCCAAAA...</td>\n",
              "      <td>1</td>\n",
              "    </tr>\n",
              "    <tr>\n",
              "      <th>3</th>\n",
              "      <td>A</td>\n",
              "      <td>chr2L:78079-78279</td>\n",
              "      <td>-5</td>\n",
              "      <td>GTCCTGAATTGACGTATATGTCTACATGTGTTTCCAAAGACAGTTG...</td>\n",
              "      <td>1</td>\n",
              "    </tr>\n",
              "    <tr>\n",
              "      <th>4</th>\n",
              "      <td>A</td>\n",
              "      <td>chr2L:90108-90308</td>\n",
              "      <td>-5</td>\n",
              "      <td>AAATAAAAACAAATATTTACGAAAATATGTTCAGATCCGAATTTGT...</td>\n",
              "      <td>1</td>\n",
              "    </tr>\n",
              "    <tr>\n",
              "      <th>...</th>\n",
              "      <td>...</td>\n",
              "      <td>...</td>\n",
              "      <td>...</td>\n",
              "      <td>...</td>\n",
              "      <td>...</td>\n",
              "    </tr>\n",
              "    <tr>\n",
              "      <th>4118</th>\n",
              "      <td>A</td>\n",
              "      <td>chrX:21887049-21887249</td>\n",
              "      <td>-5</td>\n",
              "      <td>TTCCTCTTCCCCAACACAAACAGCGCAAGAAGCCCTAGCAATTCGG...</td>\n",
              "      <td>1</td>\n",
              "    </tr>\n",
              "    <tr>\n",
              "      <th>4119</th>\n",
              "      <td>A</td>\n",
              "      <td>chrX:21910699-21910899</td>\n",
              "      <td>-5</td>\n",
              "      <td>ATATTTTTATAGGCTTACTAATGCTAGGCAGTGGGAGTTATCCACC...</td>\n",
              "      <td>1</td>\n",
              "    </tr>\n",
              "    <tr>\n",
              "      <th>4120</th>\n",
              "      <td>A</td>\n",
              "      <td>chrX:21936579-21936779</td>\n",
              "      <td>-5</td>\n",
              "      <td>CACGATCATCAGTTCCCAACAACTTGTTTCGACTCTTCGAAGACAA...</td>\n",
              "      <td>1</td>\n",
              "    </tr>\n",
              "    <tr>\n",
              "      <th>4121</th>\n",
              "      <td>A</td>\n",
              "      <td>chrX:22085309-22085509</td>\n",
              "      <td>-5</td>\n",
              "      <td>TTCGCTGCGCCAAGACAACACATGCTCAATTTCGGTAATGCACCGT...</td>\n",
              "      <td>1</td>\n",
              "    </tr>\n",
              "    <tr>\n",
              "      <th>4122</th>\n",
              "      <td>A</td>\n",
              "      <td>chrX:22237079-22237279</td>\n",
              "      <td>-5</td>\n",
              "      <td>TAAGTCGCCCGATGGAAAACAGCTTTTAGCCTAATCACAATATTAT...</td>\n",
              "      <td>1</td>\n",
              "    </tr>\n",
              "  </tbody>\n",
              "</table>\n",
              "<p>4123 rows × 5 columns</p>\n",
              "</div>\n",
              "      <button class=\"colab-df-convert\" onclick=\"convertToInteractive('df-2d74e652-36bd-4d56-b353-de942d5d5e1b')\"\n",
              "              title=\"Convert this dataframe to an interactive table.\"\n",
              "              style=\"display:none;\">\n",
              "        \n",
              "  <svg xmlns=\"http://www.w3.org/2000/svg\" height=\"24px\"viewBox=\"0 0 24 24\"\n",
              "       width=\"24px\">\n",
              "    <path d=\"M0 0h24v24H0V0z\" fill=\"none\"/>\n",
              "    <path d=\"M18.56 5.44l.94 2.06.94-2.06 2.06-.94-2.06-.94-.94-2.06-.94 2.06-2.06.94zm-11 1L8.5 8.5l.94-2.06 2.06-.94-2.06-.94L8.5 2.5l-.94 2.06-2.06.94zm10 10l.94 2.06.94-2.06 2.06-.94-2.06-.94-.94-2.06-.94 2.06-2.06.94z\"/><path d=\"M17.41 7.96l-1.37-1.37c-.4-.4-.92-.59-1.43-.59-.52 0-1.04.2-1.43.59L10.3 9.45l-7.72 7.72c-.78.78-.78 2.05 0 2.83L4 21.41c.39.39.9.59 1.41.59.51 0 1.02-.2 1.41-.59l7.78-7.78 2.81-2.81c.8-.78.8-2.07 0-2.86zM5.41 20L4 18.59l7.72-7.72 1.47 1.35L5.41 20z\"/>\n",
              "  </svg>\n",
              "      </button>\n",
              "      \n",
              "  <style>\n",
              "    .colab-df-container {\n",
              "      display:flex;\n",
              "      flex-wrap:wrap;\n",
              "      gap: 12px;\n",
              "    }\n",
              "\n",
              "    .colab-df-convert {\n",
              "      background-color: #E8F0FE;\n",
              "      border: none;\n",
              "      border-radius: 50%;\n",
              "      cursor: pointer;\n",
              "      display: none;\n",
              "      fill: #1967D2;\n",
              "      height: 32px;\n",
              "      padding: 0 0 0 0;\n",
              "      width: 32px;\n",
              "    }\n",
              "\n",
              "    .colab-df-convert:hover {\n",
              "      background-color: #E2EBFA;\n",
              "      box-shadow: 0px 1px 2px rgba(60, 64, 67, 0.3), 0px 1px 3px 1px rgba(60, 64, 67, 0.15);\n",
              "      fill: #174EA6;\n",
              "    }\n",
              "\n",
              "    [theme=dark] .colab-df-convert {\n",
              "      background-color: #3B4455;\n",
              "      fill: #D2E3FC;\n",
              "    }\n",
              "\n",
              "    [theme=dark] .colab-df-convert:hover {\n",
              "      background-color: #434B5C;\n",
              "      box-shadow: 0px 1px 3px 1px rgba(0, 0, 0, 0.15);\n",
              "      filter: drop-shadow(0px 1px 2px rgba(0, 0, 0, 0.3));\n",
              "      fill: #FFFFFF;\n",
              "    }\n",
              "  </style>\n",
              "\n",
              "      <script>\n",
              "        const buttonEl =\n",
              "          document.querySelector('#df-2d74e652-36bd-4d56-b353-de942d5d5e1b button.colab-df-convert');\n",
              "        buttonEl.style.display =\n",
              "          google.colab.kernel.accessAllowed ? 'block' : 'none';\n",
              "\n",
              "        async function convertToInteractive(key) {\n",
              "          const element = document.querySelector('#df-2d74e652-36bd-4d56-b353-de942d5d5e1b');\n",
              "          const dataTable =\n",
              "            await google.colab.kernel.invokeFunction('convertToInteractive',\n",
              "                                                     [key], {});\n",
              "          if (!dataTable) return;\n",
              "\n",
              "          const docLinkHtml = 'Like what you see? Visit the ' +\n",
              "            '<a target=\"_blank\" href=https://colab.research.google.com/notebooks/data_table.ipynb>data table notebook</a>'\n",
              "            + ' to learn more about interactive tables.';\n",
              "          element.innerHTML = '';\n",
              "          dataTable['output_type'] = 'display_data';\n",
              "          await google.colab.output.renderOutput(dataTable, element);\n",
              "          const docLink = document.createElement('div');\n",
              "          docLink.innerHTML = docLinkHtml;\n",
              "          element.appendChild(docLink);\n",
              "        }\n",
              "      </script>\n",
              "    </div>\n",
              "  </div>\n",
              "  "
            ]
          },
          "metadata": {},
          "execution_count": 47
        }
      ]
    },
    {
      "cell_type": "markdown",
      "source": [
        "for markov "
      ],
      "metadata": {
        "id": "EJh7mTtsBWaq"
      }
    },
    {
      "cell_type": "code",
      "source": [
        "from sklearn.model_selection import train_test_split\n",
        "train_left, test_left = train_test_split(df, random_state = 42, test_size = 0.20)\n",
        "train_tad, test_tad = train_test_split(df1, random_state = 42, test_size = 0.20)"
      ],
      "metadata": {
        "id": "jbw3v2EhBbUP"
      },
      "execution_count": 48,
      "outputs": []
    },
    {
      "cell_type": "code",
      "source": [
        "train_left = train_left.sample(frac=1).reset_index(drop=True)\n",
        "test_left = test_left.sample(frac=1).reset_index(drop=True)\n",
        "train_tad = train_tad.sample(frac=1).reset_index(drop=True)\n",
        "test_tad = test_tad.sample(frac=1).reset_index(drop=True)"
      ],
      "metadata": {
        "id": "BGW6nsngM47s"
      },
      "execution_count": 49,
      "outputs": []
    },
    {
      "cell_type": "code",
      "source": [
        "print('len(train_left', len(train_left))\n",
        "print('len(train_tad', len(train_tad))\n",
        "print('len(test_left', len(test_left))\n",
        "print('len(test_tad', len(test_tad))"
      ],
      "metadata": {
        "colab": {
          "base_uri": "https://localhost:8080/"
        },
        "id": "Mhhj3dAKBbRP",
        "outputId": "9e503811-ba77-4876-a9e1-57b331349f83"
      },
      "execution_count": 50,
      "outputs": [
        {
          "output_type": "stream",
          "name": "stdout",
          "text": [
            "len(train_left 3298\n",
            "len(train_tad 3298\n",
            "len(test_left 825\n",
            "len(test_tad 825\n"
          ]
        }
      ]
    },
    {
      "cell_type": "code",
      "source": [
        "type(train_left)"
      ],
      "metadata": {
        "colab": {
          "base_uri": "https://localhost:8080/"
        },
        "id": "QHgVRVMiBbLV",
        "outputId": "8622fde6-9ed0-4303-ece7-482075493f25"
      },
      "execution_count": 51,
      "outputs": [
        {
          "output_type": "execute_result",
          "data": {
            "text/plain": [
              "pandas.core.frame.DataFrame"
            ]
          },
          "metadata": {},
          "execution_count": 51
        }
      ]
    },
    {
      "cell_type": "code",
      "source": [
        "test_markov = pd.concat([test_left, test_tad], axis=0).sample(frac=1).reset_index(drop=True)"
      ],
      "metadata": {
        "id": "RZEZvtWgBbIs"
      },
      "execution_count": 52,
      "outputs": []
    },
    {
      "cell_type": "code",
      "source": [
        "test_markov"
      ],
      "metadata": {
        "colab": {
          "base_uri": "https://localhost:8080/",
          "height": 424
        },
        "id": "W4pt8I7YBa3w",
        "outputId": "0a86fb58-916a-4ca2-8886-63f025313043"
      },
      "execution_count": 53,
      "outputs": [
        {
          "output_type": "execute_result",
          "data": {
            "text/plain": [
              "     FoldID                  EventId  start_index  \\\n",
              "0         A     chrX:9552363-9552563           -5   \n",
              "1         A  chr2L:13011643-13011843           -5   \n",
              "2         A     chrX:5953883-5954083           -5   \n",
              "3         A  chr2R:16184051-16184251           -5   \n",
              "4         A    chr3R:8336180-8336380           -5   \n",
              "...     ...                      ...          ...   \n",
              "1645      A    chr2R:8400987-8401187           -5   \n",
              "1646      A  chr3R:27637620-27637820           -5   \n",
              "1647      A    chr3R:6609458-6609658           -5   \n",
              "1648      A    chr3L:8322086-8322286           -5   \n",
              "1649      A   chrX:16685765-16685965           -5   \n",
              "\n",
              "                                                    seq  Bound  \n",
              "0     AAATACACACACACACACACACGTAACACGCACAAGCAGGCGCTCT...      0  \n",
              "1     CCTGGCCAGGAGCTCATCCGGATTAGTATCATTAAAACCAACCTTC...      1  \n",
              "2     TACAATTAATATAATATTGTTCTCCTGTGCTGCAGCTGCTTGTGAA...      1  \n",
              "3     TTAAAAACCAACAGCGAAAACAATAACAAGCCCAACTACAAGATAG...      1  \n",
              "4     ACCAGAGCGGCAAGATCCAGGACGTGCTGCTGGTGGACGTGGCCCC...      0  \n",
              "...                                                 ...    ...  \n",
              "1645  TCCACCTCCTCTGTAGCGCCAACGACCTGGAGTCAAGCAATTTAGT...      1  \n",
              "1646  GATCTCCTTGTACTTCTTCTGTACCTCGGGCGTCCTGCGCTGGGCG...      0  \n",
              "1647  GAACGGGTTTTTCGCGTGCGCCAACAATGTCCACTCTGTAGGTAAA...      0  \n",
              "1648  TTCGGATGACAATAAATCCCGATCAATTAAAAATCGAAGTGGAAAA...      0  \n",
              "1649  TATAGTTTTTATGTTCCAAAACGCAACATATAAAGAAGAGTATTTT...      0  \n",
              "\n",
              "[1650 rows x 5 columns]"
            ],
            "text/html": [
              "\n",
              "  <div id=\"df-411ed9c8-03b7-44a9-b5c9-87c9f5f518fd\">\n",
              "    <div class=\"colab-df-container\">\n",
              "      <div>\n",
              "<style scoped>\n",
              "    .dataframe tbody tr th:only-of-type {\n",
              "        vertical-align: middle;\n",
              "    }\n",
              "\n",
              "    .dataframe tbody tr th {\n",
              "        vertical-align: top;\n",
              "    }\n",
              "\n",
              "    .dataframe thead th {\n",
              "        text-align: right;\n",
              "    }\n",
              "</style>\n",
              "<table border=\"1\" class=\"dataframe\">\n",
              "  <thead>\n",
              "    <tr style=\"text-align: right;\">\n",
              "      <th></th>\n",
              "      <th>FoldID</th>\n",
              "      <th>EventId</th>\n",
              "      <th>start_index</th>\n",
              "      <th>seq</th>\n",
              "      <th>Bound</th>\n",
              "    </tr>\n",
              "  </thead>\n",
              "  <tbody>\n",
              "    <tr>\n",
              "      <th>0</th>\n",
              "      <td>A</td>\n",
              "      <td>chrX:9552363-9552563</td>\n",
              "      <td>-5</td>\n",
              "      <td>AAATACACACACACACACACACGTAACACGCACAAGCAGGCGCTCT...</td>\n",
              "      <td>0</td>\n",
              "    </tr>\n",
              "    <tr>\n",
              "      <th>1</th>\n",
              "      <td>A</td>\n",
              "      <td>chr2L:13011643-13011843</td>\n",
              "      <td>-5</td>\n",
              "      <td>CCTGGCCAGGAGCTCATCCGGATTAGTATCATTAAAACCAACCTTC...</td>\n",
              "      <td>1</td>\n",
              "    </tr>\n",
              "    <tr>\n",
              "      <th>2</th>\n",
              "      <td>A</td>\n",
              "      <td>chrX:5953883-5954083</td>\n",
              "      <td>-5</td>\n",
              "      <td>TACAATTAATATAATATTGTTCTCCTGTGCTGCAGCTGCTTGTGAA...</td>\n",
              "      <td>1</td>\n",
              "    </tr>\n",
              "    <tr>\n",
              "      <th>3</th>\n",
              "      <td>A</td>\n",
              "      <td>chr2R:16184051-16184251</td>\n",
              "      <td>-5</td>\n",
              "      <td>TTAAAAACCAACAGCGAAAACAATAACAAGCCCAACTACAAGATAG...</td>\n",
              "      <td>1</td>\n",
              "    </tr>\n",
              "    <tr>\n",
              "      <th>4</th>\n",
              "      <td>A</td>\n",
              "      <td>chr3R:8336180-8336380</td>\n",
              "      <td>-5</td>\n",
              "      <td>ACCAGAGCGGCAAGATCCAGGACGTGCTGCTGGTGGACGTGGCCCC...</td>\n",
              "      <td>0</td>\n",
              "    </tr>\n",
              "    <tr>\n",
              "      <th>...</th>\n",
              "      <td>...</td>\n",
              "      <td>...</td>\n",
              "      <td>...</td>\n",
              "      <td>...</td>\n",
              "      <td>...</td>\n",
              "    </tr>\n",
              "    <tr>\n",
              "      <th>1645</th>\n",
              "      <td>A</td>\n",
              "      <td>chr2R:8400987-8401187</td>\n",
              "      <td>-5</td>\n",
              "      <td>TCCACCTCCTCTGTAGCGCCAACGACCTGGAGTCAAGCAATTTAGT...</td>\n",
              "      <td>1</td>\n",
              "    </tr>\n",
              "    <tr>\n",
              "      <th>1646</th>\n",
              "      <td>A</td>\n",
              "      <td>chr3R:27637620-27637820</td>\n",
              "      <td>-5</td>\n",
              "      <td>GATCTCCTTGTACTTCTTCTGTACCTCGGGCGTCCTGCGCTGGGCG...</td>\n",
              "      <td>0</td>\n",
              "    </tr>\n",
              "    <tr>\n",
              "      <th>1647</th>\n",
              "      <td>A</td>\n",
              "      <td>chr3R:6609458-6609658</td>\n",
              "      <td>-5</td>\n",
              "      <td>GAACGGGTTTTTCGCGTGCGCCAACAATGTCCACTCTGTAGGTAAA...</td>\n",
              "      <td>0</td>\n",
              "    </tr>\n",
              "    <tr>\n",
              "      <th>1648</th>\n",
              "      <td>A</td>\n",
              "      <td>chr3L:8322086-8322286</td>\n",
              "      <td>-5</td>\n",
              "      <td>TTCGGATGACAATAAATCCCGATCAATTAAAAATCGAAGTGGAAAA...</td>\n",
              "      <td>0</td>\n",
              "    </tr>\n",
              "    <tr>\n",
              "      <th>1649</th>\n",
              "      <td>A</td>\n",
              "      <td>chrX:16685765-16685965</td>\n",
              "      <td>-5</td>\n",
              "      <td>TATAGTTTTTATGTTCCAAAACGCAACATATAAAGAAGAGTATTTT...</td>\n",
              "      <td>0</td>\n",
              "    </tr>\n",
              "  </tbody>\n",
              "</table>\n",
              "<p>1650 rows × 5 columns</p>\n",
              "</div>\n",
              "      <button class=\"colab-df-convert\" onclick=\"convertToInteractive('df-411ed9c8-03b7-44a9-b5c9-87c9f5f518fd')\"\n",
              "              title=\"Convert this dataframe to an interactive table.\"\n",
              "              style=\"display:none;\">\n",
              "        \n",
              "  <svg xmlns=\"http://www.w3.org/2000/svg\" height=\"24px\"viewBox=\"0 0 24 24\"\n",
              "       width=\"24px\">\n",
              "    <path d=\"M0 0h24v24H0V0z\" fill=\"none\"/>\n",
              "    <path d=\"M18.56 5.44l.94 2.06.94-2.06 2.06-.94-2.06-.94-.94-2.06-.94 2.06-2.06.94zm-11 1L8.5 8.5l.94-2.06 2.06-.94-2.06-.94L8.5 2.5l-.94 2.06-2.06.94zm10 10l.94 2.06.94-2.06 2.06-.94-2.06-.94-.94-2.06-.94 2.06-2.06.94z\"/><path d=\"M17.41 7.96l-1.37-1.37c-.4-.4-.92-.59-1.43-.59-.52 0-1.04.2-1.43.59L10.3 9.45l-7.72 7.72c-.78.78-.78 2.05 0 2.83L4 21.41c.39.39.9.59 1.41.59.51 0 1.02-.2 1.41-.59l7.78-7.78 2.81-2.81c.8-.78.8-2.07 0-2.86zM5.41 20L4 18.59l7.72-7.72 1.47 1.35L5.41 20z\"/>\n",
              "  </svg>\n",
              "      </button>\n",
              "      \n",
              "  <style>\n",
              "    .colab-df-container {\n",
              "      display:flex;\n",
              "      flex-wrap:wrap;\n",
              "      gap: 12px;\n",
              "    }\n",
              "\n",
              "    .colab-df-convert {\n",
              "      background-color: #E8F0FE;\n",
              "      border: none;\n",
              "      border-radius: 50%;\n",
              "      cursor: pointer;\n",
              "      display: none;\n",
              "      fill: #1967D2;\n",
              "      height: 32px;\n",
              "      padding: 0 0 0 0;\n",
              "      width: 32px;\n",
              "    }\n",
              "\n",
              "    .colab-df-convert:hover {\n",
              "      background-color: #E2EBFA;\n",
              "      box-shadow: 0px 1px 2px rgba(60, 64, 67, 0.3), 0px 1px 3px 1px rgba(60, 64, 67, 0.15);\n",
              "      fill: #174EA6;\n",
              "    }\n",
              "\n",
              "    [theme=dark] .colab-df-convert {\n",
              "      background-color: #3B4455;\n",
              "      fill: #D2E3FC;\n",
              "    }\n",
              "\n",
              "    [theme=dark] .colab-df-convert:hover {\n",
              "      background-color: #434B5C;\n",
              "      box-shadow: 0px 1px 3px 1px rgba(0, 0, 0, 0.15);\n",
              "      filter: drop-shadow(0px 1px 2px rgba(0, 0, 0, 0.3));\n",
              "      fill: #FFFFFF;\n",
              "    }\n",
              "  </style>\n",
              "\n",
              "      <script>\n",
              "        const buttonEl =\n",
              "          document.querySelector('#df-411ed9c8-03b7-44a9-b5c9-87c9f5f518fd button.colab-df-convert');\n",
              "        buttonEl.style.display =\n",
              "          google.colab.kernel.accessAllowed ? 'block' : 'none';\n",
              "\n",
              "        async function convertToInteractive(key) {\n",
              "          const element = document.querySelector('#df-411ed9c8-03b7-44a9-b5c9-87c9f5f518fd');\n",
              "          const dataTable =\n",
              "            await google.colab.kernel.invokeFunction('convertToInteractive',\n",
              "                                                     [key], {});\n",
              "          if (!dataTable) return;\n",
              "\n",
              "          const docLinkHtml = 'Like what you see? Visit the ' +\n",
              "            '<a target=\"_blank\" href=https://colab.research.google.com/notebooks/data_table.ipynb>data table notebook</a>'\n",
              "            + ' to learn more about interactive tables.';\n",
              "          element.innerHTML = '';\n",
              "          dataTable['output_type'] = 'display_data';\n",
              "          await google.colab.output.renderOutput(dataTable, element);\n",
              "          const docLink = document.createElement('div');\n",
              "          docLink.innerHTML = docLinkHtml;\n",
              "          element.appendChild(docLink);\n",
              "        }\n",
              "      </script>\n",
              "    </div>\n",
              "  </div>\n",
              "  "
            ]
          },
          "metadata": {},
          "execution_count": 53
        }
      ]
    },
    {
      "cell_type": "code",
      "source": [
        "train_left.to_csv('train_left.txt', index=None, sep='\\t')\n",
        "train_tad.to_csv('train_tad.txt', index=None, sep='\\t')\n",
        "test_markov.to_csv('test_markov.txt', index=None, sep='\\t')"
      ],
      "metadata": {
        "id": "2-hnXUx2EUhJ"
      },
      "execution_count": 54,
      "outputs": []
    },
    {
      "cell_type": "markdown",
      "source": [
        "for DL "
      ],
      "metadata": {
        "id": "D-mX_u1kL4DY"
      }
    },
    {
      "cell_type": "markdown",
      "source": [
        "left"
      ],
      "metadata": {
        "id": "Bya8qinmMWyv"
      }
    },
    {
      "cell_type": "code",
      "source": [
        "left = np.empty((3298,200,4), dtype=float)\n",
        "left.shape"
      ],
      "metadata": {
        "colab": {
          "base_uri": "https://localhost:8080/"
        },
        "id": "Cv-JEKQy3viX",
        "outputId": "c6c8595e-fdad-4ed6-f55f-7f9f468ab88c"
      },
      "execution_count": 106,
      "outputs": [
        {
          "output_type": "execute_result",
          "data": {
            "text/plain": [
              "(3298, 200, 4)"
            ]
          },
          "metadata": {},
          "execution_count": 106
        }
      ]
    },
    {
      "cell_type": "code",
      "source": [
        "train_left"
      ],
      "metadata": {
        "colab": {
          "base_uri": "https://localhost:8080/",
          "height": 424
        },
        "id": "nVbP_oNdMz_q",
        "outputId": "388571c5-8d4d-40fd-9ef3-0ec8542e5929"
      },
      "execution_count": 107,
      "outputs": [
        {
          "output_type": "execute_result",
          "data": {
            "text/plain": [
              "     FoldID                  EventId  start_index  \\\n",
              "0         A    chr3R:1604917-1605117           -5   \n",
              "1         A  chr2L:11498653-11498853           -5   \n",
              "2         A  chr3R:24162252-24162452           -5   \n",
              "3         A      chr3R:254323-254523           -5   \n",
              "4         A   chrX:11914275-11914475           -5   \n",
              "...     ...                      ...          ...   \n",
              "3293      A  chr3L:19508833-19509033           -5   \n",
              "3294      A  chr3R:22691859-22692059           -5   \n",
              "3295      A  chr2R:17953449-17953649           -5   \n",
              "3296      A    chr2R:7728385-7728585           -5   \n",
              "3297      A    chr3R:8500006-8500206           -5   \n",
              "\n",
              "                                                    seq  Bound  \n",
              "0     TTCTAAAACTTAGCGGAATTTCCCCTCTCTTTCTAACGGTTATTTG...      0  \n",
              "1     CGTCTGCTCCTTCTTCAGCTGCTCCACCTTGCAGGTACCCAGTTTG...      0  \n",
              "2     TAATAGAGATGTCCCAACCGGCTCGCAACTGATTTAATTTATTTAA...      0  \n",
              "3     TCTGCATCACCTACACATGGACCTGGAACACAAAACACAATAGTTT...      0  \n",
              "4     CAACGCAATGGCTCAAACAACGATTTAGTTGAATTAATGTTCAGAA...      0  \n",
              "...                                                 ...    ...  \n",
              "3293  AAATGAAGATGAGAACAAGGGCAGCTTCGTAGTCGATATACCCGAT...      0  \n",
              "3294  GACCGTGCTTCTGCATGAACTGTTTGATGTCCTCCAGCTTGGCGTT...      0  \n",
              "3295  GTTGTTTGTGCAAAAGTCGACTTCCGCATATGGTCCACCAATCGTT...      0  \n",
              "3296  TAGTACCAATCCCTTGGCGAGTCTGGTACCTGATGGTAAATAAACG...      0  \n",
              "3297  TGTAAGCTGACATGCTTAACTATTTGCTTCGTCATTCTATTTTGAC...      0  \n",
              "\n",
              "[3298 rows x 5 columns]"
            ],
            "text/html": [
              "\n",
              "  <div id=\"df-5d2872ba-1dd2-4a9a-bd17-756357d1d6fd\">\n",
              "    <div class=\"colab-df-container\">\n",
              "      <div>\n",
              "<style scoped>\n",
              "    .dataframe tbody tr th:only-of-type {\n",
              "        vertical-align: middle;\n",
              "    }\n",
              "\n",
              "    .dataframe tbody tr th {\n",
              "        vertical-align: top;\n",
              "    }\n",
              "\n",
              "    .dataframe thead th {\n",
              "        text-align: right;\n",
              "    }\n",
              "</style>\n",
              "<table border=\"1\" class=\"dataframe\">\n",
              "  <thead>\n",
              "    <tr style=\"text-align: right;\">\n",
              "      <th></th>\n",
              "      <th>FoldID</th>\n",
              "      <th>EventId</th>\n",
              "      <th>start_index</th>\n",
              "      <th>seq</th>\n",
              "      <th>Bound</th>\n",
              "    </tr>\n",
              "  </thead>\n",
              "  <tbody>\n",
              "    <tr>\n",
              "      <th>0</th>\n",
              "      <td>A</td>\n",
              "      <td>chr3R:1604917-1605117</td>\n",
              "      <td>-5</td>\n",
              "      <td>TTCTAAAACTTAGCGGAATTTCCCCTCTCTTTCTAACGGTTATTTG...</td>\n",
              "      <td>0</td>\n",
              "    </tr>\n",
              "    <tr>\n",
              "      <th>1</th>\n",
              "      <td>A</td>\n",
              "      <td>chr2L:11498653-11498853</td>\n",
              "      <td>-5</td>\n",
              "      <td>CGTCTGCTCCTTCTTCAGCTGCTCCACCTTGCAGGTACCCAGTTTG...</td>\n",
              "      <td>0</td>\n",
              "    </tr>\n",
              "    <tr>\n",
              "      <th>2</th>\n",
              "      <td>A</td>\n",
              "      <td>chr3R:24162252-24162452</td>\n",
              "      <td>-5</td>\n",
              "      <td>TAATAGAGATGTCCCAACCGGCTCGCAACTGATTTAATTTATTTAA...</td>\n",
              "      <td>0</td>\n",
              "    </tr>\n",
              "    <tr>\n",
              "      <th>3</th>\n",
              "      <td>A</td>\n",
              "      <td>chr3R:254323-254523</td>\n",
              "      <td>-5</td>\n",
              "      <td>TCTGCATCACCTACACATGGACCTGGAACACAAAACACAATAGTTT...</td>\n",
              "      <td>0</td>\n",
              "    </tr>\n",
              "    <tr>\n",
              "      <th>4</th>\n",
              "      <td>A</td>\n",
              "      <td>chrX:11914275-11914475</td>\n",
              "      <td>-5</td>\n",
              "      <td>CAACGCAATGGCTCAAACAACGATTTAGTTGAATTAATGTTCAGAA...</td>\n",
              "      <td>0</td>\n",
              "    </tr>\n",
              "    <tr>\n",
              "      <th>...</th>\n",
              "      <td>...</td>\n",
              "      <td>...</td>\n",
              "      <td>...</td>\n",
              "      <td>...</td>\n",
              "      <td>...</td>\n",
              "    </tr>\n",
              "    <tr>\n",
              "      <th>3293</th>\n",
              "      <td>A</td>\n",
              "      <td>chr3L:19508833-19509033</td>\n",
              "      <td>-5</td>\n",
              "      <td>AAATGAAGATGAGAACAAGGGCAGCTTCGTAGTCGATATACCCGAT...</td>\n",
              "      <td>0</td>\n",
              "    </tr>\n",
              "    <tr>\n",
              "      <th>3294</th>\n",
              "      <td>A</td>\n",
              "      <td>chr3R:22691859-22692059</td>\n",
              "      <td>-5</td>\n",
              "      <td>GACCGTGCTTCTGCATGAACTGTTTGATGTCCTCCAGCTTGGCGTT...</td>\n",
              "      <td>0</td>\n",
              "    </tr>\n",
              "    <tr>\n",
              "      <th>3295</th>\n",
              "      <td>A</td>\n",
              "      <td>chr2R:17953449-17953649</td>\n",
              "      <td>-5</td>\n",
              "      <td>GTTGTTTGTGCAAAAGTCGACTTCCGCATATGGTCCACCAATCGTT...</td>\n",
              "      <td>0</td>\n",
              "    </tr>\n",
              "    <tr>\n",
              "      <th>3296</th>\n",
              "      <td>A</td>\n",
              "      <td>chr2R:7728385-7728585</td>\n",
              "      <td>-5</td>\n",
              "      <td>TAGTACCAATCCCTTGGCGAGTCTGGTACCTGATGGTAAATAAACG...</td>\n",
              "      <td>0</td>\n",
              "    </tr>\n",
              "    <tr>\n",
              "      <th>3297</th>\n",
              "      <td>A</td>\n",
              "      <td>chr3R:8500006-8500206</td>\n",
              "      <td>-5</td>\n",
              "      <td>TGTAAGCTGACATGCTTAACTATTTGCTTCGTCATTCTATTTTGAC...</td>\n",
              "      <td>0</td>\n",
              "    </tr>\n",
              "  </tbody>\n",
              "</table>\n",
              "<p>3298 rows × 5 columns</p>\n",
              "</div>\n",
              "      <button class=\"colab-df-convert\" onclick=\"convertToInteractive('df-5d2872ba-1dd2-4a9a-bd17-756357d1d6fd')\"\n",
              "              title=\"Convert this dataframe to an interactive table.\"\n",
              "              style=\"display:none;\">\n",
              "        \n",
              "  <svg xmlns=\"http://www.w3.org/2000/svg\" height=\"24px\"viewBox=\"0 0 24 24\"\n",
              "       width=\"24px\">\n",
              "    <path d=\"M0 0h24v24H0V0z\" fill=\"none\"/>\n",
              "    <path d=\"M18.56 5.44l.94 2.06.94-2.06 2.06-.94-2.06-.94-.94-2.06-.94 2.06-2.06.94zm-11 1L8.5 8.5l.94-2.06 2.06-.94-2.06-.94L8.5 2.5l-.94 2.06-2.06.94zm10 10l.94 2.06.94-2.06 2.06-.94-2.06-.94-.94-2.06-.94 2.06-2.06.94z\"/><path d=\"M17.41 7.96l-1.37-1.37c-.4-.4-.92-.59-1.43-.59-.52 0-1.04.2-1.43.59L10.3 9.45l-7.72 7.72c-.78.78-.78 2.05 0 2.83L4 21.41c.39.39.9.59 1.41.59.51 0 1.02-.2 1.41-.59l7.78-7.78 2.81-2.81c.8-.78.8-2.07 0-2.86zM5.41 20L4 18.59l7.72-7.72 1.47 1.35L5.41 20z\"/>\n",
              "  </svg>\n",
              "      </button>\n",
              "      \n",
              "  <style>\n",
              "    .colab-df-container {\n",
              "      display:flex;\n",
              "      flex-wrap:wrap;\n",
              "      gap: 12px;\n",
              "    }\n",
              "\n",
              "    .colab-df-convert {\n",
              "      background-color: #E8F0FE;\n",
              "      border: none;\n",
              "      border-radius: 50%;\n",
              "      cursor: pointer;\n",
              "      display: none;\n",
              "      fill: #1967D2;\n",
              "      height: 32px;\n",
              "      padding: 0 0 0 0;\n",
              "      width: 32px;\n",
              "    }\n",
              "\n",
              "    .colab-df-convert:hover {\n",
              "      background-color: #E2EBFA;\n",
              "      box-shadow: 0px 1px 2px rgba(60, 64, 67, 0.3), 0px 1px 3px 1px rgba(60, 64, 67, 0.15);\n",
              "      fill: #174EA6;\n",
              "    }\n",
              "\n",
              "    [theme=dark] .colab-df-convert {\n",
              "      background-color: #3B4455;\n",
              "      fill: #D2E3FC;\n",
              "    }\n",
              "\n",
              "    [theme=dark] .colab-df-convert:hover {\n",
              "      background-color: #434B5C;\n",
              "      box-shadow: 0px 1px 3px 1px rgba(0, 0, 0, 0.15);\n",
              "      filter: drop-shadow(0px 1px 2px rgba(0, 0, 0, 0.3));\n",
              "      fill: #FFFFFF;\n",
              "    }\n",
              "  </style>\n",
              "\n",
              "      <script>\n",
              "        const buttonEl =\n",
              "          document.querySelector('#df-5d2872ba-1dd2-4a9a-bd17-756357d1d6fd button.colab-df-convert');\n",
              "        buttonEl.style.display =\n",
              "          google.colab.kernel.accessAllowed ? 'block' : 'none';\n",
              "\n",
              "        async function convertToInteractive(key) {\n",
              "          const element = document.querySelector('#df-5d2872ba-1dd2-4a9a-bd17-756357d1d6fd');\n",
              "          const dataTable =\n",
              "            await google.colab.kernel.invokeFunction('convertToInteractive',\n",
              "                                                     [key], {});\n",
              "          if (!dataTable) return;\n",
              "\n",
              "          const docLinkHtml = 'Like what you see? Visit the ' +\n",
              "            '<a target=\"_blank\" href=https://colab.research.google.com/notebooks/data_table.ipynb>data table notebook</a>'\n",
              "            + ' to learn more about interactive tables.';\n",
              "          element.innerHTML = '';\n",
              "          dataTable['output_type'] = 'display_data';\n",
              "          await google.colab.output.renderOutput(dataTable, element);\n",
              "          const docLink = document.createElement('div');\n",
              "          docLink.innerHTML = docLinkHtml;\n",
              "          element.appendChild(docLink);\n",
              "        }\n",
              "      </script>\n",
              "    </div>\n",
              "  </div>\n",
              "  "
            ]
          },
          "metadata": {},
          "execution_count": 107
        }
      ]
    },
    {
      "cell_type": "code",
      "source": [
        "def onehote(sequence):\n",
        "    mapping = {\"A\": 0, \"C\": 1, \"G\": 2, \"T\": 3}\n",
        "    seq2 = [mapping[i] for i in sequence]\n",
        "    return np.eye(4)[seq2]\n",
        "\n",
        "for i in range(len(train_left)):\n",
        "  left[i] = onehote(train_left['seq'][i])"
      ],
      "metadata": {
        "id": "Tm1noN4D31Rs"
      },
      "execution_count": 108,
      "outputs": []
    },
    {
      "cell_type": "code",
      "source": [
        "import regex as re\n",
        "with open('left_matrix.txt', 'w') as fout:\n",
        "    fout.write(u'#'+'\\t'.join(str(e) for e in left.shape)+'\\n')\n",
        "    left.tofile(fout)\n",
        "\n",
        "with open('left_matrix.txt', 'rb') as f:\n",
        "    line=f.readline().decode('ascii')\n",
        "    if line.startswith('#'):\n",
        "        shape=tuple(map(int, re.findall(r'(\\d+)', line)))\n",
        "    else:\n",
        "        raise IOError('Failed to find shape in file')    \n",
        "\n",
        "    result2=np.fromfile(f)\n",
        "    result3=result2.reshape(shape)"
      ],
      "metadata": {
        "id": "ZRUvY_W434ik"
      },
      "execution_count": 109,
      "outputs": []
    },
    {
      "cell_type": "code",
      "source": [
        "result3.shape"
      ],
      "metadata": {
        "colab": {
          "base_uri": "https://localhost:8080/"
        },
        "id": "5jcnW-sF5KUi",
        "outputId": "b3640c55-493d-4d51-b717-90f0335691fe"
      },
      "execution_count": 110,
      "outputs": [
        {
          "output_type": "execute_result",
          "data": {
            "text/plain": [
              "(3298, 200, 4)"
            ]
          },
          "metadata": {},
          "execution_count": 110
        }
      ]
    },
    {
      "cell_type": "markdown",
      "source": [
        "    X_train = data[\"train_data\"]\n",
        "\n",
        "    Y_train = data[\"train_labels\"]\n",
        "\n",
        "    X_validation = data[\"val_data\"]\n",
        "\n",
        "    Y_validation = data[\"val_labels\"]\n",
        "\n",
        "    X_test = data[\"test_data\"]\n",
        "\n",
        "    Y_test = data[\"test_labels\"]"
      ],
      "metadata": {
        "id": "2a6f-P0_5Tuk"
      }
    },
    {
      "cell_type": "markdown",
      "source": [
        "tad"
      ],
      "metadata": {
        "id": "CZT4AKWV5dF1"
      }
    },
    {
      "cell_type": "code",
      "source": [
        "tad = np.empty((3298,200,4), dtype=float)\n",
        "tad.shape"
      ],
      "metadata": {
        "colab": {
          "base_uri": "https://localhost:8080/"
        },
        "id": "jzCTu4yJ5fri",
        "outputId": "3ac739ca-8e80-44fe-9b74-8cf0658b15e5"
      },
      "execution_count": 111,
      "outputs": [
        {
          "output_type": "execute_result",
          "data": {
            "text/plain": [
              "(3298, 200, 4)"
            ]
          },
          "metadata": {},
          "execution_count": 111
        }
      ]
    },
    {
      "cell_type": "code",
      "source": [
        "\n",
        "for i in range(len(train_tad)):\n",
        "  tad[i] = onehote(train_tad['seq'][i])"
      ],
      "metadata": {
        "id": "b-TL35YF5h24"
      },
      "execution_count": 112,
      "outputs": []
    },
    {
      "cell_type": "code",
      "source": [
        "with open('tad_matrix.txt', 'w') as fout:\n",
        "    fout.write(u'#'+'\\t'.join(str(e) for e in tad.shape)+'\\n')\n",
        "    tad.tofile(fout)\n",
        "\n",
        "with open('tad_matrix.txt', 'rb') as f:\n",
        "    line=f.readline().decode('ascii')\n",
        "    if line.startswith('#'):\n",
        "        shape=tuple(map(int, re.findall(r'(\\d+)', line)))\n",
        "    else:\n",
        "        raise IOError('Failed to find shape in file')    \n",
        "\n",
        "    result22=np.fromfile(f)\n",
        "    result33=result22.reshape(shape)"
      ],
      "metadata": {
        "id": "FaqTB2Qy5kDk"
      },
      "execution_count": 113,
      "outputs": []
    },
    {
      "cell_type": "code",
      "source": [
        "result33.shape"
      ],
      "metadata": {
        "colab": {
          "base_uri": "https://localhost:8080/"
        },
        "id": "sVWkExAp5pVl",
        "outputId": "a9563bdd-670e-43df-912c-e50dc6d9a542"
      },
      "execution_count": 114,
      "outputs": [
        {
          "output_type": "execute_result",
          "data": {
            "text/plain": [
              "(3298, 200, 4)"
            ]
          },
          "metadata": {},
          "execution_count": 114
        }
      ]
    },
    {
      "cell_type": "markdown",
      "source": [
        "testing data"
      ],
      "metadata": {
        "id": "I2s57ILoMYkK"
      }
    },
    {
      "cell_type": "code",
      "source": [
        "testt = np.empty((1650,200,4), dtype=float)\n",
        "testt.shape"
      ],
      "metadata": {
        "colab": {
          "base_uri": "https://localhost:8080/"
        },
        "id": "LevzC8s-MZ0S",
        "outputId": "962bf355-22f3-4c18-9448-365a3dd1bbb2"
      },
      "execution_count": 133,
      "outputs": [
        {
          "output_type": "execute_result",
          "data": {
            "text/plain": [
              "(1650, 200, 4)"
            ]
          },
          "metadata": {},
          "execution_count": 133
        }
      ]
    },
    {
      "cell_type": "code",
      "source": [
        "def onehote(sequence):\n",
        "    mapping = {\"A\": 0, \"C\": 1, \"G\": 2, \"T\": 3}\n",
        "    seq2 = [mapping[i] for i in sequence]\n",
        "    return np.eye(4)[seq2]\n",
        "\n",
        "for i in range(len(test_markov)):\n",
        "  testt[i] = onehote(test_markov['seq'][i])"
      ],
      "metadata": {
        "id": "uIH826PEMiKA"
      },
      "execution_count": 134,
      "outputs": []
    },
    {
      "cell_type": "code",
      "source": [
        "import regex as re\n",
        "with open('test_matrix.txt', 'w') as fout:\n",
        "    fout.write(u'#'+'\\t'.join(str(e) for e in testt.shape)+'\\n')\n",
        "    testt.tofile(fout)\n",
        "\n",
        "with open('test_matrix.txt', 'rb') as f:\n",
        "    line=f.readline().decode('ascii')\n",
        "    if line.startswith('#'):\n",
        "        shape=tuple(map(int, re.findall(r'(\\d+)', line)))\n",
        "    else:\n",
        "        raise IOError('Failed to find shape in file')    \n",
        "\n",
        "    result222=np.fromfile(f)\n",
        "    result333=result222.reshape(shape)"
      ],
      "metadata": {
        "id": "Exl0B-25QDJ0"
      },
      "execution_count": 135,
      "outputs": []
    },
    {
      "cell_type": "code",
      "source": [
        "result333.shape"
      ],
      "metadata": {
        "colab": {
          "base_uri": "https://localhost:8080/"
        },
        "id": "HRXZ88CeQSJo",
        "outputId": "5b1b748e-01b4-4877-82f7-c72a82e3fbb3"
      },
      "execution_count": 136,
      "outputs": [
        {
          "output_type": "execute_result",
          "data": {
            "text/plain": [
              "(1650, 200, 4)"
            ]
          },
          "metadata": {},
          "execution_count": 136
        }
      ]
    },
    {
      "cell_type": "markdown",
      "source": [
        "concatinate left and tad training "
      ],
      "metadata": {
        "id": "laJrArlWMRtT"
      }
    },
    {
      "cell_type": "code",
      "source": [
        "merge = np.empty((6596,200,4), dtype=float)\n",
        "merge = np.concatenate([left, tad], 0)\n",
        "merge.shape"
      ],
      "metadata": {
        "id": "e5rbz1265rmT",
        "colab": {
          "base_uri": "https://localhost:8080/"
        },
        "outputId": "e30d9de9-ceff-4202-b281-028e363277c7"
      },
      "execution_count": 119,
      "outputs": [
        {
          "output_type": "execute_result",
          "data": {
            "text/plain": [
              "(6596, 200, 4)"
            ]
          },
          "metadata": {},
          "execution_count": 119
        }
      ]
    },
    {
      "cell_type": "markdown",
      "source": [
        "merge label matrices - training"
      ],
      "metadata": {
        "id": "eoVJeiAkRCh7"
      }
    },
    {
      "cell_type": "code",
      "source": [
        "from numpy import array\n",
        "from numpy import argmax\n",
        "\n",
        "from tensorflow.keras.utils import to_categorical\n",
        "# define example\n",
        "data = np.concatenate([train_left['Bound'],train_tad['Bound']], 0) #left , tad \n",
        "data = array(data)\n",
        "print(data)\n",
        "# one hot encode\n",
        "encoded1 = to_categorical(data)\n",
        "print(encoded1)"
      ],
      "metadata": {
        "colab": {
          "base_uri": "https://localhost:8080/"
        },
        "id": "VKZKDeqnRB_N",
        "outputId": "1d93975c-22e9-4fd6-beea-d1b11c9a0dfa"
      },
      "execution_count": 120,
      "outputs": [
        {
          "output_type": "stream",
          "name": "stdout",
          "text": [
            "[0 0 0 ... 1 1 1]\n",
            "[[1. 0.]\n",
            " [1. 0.]\n",
            " [1. 0.]\n",
            " ...\n",
            " [0. 1.]\n",
            " [0. 1.]\n",
            " [0. 1.]]\n"
          ]
        }
      ]
    },
    {
      "cell_type": "code",
      "source": [
        "encoded1.shape"
      ],
      "metadata": {
        "colab": {
          "base_uri": "https://localhost:8080/"
        },
        "id": "trr8fmcxQ9Vq",
        "outputId": "3969620c-7b2d-44a5-ca59-b258e66c08f1"
      },
      "execution_count": 121,
      "outputs": [
        {
          "output_type": "execute_result",
          "data": {
            "text/plain": [
              "(6596, 2)"
            ]
          },
          "metadata": {},
          "execution_count": 121
        }
      ]
    },
    {
      "cell_type": "code",
      "source": [
        "df2 = pd.DataFrame()\n",
        "df2['data'] = merge.tolist()\n",
        "df2['label'] = encoded1.tolist()"
      ],
      "metadata": {
        "id": "otAhL_KkST2c"
      },
      "execution_count": 122,
      "outputs": []
    },
    {
      "cell_type": "code",
      "source": [
        "df2 = df2.sample(frac = 1).reset_index(drop=True)\n",
        "df2"
      ],
      "metadata": {
        "colab": {
          "base_uri": "https://localhost:8080/",
          "height": 424
        },
        "id": "YFKpX-u9SbXm",
        "outputId": "4440a04c-09f4-4eb2-d440-028a31a76954"
      },
      "execution_count": 123,
      "outputs": [
        {
          "output_type": "execute_result",
          "data": {
            "text/plain": [
              "                                                   data       label\n",
              "0     [[0.0, 1.0, 0.0, 0.0], [1.0, 0.0, 0.0, 0.0], [...  [1.0, 0.0]\n",
              "1     [[1.0, 0.0, 0.0, 0.0], [0.0, 0.0, 1.0, 0.0], [...  [1.0, 0.0]\n",
              "2     [[1.0, 0.0, 0.0, 0.0], [0.0, 0.0, 1.0, 0.0], [...  [0.0, 1.0]\n",
              "3     [[1.0, 0.0, 0.0, 0.0], [0.0, 0.0, 1.0, 0.0], [...  [1.0, 0.0]\n",
              "4     [[0.0, 0.0, 0.0, 1.0], [0.0, 1.0, 0.0, 0.0], [...  [1.0, 0.0]\n",
              "...                                                 ...         ...\n",
              "6591  [[0.0, 0.0, 1.0, 0.0], [0.0, 0.0, 1.0, 0.0], [...  [1.0, 0.0]\n",
              "6592  [[0.0, 0.0, 1.0, 0.0], [0.0, 1.0, 0.0, 0.0], [...  [0.0, 1.0]\n",
              "6593  [[1.0, 0.0, 0.0, 0.0], [0.0, 1.0, 0.0, 0.0], [...  [0.0, 1.0]\n",
              "6594  [[0.0, 0.0, 0.0, 1.0], [0.0, 0.0, 1.0, 0.0], [...  [1.0, 0.0]\n",
              "6595  [[0.0, 1.0, 0.0, 0.0], [0.0, 1.0, 0.0, 0.0], [...  [0.0, 1.0]\n",
              "\n",
              "[6596 rows x 2 columns]"
            ],
            "text/html": [
              "\n",
              "  <div id=\"df-135b6cf6-e519-4bf1-9c91-da53b6c71958\">\n",
              "    <div class=\"colab-df-container\">\n",
              "      <div>\n",
              "<style scoped>\n",
              "    .dataframe tbody tr th:only-of-type {\n",
              "        vertical-align: middle;\n",
              "    }\n",
              "\n",
              "    .dataframe tbody tr th {\n",
              "        vertical-align: top;\n",
              "    }\n",
              "\n",
              "    .dataframe thead th {\n",
              "        text-align: right;\n",
              "    }\n",
              "</style>\n",
              "<table border=\"1\" class=\"dataframe\">\n",
              "  <thead>\n",
              "    <tr style=\"text-align: right;\">\n",
              "      <th></th>\n",
              "      <th>data</th>\n",
              "      <th>label</th>\n",
              "    </tr>\n",
              "  </thead>\n",
              "  <tbody>\n",
              "    <tr>\n",
              "      <th>0</th>\n",
              "      <td>[[0.0, 1.0, 0.0, 0.0], [1.0, 0.0, 0.0, 0.0], [...</td>\n",
              "      <td>[1.0, 0.0]</td>\n",
              "    </tr>\n",
              "    <tr>\n",
              "      <th>1</th>\n",
              "      <td>[[1.0, 0.0, 0.0, 0.0], [0.0, 0.0, 1.0, 0.0], [...</td>\n",
              "      <td>[1.0, 0.0]</td>\n",
              "    </tr>\n",
              "    <tr>\n",
              "      <th>2</th>\n",
              "      <td>[[1.0, 0.0, 0.0, 0.0], [0.0, 0.0, 1.0, 0.0], [...</td>\n",
              "      <td>[0.0, 1.0]</td>\n",
              "    </tr>\n",
              "    <tr>\n",
              "      <th>3</th>\n",
              "      <td>[[1.0, 0.0, 0.0, 0.0], [0.0, 0.0, 1.0, 0.0], [...</td>\n",
              "      <td>[1.0, 0.0]</td>\n",
              "    </tr>\n",
              "    <tr>\n",
              "      <th>4</th>\n",
              "      <td>[[0.0, 0.0, 0.0, 1.0], [0.0, 1.0, 0.0, 0.0], [...</td>\n",
              "      <td>[1.0, 0.0]</td>\n",
              "    </tr>\n",
              "    <tr>\n",
              "      <th>...</th>\n",
              "      <td>...</td>\n",
              "      <td>...</td>\n",
              "    </tr>\n",
              "    <tr>\n",
              "      <th>6591</th>\n",
              "      <td>[[0.0, 0.0, 1.0, 0.0], [0.0, 0.0, 1.0, 0.0], [...</td>\n",
              "      <td>[1.0, 0.0]</td>\n",
              "    </tr>\n",
              "    <tr>\n",
              "      <th>6592</th>\n",
              "      <td>[[0.0, 0.0, 1.0, 0.0], [0.0, 1.0, 0.0, 0.0], [...</td>\n",
              "      <td>[0.0, 1.0]</td>\n",
              "    </tr>\n",
              "    <tr>\n",
              "      <th>6593</th>\n",
              "      <td>[[1.0, 0.0, 0.0, 0.0], [0.0, 1.0, 0.0, 0.0], [...</td>\n",
              "      <td>[0.0, 1.0]</td>\n",
              "    </tr>\n",
              "    <tr>\n",
              "      <th>6594</th>\n",
              "      <td>[[0.0, 0.0, 0.0, 1.0], [0.0, 0.0, 1.0, 0.0], [...</td>\n",
              "      <td>[1.0, 0.0]</td>\n",
              "    </tr>\n",
              "    <tr>\n",
              "      <th>6595</th>\n",
              "      <td>[[0.0, 1.0, 0.0, 0.0], [0.0, 1.0, 0.0, 0.0], [...</td>\n",
              "      <td>[0.0, 1.0]</td>\n",
              "    </tr>\n",
              "  </tbody>\n",
              "</table>\n",
              "<p>6596 rows × 2 columns</p>\n",
              "</div>\n",
              "      <button class=\"colab-df-convert\" onclick=\"convertToInteractive('df-135b6cf6-e519-4bf1-9c91-da53b6c71958')\"\n",
              "              title=\"Convert this dataframe to an interactive table.\"\n",
              "              style=\"display:none;\">\n",
              "        \n",
              "  <svg xmlns=\"http://www.w3.org/2000/svg\" height=\"24px\"viewBox=\"0 0 24 24\"\n",
              "       width=\"24px\">\n",
              "    <path d=\"M0 0h24v24H0V0z\" fill=\"none\"/>\n",
              "    <path d=\"M18.56 5.44l.94 2.06.94-2.06 2.06-.94-2.06-.94-.94-2.06-.94 2.06-2.06.94zm-11 1L8.5 8.5l.94-2.06 2.06-.94-2.06-.94L8.5 2.5l-.94 2.06-2.06.94zm10 10l.94 2.06.94-2.06 2.06-.94-2.06-.94-.94-2.06-.94 2.06-2.06.94z\"/><path d=\"M17.41 7.96l-1.37-1.37c-.4-.4-.92-.59-1.43-.59-.52 0-1.04.2-1.43.59L10.3 9.45l-7.72 7.72c-.78.78-.78 2.05 0 2.83L4 21.41c.39.39.9.59 1.41.59.51 0 1.02-.2 1.41-.59l7.78-7.78 2.81-2.81c.8-.78.8-2.07 0-2.86zM5.41 20L4 18.59l7.72-7.72 1.47 1.35L5.41 20z\"/>\n",
              "  </svg>\n",
              "      </button>\n",
              "      \n",
              "  <style>\n",
              "    .colab-df-container {\n",
              "      display:flex;\n",
              "      flex-wrap:wrap;\n",
              "      gap: 12px;\n",
              "    }\n",
              "\n",
              "    .colab-df-convert {\n",
              "      background-color: #E8F0FE;\n",
              "      border: none;\n",
              "      border-radius: 50%;\n",
              "      cursor: pointer;\n",
              "      display: none;\n",
              "      fill: #1967D2;\n",
              "      height: 32px;\n",
              "      padding: 0 0 0 0;\n",
              "      width: 32px;\n",
              "    }\n",
              "\n",
              "    .colab-df-convert:hover {\n",
              "      background-color: #E2EBFA;\n",
              "      box-shadow: 0px 1px 2px rgba(60, 64, 67, 0.3), 0px 1px 3px 1px rgba(60, 64, 67, 0.15);\n",
              "      fill: #174EA6;\n",
              "    }\n",
              "\n",
              "    [theme=dark] .colab-df-convert {\n",
              "      background-color: #3B4455;\n",
              "      fill: #D2E3FC;\n",
              "    }\n",
              "\n",
              "    [theme=dark] .colab-df-convert:hover {\n",
              "      background-color: #434B5C;\n",
              "      box-shadow: 0px 1px 3px 1px rgba(0, 0, 0, 0.15);\n",
              "      filter: drop-shadow(0px 1px 2px rgba(0, 0, 0, 0.3));\n",
              "      fill: #FFFFFF;\n",
              "    }\n",
              "  </style>\n",
              "\n",
              "      <script>\n",
              "        const buttonEl =\n",
              "          document.querySelector('#df-135b6cf6-e519-4bf1-9c91-da53b6c71958 button.colab-df-convert');\n",
              "        buttonEl.style.display =\n",
              "          google.colab.kernel.accessAllowed ? 'block' : 'none';\n",
              "\n",
              "        async function convertToInteractive(key) {\n",
              "          const element = document.querySelector('#df-135b6cf6-e519-4bf1-9c91-da53b6c71958');\n",
              "          const dataTable =\n",
              "            await google.colab.kernel.invokeFunction('convertToInteractive',\n",
              "                                                     [key], {});\n",
              "          if (!dataTable) return;\n",
              "\n",
              "          const docLinkHtml = 'Like what you see? Visit the ' +\n",
              "            '<a target=\"_blank\" href=https://colab.research.google.com/notebooks/data_table.ipynb>data table notebook</a>'\n",
              "            + ' to learn more about interactive tables.';\n",
              "          element.innerHTML = '';\n",
              "          dataTable['output_type'] = 'display_data';\n",
              "          await google.colab.output.renderOutput(dataTable, element);\n",
              "          const docLink = document.createElement('div');\n",
              "          docLink.innerHTML = docLinkHtml;\n",
              "          element.appendChild(docLink);\n",
              "        }\n",
              "      </script>\n",
              "    </div>\n",
              "  </div>\n",
              "  "
            ]
          },
          "metadata": {},
          "execution_count": 123
        }
      ]
    },
    {
      "cell_type": "markdown",
      "source": [
        "merge label matrices - testing "
      ],
      "metadata": {
        "id": "RLMHm1BQTOZk"
      }
    },
    {
      "cell_type": "code",
      "source": [
        "from numpy import array\n",
        "from numpy import argmax\n",
        "\n",
        "from tensorflow.keras.utils import to_categorical\n",
        "# define example\n",
        "data = test_markov['Bound'] \n",
        "data = array(data)\n",
        "print(data)\n",
        "# one hot encode\n",
        "encoded11 = to_categorical(data)\n",
        "print(encoded11)\n",
        "print(encoded11.shape)"
      ],
      "metadata": {
        "colab": {
          "base_uri": "https://localhost:8080/"
        },
        "id": "E739tATUTNIn",
        "outputId": "b4a23a90-d2cb-4c72-c117-1b4539d9cc18"
      },
      "execution_count": 125,
      "outputs": [
        {
          "output_type": "stream",
          "name": "stdout",
          "text": [
            "[0 1 1 ... 0 0 0]\n",
            "[[1. 0.]\n",
            " [0. 1.]\n",
            " [0. 1.]\n",
            " ...\n",
            " [1. 0.]\n",
            " [1. 0.]\n",
            " [1. 0.]]\n",
            "(1650, 2)\n"
          ]
        }
      ]
    },
    {
      "cell_type": "code",
      "source": [
        "test = pd.DataFrame()\n",
        "test['data'] = testt.tolist()\n",
        "test['label'] = encoded11.tolist()"
      ],
      "metadata": {
        "id": "33FkxFO3Teyt"
      },
      "execution_count": 137,
      "outputs": []
    },
    {
      "cell_type": "code",
      "source": [
        "test"
      ],
      "metadata": {
        "colab": {
          "base_uri": "https://localhost:8080/",
          "height": 424
        },
        "id": "guTGigHcTvdz",
        "outputId": "29fef358-f35d-4871-edcc-d2bc947b0faa"
      },
      "execution_count": 138,
      "outputs": [
        {
          "output_type": "execute_result",
          "data": {
            "text/plain": [
              "                                                   data       label\n",
              "0     [[1.0, 0.0, 0.0, 0.0], [1.0, 0.0, 0.0, 0.0], [...  [1.0, 0.0]\n",
              "1     [[0.0, 1.0, 0.0, 0.0], [0.0, 1.0, 0.0, 0.0], [...  [0.0, 1.0]\n",
              "2     [[0.0, 0.0, 0.0, 1.0], [1.0, 0.0, 0.0, 0.0], [...  [0.0, 1.0]\n",
              "3     [[0.0, 0.0, 0.0, 1.0], [0.0, 0.0, 0.0, 1.0], [...  [0.0, 1.0]\n",
              "4     [[1.0, 0.0, 0.0, 0.0], [0.0, 1.0, 0.0, 0.0], [...  [1.0, 0.0]\n",
              "...                                                 ...         ...\n",
              "1645  [[0.0, 0.0, 0.0, 1.0], [0.0, 1.0, 0.0, 0.0], [...  [0.0, 1.0]\n",
              "1646  [[0.0, 0.0, 1.0, 0.0], [1.0, 0.0, 0.0, 0.0], [...  [1.0, 0.0]\n",
              "1647  [[0.0, 0.0, 1.0, 0.0], [1.0, 0.0, 0.0, 0.0], [...  [1.0, 0.0]\n",
              "1648  [[0.0, 0.0, 0.0, 1.0], [0.0, 0.0, 0.0, 1.0], [...  [1.0, 0.0]\n",
              "1649  [[0.0, 0.0, 0.0, 1.0], [1.0, 0.0, 0.0, 0.0], [...  [1.0, 0.0]\n",
              "\n",
              "[1650 rows x 2 columns]"
            ],
            "text/html": [
              "\n",
              "  <div id=\"df-2e36c83c-e05c-4ddd-8594-1b66d3088732\">\n",
              "    <div class=\"colab-df-container\">\n",
              "      <div>\n",
              "<style scoped>\n",
              "    .dataframe tbody tr th:only-of-type {\n",
              "        vertical-align: middle;\n",
              "    }\n",
              "\n",
              "    .dataframe tbody tr th {\n",
              "        vertical-align: top;\n",
              "    }\n",
              "\n",
              "    .dataframe thead th {\n",
              "        text-align: right;\n",
              "    }\n",
              "</style>\n",
              "<table border=\"1\" class=\"dataframe\">\n",
              "  <thead>\n",
              "    <tr style=\"text-align: right;\">\n",
              "      <th></th>\n",
              "      <th>data</th>\n",
              "      <th>label</th>\n",
              "    </tr>\n",
              "  </thead>\n",
              "  <tbody>\n",
              "    <tr>\n",
              "      <th>0</th>\n",
              "      <td>[[1.0, 0.0, 0.0, 0.0], [1.0, 0.0, 0.0, 0.0], [...</td>\n",
              "      <td>[1.0, 0.0]</td>\n",
              "    </tr>\n",
              "    <tr>\n",
              "      <th>1</th>\n",
              "      <td>[[0.0, 1.0, 0.0, 0.0], [0.0, 1.0, 0.0, 0.0], [...</td>\n",
              "      <td>[0.0, 1.0]</td>\n",
              "    </tr>\n",
              "    <tr>\n",
              "      <th>2</th>\n",
              "      <td>[[0.0, 0.0, 0.0, 1.0], [1.0, 0.0, 0.0, 0.0], [...</td>\n",
              "      <td>[0.0, 1.0]</td>\n",
              "    </tr>\n",
              "    <tr>\n",
              "      <th>3</th>\n",
              "      <td>[[0.0, 0.0, 0.0, 1.0], [0.0, 0.0, 0.0, 1.0], [...</td>\n",
              "      <td>[0.0, 1.0]</td>\n",
              "    </tr>\n",
              "    <tr>\n",
              "      <th>4</th>\n",
              "      <td>[[1.0, 0.0, 0.0, 0.0], [0.0, 1.0, 0.0, 0.0], [...</td>\n",
              "      <td>[1.0, 0.0]</td>\n",
              "    </tr>\n",
              "    <tr>\n",
              "      <th>...</th>\n",
              "      <td>...</td>\n",
              "      <td>...</td>\n",
              "    </tr>\n",
              "    <tr>\n",
              "      <th>1645</th>\n",
              "      <td>[[0.0, 0.0, 0.0, 1.0], [0.0, 1.0, 0.0, 0.0], [...</td>\n",
              "      <td>[0.0, 1.0]</td>\n",
              "    </tr>\n",
              "    <tr>\n",
              "      <th>1646</th>\n",
              "      <td>[[0.0, 0.0, 1.0, 0.0], [1.0, 0.0, 0.0, 0.0], [...</td>\n",
              "      <td>[1.0, 0.0]</td>\n",
              "    </tr>\n",
              "    <tr>\n",
              "      <th>1647</th>\n",
              "      <td>[[0.0, 0.0, 1.0, 0.0], [1.0, 0.0, 0.0, 0.0], [...</td>\n",
              "      <td>[1.0, 0.0]</td>\n",
              "    </tr>\n",
              "    <tr>\n",
              "      <th>1648</th>\n",
              "      <td>[[0.0, 0.0, 0.0, 1.0], [0.0, 0.0, 0.0, 1.0], [...</td>\n",
              "      <td>[1.0, 0.0]</td>\n",
              "    </tr>\n",
              "    <tr>\n",
              "      <th>1649</th>\n",
              "      <td>[[0.0, 0.0, 0.0, 1.0], [1.0, 0.0, 0.0, 0.0], [...</td>\n",
              "      <td>[1.0, 0.0]</td>\n",
              "    </tr>\n",
              "  </tbody>\n",
              "</table>\n",
              "<p>1650 rows × 2 columns</p>\n",
              "</div>\n",
              "      <button class=\"colab-df-convert\" onclick=\"convertToInteractive('df-2e36c83c-e05c-4ddd-8594-1b66d3088732')\"\n",
              "              title=\"Convert this dataframe to an interactive table.\"\n",
              "              style=\"display:none;\">\n",
              "        \n",
              "  <svg xmlns=\"http://www.w3.org/2000/svg\" height=\"24px\"viewBox=\"0 0 24 24\"\n",
              "       width=\"24px\">\n",
              "    <path d=\"M0 0h24v24H0V0z\" fill=\"none\"/>\n",
              "    <path d=\"M18.56 5.44l.94 2.06.94-2.06 2.06-.94-2.06-.94-.94-2.06-.94 2.06-2.06.94zm-11 1L8.5 8.5l.94-2.06 2.06-.94-2.06-.94L8.5 2.5l-.94 2.06-2.06.94zm10 10l.94 2.06.94-2.06 2.06-.94-2.06-.94-.94-2.06-.94 2.06-2.06.94z\"/><path d=\"M17.41 7.96l-1.37-1.37c-.4-.4-.92-.59-1.43-.59-.52 0-1.04.2-1.43.59L10.3 9.45l-7.72 7.72c-.78.78-.78 2.05 0 2.83L4 21.41c.39.39.9.59 1.41.59.51 0 1.02-.2 1.41-.59l7.78-7.78 2.81-2.81c.8-.78.8-2.07 0-2.86zM5.41 20L4 18.59l7.72-7.72 1.47 1.35L5.41 20z\"/>\n",
              "  </svg>\n",
              "      </button>\n",
              "      \n",
              "  <style>\n",
              "    .colab-df-container {\n",
              "      display:flex;\n",
              "      flex-wrap:wrap;\n",
              "      gap: 12px;\n",
              "    }\n",
              "\n",
              "    .colab-df-convert {\n",
              "      background-color: #E8F0FE;\n",
              "      border: none;\n",
              "      border-radius: 50%;\n",
              "      cursor: pointer;\n",
              "      display: none;\n",
              "      fill: #1967D2;\n",
              "      height: 32px;\n",
              "      padding: 0 0 0 0;\n",
              "      width: 32px;\n",
              "    }\n",
              "\n",
              "    .colab-df-convert:hover {\n",
              "      background-color: #E2EBFA;\n",
              "      box-shadow: 0px 1px 2px rgba(60, 64, 67, 0.3), 0px 1px 3px 1px rgba(60, 64, 67, 0.15);\n",
              "      fill: #174EA6;\n",
              "    }\n",
              "\n",
              "    [theme=dark] .colab-df-convert {\n",
              "      background-color: #3B4455;\n",
              "      fill: #D2E3FC;\n",
              "    }\n",
              "\n",
              "    [theme=dark] .colab-df-convert:hover {\n",
              "      background-color: #434B5C;\n",
              "      box-shadow: 0px 1px 3px 1px rgba(0, 0, 0, 0.15);\n",
              "      filter: drop-shadow(0px 1px 2px rgba(0, 0, 0, 0.3));\n",
              "      fill: #FFFFFF;\n",
              "    }\n",
              "  </style>\n",
              "\n",
              "      <script>\n",
              "        const buttonEl =\n",
              "          document.querySelector('#df-2e36c83c-e05c-4ddd-8594-1b66d3088732 button.colab-df-convert');\n",
              "        buttonEl.style.display =\n",
              "          google.colab.kernel.accessAllowed ? 'block' : 'none';\n",
              "\n",
              "        async function convertToInteractive(key) {\n",
              "          const element = document.querySelector('#df-2e36c83c-e05c-4ddd-8594-1b66d3088732');\n",
              "          const dataTable =\n",
              "            await google.colab.kernel.invokeFunction('convertToInteractive',\n",
              "                                                     [key], {});\n",
              "          if (!dataTable) return;\n",
              "\n",
              "          const docLinkHtml = 'Like what you see? Visit the ' +\n",
              "            '<a target=\"_blank\" href=https://colab.research.google.com/notebooks/data_table.ipynb>data table notebook</a>'\n",
              "            + ' to learn more about interactive tables.';\n",
              "          element.innerHTML = '';\n",
              "          dataTable['output_type'] = 'display_data';\n",
              "          await google.colab.output.renderOutput(dataTable, element);\n",
              "          const docLink = document.createElement('div');\n",
              "          docLink.innerHTML = docLinkHtml;\n",
              "          element.appendChild(docLink);\n",
              "        }\n",
              "      </script>\n",
              "    </div>\n",
              "  </div>\n",
              "  "
            ]
          },
          "metadata": {},
          "execution_count": 138
        }
      ]
    },
    {
      "cell_type": "code",
      "source": [
        "train, val = train_test_split(df2, random_state = 42, test_size = 0.25)"
      ],
      "metadata": {
        "id": "sHjN4poDTx8Q"
      },
      "execution_count": 129,
      "outputs": []
    },
    {
      "cell_type": "code",
      "source": [
        "print('len(train', len(train))\n",
        "print('len(val', len(val))\n"
      ],
      "metadata": {
        "colab": {
          "base_uri": "https://localhost:8080/"
        },
        "id": "7U8O0NnsUbHi",
        "outputId": "ea6c5fcd-a35a-4239-ac1e-5f63b72796aa"
      },
      "execution_count": 130,
      "outputs": [
        {
          "output_type": "stream",
          "name": "stdout",
          "text": [
            "len(train 4947\n",
            "len(val 1649\n"
          ]
        }
      ]
    },
    {
      "cell_type": "markdown",
      "source": [
        "final splits: train 4947, val 1649, test 1650 - DL \n",
        "\n",
        "train 6596, test 1650 - MARKOV"
      ],
      "metadata": {
        "id": "lrgt-X_2Ule8"
      }
    },
    {
      "cell_type": "code",
      "source": [
        "train_data = np.array(train.data.tolist())\n",
        "train_label = np.array(train.label.tolist())\n",
        "test_data = np.array(test.data.tolist())\n",
        "test_label = np.array(test.label.tolist())\n",
        "val_data = np.array(val.data.tolist())\n",
        "val_label = np.array(val.label.tolist())"
      ],
      "metadata": {
        "id": "-A62p2DhUiq1"
      },
      "execution_count": 139,
      "outputs": []
    },
    {
      "cell_type": "code",
      "source": [
        "print(\"train_data.shape: \",train_data.shape)\n",
        "print(\"train_label.shape: \",train_label.shape)\n",
        "print(\"test_data.shape: \",test_data.shape)\n",
        "print(\"test_label.shape: \",test_label.shape)\n",
        "print(\"val_data.shape: \",val_data.shape)\n",
        "print(\"val_label.shape: \",val_label.shape)"
      ],
      "metadata": {
        "colab": {
          "base_uri": "https://localhost:8080/"
        },
        "id": "IvcSElwoVU6g",
        "outputId": "bfb23f8c-9a66-441c-b176-27ed45cdda08"
      },
      "execution_count": 140,
      "outputs": [
        {
          "output_type": "stream",
          "name": "stdout",
          "text": [
            "train_data.shape:  (4947, 200, 4)\n",
            "train_label.shape:  (4947, 2)\n",
            "test_data.shape:  (1650, 200, 4)\n",
            "test_label.shape:  (1650, 2)\n",
            "val_data.shape:  (1649, 200, 4)\n",
            "val_label.shape:  (1649, 2)\n"
          ]
        }
      ]
    },
    {
      "cell_type": "code",
      "source": [
        "import h5py\n",
        "with h5py.File('training_200seq_2class.hdf5', 'w') as f:\n",
        "  f.create_dataset('train_data', data=train_data)\n",
        "  f.create_dataset('train_labels', data=train_label)\n",
        "  f.create_dataset('test_data', data=test_data)\n",
        "  f.create_dataset('test_labels', data=test_label)\n",
        "  f.create_dataset('val_data', data=val_data)\n",
        "  f.create_dataset('val_labels', data=val_label)"
      ],
      "metadata": {
        "id": "ZHq8PwOBVXet"
      },
      "execution_count": 141,
      "outputs": []
    },
    {
      "cell_type": "code",
      "source": [
        "!gzip /content/training_200seq_2class.hdf5"
      ],
      "metadata": {
        "id": "3f1ScST4VhoM"
      },
      "execution_count": 142,
      "outputs": []
    },
    {
      "cell_type": "code",
      "source": [
        ""
      ],
      "metadata": {
        "id": "N2wYDvZnVtWf"
      },
      "execution_count": null,
      "outputs": []
    }
  ]
}